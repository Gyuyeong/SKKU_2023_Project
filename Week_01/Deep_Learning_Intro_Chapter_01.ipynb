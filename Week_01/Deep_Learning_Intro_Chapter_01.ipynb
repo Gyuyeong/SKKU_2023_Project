{
 "cells": [
  {
   "cell_type": "markdown",
   "id": "504f9fd2",
   "metadata": {},
   "source": [
    "This material is from https://d2l.ai/chapter_introduction/index.html\n",
    "\n",
    "# 1. Introduction\n",
    "\n",
    "    우리는 이제까지 문제를 해결하기 위해 잘 짜여진 알고리즘을 활용했다. 개발자들은 상상할 수 있는 모든 상황들 (그리고 상상하기 힘든 상황들도 전부)을 고려해서 프로그램이 올바르게 실행될 수 있도록 열심히 노력했다.\n",
    "    \n",
    "    그런데 문제가 발생했다. 만일 다음과 같은 문제가 있다고 해보자.\n",
    "    \n",
    "- 지역의 지리적 요건과 이제까지 있었던 기상상황을 가지고 내일의 날씨를 예측하시오.\n",
    "- 집의 크기, 인테리어, 주변 집값, 동네 땅값 등을 이용해서 이 집의 적정 부동산 가격을 측정하시오.\n",
    "\n",
    "    이런 문제들은 아쉽지만 전통적인 알고리즘으로 풀어내기는 어려워보인다. 어느정도의 규칙성은 있을 수 있지만, 그 규칙이 어느날 갑자기 깨질 수도 있다. 이런 상황에서는 알고리즘으로 모든 상황을 다 상정하는 것이 불가능하다.\n",
    "    \n",
    "    그 대신, 요인들이 변할 때마다 그 변화에 맞춰 원하는 답도 변해야 할 것이다. 머신러닝(Machine Learning)은 경험을 통해 배울 수 있게 해주는 알고리즘이다.경험이 많이 쌓일수록 그만큼 성능이 좋아질 수도 있다. 즉, 예상치 못한 어떠한 상황이 닥쳐도 머신러닝 알고리즘은 이러한 상황에 유연하게 대처할 수 있을 것이다."
   ]
  },
  {
   "cell_type": "markdown",
   "id": "c7384a30",
   "metadata": {},
   "source": [
    "## 1.1 Machine Learning Motivation\n",
    "\n",
    "    우리는 요즘에 핸드폰에 \"시리야\", 또는 \"빅스비\"라고 하면 마치 스마트폰이 내 말을 알아듣고 자기를 불렀다는 것 마냥 대답을 한다. 그렇다면 과연 우리는 옛날에 했던 알고리즘으로 이러한 문제를 해결할 수 있을까? 사람의 목소리는 사람마다 가지각색인데다가 음성의 길이, 높이 등 고려해야 할 것들의 가짓수가 너무 많다. 일개 개발자가 그 모든 것들을 전부 고려해서 알고리즘을 만든다는 것은 아마 불가능할 것이다. 머신러닝이 필요한 순간이다.\n",
    "    \n",
    "    기계는 \"시리야\"라고 말하는 방법을 알지 못하지만, 우리 인간은 그것을 아주 잘 할 수 있다. 그러므로, 우리는 음성 데이터를 몇십만개를 준비해서 이중에 \"시리야\"라고 한건 \"True\" 라고 레이블을 붙이고 그 외의 음성들은 전부 \"False\" 라고 해놓고 컴퓨터가 알아서 이 데이터들을 학습하도록 시킨다. 개발자가 명시적으로 알고리즘을 개발하는 대신, 컴퓨터가 알아서 가장 그럴싸한 알고리즘을 스스로 만들 수 있게 하는 것이다.\n",
    "    \n",
    "    우리 개발자가 해야 할 것은 컴퓨터가 조금이라도 더 잘 학습을 할 수 있도록 관련 parameter들을 조정하는 일이다. 우리가 parameter를 조정해서 만든 이것을 model 이라고 한다.\n",
    "    \n",
    "    일반적으로 다음과 같은 흐름으로 진행된다.\n",
    "\n",
    "1. Model을 생성한다. Model은 초기에 아무것도 제대로 할 줄 모른다.\n",
    "2. 수많은 관련 데이터를 준비한다.\n",
    "3. Model의 parameter를 조정해서 잘 학습할 수 있도록 한다.\n",
    "4. Model이 할 일을 잘할 수 있을 때까지 2, 3번을 반복한다."
   ]
  },
  {
   "cell_type": "markdown",
   "id": "261b190c",
   "metadata": {},
   "source": [
    "## 1.2 Key Components\n",
    "\n",
    "    머신러닝에는 크게 4가지 중요 요소가 있다.\n",
    "    \n",
    "- Data: 배움을 위한 자료이다.\n",
    "- Model: 배움을 수행하는 방법이 담긴 것이다.\n",
    "- Objective Function: model이 얼마나 잘 배웠는지를 판별하는 함수이다.\n",
    "- Algorithm: Objective Function을 최적화하기 위해 model의 parameter들을 조정하는 방법이다."
   ]
  },
  {
   "cell_type": "markdown",
   "id": "03bdb526",
   "metadata": {},
   "source": [
    "### 1.2.1 Data\n",
    "\n",
    "    모든 데이터는 숫자로 표현된다. 예를 들어 {True, False}는 {0, 1}로 표현되어야 할 것이다. 하나의 데이터에는 여러 개의 특징(feature)이 들어가 있다. 사람을 예로 들면, 사람은 나이, 성별, 키, 몸무게, 직업 등의 데이터가 있다. 이러한 모든 데이터들도 숫자로 표현되어야 한다. 이미 숫자인 키와 몸무게는 넘어가더라도 성별은 {남성, 여성}으로 분류되니까 적당히 {0, 1} 또는 {1, 0} 으로 바꿔서 표현할 수 있을 것이다.\n",
    "    \n",
    "    머신러닝에서 하나의 model은 정해진 고정된 크기의 데이터만 input으로 받을 수 있다. 그러므로, 모든 데이터들의 길이도 고정되어 있다. 이 데이터의 길이 (또는 특징feature의 종류)를 데이터의 dimensionality라고 한다. 하지만 세상에 있는 모든 데이터들이 고정된 크기를 가진게 아니므로, 고정된 크기로 만드는 방법들을 생각해 볼 필요가 있을 것이다.\n",
    "    \n",
    "    일반적으로 학습할 때는 데이터의 개수가 많을수록 좋다. Deep Learning 같은 경우에는 데이터의 개수가 충분히 많지 않으면 제대로 학습하지 못하기 때문에, 데이터는 최대한 많이 준비하는 것이 언제나 이롭다.\n",
    "    \n",
    "    마지막으로 우리는 올바른 데이터를 준비해야 한다. 올바르다는 말은 여러 측면에서 생각해볼 수 있다. 다음과 같은 상황들을 생각해보자.\n",
    "    \n",
    "1. 모든 데이터가 개(dog)사진인데, 갑자기 고양이를 보여주면? 아마 모른다고 할 것이다.\n",
    "2. 과거 사람들을 고용한 이력을 바탕으로한 데이터를 학습시킨다면, 과거에 있었던 잘못된 관행들을 그대로 model이 답습할 수도 있다. 예를 들어 예전에는 소프트웨어학과 출신만 고용했는데, 그러한 데이터를 학습시키면 model은 여전히 소프트웨어학과 학생들만 고용할 것이다.\n",
    "\n",
    "    이렇듯, 잘못된 데이터를 주면 model의 행동도 의도치 않게 행동하거나, 심하게는 사회적인 문제로 번질 수도 있는 문제가 있으므로, 반드시 올바른 데이터를 준비해야 한다."
   ]
  },
  {
   "cell_type": "markdown",
   "id": "dd60eeb1",
   "metadata": {},
   "source": [
    "### 1.2.2 Models\n",
    "\n",
    "    Model은 결국 데이터를 기반으로 통계적 추정을 한다. 그렇게 해서 input을 넣으면, 관련된 다른 output을 뱉어내게 된다. 그리고 이는 데이터를 근거로 한다."
   ]
  },
  {
   "cell_type": "markdown",
   "id": "2cbc8024",
   "metadata": {},
   "source": [
    "### 1.2.3 Objective Functions\n",
    "\n",
    "    학습을 하면 점점 좋아질까? 우리도 공부를 했지만 실제로 실력이 얼마나 올랐는지를 스스로 판단하기는 어렵다. 누군가가 평가를 해줘야 한다. Objective Function이 이 역할을 담당한다. 우리는 어떤 함수를 이용해서 매번 결과에 대한 평가를 하게 되고, 전통적으로는 낮은 값이 나오면 더 잘했다고 평가하게끔하는 함수를 사용한다. 숫자값을 예측할 때 대표적으로 mean square error이 있다. Mean Squared Error는 각각 예측한 값과 정답과의 거리를 제곱해서 전부 더한 값이다. 이 값이 클수록 그만큼 답에서 멀어져 있는 값들이 많을 것으라고 생각할 수 있다.\n",
    "    \n",
    "    우리는 평가를 할 때 주로 데이터를 2개로 나눈다. 하나는 training set, 그리고 다른 하나는 test set으로 나눈다. Traning Set은 모의고사랑 같은 것이다. 우리는 열심히 공부한 뒤 모의고사를 보면서 본시험에서 어느정도의 점수가 나올지 대략 파악할 수 있다. 하지만 모의고사를 너무 많이 보다보면, 그 시험지를 외워버리는 사태가 발생할 수 있다. 그러면 오히려 본시험(test set)에서는 제대로 하지 못할 수 있다. 이 상황을 overfitting이라고 한다."
   ]
  },
  {
   "cell_type": "markdown",
   "id": "371f9269",
   "metadata": {},
   "source": [
    "### 1.2.4 Optimizing Algorithms\n",
    "\n",
    "    우리는 결국 학습을 하면서 objective function(또는 loss function)의 값을 최소로 하는 것이 중요하다. 이 값을 최소로 만들기 위해서 parameter값들을 조정해주는 작업이 필요한데, 대표적인 것이 gradient descent이다. 간단히 말하자면, gradient descent는 loss function이 2차 함수일때 극점을 향해서 서서히 값들을 편미분으로 조정하는 알고리즘이다. 잘 내려가다보면 언젠가는 극소점에 도달하여 최솟값을 가지게 될 것이다."
   ]
  },
  {
   "cell_type": "markdown",
   "id": "bce3d139",
   "metadata": {},
   "source": [
    "## 1.3 Kinds of Machine Learning Problem"
   ]
  },
  {
   "cell_type": "markdown",
   "id": "be3c1c74",
   "metadata": {},
   "source": [
    "## 1.3.1 Supervised Learning\n",
    "\n",
    "    쉽게 말하자면, 각 데이터마다 답도 같이 달아두는 것이다. 시험지로 치자면 모의고사와 답지를 함께 배부해서 모의고사를 풀고 답안지를 맞춰볼 수 있게 하는 것이다. 답을 작성하는 과정은, 이미 답이 데이터와 함께 있는 경우도 있지만, 때로는 사람들이 직접 답을(label을) 일일이 달아줘야 할 때도 있다. 그 후, 데이터와 레이블을 통째로 model에게 주면 model이 학습을 할 것이다. Model이 학습을 완료하면, model은 이제 새로운 데이터를 보고, 자신이 이제까지 학습한 데이터와 레이블들을 바탕으로 새로운 데이터의 답을 예측할 것이다."
   ]
  },
  {
   "cell_type": "markdown",
   "id": "7b60872e",
   "metadata": {},
   "source": [
    "### 1.3.1.1 Regression\n",
    "\n",
    "     Regression은 예측해야 하는 답이 상당히 랜덤한 숫자값인 경우이다. 예를 들어 집의 모양, 크기, 방의 수, 마당의 유무, 주변 땅값 등의 데이터를 보고, 이 집의 적정 가격을 예측하는 문제가 대표적이다. 주로 How much, How many 에 대한 질문에 대한 답을 예측한다. Regreesion 문제에서는 loss function으로 주로 mean squared error를 사용한다."
   ]
  },
  {
   "cell_type": "markdown",
   "id": "1812b305",
   "metadata": {},
   "source": [
    "### 1.3.1.2 Classification\n",
    "\n",
    "    Classification에서는 주로 What? Which One? 에 관한 문제를 다룬다. 예를 들어 개 사진을 보여주고, 이게 개인지 고양이인지 맞추는 문제가 해당한다. 예측할 때 \"이것은 개이다! (또는 고양이다!) 라고 하는 것도 물론 가능하지만, 좀 더 괜찮은 방법은 확률적으로 표시하는 것이다. 예를 들어 {개, 고양이} = {0.9, 0.1} 이라고 예측을 할 수 있다. 이 경우, 이 model은 해당 데이터는 90% 확률로 개일 것이라고 말하는 것이다.\n",
    "    \n",
    "    이렇게 두가지만 분류하는 것을 binary classification이라고 한다. 이외에도 더 많은 종류를 구별할 필요가 있는데, 이 경우를 multiclass classification이라고 한다.\n",
    "    \n",
    "    확률로 표현된 답을 읽을 때 주의할 점은, 가장 그럴싸하다고 나온 결과가 꼭 믿을만하다고 생각할 수 있는 것도 아니다. 때로는 안일하게 하다가 위험에 처할 수 있다. 예를 들어 특정 버섯 사진이 80% 확률로 먹어도 된다고 나왔다고 해서 이를 그냥 믿고 먹어버리면 대참사가 날 수 있다. 때문에 이러한 경우에는 각 class별 가중치가 생길 수도 있다."
   ]
  },
  {
   "cell_type": "markdown",
   "id": "871e8a49",
   "metadata": {},
   "source": [
    "### 1.3.1.3 Tagging\n",
    "\n",
    "    하나의 데이터에 여러가지 내용들을 분류해야 한다면 이는 classification과는 또다른 문제이다. 위에 있는 classification은 그저 데이터를 보고 하나의 답만 결정하면 된다. 하지만, 이번 문제는 하나의 데이터에 나온 것들이 무엇인지 \"전부\" 알아내야 한다는 것이다. 예를 들어 우리는 특정 사진에 관련된 tag가 많이 달려있는 것을 볼 수 있다. 예를 들어 책상 위에 있는 물건들을 전부 답하라고 하면, 그 사진을 보고 우리의 모델은 책상 위에 필통, 책 2권, 스탠드 가 있다고 할 수 있어야 한다. 이런 식으로 모든 태그들을 전부 알아맞추는 것도 또 하나의 문제이다."
   ]
  },
  {
   "cell_type": "markdown",
   "id": "906455cd",
   "metadata": {},
   "source": [
    "### 1.3.1.4 Search\n",
    "\n",
    "    우리가 검색엔진에 검색어를 입력하면 관련이 가장 깊은 내용들을 가져온다. 검색어와 어떤 내용이 가장 연관이 깊은지를 예측해서 각 결과물들에 ranking을 부여하는 model을 만드는 것도 또하나의 문제이다."
   ]
  },
  {
   "cell_type": "markdown",
   "id": "484e0332",
   "metadata": {},
   "source": [
    "### 1.3.1.5 Recommender System\n",
    "\n",
    "    위 searching과 비슷하나 recommender system의 주요 차이점은 바로 개인마다 달리 해야 한다는 것이다. 특정 개인마다 선호하는 내용이 다르기에 각각 다른 것들을 추천해줘야 한다. 이를 위해서 각 개인이 하는 행동들을 관찰하 필요가 있는데, 예를 들어 노래를 다 듣지 않고 넘기면 아마도 이 노래를 좋아하지 않는다는 신호가 될 수 있다. 이 경우, 비슷한 노래들은 model이 선택지에서 빼버릴 수 있다. \n",
    "    \n",
    "    추천 시스템의 맹점은 사람들의 행동이 균등하지 않다는 점이다. 예를 들어 사람들은 별점을 남길때 5점이나 1점같이 극단적인 점수를 줄 때만 자세하게 리뷰를 하지, 그 중간 점수에는 이만큼 돋보이는 의견들이 없다는 점이다.\n",
    "    \n",
    "    또다른 맹점으로는, 추천 시스템은 그저 추천만 한다는 점이다. 어떤 개인이 물건을 구매한 건 아마 현재 돌아가고 있는 추천 시스템 model의 영향이 클 것이다. 그 개인은 그 물건을 샀으니까 현재 추천 시스템은 거기에 긍정적으로 더 영향을 받아서 관련 물건들만 더 보여줄 수도 있다. 하지만 구매자는 막상 하나만 샀으면 됐다고 생각할 수도 있지 않겠는가?\n",
    "    \n",
    "    이러한 맹점들을 해결해나가는 것은 앞으로의 과제이다."
   ]
  },
  {
   "cell_type": "markdown",
   "id": "fc4699a4",
   "metadata": {},
   "source": [
    "### 1.3.1.6 Sequence Learning\n",
    "\n",
    "    앞에서 살펴본 것들은 데이터를 한번 학습하면 그걸고 끝이었다. 하지만 데이터들 간의 순서가 중요해서 이전에 나왔던 것들도 고려해야 한다면 어떨까? 예를 들어 동영상이라든지 사람들이 작성한 문장들을 예로 들 수 있다. 이러한 상황들을 학습해나가는 걸 sequence learning이라고 한다. 즉, input과 output이 모두 variable length of sequence일 때 학습하는 방식이 어떤 것일지에 대한 문제이다."
   ]
  },
  {
   "cell_type": "markdown",
   "id": "ec45eb78",
   "metadata": {},
   "source": [
    "### 1.3.1.6.1 Tagging and Parsing\n",
    "\n",
    "    예를 들어 문장 내에서 각 단어들의 품사를 알아맞추는 문제가 이 경우에 해당한다. Input과 output이 나란하게 나오며 input의 각 요소들에 원하는 특정 정보들이 tagging된다.\n",
    "\n",
    "문서 예시: \n",
    "\n",
    "    Tom has dinner in Washington with Sally\n",
    "    \n",
    "    Ent  -    -    -     Ent      -    Ent"
   ]
  },
  {
   "cell_type": "markdown",
   "id": "3fee6dbd",
   "metadata": {},
   "source": [
    "### 1.3.1.6.2 Automatic Speech Recognition\n",
    "\n",
    "    사람이 말하면, 그 사람이 말한 내용이 그대로 텍스트로 옮겨적어지는 것이다. Output의 크기가 input의 크기보다 훨씬 작은게 특징이다. Input은 음성 데이터이고 output은 텍스트 데이터이기 때문이다."
   ]
  },
  {
   "cell_type": "markdown",
   "id": "50e6fc12",
   "metadata": {},
   "source": [
    "### 1.3.1.6.3 Machine Translation\n",
    "\n",
    "    번역의 문제이다. 번역의 경우, 각 나라 말의 어순과 어법도 신경써줘야 하기 때문에 훨씬 난이도가 높다. 단어가 출현하는 그대로 번역해서 갖다 적으면 분명 이상한 문장이 만들어져 있을 것이다.\n",
    "    \n",
    "문서 예시:\n",
    "\n",
    "German:           Haben Sie sich schon dieses grossartige Lehrwerk angeschaut?\n",
    "\n",
    "English:          Did you already check out this excellent tutorial?\n",
    "\n",
    "Wrong alignment:  Did you yourself already this excellent tutorial looked-at?\n",
    "\n",
    "Ich schaue es jetzt an. Warten Sie ein Moment. Es ist sehr lang. (이건 그냥 제가 쓴 말입니다.)"
   ]
  },
  {
   "cell_type": "markdown",
   "id": "72f0408b",
   "metadata": {},
   "source": [
    "## 1.3.2 Unsupervised and Self-Supervised Learning\n",
    "\n",
    "    위에서 소개된 내용들은 전부 supervised learning이다. 데이터와 레이블을 주고 학습을 하면 된다. Supervised learning은 학습의 방향성이 상당히 명확했다. 데이터와 레이블을 학습한 뒤, 비슷한 데이터가 주어지면 최대한 올바른 답을 내면 된다.\n",
    "    \n",
    "    하지만 unsupervised learning은 그렇지 않다. 데이터가 주어질 뿐, 여기에 그 어떠한 목적도 제대로 주어지지 않았다. 우리가 이 데이터를 가지거 할 수 있는 것은 비슷한 점들을 찾아서 그룹으로 묶어내거나, 뭔가 중요한 특징들 (실제로 중요한지는 모르겠지만 어쨌든) 을 골라내는 작업 등이 있을 것이다. \n",
    "    \n",
    "    Self-supervised Learning은 unsupervised learning을 통해서 없는 label들을 스스로 만들어 내는 방식의 learning이다. 이렇게 해서 스스로 supervised learning으로 문제를 재해석할 수도 있는 것이다."
   ]
  },
  {
   "cell_type": "markdown",
   "id": "c4bc2042",
   "metadata": {},
   "source": [
    "## 1.3.3 Interacting With an Environment\n",
    "\n",
    "    이제까지 본 건 offline learning이다. 즉, 주어진 데이터를 학습하고 예측만 할 뿐, 그 중간에 일어나는 과정들은 전혀 신경쓰지도 않고 그저 한번 주어진 걸 이용해서 답만 계속 내놓는다.\n",
    "    \n",
    "    하지만 이렇게 받는 행동만 하면, 상황이 달라질 때마다 또 새로운 데이터를 주고 다시 학습시켜야 한다. 만약 그러지 않고 변하는 환경에 따라 스스로 어느정도 학습하는 방향성 등을 바꿀 수 있다면 어떨까? 예를 들어 스팸 메일이 스펨 메일이 아닌 것처럼 위장해서 오려고 한다면 거기에 대해 model이 미리 이 변화를 알아차려서 스스로 이 상황에 대응할 수 있다면? 이렇게 model에게 처음에 주어진 데이터와 실전이 달라지는 경우에는 어떻게 해야할지에 관한 연구가 필요하다."
   ]
  },
  {
   "cell_type": "markdown",
   "id": "3467fa7b",
   "metadata": {},
   "source": [
    "## 1.3.4 Reinforcement Learning\n",
    "\n",
    "    강화학습은 환경변화에 대응하는 가장 대표적인 학습 방법이다. 기본 원리는 다음과 같다:\n",
    "    \n",
    "1. 우선 어떤 환경이 주어지면 agent는 어떤 특정 행동을 취하도록 한다.\n",
    "2. Agent가 취한 행동이 환경에 어떤 변화를 일으켰는지 평가 후 보상을 얼마나 줄지 평가한다.\n",
    "3. 받은 보상을 바탕으로 또다시 어떤 환경이 주어졌을 때 agent는 보상을 최대한 많이 받는 방향으로 행동을 취하려고 노력한다.\n",
    "\n",
    "    학습 결과로 policy가 형성이 되는데, policy는 주어진 어떤 환경에 대한 agent의 행동을 mapping한 것이다. 강화학습의 목표는 good policy를 만들어서 주어진 환경에 항상 최대한 좋은 행동을 하게끔 하는 것이 목적이다.\n",
    "    \n",
    "    강화학습의 특징은 다음과 같다.\n",
    "    \n",
    "1. Supervised Learning과 달리 어떤 행동의 옳고 그름을 평가하지 않고 단지 일정량의 reward만 챙겨준다. 그래서 딱히 agent는 자기가 얼마나 잘했는지 알지 못한다.\n",
    "2. 어떤 행동에 보상을 얼마나 줘야하는지 잘 결정해야 한다. \n",
    "3. 때로는 환경이 모든 걸 다 말해주지 않는 경우도 있다. 그저 자기가 본 것의 일부분만 보고 거기에 맞는 적절한 행동을 취하게끔 해야 한다.\n",
    "4. 현재 가장 좋을 것 같은 policy보다 아직 경험하지 않은 다른 policy가 더 좋을 수도 있다. 그래서 학습할 때 현재 가장 좋다고 생각되는 policy로 밀고 나갈지, 아니면 다른 policy를 찾으러 떠날지도 정해줘야 한다."
   ]
  },
  {
   "cell_type": "code",
   "execution_count": null,
   "id": "a3792262",
   "metadata": {},
   "outputs": [],
   "source": []
  },
  {
   "cell_type": "code",
   "execution_count": null,
   "id": "d600a786",
   "metadata": {},
   "outputs": [],
   "source": []
  },
  {
   "cell_type": "code",
   "execution_count": null,
   "id": "fd3ef02e",
   "metadata": {},
   "outputs": [],
   "source": []
  },
  {
   "cell_type": "code",
   "execution_count": null,
   "id": "ea944f0d",
   "metadata": {},
   "outputs": [],
   "source": []
  }
 ],
 "metadata": {
  "kernelspec": {
   "display_name": "Python 3 (ipykernel)",
   "language": "python",
   "name": "python3"
  },
  "language_info": {
   "codemirror_mode": {
    "name": "ipython",
    "version": 3
   },
   "file_extension": ".py",
   "mimetype": "text/x-python",
   "name": "python",
   "nbconvert_exporter": "python",
   "pygments_lexer": "ipython3",
   "version": "3.9.16"
  }
 },
 "nbformat": 4,
 "nbformat_minor": 5
}
