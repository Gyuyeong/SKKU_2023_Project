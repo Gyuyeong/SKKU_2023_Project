{
 "cells": [
  {
   "cell_type": "markdown",
   "id": "c99c4a7b",
   "metadata": {},
   "source": [
    "This material is from https://d2l.ai/chapter_preliminaries/index.html\n",
    "\n",
    "# 2. Preliminaries"
   ]
  },
  {
   "cell_type": "code",
   "execution_count": 1,
   "id": "d996c1af",
   "metadata": {},
   "outputs": [],
   "source": [
    "import torch"
   ]
  },
  {
   "cell_type": "markdown",
   "id": "69d3fc77",
   "metadata": {},
   "source": [
    "Pytorch를 통해서 tensor를 다룬다. numpy에서 다루는 것과 매우 비슷하다."
   ]
  },
  {
   "cell_type": "code",
   "execution_count": 2,
   "id": "165413de",
   "metadata": {},
   "outputs": [
    {
     "data": {
      "text/plain": [
       "tensor([ 0.,  1.,  2.,  3.,  4.,  5.,  6.,  7.,  8.,  9., 10., 11.])"
      ]
     },
     "execution_count": 2,
     "metadata": {},
     "output_type": "execute_result"
    }
   ],
   "source": [
    "x = torch.arange(12, dtype=torch.float32)\n",
    "x"
   ]
  },
  {
   "cell_type": "markdown",
   "id": "00de1186",
   "metadata": {},
   "source": [
    "**torch.arange()** 아래처럼 범위와 step도 설정이 가능하다."
   ]
  },
  {
   "cell_type": "code",
   "execution_count": 4,
   "id": "d9b776d6",
   "metadata": {},
   "outputs": [
    {
     "data": {
      "text/plain": [
       "tensor([ 2,  4,  6,  8, 10])"
      ]
     },
     "execution_count": 4,
     "metadata": {},
     "output_type": "execute_result"
    }
   ],
   "source": [
    "torch.arange(start=2, end=12, step=2)"
   ]
  },
  {
   "cell_type": "code",
   "execution_count": 5,
   "id": "a8d5750a",
   "metadata": {},
   "outputs": [
    {
     "data": {
      "text/plain": [
       "12"
      ]
     },
     "execution_count": 5,
     "metadata": {},
     "output_type": "execute_result"
    }
   ],
   "source": [
    "x.numel()"
   ]
  },
  {
   "cell_type": "markdown",
   "id": "51e204bc",
   "metadata": {},
   "source": [
    "**x.numel()** : tensor 내 원소 총 개수"
   ]
  },
  {
   "cell_type": "code",
   "execution_count": 6,
   "id": "ca3b78d7",
   "metadata": {},
   "outputs": [
    {
     "data": {
      "text/plain": [
       "torch.Size([12])"
      ]
     },
     "execution_count": 6,
     "metadata": {},
     "output_type": "execute_result"
    }
   ],
   "source": [
    "x.shape"
   ]
  },
  {
   "cell_type": "code",
   "execution_count": 7,
   "id": "0dca3f16",
   "metadata": {},
   "outputs": [],
   "source": [
    "X = x.reshape((3, 4))"
   ]
  },
  {
   "cell_type": "code",
   "execution_count": 8,
   "id": "76669da9",
   "metadata": {},
   "outputs": [
    {
     "data": {
      "text/plain": [
       "tensor([[ 0.,  1.,  2.,  3.],\n",
       "        [ 4.,  5.,  6.,  7.],\n",
       "        [ 8.,  9., 10., 11.]])"
      ]
     },
     "execution_count": 8,
     "metadata": {},
     "output_type": "execute_result"
    }
   ],
   "source": [
    "X"
   ]
  },
  {
   "cell_type": "markdown",
   "id": "97e26454",
   "metadata": {},
   "source": [
    "**reshape()** 을 통해 tensor의 모양도 변경할 수 있다. 대신 원소들을 잘 넣을 수 있게끔 reshape을 해야 한다."
   ]
  },
  {
   "cell_type": "code",
   "execution_count": 9,
   "id": "03a22e41",
   "metadata": {},
   "outputs": [
    {
     "ename": "RuntimeError",
     "evalue": "shape '[3, 3]' is invalid for input of size 12",
     "output_type": "error",
     "traceback": [
      "\u001b[1;31m---------------------------------------------------------------------------\u001b[0m",
      "\u001b[1;31mRuntimeError\u001b[0m                              Traceback (most recent call last)",
      "Cell \u001b[1;32mIn[9], line 1\u001b[0m\n\u001b[1;32m----> 1\u001b[0m \u001b[43mx\u001b[49m\u001b[38;5;241;43m.\u001b[39;49m\u001b[43mreshape\u001b[49m\u001b[43m(\u001b[49m\u001b[43m(\u001b[49m\u001b[38;5;241;43m3\u001b[39;49m\u001b[43m,\u001b[49m\u001b[43m \u001b[49m\u001b[38;5;241;43m3\u001b[39;49m\u001b[43m)\u001b[49m\u001b[43m)\u001b[49m\n",
      "\u001b[1;31mRuntimeError\u001b[0m: shape '[3, 3]' is invalid for input of size 12"
     ]
    }
   ],
   "source": [
    "x.reshape((3, 3))"
   ]
  },
  {
   "cell_type": "markdown",
   "id": "09061b04",
   "metadata": {},
   "source": [
    "12개인데 3x3 을 만들려고 하면 error가 난다."
   ]
  },
  {
   "cell_type": "code",
   "execution_count": 10,
   "id": "2572a296",
   "metadata": {},
   "outputs": [
    {
     "ename": "RuntimeError",
     "evalue": "shape '[3, 5]' is invalid for input of size 12",
     "output_type": "error",
     "traceback": [
      "\u001b[1;31m---------------------------------------------------------------------------\u001b[0m",
      "\u001b[1;31mRuntimeError\u001b[0m                              Traceback (most recent call last)",
      "Cell \u001b[1;32mIn[10], line 1\u001b[0m\n\u001b[1;32m----> 1\u001b[0m \u001b[43mx\u001b[49m\u001b[38;5;241;43m.\u001b[39;49m\u001b[43mreshape\u001b[49m\u001b[43m(\u001b[49m\u001b[43m(\u001b[49m\u001b[38;5;241;43m3\u001b[39;49m\u001b[43m,\u001b[49m\u001b[43m \u001b[49m\u001b[38;5;241;43m5\u001b[39;49m\u001b[43m)\u001b[49m\u001b[43m)\u001b[49m\n",
      "\u001b[1;31mRuntimeError\u001b[0m: shape '[3, 5]' is invalid for input of size 12"
     ]
    }
   ],
   "source": [
    "x.reshape((3, 5))"
   ]
  },
  {
   "cell_type": "markdown",
   "id": "39748550",
   "metadata": {},
   "source": [
    "크기가 딱 맞아야 한다."
   ]
  },
  {
   "cell_type": "code",
   "execution_count": 11,
   "id": "8e87f338",
   "metadata": {},
   "outputs": [
    {
     "data": {
      "text/plain": [
       "tensor([[[0., 0., 0., 0.],\n",
       "         [0., 0., 0., 0.],\n",
       "         [0., 0., 0., 0.]],\n",
       "\n",
       "        [[0., 0., 0., 0.],\n",
       "         [0., 0., 0., 0.],\n",
       "         [0., 0., 0., 0.]]])"
      ]
     },
     "execution_count": 11,
     "metadata": {},
     "output_type": "execute_result"
    }
   ],
   "source": [
    "torch.zeros((2, 3, 4))"
   ]
  },
  {
   "cell_type": "code",
   "execution_count": 12,
   "id": "3503a6a1",
   "metadata": {},
   "outputs": [
    {
     "data": {
      "text/plain": [
       "tensor([[[1., 1., 1., 1.],\n",
       "         [1., 1., 1., 1.],\n",
       "         [1., 1., 1., 1.]],\n",
       "\n",
       "        [[1., 1., 1., 1.],\n",
       "         [1., 1., 1., 1.],\n",
       "         [1., 1., 1., 1.]]])"
      ]
     },
     "execution_count": 12,
     "metadata": {},
     "output_type": "execute_result"
    }
   ],
   "source": [
    "torch.ones((2, 3, 4))"
   ]
  },
  {
   "cell_type": "markdown",
   "id": "be03f85e",
   "metadata": {},
   "source": [
    "0 또는 1로 전부 채우는 방법"
   ]
  },
  {
   "cell_type": "code",
   "execution_count": 14,
   "id": "c2e65e37",
   "metadata": {},
   "outputs": [
    {
     "data": {
      "text/plain": [
       "tensor([[ 0.9382,  0.8128, -0.7582,  0.3392],\n",
       "        [ 0.2672,  1.4922, -1.3930, -2.1220],\n",
       "        [-0.6270,  0.4328, -0.2019, -1.6058]])"
      ]
     },
     "execution_count": 14,
     "metadata": {},
     "output_type": "execute_result"
    }
   ],
   "source": [
    "torch.randn(3, 4)"
   ]
  },
  {
   "cell_type": "markdown",
   "id": "ede0f387",
   "metadata": {},
   "source": [
    "**randn()** : 표준정규분포를 따르게끔 random하게 숫자들을 tensor에 넣는다."
   ]
  },
  {
   "cell_type": "code",
   "execution_count": 15,
   "id": "46cf9855",
   "metadata": {},
   "outputs": [
    {
     "data": {
      "text/plain": [
       "tensor([[2, 1, 4, 3],\n",
       "        [1, 2, 3, 4],\n",
       "        [4, 3, 2, 1]])"
      ]
     },
     "execution_count": 15,
     "metadata": {},
     "output_type": "execute_result"
    }
   ],
   "source": [
    "torch.tensor([[2, 1, 4, 3], [1, 2, 3, 4], [4, 3, 2, 1]])"
   ]
  },
  {
   "cell_type": "markdown",
   "id": "f5827791",
   "metadata": {},
   "source": [
    "**torch.tensor()** 원하는 모양의 tensor를 만든다. 안에 원하는 원소들을 넣으면 된다. list를 이용해서 dimension을 정해줄 수 있다."
   ]
  },
  {
   "cell_type": "markdown",
   "id": "83c71013",
   "metadata": {},
   "source": [
    "## Indexing"
   ]
  },
  {
   "cell_type": "markdown",
   "id": "c9bdb43f",
   "metadata": {},
   "source": [
    "Python의 list를 indexing하는 것과 비슷하다고 보면 된다. Index는 0부터 시작하고 `a:b`이면 a는 포함하고 b는 포함하지 않는다."
   ]
  },
  {
   "cell_type": "code",
   "execution_count": 17,
   "id": "2aa5d118",
   "metadata": {},
   "outputs": [
    {
     "data": {
      "text/plain": [
       "tensor([[ 0.,  1.,  2.,  3.],\n",
       "        [ 4.,  5.,  6.,  7.],\n",
       "        [ 8.,  9., 10., 11.]])"
      ]
     },
     "execution_count": 17,
     "metadata": {},
     "output_type": "execute_result"
    }
   ],
   "source": [
    "X"
   ]
  },
  {
   "cell_type": "code",
   "execution_count": 19,
   "id": "33df39cc",
   "metadata": {},
   "outputs": [
    {
     "data": {
      "text/plain": [
       "torch.Size([3, 4])"
      ]
     },
     "execution_count": 19,
     "metadata": {},
     "output_type": "execute_result"
    }
   ],
   "source": [
    "X.shape"
   ]
  },
  {
   "cell_type": "code",
   "execution_count": 18,
   "id": "ff3f48f8",
   "metadata": {},
   "outputs": [
    {
     "data": {
      "text/plain": [
       "tensor([ 8.,  9., 10., 11.])"
      ]
     },
     "execution_count": 18,
     "metadata": {},
     "output_type": "execute_result"
    }
   ],
   "source": [
    "X[-1]"
   ]
  },
  {
   "cell_type": "markdown",
   "id": "26cd1b5e",
   "metadata": {},
   "source": [
    "3번째 row의 tensor가 나온 모습이다. "
   ]
  },
  {
   "cell_type": "code",
   "execution_count": 20,
   "id": "c95d0203",
   "metadata": {},
   "outputs": [
    {
     "data": {
      "text/plain": [
       "tensor([[ 4.,  5.,  6.,  7.],\n",
       "        [ 8.,  9., 10., 11.]])"
      ]
     },
     "execution_count": 20,
     "metadata": {},
     "output_type": "execute_result"
    }
   ],
   "source": [
    "X[1:3]"
   ]
  },
  {
   "cell_type": "code",
   "execution_count": 22,
   "id": "28f5f76e",
   "metadata": {},
   "outputs": [
    {
     "data": {
      "text/plain": [
       "tensor([[ 0.,  1.,  2.,  3.],\n",
       "        [ 4.,  5., 17.,  7.],\n",
       "        [ 8.,  9., 10., 11.]])"
      ]
     },
     "execution_count": 22,
     "metadata": {},
     "output_type": "execute_result"
    }
   ],
   "source": [
    "X[1, 2] = 17\n",
    "X"
   ]
  },
  {
   "cell_type": "code",
   "execution_count": 23,
   "id": "9155c0d9",
   "metadata": {},
   "outputs": [
    {
     "data": {
      "text/plain": [
       "tensor([[17., 17., 17., 17.],\n",
       "        [17., 17., 17., 17.],\n",
       "        [ 8.,  9., 10., 11.]])"
      ]
     },
     "execution_count": 23,
     "metadata": {},
     "output_type": "execute_result"
    }
   ],
   "source": [
    "X[:2] = 17\n",
    "X"
   ]
  },
  {
   "cell_type": "markdown",
   "id": "41ab8818",
   "metadata": {},
   "source": [
    "원하는 위치의 값을 바꿀 수도 있다. 한꺼번에 여러 원소들을 indexing을 통해 다 바꿀 수도 있다."
   ]
  },
  {
   "cell_type": "markdown",
   "id": "19110696",
   "metadata": {},
   "source": [
    "## Operations"
   ]
  },
  {
   "cell_type": "markdown",
   "id": "0fae4514",
   "metadata": {},
   "source": [
    "### 1. Element-wise Operations\n",
    "\n",
    "    각 element에 전부 적용된다."
   ]
  },
  {
   "cell_type": "code",
   "execution_count": 24,
   "id": "a2aba05c",
   "metadata": {},
   "outputs": [
    {
     "data": {
      "text/plain": [
       "tensor([[2.4155e+07, 2.4155e+07, 2.4155e+07, 2.4155e+07],\n",
       "        [2.4155e+07, 2.4155e+07, 2.4155e+07, 2.4155e+07],\n",
       "        [2.9810e+03, 8.1031e+03, 2.2026e+04, 5.9874e+04]])"
      ]
     },
     "execution_count": 24,
     "metadata": {},
     "output_type": "execute_result"
    }
   ],
   "source": [
    "torch.exp(X)"
   ]
  },
  {
   "cell_type": "markdown",
   "id": "8bf1fe5b",
   "metadata": {},
   "source": [
    "지연상수 $e^{X}$에 각 원소의 제곱을 표현함 "
   ]
  },
  {
   "cell_type": "code",
   "execution_count": 25,
   "id": "214843c3",
   "metadata": {},
   "outputs": [
    {
     "data": {
      "text/plain": [
       "(tensor([ 3.,  4.,  6., 10.]),\n",
       " tensor([-1.,  0.,  2.,  6.]),\n",
       " tensor([ 2.,  4.,  8., 16.]),\n",
       " tensor([0.5000, 1.0000, 2.0000, 4.0000]))"
      ]
     },
     "execution_count": 25,
     "metadata": {},
     "output_type": "execute_result"
    }
   ],
   "source": [
    "x = torch.tensor([1.0, 2, 4, 8])\n",
    "y = torch.tensor([2, 2, 2, 2])\n",
    "x + y, x - y, x * y, x / y"
   ]
  },
  {
   "cell_type": "markdown",
   "id": "7fb8be30",
   "metadata": {},
   "source": [
    "사칙연산도 각 원소별로 이루어지는 것을 볼 수 있다."
   ]
  },
  {
   "cell_type": "code",
   "execution_count": 26,
   "id": "2b3ea63d",
   "metadata": {},
   "outputs": [
    {
     "data": {
      "text/plain": [
       "(tensor([[ 0.,  1.,  2.,  3.],\n",
       "         [ 4.,  5.,  6.,  7.],\n",
       "         [ 8.,  9., 10., 11.],\n",
       "         [ 2.,  1.,  4.,  3.],\n",
       "         [ 1.,  2.,  3.,  4.],\n",
       "         [ 4.,  3.,  2.,  1.]]),\n",
       " tensor([[ 0.,  1.,  2.,  3.,  2.,  1.,  4.,  3.],\n",
       "         [ 4.,  5.,  6.,  7.,  1.,  2.,  3.,  4.],\n",
       "         [ 8.,  9., 10., 11.,  4.,  3.,  2.,  1.]]))"
      ]
     },
     "execution_count": 26,
     "metadata": {},
     "output_type": "execute_result"
    }
   ],
   "source": [
    "X = torch.arange(12, dtype=torch.float32).reshape((3, 4))\n",
    "Y = torch.tensor([[2.0, 1, 4, 3], [1, 2, 3, 4], [4, 3, 2, 1]])\n",
    "torch.cat((X, Y), dim = 0), torch.cat((X, Y), dim = 1)"
   ]
  },
  {
   "cell_type": "markdown",
   "id": "7668a081",
   "metadata": {},
   "source": [
    "tensor들끼리 모양이 맞으면 이어붙일 수도 있다."
   ]
  },
  {
   "cell_type": "code",
   "execution_count": 28,
   "id": "192c5f73",
   "metadata": {},
   "outputs": [
    {
     "data": {
      "text/plain": [
       "(tensor([[ 0.,  1.,  2.,  3.],\n",
       "         [ 4.,  5.,  6.,  7.],\n",
       "         [ 8.,  9., 10., 11.]]),\n",
       " tensor([[2., 1., 4., 3.],\n",
       "         [1., 2., 3., 4.],\n",
       "         [4., 3., 2., 1.]]))"
      ]
     },
     "execution_count": 28,
     "metadata": {},
     "output_type": "execute_result"
    }
   ],
   "source": [
    "X, Y"
   ]
  },
  {
   "cell_type": "code",
   "execution_count": 30,
   "id": "454689ac",
   "metadata": {},
   "outputs": [
    {
     "data": {
      "text/plain": [
       "tensor([[False,  True, False,  True],\n",
       "        [False, False, False, False],\n",
       "        [False, False, False, False]])"
      ]
     },
     "execution_count": 30,
     "metadata": {},
     "output_type": "execute_result"
    }
   ],
   "source": [
    "X == Y"
   ]
  },
  {
   "cell_type": "markdown",
   "id": "8fe8e523",
   "metadata": {},
   "source": [
    "비교도 각 원소별로 이루어진다."
   ]
  },
  {
   "cell_type": "code",
   "execution_count": 31,
   "id": "dedf0405",
   "metadata": {},
   "outputs": [
    {
     "data": {
      "text/plain": [
       "tensor([[False, False, False, False],\n",
       "        [ True,  True,  True,  True],\n",
       "        [ True,  True,  True,  True]])"
      ]
     },
     "execution_count": 31,
     "metadata": {},
     "output_type": "execute_result"
    }
   ],
   "source": [
    "X > Y"
   ]
  },
  {
   "cell_type": "code",
   "execution_count": 32,
   "id": "c74b7afc",
   "metadata": {},
   "outputs": [
    {
     "data": {
      "text/plain": [
       "tensor(66.)"
      ]
     },
     "execution_count": 32,
     "metadata": {},
     "output_type": "execute_result"
    }
   ],
   "source": [
    "torch.sum(X)"
   ]
  },
  {
   "cell_type": "markdown",
   "id": "dc63240e",
   "metadata": {},
   "source": [
    "모든 원소의 합을 나타낸다"
   ]
  },
  {
   "cell_type": "markdown",
   "id": "ca519742",
   "metadata": {},
   "source": [
    "## Broadcasting"
   ]
  },
  {
   "cell_type": "code",
   "execution_count": 33,
   "id": "75adb94f",
   "metadata": {},
   "outputs": [
    {
     "data": {
      "text/plain": [
       "(tensor([[0],\n",
       "         [1],\n",
       "         [2]]),\n",
       " tensor([[0, 1]]))"
      ]
     },
     "execution_count": 33,
     "metadata": {},
     "output_type": "execute_result"
    }
   ],
   "source": [
    "a = torch.arange(3).reshape((3, 1))\n",
    "b = torch.arange(2).reshape((1, 2))\n",
    "a, b"
   ]
  },
  {
   "cell_type": "markdown",
   "id": "c4c5ee0b",
   "metadata": {},
   "source": [
    "원래같으면 a와 b처럼 모양이 맞지 않으면 덧셈이 되지 않아야 한다. 하지만 특정한 경우에는 하나 또는 두 tensor의 길이를 늘린다음, 계산을 실시한다. 늘어나는 자리에는 원소들이 복사되어 있고, 각각 모양에 맞게 순차적으로 연산이 이루어진다."
   ]
  },
  {
   "cell_type": "code",
   "execution_count": 34,
   "id": "fb5e983b",
   "metadata": {},
   "outputs": [
    {
     "data": {
      "text/plain": [
       "tensor([[0, 1],\n",
       "        [1, 2],\n",
       "        [2, 3]])"
      ]
     },
     "execution_count": 34,
     "metadata": {},
     "output_type": "execute_result"
    }
   ],
   "source": [
    "a + b"
   ]
  },
  {
   "cell_type": "markdown",
   "id": "0e088a13",
   "metadata": {},
   "source": [
    "3 x 1 이었던 `a` tensor가 3 x 2로 늘어난 뒤, 덧셈이 `b`의 1 x 2 에 맞게 각 행에 덧셈이 이루어진 모습이다."
   ]
  },
  {
   "cell_type": "markdown",
   "id": "1c7c4cb5",
   "metadata": {},
   "source": [
    "## Saving Memory\n",
    "\n",
    "    Python은 일반적으로 한번 사용된 변수를 다시 사용할 경우, 그 변수는 다른 memory에 새로 할당된다. 이는 사실상 시간 낭비가 될 수도 있다. 딱히 옮길 필요가 없는데 불필요하게 메모리 주소를 옮겨다니는 건 곤란하다. 또한 여러개의 변수들이 전부 같은 것에 대응하고 있어서 이들을 제대로 update 안 해주면 memory leak이 발생할 수도 있다. \n",
    "    \n",
    "    그렇기 때문에 우리는 최대한 in-place에서 실행되는 것이 바람직하다."
   ]
  },
  {
   "cell_type": "code",
   "execution_count": 35,
   "id": "a938cb38",
   "metadata": {},
   "outputs": [
    {
     "data": {
      "text/plain": [
       "False"
      ]
     },
     "execution_count": 35,
     "metadata": {},
     "output_type": "execute_result"
    }
   ],
   "source": [
    "before = id(Y)\n",
    "Y = X + Y\n",
    "id(Y) == before"
   ]
  },
  {
   "cell_type": "markdown",
   "id": "382ab3be",
   "metadata": {},
   "source": [
    "Memory 주소가 덧셈 후 이동한 걸 볼 수 있다."
   ]
  },
  {
   "cell_type": "code",
   "execution_count": 38,
   "id": "150ac8c1",
   "metadata": {},
   "outputs": [
    {
     "name": "stdout",
     "output_type": "stream",
     "text": [
      "id(Z): 2322523367360\n",
      "id(Z): 2322523367360\n"
     ]
    }
   ],
   "source": [
    "Z = torch.zeros_like(Y)\n",
    "print('id(Z):', id(Z))\n",
    "Z[:] = X + Y\n",
    "print('id(Z):', id(Z))"
   ]
  },
  {
   "cell_type": "markdown",
   "id": "06c54f3a",
   "metadata": {},
   "source": [
    "`Z[:]`처럼 indexing을 활용하면 결과가 in-place로 발생한다. 이미 있는 것의 메모리 위치가 변경되지 않게하기 위함이다."
   ]
  },
  {
   "cell_type": "code",
   "execution_count": 39,
   "id": "cd00b507",
   "metadata": {},
   "outputs": [
    {
     "data": {
      "text/plain": [
       "True"
      ]
     },
     "execution_count": 39,
     "metadata": {},
     "output_type": "execute_result"
    }
   ],
   "source": [
    "before = id(X)\n",
    "X += Y\n",
    "before == id(X)"
   ]
  },
  {
   "cell_type": "markdown",
   "id": "1b89dfc4",
   "metadata": {},
   "source": [
    "`+=`도 마찬가지의 결과를 준다"
   ]
  },
  {
   "cell_type": "code",
   "execution_count": 40,
   "id": "4db4841c",
   "metadata": {},
   "outputs": [
    {
     "data": {
      "text/plain": [
       "(numpy.ndarray, torch.Tensor)"
      ]
     },
     "execution_count": 40,
     "metadata": {},
     "output_type": "execute_result"
    }
   ],
   "source": [
    "A = X.numpy()\n",
    "B = torch.from_numpy(A)\n",
    "type(A), type(B)"
   ]
  },
  {
   "cell_type": "code",
   "execution_count": 42,
   "id": "a48e121c",
   "metadata": {},
   "outputs": [
    {
     "data": {
      "text/plain": [
       "(tensor([3.5000]), 3.5, 3.5, 3)"
      ]
     },
     "execution_count": 42,
     "metadata": {},
     "output_type": "execute_result"
    }
   ],
   "source": [
    "a = torch.tensor([3.5])\n",
    "a, a.item(), float(a), int(a)"
   ]
  },
  {
   "cell_type": "markdown",
   "id": "09aedc3e",
   "metadata": {},
   "source": [
    "**item()** 을 사용하면 scalar 값을 받아올 수 있음"
   ]
  },
  {
   "cell_type": "code",
   "execution_count": 43,
   "id": "e1768530",
   "metadata": {},
   "outputs": [],
   "source": [
    "a = torch.tensor([1, 2])"
   ]
  },
  {
   "cell_type": "code",
   "execution_count": 44,
   "id": "97ef0027",
   "metadata": {},
   "outputs": [
    {
     "data": {
      "text/plain": [
       "tensor([1, 2])"
      ]
     },
     "execution_count": 44,
     "metadata": {},
     "output_type": "execute_result"
    }
   ],
   "source": [
    "a"
   ]
  },
  {
   "cell_type": "code",
   "execution_count": 45,
   "id": "5e54806d",
   "metadata": {},
   "outputs": [
    {
     "ename": "ValueError",
     "evalue": "only one element tensors can be converted to Python scalars",
     "output_type": "error",
     "traceback": [
      "\u001b[1;31m---------------------------------------------------------------------------\u001b[0m",
      "\u001b[1;31mValueError\u001b[0m                                Traceback (most recent call last)",
      "Cell \u001b[1;32mIn[45], line 1\u001b[0m\n\u001b[1;32m----> 1\u001b[0m \u001b[43ma\u001b[49m\u001b[38;5;241;43m.\u001b[39;49m\u001b[43mitem\u001b[49m\u001b[43m(\u001b[49m\u001b[43m)\u001b[49m\n",
      "\u001b[1;31mValueError\u001b[0m: only one element tensors can be converted to Python scalars"
     ]
    }
   ],
   "source": [
    "a.item()"
   ]
  },
  {
   "cell_type": "markdown",
   "id": "b079ab5e",
   "metadata": {},
   "source": [
    "두 개 이상 들어 있는 tensor는 (당연하지만) scalar 값으로 변환할 수 없다."
   ]
  },
  {
   "cell_type": "markdown",
   "id": "d93df464",
   "metadata": {},
   "source": [
    "## Data Preparation"
   ]
  },
  {
   "cell_type": "code",
   "execution_count": 46,
   "id": "a69e8a74",
   "metadata": {},
   "outputs": [],
   "source": [
    "import pandas as pd"
   ]
  },
  {
   "cell_type": "code",
   "execution_count": 48,
   "id": "40281444",
   "metadata": {},
   "outputs": [],
   "source": [
    "import os\n",
    "\n",
    "os.makedirs(os.path.join('..', 'data'), exist_ok=True)\n",
    "data_file = os.path.join('..', 'data', 'house_tiny.csv')\n",
    "with open(data_file, 'w') as f:\n",
    "    f.write('''NumRooms,RoofType,Price\n",
    "NA,NA,127500\n",
    "2,NA,106000\n",
    "4,Slate,178100\n",
    "NA,NA,140000''')"
   ]
  },
  {
   "cell_type": "markdown",
   "id": "3c778ef1",
   "metadata": {},
   "source": [
    "Create a csv file. To read a csv file, we use pandas"
   ]
  },
  {
   "cell_type": "code",
   "execution_count": 49,
   "id": "d52af09c",
   "metadata": {},
   "outputs": [],
   "source": [
    "data = pd.read_csv(data_file)"
   ]
  },
  {
   "cell_type": "code",
   "execution_count": 50,
   "id": "d927ea84",
   "metadata": {},
   "outputs": [
    {
     "data": {
      "text/html": [
       "<div>\n",
       "<style scoped>\n",
       "    .dataframe tbody tr th:only-of-type {\n",
       "        vertical-align: middle;\n",
       "    }\n",
       "\n",
       "    .dataframe tbody tr th {\n",
       "        vertical-align: top;\n",
       "    }\n",
       "\n",
       "    .dataframe thead th {\n",
       "        text-align: right;\n",
       "    }\n",
       "</style>\n",
       "<table border=\"1\" class=\"dataframe\">\n",
       "  <thead>\n",
       "    <tr style=\"text-align: right;\">\n",
       "      <th></th>\n",
       "      <th>NumRooms</th>\n",
       "      <th>RoofType</th>\n",
       "      <th>Price</th>\n",
       "    </tr>\n",
       "  </thead>\n",
       "  <tbody>\n",
       "    <tr>\n",
       "      <th>0</th>\n",
       "      <td>NaN</td>\n",
       "      <td>NaN</td>\n",
       "      <td>127500</td>\n",
       "    </tr>\n",
       "    <tr>\n",
       "      <th>1</th>\n",
       "      <td>2.0</td>\n",
       "      <td>NaN</td>\n",
       "      <td>106000</td>\n",
       "    </tr>\n",
       "    <tr>\n",
       "      <th>2</th>\n",
       "      <td>4.0</td>\n",
       "      <td>Slate</td>\n",
       "      <td>178100</td>\n",
       "    </tr>\n",
       "    <tr>\n",
       "      <th>3</th>\n",
       "      <td>NaN</td>\n",
       "      <td>NaN</td>\n",
       "      <td>140000</td>\n",
       "    </tr>\n",
       "  </tbody>\n",
       "</table>\n",
       "</div>"
      ],
      "text/plain": [
       "   NumRooms RoofType   Price\n",
       "0       NaN      NaN  127500\n",
       "1       2.0      NaN  106000\n",
       "2       4.0    Slate  178100\n",
       "3       NaN      NaN  140000"
      ]
     },
     "execution_count": 50,
     "metadata": {},
     "output_type": "execute_result"
    }
   ],
   "source": [
    "data.head()"
   ]
  },
  {
   "cell_type": "markdown",
   "id": "bcbfcdc1",
   "metadata": {},
   "source": [
    "Supervised Learning에서는 데이터와 label(또는 target)이 필요하다. 위의 데이터의 경우, Price값을 label로 활용하고 싶기 때문에 이를 분리해야 한다."
   ]
  },
  {
   "cell_type": "code",
   "execution_count": 52,
   "id": "382e2987",
   "metadata": {},
   "outputs": [],
   "source": [
    "inputs, targets = data.iloc[:, 0:2], data.iloc[:, 2]"
   ]
  },
  {
   "cell_type": "markdown",
   "id": "0701cd98",
   "metadata": {},
   "source": [
    "`iloc` 은 dataframe을 index 숫자를 활용해서 indexing하는 방법이다."
   ]
  },
  {
   "cell_type": "code",
   "execution_count": 53,
   "id": "00a996ec",
   "metadata": {},
   "outputs": [
    {
     "data": {
      "text/html": [
       "<div>\n",
       "<style scoped>\n",
       "    .dataframe tbody tr th:only-of-type {\n",
       "        vertical-align: middle;\n",
       "    }\n",
       "\n",
       "    .dataframe tbody tr th {\n",
       "        vertical-align: top;\n",
       "    }\n",
       "\n",
       "    .dataframe thead th {\n",
       "        text-align: right;\n",
       "    }\n",
       "</style>\n",
       "<table border=\"1\" class=\"dataframe\">\n",
       "  <thead>\n",
       "    <tr style=\"text-align: right;\">\n",
       "      <th></th>\n",
       "      <th>NumRooms</th>\n",
       "      <th>RoofType</th>\n",
       "    </tr>\n",
       "  </thead>\n",
       "  <tbody>\n",
       "    <tr>\n",
       "      <th>0</th>\n",
       "      <td>NaN</td>\n",
       "      <td>NaN</td>\n",
       "    </tr>\n",
       "    <tr>\n",
       "      <th>1</th>\n",
       "      <td>2.0</td>\n",
       "      <td>NaN</td>\n",
       "    </tr>\n",
       "    <tr>\n",
       "      <th>2</th>\n",
       "      <td>4.0</td>\n",
       "      <td>Slate</td>\n",
       "    </tr>\n",
       "    <tr>\n",
       "      <th>3</th>\n",
       "      <td>NaN</td>\n",
       "      <td>NaN</td>\n",
       "    </tr>\n",
       "  </tbody>\n",
       "</table>\n",
       "</div>"
      ],
      "text/plain": [
       "   NumRooms RoofType\n",
       "0       NaN      NaN\n",
       "1       2.0      NaN\n",
       "2       4.0    Slate\n",
       "3       NaN      NaN"
      ]
     },
     "execution_count": 53,
     "metadata": {},
     "output_type": "execute_result"
    }
   ],
   "source": [
    "inputs"
   ]
  },
  {
   "cell_type": "markdown",
   "id": "bb2ab0bb",
   "metadata": {},
   "source": [
    "NaN 값들은 학습할 수 없다. 그러므로 적당한 값들을 넣어줘야 한다. 어떤 값이 가장 적당할지는 그때그때 다르다. 최솟값을 넣을 수도 있고, 그냥 0으로 채울 수도 있고 등등 가능성이 여러가지이다. 이 작업을 imputation이라고 한다."
   ]
  },
  {
   "cell_type": "code",
   "execution_count": 56,
   "id": "7297a13e",
   "metadata": {},
   "outputs": [
    {
     "data": {
      "text/html": [
       "<div>\n",
       "<style scoped>\n",
       "    .dataframe tbody tr th:only-of-type {\n",
       "        vertical-align: middle;\n",
       "    }\n",
       "\n",
       "    .dataframe tbody tr th {\n",
       "        vertical-align: top;\n",
       "    }\n",
       "\n",
       "    .dataframe thead th {\n",
       "        text-align: right;\n",
       "    }\n",
       "</style>\n",
       "<table border=\"1\" class=\"dataframe\">\n",
       "  <thead>\n",
       "    <tr style=\"text-align: right;\">\n",
       "      <th></th>\n",
       "      <th>NumRooms</th>\n",
       "      <th>RoofType_Slate</th>\n",
       "      <th>RoofType_nan</th>\n",
       "    </tr>\n",
       "  </thead>\n",
       "  <tbody>\n",
       "    <tr>\n",
       "      <th>0</th>\n",
       "      <td>NaN</td>\n",
       "      <td>False</td>\n",
       "      <td>True</td>\n",
       "    </tr>\n",
       "    <tr>\n",
       "      <th>1</th>\n",
       "      <td>2.0</td>\n",
       "      <td>False</td>\n",
       "      <td>True</td>\n",
       "    </tr>\n",
       "    <tr>\n",
       "      <th>2</th>\n",
       "      <td>4.0</td>\n",
       "      <td>True</td>\n",
       "      <td>False</td>\n",
       "    </tr>\n",
       "    <tr>\n",
       "      <th>3</th>\n",
       "      <td>NaN</td>\n",
       "      <td>False</td>\n",
       "      <td>True</td>\n",
       "    </tr>\n",
       "  </tbody>\n",
       "</table>\n",
       "</div>"
      ],
      "text/plain": [
       "   NumRooms  RoofType_Slate  RoofType_nan\n",
       "0       NaN           False          True\n",
       "1       2.0           False          True\n",
       "2       4.0            True         False\n",
       "3       NaN           False          True"
      ]
     },
     "execution_count": 56,
     "metadata": {},
     "output_type": "execute_result"
    }
   ],
   "source": [
    "inputs = pd.get_dummies(inputs, dummy_na = True)\n",
    "inputs"
   ]
  },
  {
   "cell_type": "markdown",
   "id": "85bd1ac4",
   "metadata": {},
   "source": [
    "**pd.get_dummies()** 는 categorical한 데이터를 변환해준다. 이때 category가 여러개이면 해당 category마다 새로운 attribute를 새로 생성하고, 그 값을 각 row마다 있으면 True, 없으면 False를 적어 넣는다. One-Hot Encoding과 굉장히 비슷하다. **dummy_na = True** 를 설정하면 NaN 값도 하나의 category로 취급해서 새로운 attribute를 위와 같이 생성한다.\n",
    "\n",
    "이렇게 하는 이유는 임의의 숫자로 특정 category를 표현하는 것이 옳지 않은 경우가 있기 때문이다. 예를 들어 spring, summer, fall, winter는 계절마다 특별히 어느 계절이 더 좋고 나쁠 이유가 없다. 하지만 사계절을 그저 1, 2, 3, 4 로 encoding하면, 학습하는 입장에서는 winter이 spring보다 어떤 면에서 더 큰 무언가의 값을 가질 것이라고 잘못된 학습을 할 여지가 있기 때문에 이를 방지하고자 dummy를 활용한다."
   ]
  },
  {
   "cell_type": "code",
   "execution_count": 58,
   "id": "b2533b0f",
   "metadata": {},
   "outputs": [],
   "source": [
    "inputs = inputs.fillna(inputs.mean())"
   ]
  },
  {
   "cell_type": "code",
   "execution_count": 59,
   "id": "9d2aa168",
   "metadata": {},
   "outputs": [
    {
     "data": {
      "text/html": [
       "<div>\n",
       "<style scoped>\n",
       "    .dataframe tbody tr th:only-of-type {\n",
       "        vertical-align: middle;\n",
       "    }\n",
       "\n",
       "    .dataframe tbody tr th {\n",
       "        vertical-align: top;\n",
       "    }\n",
       "\n",
       "    .dataframe thead th {\n",
       "        text-align: right;\n",
       "    }\n",
       "</style>\n",
       "<table border=\"1\" class=\"dataframe\">\n",
       "  <thead>\n",
       "    <tr style=\"text-align: right;\">\n",
       "      <th></th>\n",
       "      <th>NumRooms</th>\n",
       "      <th>RoofType_Slate</th>\n",
       "      <th>RoofType_nan</th>\n",
       "    </tr>\n",
       "  </thead>\n",
       "  <tbody>\n",
       "    <tr>\n",
       "      <th>0</th>\n",
       "      <td>3.0</td>\n",
       "      <td>False</td>\n",
       "      <td>True</td>\n",
       "    </tr>\n",
       "    <tr>\n",
       "      <th>1</th>\n",
       "      <td>2.0</td>\n",
       "      <td>False</td>\n",
       "      <td>True</td>\n",
       "    </tr>\n",
       "    <tr>\n",
       "      <th>2</th>\n",
       "      <td>4.0</td>\n",
       "      <td>True</td>\n",
       "      <td>False</td>\n",
       "    </tr>\n",
       "    <tr>\n",
       "      <th>3</th>\n",
       "      <td>3.0</td>\n",
       "      <td>False</td>\n",
       "      <td>True</td>\n",
       "    </tr>\n",
       "  </tbody>\n",
       "</table>\n",
       "</div>"
      ],
      "text/plain": [
       "   NumRooms  RoofType_Slate  RoofType_nan\n",
       "0       3.0           False          True\n",
       "1       2.0           False          True\n",
       "2       4.0            True         False\n",
       "3       3.0           False          True"
      ]
     },
     "execution_count": 59,
     "metadata": {},
     "output_type": "execute_result"
    }
   ],
   "source": [
    "inputs"
   ]
  },
  {
   "cell_type": "markdown",
   "id": "f4ff9bee",
   "metadata": {},
   "source": [
    "아직 남아있는 NaN값들을 채우기 위해 각 속성별 평균값을 활용하기로 했다."
   ]
  },
  {
   "cell_type": "markdown",
   "id": "ee60a3b3",
   "metadata": {},
   "source": [
    "모든 준비가 끝나면 학습을 위해 DataFrame을 tensor로 변환하면 된다."
   ]
  },
  {
   "cell_type": "code",
   "execution_count": 69,
   "id": "c9af4eb4",
   "metadata": {},
   "outputs": [
    {
     "data": {
      "text/plain": [
       "(tensor([[3., 0., 1.],\n",
       "         [2., 0., 1.],\n",
       "         [4., 1., 0.],\n",
       "         [3., 0., 1.]], dtype=torch.float64),\n",
       " tensor([127500, 106000, 178100, 140000]))"
      ]
     },
     "execution_count": 69,
     "metadata": {},
     "output_type": "execute_result"
    }
   ],
   "source": [
    "X, y = torch.tensor(inputs.values.astype(float)), torch.tensor(targets.values)\n",
    "X, y"
   ]
  },
  {
   "cell_type": "markdown",
   "id": "16de22d1",
   "metadata": {},
   "source": [
    "간혹 `.values`를 했는데 type이 Object로 나오는 경우가 있다. Pandas에서 Object type인 숫자 데이터 이외의 대부분의 것들을 얘기한다. (datetime과 같이 예외도 존재한다). **.astype(float)** 를 사용하면 type을 바꿔줄 수 있다."
   ]
  },
  {
   "cell_type": "markdown",
   "id": "0e94e55e",
   "metadata": {},
   "source": [
    "## Linear Algebra"
   ]
  },
  {
   "cell_type": "markdown",
   "id": "b6938803",
   "metadata": {},
   "source": [
    "**Scalar**"
   ]
  },
  {
   "cell_type": "code",
   "execution_count": 70,
   "id": "1fcff7ff",
   "metadata": {},
   "outputs": [
    {
     "data": {
      "text/plain": [
       "(tensor(5.), tensor(1.), tensor(6.), tensor(1.5000))"
      ]
     },
     "execution_count": 70,
     "metadata": {},
     "output_type": "execute_result"
    }
   ],
   "source": [
    "x = torch.tensor(3.0)\n",
    "y = torch.tensor(2.0)\n",
    "x + y, x - y, x * y, x / y"
   ]
  },
  {
   "cell_type": "markdown",
   "id": "8ceed1b6",
   "metadata": {},
   "source": [
    "**Vector** 컴퓨터 상에서는 가로로 표기되어 있지만, 실제 벡터는 **세로** 로 표기하는 것이 원칙이다. "
   ]
  },
  {
   "cell_type": "code",
   "execution_count": 71,
   "id": "1480f4e2",
   "metadata": {},
   "outputs": [
    {
     "data": {
      "text/plain": [
       "tensor([0, 1, 2, 3, 4])"
      ]
     },
     "execution_count": 71,
     "metadata": {},
     "output_type": "execute_result"
    }
   ],
   "source": [
    "x = torch.arange(5)\n",
    "x"
   ]
  },
  {
   "cell_type": "code",
   "execution_count": 72,
   "id": "b83439c0",
   "metadata": {},
   "outputs": [
    {
     "data": {
      "text/plain": [
       "5"
      ]
     },
     "execution_count": 72,
     "metadata": {},
     "output_type": "execute_result"
    }
   ],
   "source": [
    "len(x)"
   ]
  },
  {
   "cell_type": "code",
   "execution_count": 73,
   "id": "9387106d",
   "metadata": {},
   "outputs": [
    {
     "data": {
      "text/plain": [
       "torch.Size([5])"
      ]
     },
     "execution_count": 73,
     "metadata": {},
     "output_type": "execute_result"
    }
   ],
   "source": [
    "x.shape"
   ]
  },
  {
   "cell_type": "markdown",
   "id": "a0145bfe",
   "metadata": {},
   "source": [
    "vector indexing"
   ]
  },
  {
   "cell_type": "code",
   "execution_count": 74,
   "id": "fa234a03",
   "metadata": {},
   "outputs": [
    {
     "data": {
      "text/plain": [
       "tensor(2)"
      ]
     },
     "execution_count": 74,
     "metadata": {},
     "output_type": "execute_result"
    }
   ],
   "source": [
    "x[2]"
   ]
  },
  {
   "cell_type": "markdown",
   "id": "411ff680",
   "metadata": {},
   "source": [
    "**Matrix**"
   ]
  },
  {
   "cell_type": "code",
   "execution_count": 75,
   "id": "8a18f29a",
   "metadata": {},
   "outputs": [
    {
     "data": {
      "text/plain": [
       "tensor([[0, 1],\n",
       "        [2, 3],\n",
       "        [4, 5]])"
      ]
     },
     "execution_count": 75,
     "metadata": {},
     "output_type": "execute_result"
    }
   ],
   "source": [
    "A = torch.arange(6).reshape((3, 2))\n",
    "A"
   ]
  },
  {
   "cell_type": "markdown",
   "id": "8a96503a",
   "metadata": {},
   "source": [
    "Transpose"
   ]
  },
  {
   "cell_type": "code",
   "execution_count": 76,
   "id": "794490ea",
   "metadata": {
    "scrolled": true
   },
   "outputs": [
    {
     "data": {
      "text/plain": [
       "tensor([[0, 2, 4],\n",
       "        [1, 3, 5]])"
      ]
     },
     "execution_count": 76,
     "metadata": {},
     "output_type": "execute_result"
    }
   ],
   "source": [
    "A.T"
   ]
  },
  {
   "cell_type": "markdown",
   "id": "dac291c7",
   "metadata": {},
   "source": [
    "A 와 A.T 가 같은 행렬을 대칭행렬이라고 한다. 대칭행렬은 상당히 많은 성질을 가지고 있다. 가장 대표적으로 $A = X^TVX$ 꼴로 대각화가 가능하다."
   ]
  },
  {
   "cell_type": "code",
   "execution_count": 77,
   "id": "be73620f",
   "metadata": {},
   "outputs": [
    {
     "data": {
      "text/plain": [
       "tensor([[True, True, True],\n",
       "        [True, True, True],\n",
       "        [True, True, True]])"
      ]
     },
     "execution_count": 77,
     "metadata": {},
     "output_type": "execute_result"
    }
   ],
   "source": [
    "A = torch.tensor([[1, 2, 3], [2, 0, 4], [3, 4, 5]])\n",
    "A == A.T"
   ]
  },
  {
   "cell_type": "markdown",
   "id": "16bbe3ec",
   "metadata": {},
   "source": [
    "**Tensor** : 행렬은 2차원(행과 열)까지만 표현이 가능하지만, 그 이상의 차원의 데이터도 표현해야 할 수도 있다. 대표적으로 이미지 데이터가 있다. 이러한 n 차원 데이터가 tensor이다."
   ]
  },
  {
   "cell_type": "code",
   "execution_count": 78,
   "id": "776b9d62",
   "metadata": {},
   "outputs": [
    {
     "data": {
      "text/plain": [
       "tensor([[[ 0,  1,  2,  3],\n",
       "         [ 4,  5,  6,  7],\n",
       "         [ 8,  9, 10, 11]],\n",
       "\n",
       "        [[12, 13, 14, 15],\n",
       "         [16, 17, 18, 19],\n",
       "         [20, 21, 22, 23]]])"
      ]
     },
     "execution_count": 78,
     "metadata": {},
     "output_type": "execute_result"
    }
   ],
   "source": [
    "torch.arange(24).reshape((2, 3, 4))"
   ]
  },
  {
   "cell_type": "markdown",
   "id": "3617b66b",
   "metadata": {},
   "source": [
    "행렬의 덧셈은 같은 모양일 때 원소별로 이루어진다. 물론 pytorch에서는 broadcasting을 통해 다른 모양이어도 제한적으로 가능하다."
   ]
  },
  {
   "cell_type": "code",
   "execution_count": 80,
   "id": "46a05b93",
   "metadata": {},
   "outputs": [
    {
     "data": {
      "text/plain": [
       "(tensor([[0., 1.],\n",
       "         [2., 3.],\n",
       "         [4., 5.]]),\n",
       " tensor([[ 0.,  2.],\n",
       "         [ 4.,  6.],\n",
       "         [ 8., 10.]]))"
      ]
     },
     "execution_count": 80,
     "metadata": {},
     "output_type": "execute_result"
    }
   ],
   "source": [
    "A = torch.arange(6, dtype=torch.float32).reshape(3, 2)\n",
    "B = A.clone()\n",
    "A, A + B"
   ]
  },
  {
   "cell_type": "markdown",
   "id": "d5d946a5",
   "metadata": {},
   "source": [
    "행렬의 곱셈은 앞 행렬의 각 행과 뒤 행렬의 각 열끼리의 mapping해서 mapping된 행과 열들끼리 내적을 한다."
   ]
  },
  {
   "cell_type": "code",
   "execution_count": 81,
   "id": "55f239a9",
   "metadata": {},
   "outputs": [
    {
     "data": {
      "text/plain": [
       "tensor([[ 0.,  1.],\n",
       "        [ 4.,  9.],\n",
       "        [16., 25.]])"
      ]
     },
     "execution_count": 81,
     "metadata": {},
     "output_type": "execute_result"
    }
   ],
   "source": [
    "A * B"
   ]
  },
  {
   "cell_type": "code",
   "execution_count": 83,
   "id": "e3633f0d",
   "metadata": {},
   "outputs": [
    {
     "data": {
      "text/plain": [
       "tensor([[3., 0., 1.],\n",
       "        [2., 0., 1.],\n",
       "        [4., 1., 0.],\n",
       "        [3., 0., 1.]], dtype=torch.float64)"
      ]
     },
     "execution_count": 83,
     "metadata": {},
     "output_type": "execute_result"
    }
   ],
   "source": [
    "X"
   ]
  },
  {
   "cell_type": "markdown",
   "id": "99650062",
   "metadata": {},
   "source": [
    "스칼라 덧셈과 곱셈은 각 원소들에게 이루어진다."
   ]
  },
  {
   "cell_type": "code",
   "execution_count": 82,
   "id": "6939475b",
   "metadata": {},
   "outputs": [
    {
     "data": {
      "text/plain": [
       "tensor([[5., 2., 3.],\n",
       "        [4., 2., 3.],\n",
       "        [6., 3., 2.],\n",
       "        [5., 2., 3.]], dtype=torch.float64)"
      ]
     },
     "execution_count": 82,
     "metadata": {},
     "output_type": "execute_result"
    }
   ],
   "source": [
    "2 + X"
   ]
  },
  {
   "cell_type": "code",
   "execution_count": 84,
   "id": "12572ef0",
   "metadata": {},
   "outputs": [
    {
     "data": {
      "text/plain": [
       "tensor([[6., 0., 2.],\n",
       "        [4., 0., 2.],\n",
       "        [8., 2., 0.],\n",
       "        [6., 0., 2.]], dtype=torch.float64)"
      ]
     },
     "execution_count": 84,
     "metadata": {},
     "output_type": "execute_result"
    }
   ],
   "source": [
    "2 * X"
   ]
  },
  {
   "cell_type": "code",
   "execution_count": 86,
   "id": "21708477",
   "metadata": {},
   "outputs": [
    {
     "data": {
      "text/plain": [
       "tensor(3.)"
      ]
     },
     "execution_count": 86,
     "metadata": {},
     "output_type": "execute_result"
    }
   ],
   "source": [
    "x = torch.arange(3, dtype=torch.float32)\n",
    "torch.sum(x)"
   ]
  },
  {
   "cell_type": "markdown",
   "id": "4b80e111",
   "metadata": {},
   "source": [
    "Tensor내의 모든 원소들의 합을 구할 수 있다."
   ]
  },
  {
   "cell_type": "code",
   "execution_count": 88,
   "id": "a2225eca",
   "metadata": {},
   "outputs": [
    {
     "data": {
      "text/plain": [
       "tensor([[0., 1.],\n",
       "        [2., 3.],\n",
       "        [4., 5.]])"
      ]
     },
     "execution_count": 88,
     "metadata": {},
     "output_type": "execute_result"
    }
   ],
   "source": [
    "A"
   ]
  },
  {
   "cell_type": "code",
   "execution_count": 89,
   "id": "4f9a0afb",
   "metadata": {},
   "outputs": [
    {
     "data": {
      "text/plain": [
       "tensor([6., 9.])"
      ]
     },
     "execution_count": 89,
     "metadata": {},
     "output_type": "execute_result"
    }
   ],
   "source": [
    "torch.sum(A, axis=0)"
   ]
  },
  {
   "cell_type": "code",
   "execution_count": 90,
   "id": "ab55991d",
   "metadata": {},
   "outputs": [
    {
     "data": {
      "text/plain": [
       "tensor([1., 5., 9.])"
      ]
     },
     "execution_count": 90,
     "metadata": {},
     "output_type": "execute_result"
    }
   ],
   "source": [
    "torch.sum(A, axis=1)"
   ]
  },
  {
   "cell_type": "markdown",
   "id": "eea6601b",
   "metadata": {},
   "source": [
    "덧셈을 한 방향으로 제한할 수도 있다."
   ]
  },
  {
   "cell_type": "code",
   "execution_count": 91,
   "id": "9e91a889",
   "metadata": {},
   "outputs": [
    {
     "data": {
      "text/plain": [
       "tensor(2.5000)"
      ]
     },
     "execution_count": 91,
     "metadata": {},
     "output_type": "execute_result"
    }
   ],
   "source": [
    "A.mean()"
   ]
  },
  {
   "cell_type": "code",
   "execution_count": 92,
   "id": "a993f7f7",
   "metadata": {},
   "outputs": [
    {
     "data": {
      "text/plain": [
       "tensor(2.5000)"
      ]
     },
     "execution_count": 92,
     "metadata": {},
     "output_type": "execute_result"
    }
   ],
   "source": [
    "A.sum() / A.numel()"
   ]
  },
  {
   "cell_type": "markdown",
   "id": "f3048478",
   "metadata": {},
   "source": [
    "Tensor의 element의 평균 구하기"
   ]
  },
  {
   "cell_type": "code",
   "execution_count": 95,
   "id": "d2d35aaf",
   "metadata": {},
   "outputs": [
    {
     "data": {
      "text/plain": [
       "torch.Size([3, 2])"
      ]
     },
     "execution_count": 95,
     "metadata": {},
     "output_type": "execute_result"
    }
   ],
   "source": [
    "A.shape"
   ]
  },
  {
   "cell_type": "code",
   "execution_count": 93,
   "id": "6b44c3cb",
   "metadata": {},
   "outputs": [
    {
     "data": {
      "text/plain": [
       "(tensor([1., 5., 9.]), torch.Size([3]))"
      ]
     },
     "execution_count": 93,
     "metadata": {},
     "output_type": "execute_result"
    }
   ],
   "source": [
    "sum_1 = A.sum(axis=1)\n",
    "sum_1, sum_1.shape"
   ]
  },
  {
   "cell_type": "code",
   "execution_count": 94,
   "id": "bfb120a9",
   "metadata": {},
   "outputs": [
    {
     "data": {
      "text/plain": [
       "(tensor([[1.],\n",
       "         [5.],\n",
       "         [9.]]),\n",
       " torch.Size([3, 1]))"
      ]
     },
     "execution_count": 94,
     "metadata": {},
     "output_type": "execute_result"
    }
   ],
   "source": [
    "sum_2 = A.sum(axis=1, keepdims=True)\n",
    "sum_2, sum_2.shape"
   ]
  },
  {
   "cell_type": "markdown",
   "id": "664ac9e3",
   "metadata": {},
   "source": [
    "가끔씩은 덧셈 직후 차원을 유지할 필요도 있다. 특히 broadcasting을 해야 한다면 더더욱 그러하다."
   ]
  },
  {
   "cell_type": "code",
   "execution_count": 96,
   "id": "6929042e",
   "metadata": {},
   "outputs": [
    {
     "data": {
      "text/plain": [
       "tensor([[0., 1.],\n",
       "        [2., 3.],\n",
       "        [4., 5.]])"
      ]
     },
     "execution_count": 96,
     "metadata": {},
     "output_type": "execute_result"
    }
   ],
   "source": [
    "A"
   ]
  },
  {
   "cell_type": "code",
   "execution_count": 98,
   "id": "872f3982",
   "metadata": {},
   "outputs": [
    {
     "data": {
      "text/plain": [
       "tensor([[0., 1.],\n",
       "        [2., 4.],\n",
       "        [6., 9.]])"
      ]
     },
     "execution_count": 98,
     "metadata": {},
     "output_type": "execute_result"
    }
   ],
   "source": [
    "torch.cumsum(A, axis=0)"
   ]
  },
  {
   "cell_type": "markdown",
   "id": "c680f833",
   "metadata": {},
   "source": [
    "Cumulative Sum"
   ]
  },
  {
   "cell_type": "code",
   "execution_count": 99,
   "id": "5098c5d6",
   "metadata": {},
   "outputs": [
    {
     "data": {
      "text/plain": [
       "(tensor([0., 1., 2.]), tensor([1., 1., 1.]), tensor(3.))"
      ]
     },
     "execution_count": 99,
     "metadata": {},
     "output_type": "execute_result"
    }
   ],
   "source": [
    "y = torch.ones(3, dtype=torch.float32)\n",
    "x, y, torch.dot(x, y)"
   ]
  },
  {
   "cell_type": "markdown",
   "id": "a97bce96",
   "metadata": {},
   "source": [
    "내적"
   ]
  },
  {
   "cell_type": "code",
   "execution_count": 101,
   "id": "5c917591",
   "metadata": {},
   "outputs": [
    {
     "data": {
      "text/plain": [
       "tensor([[0., 1.],\n",
       "        [2., 3.],\n",
       "        [4., 5.]])"
      ]
     },
     "execution_count": 101,
     "metadata": {},
     "output_type": "execute_result"
    }
   ],
   "source": [
    "A"
   ]
  },
  {
   "cell_type": "code",
   "execution_count": 102,
   "id": "02b07496",
   "metadata": {},
   "outputs": [
    {
     "data": {
      "text/plain": [
       "tensor([0., 1., 2.])"
      ]
     },
     "execution_count": 102,
     "metadata": {},
     "output_type": "execute_result"
    }
   ],
   "source": [
    "x"
   ]
  },
  {
   "cell_type": "markdown",
   "id": "73ee24c2",
   "metadata": {},
   "source": [
    "행렬, 벡터 곱셈"
   ]
  },
  {
   "cell_type": "code",
   "execution_count": 104,
   "id": "36bf30dc",
   "metadata": {},
   "outputs": [
    {
     "data": {
      "text/plain": [
       "tensor([10., 13.])"
      ]
     },
     "execution_count": 104,
     "metadata": {},
     "output_type": "execute_result"
    }
   ],
   "source": [
    "torch.mv(A.T, x)"
   ]
  },
  {
   "cell_type": "markdown",
   "id": "308ae966",
   "metadata": {},
   "source": [
    "`@`을 써서 행렬의 곱셈을 할 수도 있다."
   ]
  },
  {
   "cell_type": "code",
   "execution_count": 105,
   "id": "30bdbd2f",
   "metadata": {},
   "outputs": [
    {
     "data": {
      "text/plain": [
       "tensor([10., 13.])"
      ]
     },
     "execution_count": 105,
     "metadata": {},
     "output_type": "execute_result"
    }
   ],
   "source": [
    "A.T@x"
   ]
  },
  {
   "cell_type": "code",
   "execution_count": 107,
   "id": "06358544",
   "metadata": {},
   "outputs": [
    {
     "data": {
      "text/plain": [
       "torch.Size([3, 2])"
      ]
     },
     "execution_count": 107,
     "metadata": {},
     "output_type": "execute_result"
    }
   ],
   "source": [
    "A.shape"
   ]
  },
  {
   "cell_type": "code",
   "execution_count": 108,
   "id": "842a21bd",
   "metadata": {},
   "outputs": [
    {
     "data": {
      "text/plain": [
       "tensor([[1., 1., 1., 1.],\n",
       "        [5., 5., 5., 5.],\n",
       "        [9., 9., 9., 9.]])"
      ]
     },
     "execution_count": 108,
     "metadata": {},
     "output_type": "execute_result"
    }
   ],
   "source": [
    "B = torch.ones(2, 4)\n",
    "torch.mm(A, B)"
   ]
  },
  {
   "cell_type": "code",
   "execution_count": 109,
   "id": "6817a681",
   "metadata": {},
   "outputs": [
    {
     "data": {
      "text/plain": [
       "tensor([[1., 1., 1., 1.],\n",
       "        [5., 5., 5., 5.],\n",
       "        [9., 9., 9., 9.]])"
      ]
     },
     "execution_count": 109,
     "metadata": {},
     "output_type": "execute_result"
    }
   ],
   "source": [
    "A@B"
   ]
  },
  {
   "cell_type": "markdown",
   "id": "4095f500",
   "metadata": {},
   "source": [
    "### Norms\n",
    "\n",
    "Vector의 norm은 vector의 크기를 지칭한다. 두가지 종류가 있다\n",
    "\n",
    "1. L1 Norm = $\\sum^{n}_{i=1}{|x_i|}$ 절대값의 합, outlier에 덜 민감하다는 특징을 가지고 있다.\n",
    "2. L2 Norm = $\\sqrt{\\sum^{n}_{i=1}{x^2_i}}$  제곱의 합의 제곱근"
   ]
  },
  {
   "cell_type": "markdown",
   "id": "bd73b552",
   "metadata": {},
   "source": [
    "L2 Norm:"
   ]
  },
  {
   "cell_type": "code",
   "execution_count": 110,
   "id": "17fbdf13",
   "metadata": {},
   "outputs": [
    {
     "data": {
      "text/plain": [
       "tensor(5.)"
      ]
     },
     "execution_count": 110,
     "metadata": {},
     "output_type": "execute_result"
    }
   ],
   "source": [
    "u = torch.tensor([3.0, -4.0])\n",
    "torch.norm(u)"
   ]
  },
  {
   "cell_type": "markdown",
   "id": "05f6f126",
   "metadata": {},
   "source": [
    "L1 Norm:"
   ]
  },
  {
   "cell_type": "code",
   "execution_count": 111,
   "id": "0653a057",
   "metadata": {},
   "outputs": [
    {
     "data": {
      "text/plain": [
       "tensor(7.)"
      ]
     },
     "execution_count": 111,
     "metadata": {},
     "output_type": "execute_result"
    }
   ],
   "source": [
    "torch.abs(u).sum()"
   ]
  },
  {
   "cell_type": "markdown",
   "id": "377141a7",
   "metadata": {},
   "source": [
    "Frobenius Norm (행렬의 norm): 행렬의 각 원소들의 제곱의 합의 제곱근\n",
    "\n",
    "$||X||_F = \\sqrt{\\sum^m_{i=1}\\sum^n_{j=1}{x^2_{ij}}}$"
   ]
  },
  {
   "cell_type": "code",
   "execution_count": 112,
   "id": "319075f0",
   "metadata": {},
   "outputs": [
    {
     "data": {
      "text/plain": [
       "tensor(6.)"
      ]
     },
     "execution_count": 112,
     "metadata": {},
     "output_type": "execute_result"
    }
   ],
   "source": [
    "torch.norm(torch.ones((4, 9)))"
   ]
  },
  {
   "cell_type": "markdown",
   "id": "dfc08f81",
   "metadata": {},
   "source": [
    "## Calculus"
   ]
  },
  {
   "cell_type": "code",
   "execution_count": 113,
   "id": "0cb24161",
   "metadata": {},
   "outputs": [],
   "source": [
    "import matplotlib.pyplot as plt\n",
    "%matplotlib inline\n",
    "import numpy as np"
   ]
  },
  {
   "cell_type": "markdown",
   "id": "c680d6c0",
   "metadata": {},
   "source": [
    "$3x^2-4x$"
   ]
  },
  {
   "cell_type": "code",
   "execution_count": 114,
   "id": "09fc68c9",
   "metadata": {},
   "outputs": [],
   "source": [
    "def f(x):\n",
    "    return 3 * x ** 2 - 4 * x"
   ]
  },
  {
   "cell_type": "code",
   "execution_count": 115,
   "id": "631b9765",
   "metadata": {},
   "outputs": [
    {
     "name": "stdout",
     "output_type": "stream",
     "text": [
      "h=0.10000, numerical limit=2.30000\n",
      "h=0.01000, numerical limit=2.03000\n",
      "h=0.00100, numerical limit=2.00300\n",
      "h=0.00010, numerical limit=2.00030\n",
      "h=0.00001, numerical limit=2.00003\n"
     ]
    }
   ],
   "source": [
    "for h in 10.0**np.arange(-1, -6, -1):\n",
    "    print(f'h={h:.5f}, numerical limit={(f(1+h)-f(1))/h:.5f}')"
   ]
  },
  {
   "cell_type": "markdown",
   "id": "7e506e86",
   "metadata": {},
   "source": [
    "## Automatic Differentiation"
   ]
  },
  {
   "cell_type": "code",
   "execution_count": 121,
   "id": "77f126ca",
   "metadata": {},
   "outputs": [
    {
     "data": {
      "text/plain": [
       "tensor([0., 1., 2., 3.])"
      ]
     },
     "execution_count": 121,
     "metadata": {},
     "output_type": "execute_result"
    }
   ],
   "source": [
    "x = torch.arange(4.0)\n",
    "x"
   ]
  },
  {
   "cell_type": "markdown",
   "id": "743402c4",
   "metadata": {},
   "source": [
    "$y=2\\textbf{x}^T\\textbf{x}$ 을 미분해보기"
   ]
  },
  {
   "cell_type": "code",
   "execution_count": 123,
   "id": "d35d2789",
   "metadata": {},
   "outputs": [],
   "source": [
    "x.requires_grad_(True)\n",
    "x.grad"
   ]
  },
  {
   "cell_type": "code",
   "execution_count": 124,
   "id": "69ff0448",
   "metadata": {},
   "outputs": [
    {
     "data": {
      "text/plain": [
       "tensor(28., grad_fn=<MulBackward0>)"
      ]
     },
     "execution_count": 124,
     "metadata": {},
     "output_type": "execute_result"
    }
   ],
   "source": [
    "y = 2 * torch.dot(x, x)\n",
    "y"
   ]
  },
  {
   "cell_type": "code",
   "execution_count": 126,
   "id": "f97cabaf",
   "metadata": {},
   "outputs": [],
   "source": [
    "y.backward()"
   ]
  },
  {
   "cell_type": "code",
   "execution_count": 128,
   "id": "1316a34d",
   "metadata": {},
   "outputs": [
    {
     "data": {
      "text/plain": [
       "tensor([ 0.,  4.,  8., 12.])"
      ]
     },
     "execution_count": 128,
     "metadata": {},
     "output_type": "execute_result"
    }
   ],
   "source": [
    "x.grad"
   ]
  },
  {
   "cell_type": "markdown",
   "id": "a3c7a3ba",
   "metadata": {},
   "source": [
    "알아서 gradient 값을 계산한 것을 볼 수 있다."
   ]
  },
  {
   "cell_type": "code",
   "execution_count": 130,
   "id": "9bf4ca31",
   "metadata": {},
   "outputs": [
    {
     "data": {
      "text/plain": [
       "tensor([1., 1., 1., 1.])"
      ]
     },
     "execution_count": 130,
     "metadata": {},
     "output_type": "execute_result"
    }
   ],
   "source": [
    "x.grad.zero_() # reset gradient\n",
    "y = x.sum()\n",
    "y.backward()\n",
    "x.grad"
   ]
  },
  {
   "cell_type": "code",
   "execution_count": null,
   "id": "8d0e5ea0",
   "metadata": {},
   "outputs": [],
   "source": []
  },
  {
   "cell_type": "code",
   "execution_count": null,
   "id": "3c8549b8",
   "metadata": {},
   "outputs": [],
   "source": []
  },
  {
   "cell_type": "code",
   "execution_count": null,
   "id": "35f9e24f",
   "metadata": {},
   "outputs": [],
   "source": []
  },
  {
   "cell_type": "code",
   "execution_count": null,
   "id": "3924592d",
   "metadata": {},
   "outputs": [],
   "source": []
  },
  {
   "cell_type": "code",
   "execution_count": null,
   "id": "d1665af5",
   "metadata": {},
   "outputs": [],
   "source": []
  }
 ],
 "metadata": {
  "kernelspec": {
   "display_name": "Python 3 (ipykernel)",
   "language": "python",
   "name": "python3"
  },
  "language_info": {
   "codemirror_mode": {
    "name": "ipython",
    "version": 3
   },
   "file_extension": ".py",
   "mimetype": "text/x-python",
   "name": "python",
   "nbconvert_exporter": "python",
   "pygments_lexer": "ipython3",
   "version": "3.9.16"
  }
 },
 "nbformat": 4,
 "nbformat_minor": 5
}
