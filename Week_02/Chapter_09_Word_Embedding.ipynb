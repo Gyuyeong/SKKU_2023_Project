{
  "nbformat": 4,
  "nbformat_minor": 0,
  "metadata": {
    "colab": {
      "provenance": []
    },
    "kernelspec": {
      "name": "python3",
      "display_name": "Python 3"
    },
    "language_info": {
      "name": "python"
    },
    "accelerator": "GPU",
    "gpuClass": "standard"
  },
  "cells": [
    {
      "cell_type": "markdown",
      "source": [
        "# Word Embedding\n",
        "\n",
        "단어를 백터로 표현하는 방법. 단어를 밀집 표현으로 변환.\n",
        "\n",
        "1. Sparse Representation: One-Hot Vector처럼 대부분의 값을 0으로 표현하는 방법.\n",
        "- 단어 집합이 클수록 벡터의 크기가 엄청 커진다는 단점. 심지어 대부분이 비어있다.\n",
        "- 단어의 의미를 표현하지 못함\n",
        "\n",
        "2. Dense Representation: 단어 집합의 크기에 의존하지 않고 사용자가 지정해준 크기에 벡터의 크기를 맞춰서 표현하는 방법.\n",
        "- Sparse Representation과 달리, 벡터가 다양한 실수값으로 채워짐. 또한 차원도 sparse representation 때보다도 더 줄일 수 있고, 그 결과 값들이 밀집되어 있다고 해서 이렇게 불림."
      ],
      "metadata": {
        "id": "yBaGxFBP0ebT"
      }
    },
    {
      "cell_type": "markdown",
      "source": [
        "## Word Embedding\n",
        "\n",
        "- 단어를 Dense Vector의 형태로 표현하는 방법. 이 벡터는 word embedding의 결과로 나온 벡터여서 embedded vector라고도 부름.\n",
        "- 가중치를 학습하는 것과 비슷하게 embedded vector 내에 있는 값들은 초기에 랜덤하게 주어져 있고, 인공신경망의 학습을 통해 각 단어에게 가장 적합한 벡터를 찾아나간다."
      ],
      "metadata": {
        "id": "hKaVSsus2crT"
      }
    },
    {
      "cell_type": "markdown",
      "source": [
        "## Word2Vec\n",
        "\n",
        "각 단어 벡터 간 유의미한 유사도를 반영할 수 있도록 단어의 의미를 수치화하는 방법. 단어들 간에 산술연산이 가능한 것처럼 보이게 된다.\n",
        "\n",
        "ex) \"한국\" - \"서울\" + \"도쿄\" = \"일본\"\n",
        "\n",
        "위와 같은 연산이 된다는 것. 단어들 간의 유사성을 기반으로 연산을 하는 것처럼 보임."
      ],
      "metadata": {
        "id": "tnFhjTBU3EAE"
      }
    },
    {
      "cell_type": "markdown",
      "source": [
        "## Distributed Representation\n",
        "\n",
        "단어의 의미를 다차원 공간에 벡터화하는 방법을 사용해 표현하는 방법. 분산 표현을 이용하여 단어 간 의미적 유사성을 벡터화하는 작업을 word embedding이라 하고 이렇게 표현된 벡터를 embedded vector이라고 함.\n",
        "\n",
        "- **비슷한 문맥에서 등장하는 단어들은 비슷한 의미를 가진다**는 가설을 토대로 만들어진 표현방법.\n",
        "- 사용자가 제한한 저차원 내에서 단어의 의미를 여러 차원에 분산하여 표현해 놓으면 나중에 유의미한 유사도를 계산 가능. 이를 학습하는 대표적인 방법이 Word2Vec이다."
      ],
      "metadata": {
        "id": "aOhV6MBF4DDN"
      }
    },
    {
      "cell_type": "markdown",
      "source": [
        "## CBOW (Continuous Bag of Words) and Skip-Gram\n",
        "\n",
        "- CBOW: 주변에 있는 단어들을 입력으로 중간에 있어야 할 단어를 예측 이때, 중심 단어를 center word, 주변 단어를 context word라고 부른다.\n",
        "- Skip-Gram: 중간에 있는 단어들을 입력으로 주변을 예측\n",
        "\n",
        "### CBOW\n",
        "\n",
        "중심 단어 예측 위해 주변 단어를 앞뒤로 몇개씩 볼지를 결정해야함. 이 범위를 **window**라고 함. 이 window를 첫 단어에 올려놓고 옆으로 한 단어씩 움직이면서 데이터셋을 만든다. 이를 **window sliding**이라고 부른다. Word2Vec의 입력은 One-Hot Vector로 표현되어야 하기에 모든 데이터들은 one-hot vector로 표현된다.\n",
        "각 데이터셋은 center word를 기준으로 window의 크기만큼 앞뒤로 context word를 가진다. 예를 들어 window = 2이면 하나의 데이터는 4개의 context word와 하나의 center word가 묶여 있게 되는데, 이 중 center word가 학습할 때 사용하는 **label**이 된다.\n",
        "\n",
        "Word2Vec은 입력과 출력이 모두 one-hot vector이고 중간에 Projection layer이라는 층이 하나있다. Activation function은 없다.\n",
        "\n",
        "Word2Vec은 총 3개의 Layer이 있다. \n",
        "\n",
        "- Input Layer: One-hot vector로 인코딩돤 단어들을 받는다. 이 때 window의 크기에 따라 사용하는 단어의 수가 결정된다. 예를 들어 window 크기가 2이면, 앞뒤로 2개씩 총 4개의 단어를 입력값으로 사용한다.\n",
        "\n",
        "- Projection Layer: One-hot Vector를 embedded vector로 바꾸는 층이다. Input layer와 projection layer 사이에 있는 행렬을 **lookup table**이라고 한다. Lookup table이 된 이유는 실제로 one-hot vector를 행렬과 곱하면, **실제로는 1이 써있는 위치를 index로 사용해서 행렬의 행을 찾는 것과 같다**. 예를 들어 [0, 0, 1, 0] 이면, 가중치 행렬의 3번째 행에 그 단어의 embedded vector를 찾을 수 있다.\n",
        "\n",
        "- Output Layer: Softmax function을 activation function으로 사용하고 projection layer과 output layer 사이에도 가중치 행렬이 존재하는데, 이 행렬은 lookup table의 행렬과는 완전 별개의 것으로 학습된다. Softmax를 통해 center word에 해당하는 위치의 확률값이 가장 크게 나와야 예측에 성공하는 것이다. \n",
        "\n",
        "실제로 계산될 때는 input에 사용된 단어들의 embedded vector의 평균을 구해서 벡터를 하나 만들고, 이 평균벡터를 가중치 행렬과 곱한 뒤, 그 결과에 softmax를 추가해서 결과를 도출하게 된다.\n",
        "\n",
        "Loss function으로는 cross entropy를 사용하고, backward propagation을 통해 두개의 가중치 행렬들이 업데이트된다.\n",
        "\n",
        "### Skip-Gram\n",
        "\n",
        "중심 단어로 주변 단어를 예측하는 방법이다. 단어를 window sliding하면서 묶어낼 때는, 중심 단어를 기준으로 주변 단어에 해당하는 단어들을 하나씩 짝을 지어서 데이터를 만든다. \n",
        "\n",
        "- Input Layer: 하나의 중심 단어의 one-hot vector를 받는다. \n",
        "- Projection Layer: embedded vector를 만드는 단계이다. CBOW와는 달리 이후에 벡터들 간의 평균을 구하는 작업이 없다. \n",
        "- Output Layer: 주변 단어들을 전부 예측값으로 내놓는 층이다. 각 단어들도 one-hot vector로 나온다.\n",
        "\n",
        "성능은 Skip-Gram이 조금 더 좋다고 알려져 있다."
      ],
      "metadata": {
        "id": "kp9_-3yr5HDL"
      }
    },
    {
      "cell_type": "markdown",
      "source": [
        "Word2Vec은 오로지 워드 임베딩을 목적으로 진행되는 것이기 목적이기에 중심 단어를 예측한다. 이는 중심 단어 주위에 있는 단어들도 전부 고려한다는 것으로 한쪽 방향으로만 단어들을 읽어들여서 다음 단어를 예측하는 피드 포워드 신경망 언어 모델(NNLM)보다 더 정확하다.\n",
        "\n",
        "또한 연산의 측면에서 봤을 때 Word2Vec은 추후에 서술할 기법들을 토대로 속도도 개선했다."
      ],
      "metadata": {
        "id": "7JZ-POmu5wtF"
      }
    },
    {
      "cell_type": "markdown",
      "source": [
        "## 영어 Word2Vec 만들기"
      ],
      "metadata": {
        "id": "pKDpN-CZ6lwN"
      }
    },
    {
      "cell_type": "code",
      "execution_count": null,
      "metadata": {
        "id": "nNCUov8S0XQ3"
      },
      "outputs": [],
      "source": [
        "import re\n",
        "import urllib.request\n",
        "import zipfile\n",
        "from lxml import etree\n",
        "from nltk.tokenize import word_tokenize, sent_tokenize"
      ]
    },
    {
      "cell_type": "code",
      "source": [
        "urllib.request.urlretrieve(\"https://raw.githubusercontent.com/ukairia777/tensorflow-nlp-tutorial/main/09.%20Word%20Embedding/dataset/ted_en-20160408.xml\", filename=\"ted_en-20160408.xml\")"
      ],
      "metadata": {
        "colab": {
          "base_uri": "https://localhost:8080/"
        },
        "id": "56nUMavI6xZf",
        "outputId": "394ed696-266c-41cc-c27a-362beeb5d843"
      },
      "execution_count": null,
      "outputs": [
        {
          "output_type": "execute_result",
          "data": {
            "text/plain": [
              "('ted_en-20160408.xml', <http.client.HTTPMessage at 0x7f454e6c4af0>)"
            ]
          },
          "metadata": {},
          "execution_count": 3
        }
      ]
    },
    {
      "cell_type": "markdown",
      "source": [
        "### Preprocessing\n",
        "\n",
        "XML 문서에는 tag 기호 <> </> 등이 있고, 이중 <content> </content> 사이에 있는 데이터를 뽑아내야 한다."
      ],
      "metadata": {
        "id": "bWuXg8i7678C"
      }
    },
    {
      "cell_type": "code",
      "source": [
        "import nltk\n",
        "\n",
        "nltk.download('punkt')\n",
        "\n",
        "targetXML = open('ted_en-20160408.xml', 'r', encoding='UTF8')\n",
        "target_text = etree.parse(targetXML)\n",
        "\n",
        "# xml 파일로부터 <content>와 </content> 사이의 내용만 가져온다.\n",
        "parse_text = '\\n'.join(target_text.xpath('//content/text()'))\n",
        "\n",
        "# 정규 표현식의 sub 모듈을 통해 content 중간에 등장하는 (Audio), (Laughter) 등의 배경음 부분을 제거.\n",
        "# 해당 코드는 괄호로 구성된 내용을 제거.\n",
        "content_text = re.sub(r'\\([^)]*\\)', '', parse_text)\n",
        "\n",
        "# 입력 코퍼스에 대해서 NLTK를 이용하여 문장 토큰화를 수행.\n",
        "sent_text = sent_tokenize(content_text)\n",
        "\n",
        "# 각 문장에 대해서 구두점을 제거하고, 대문자를 소문자로 변환.\n",
        "normalized_text = []\n",
        "for string in sent_text:\n",
        "     tokens = re.sub(r\"[^a-z0-9]+\", \" \", string.lower())\n",
        "     normalized_text.append(tokens)\n",
        "\n",
        "# 각 문장에 대해서 NLTK를 이용하여 단어 토큰화를 수행.\n",
        "result = [word_tokenize(sentence) for sentence in normalized_text]"
      ],
      "metadata": {
        "colab": {
          "base_uri": "https://localhost:8080/"
        },
        "id": "i8lqIE426xiP",
        "outputId": "d6d4bb51-bb61-4507-c608-6c20b12dbdef"
      },
      "execution_count": null,
      "outputs": [
        {
          "output_type": "stream",
          "name": "stderr",
          "text": [
            "[nltk_data] Downloading package punkt to /root/nltk_data...\n",
            "[nltk_data]   Unzipping tokenizers/punkt.zip.\n"
          ]
        }
      ]
    },
    {
      "cell_type": "code",
      "source": [
        "print('총 샘플의 개수 : {}'.format(len(result)))"
      ],
      "metadata": {
        "colab": {
          "base_uri": "https://localhost:8080/"
        },
        "id": "cMmSNQyn6xlY",
        "outputId": "f17990df-30db-4304-e87f-34943609a174"
      },
      "execution_count": null,
      "outputs": [
        {
          "output_type": "stream",
          "name": "stdout",
          "text": [
            "총 샘플의 개수 : 273424\n"
          ]
        }
      ]
    },
    {
      "cell_type": "markdown",
      "source": [
        "273424개의 문장들이 있다."
      ],
      "metadata": {
        "id": "lSuFGngj86G9"
      }
    },
    {
      "cell_type": "code",
      "source": [
        "for line in result[:3]:\n",
        "    print(line)"
      ],
      "metadata": {
        "colab": {
          "base_uri": "https://localhost:8080/"
        },
        "id": "fgCFWSHP6xoC",
        "outputId": "68651c9f-73e4-4773-f5be-573553a72b8e"
      },
      "execution_count": null,
      "outputs": [
        {
          "output_type": "stream",
          "name": "stdout",
          "text": [
            "['here', 'are', 'two', 'reasons', 'companies', 'fail', 'they', 'only', 'do', 'more', 'of', 'the', 'same', 'or', 'they', 'only', 'do', 'what', 's', 'new']\n",
            "['to', 'me', 'the', 'real', 'real', 'solution', 'to', 'quality', 'growth', 'is', 'figuring', 'out', 'the', 'balance', 'between', 'two', 'activities', 'exploration', 'and', 'exploitation']\n",
            "['both', 'are', 'necessary', 'but', 'it', 'can', 'be', 'too', 'much', 'of', 'a', 'good', 'thing']\n"
          ]
        }
      ]
    },
    {
      "cell_type": "code",
      "source": [
        "from gensim.models import  Word2Vec\n",
        "from gensim.models import KeyedVectors"
      ],
      "metadata": {
        "id": "AoTPbNsP6xq8"
      },
      "execution_count": null,
      "outputs": []
    },
    {
      "cell_type": "markdown",
      "source": [
        "- vector_size = embedded vector의 차원\n",
        "- window = context window 크기\n",
        "- min_count = 단어의 최소 빈도수 제한 (너무 적게 나타나는 단어는 무시함)\n",
        "- workers = 학습을 위한 process 수\n",
        "- sg = 0 (CBOW), 1 (Skip-Gram)"
      ],
      "metadata": {
        "id": "o-6L0HHo93pE"
      }
    },
    {
      "cell_type": "code",
      "source": [
        "model = Word2Vec(sentences=result, vector_size=100, window=5, min_count=5, workers=4, sg=0)"
      ],
      "metadata": {
        "id": "K5V_yTfd6xtY"
      },
      "execution_count": null,
      "outputs": []
    },
    {
      "cell_type": "code",
      "source": [
        "model_result = model.wv.most_similar(\"man\")\n",
        "print(model_result)"
      ],
      "metadata": {
        "colab": {
          "base_uri": "https://localhost:8080/"
        },
        "id": "KnYS28hp6xwQ",
        "outputId": "7c4f5784-3fca-4dca-970f-b9e4f913cd48"
      },
      "execution_count": null,
      "outputs": [
        {
          "output_type": "stream",
          "name": "stdout",
          "text": [
            "[('woman', 0.8780651688575745), ('guy', 0.7990455627441406), ('lady', 0.7957423329353333), ('boy', 0.7694074511528015), ('girl', 0.7691280841827393), ('gentleman', 0.7648752927780151), ('soldier', 0.7345660924911499), ('kid', 0.7104830145835876), ('poet', 0.6726459860801697), ('photographer', 0.6543710827827454)]\n"
          ]
        }
      ]
    },
    {
      "cell_type": "markdown",
      "source": [
        "\"man\"과 유사한 단어들이 나열되어 있다."
      ],
      "metadata": {
        "id": "TkUwsrvu-URS"
      }
    },
    {
      "cell_type": "markdown",
      "source": [
        "학습한 모델 저장 및 불러오기"
      ],
      "metadata": {
        "id": "E8dpNg44-bl1"
      }
    },
    {
      "cell_type": "code",
      "source": [
        "model.wv.save_word2vec_format('eng_w2v')\n",
        "loaded_model = KeyedVectors.load_word2vec_format('eng_w2v')"
      ],
      "metadata": {
        "id": "tifrHrM46xyX"
      },
      "execution_count": null,
      "outputs": []
    },
    {
      "cell_type": "code",
      "source": [
        "model_result = loaded_model.most_similar(\"man\")\n",
        "print(model_result)"
      ],
      "metadata": {
        "colab": {
          "base_uri": "https://localhost:8080/"
        },
        "id": "8pemBagY6x0-",
        "outputId": "331ff359-298e-4a02-d090-ef88b8b496b2"
      },
      "execution_count": null,
      "outputs": [
        {
          "output_type": "stream",
          "name": "stdout",
          "text": [
            "[('woman', 0.8780651688575745), ('guy', 0.7990455627441406), ('lady', 0.7957423329353333), ('boy', 0.7694074511528015), ('girl', 0.7691280841827393), ('gentleman', 0.7648752927780151), ('soldier', 0.7345660924911499), ('kid', 0.7104830145835876), ('poet', 0.6726459860801697), ('photographer', 0.6543710827827454)]\n"
          ]
        }
      ]
    },
    {
      "cell_type": "markdown",
      "source": [
        "## 한국어 Word2Vec"
      ],
      "metadata": {
        "id": "vKReNdT4-5EE"
      }
    },
    {
      "cell_type": "code",
      "source": [
        "pip install konlpy"
      ],
      "metadata": {
        "colab": {
          "base_uri": "https://localhost:8080/"
        },
        "id": "Kr-U18-H_G96",
        "outputId": "76080885-39d5-4dc0-d100-3f0b3ae44345"
      },
      "execution_count": null,
      "outputs": [
        {
          "output_type": "stream",
          "name": "stdout",
          "text": [
            "Looking in indexes: https://pypi.org/simple, https://us-python.pkg.dev/colab-wheels/public/simple/\n",
            "Collecting konlpy\n",
            "  Downloading konlpy-0.6.0-py2.py3-none-any.whl (19.4 MB)\n",
            "\u001b[2K     \u001b[90m━━━━━━━━━━━━━━━━━━━━━━━━━━━━━━━━━━━━━━━━\u001b[0m \u001b[32m19.4/19.4 MB\u001b[0m \u001b[31m32.9 MB/s\u001b[0m eta \u001b[36m0:00:00\u001b[0m\n",
            "\u001b[?25hCollecting JPype1>=0.7.0 (from konlpy)\n",
            "  Downloading JPype1-1.4.1-cp310-cp310-manylinux_2_12_x86_64.manylinux2010_x86_64.whl (465 kB)\n",
            "\u001b[2K     \u001b[90m━━━━━━━━━━━━━━━━━━━━━━━━━━━━━━━━━━━━━━\u001b[0m \u001b[32m465.3/465.3 kB\u001b[0m \u001b[31m40.2 MB/s\u001b[0m eta \u001b[36m0:00:00\u001b[0m\n",
            "\u001b[?25hRequirement already satisfied: lxml>=4.1.0 in /usr/local/lib/python3.10/dist-packages (from konlpy) (4.9.2)\n",
            "Requirement already satisfied: numpy>=1.6 in /usr/local/lib/python3.10/dist-packages (from konlpy) (1.22.4)\n",
            "Requirement already satisfied: packaging in /usr/local/lib/python3.10/dist-packages (from JPype1>=0.7.0->konlpy) (23.1)\n",
            "Installing collected packages: JPype1, konlpy\n",
            "Successfully installed JPype1-1.4.1 konlpy-0.6.0\n"
          ]
        }
      ]
    },
    {
      "cell_type": "code",
      "source": [
        "import pandas as pd\n",
        "import matplotlib.pyplot as plt\n",
        "import urllib.request\n",
        "from gensim.models import Word2Vec\n",
        "from konlpy.tag import Okt"
      ],
      "metadata": {
        "id": "458IVhAj6x3c"
      },
      "execution_count": null,
      "outputs": []
    },
    {
      "cell_type": "code",
      "source": [
        "urllib.request.urlretrieve(\"https://raw.githubusercontent.com/e9t/nsmc/master/ratings.txt\", filename=\"ratings.txt\")"
      ],
      "metadata": {
        "colab": {
          "base_uri": "https://localhost:8080/"
        },
        "id": "Et95jmwU6x5e",
        "outputId": "d9457fa6-eba4-4c0f-b254-8cb5438c3564"
      },
      "execution_count": null,
      "outputs": [
        {
          "output_type": "execute_result",
          "data": {
            "text/plain": [
              "('ratings.txt', <http.client.HTTPMessage at 0x7f45223a7dc0>)"
            ]
          },
          "metadata": {},
          "execution_count": 24
        }
      ]
    },
    {
      "cell_type": "code",
      "source": [
        "train_data = pd.read_table('ratings.txt')"
      ],
      "metadata": {
        "id": "1sZ0l5N8-2x7"
      },
      "execution_count": null,
      "outputs": []
    },
    {
      "cell_type": "code",
      "source": [
        "train_data.head()"
      ],
      "metadata": {
        "colab": {
          "base_uri": "https://localhost:8080/",
          "height": 206
        },
        "id": "3JhglkiZ-21x",
        "outputId": "8f15e0a2-96f7-4305-d437-f54308cb9472"
      },
      "execution_count": null,
      "outputs": [
        {
          "output_type": "execute_result",
          "data": {
            "text/plain": [
              "         id                                           document  label\n",
              "0   8112052                                어릴때보고 지금다시봐도 재밌어요ㅋㅋ      1\n",
              "1   8132799  디자인을 배우는 학생으로, 외국디자이너와 그들이 일군 전통을 통해 발전해가는 문화산...      1\n",
              "2   4655635               폴리스스토리 시리즈는 1부터 뉴까지 버릴께 하나도 없음.. 최고.      1\n",
              "3   9251303  와.. 연기가 진짜 개쩔구나.. 지루할거라고 생각했는데 몰입해서 봤다.. 그래 이런...      1\n",
              "4  10067386                        안개 자욱한 밤하늘에 떠 있는 초승달 같은 영화.      1"
            ],
            "text/html": [
              "\n",
              "  <div id=\"df-8143c98e-8370-423f-8d04-64c141b89fa1\">\n",
              "    <div class=\"colab-df-container\">\n",
              "      <div>\n",
              "<style scoped>\n",
              "    .dataframe tbody tr th:only-of-type {\n",
              "        vertical-align: middle;\n",
              "    }\n",
              "\n",
              "    .dataframe tbody tr th {\n",
              "        vertical-align: top;\n",
              "    }\n",
              "\n",
              "    .dataframe thead th {\n",
              "        text-align: right;\n",
              "    }\n",
              "</style>\n",
              "<table border=\"1\" class=\"dataframe\">\n",
              "  <thead>\n",
              "    <tr style=\"text-align: right;\">\n",
              "      <th></th>\n",
              "      <th>id</th>\n",
              "      <th>document</th>\n",
              "      <th>label</th>\n",
              "    </tr>\n",
              "  </thead>\n",
              "  <tbody>\n",
              "    <tr>\n",
              "      <th>0</th>\n",
              "      <td>8112052</td>\n",
              "      <td>어릴때보고 지금다시봐도 재밌어요ㅋㅋ</td>\n",
              "      <td>1</td>\n",
              "    </tr>\n",
              "    <tr>\n",
              "      <th>1</th>\n",
              "      <td>8132799</td>\n",
              "      <td>디자인을 배우는 학생으로, 외국디자이너와 그들이 일군 전통을 통해 발전해가는 문화산...</td>\n",
              "      <td>1</td>\n",
              "    </tr>\n",
              "    <tr>\n",
              "      <th>2</th>\n",
              "      <td>4655635</td>\n",
              "      <td>폴리스스토리 시리즈는 1부터 뉴까지 버릴께 하나도 없음.. 최고.</td>\n",
              "      <td>1</td>\n",
              "    </tr>\n",
              "    <tr>\n",
              "      <th>3</th>\n",
              "      <td>9251303</td>\n",
              "      <td>와.. 연기가 진짜 개쩔구나.. 지루할거라고 생각했는데 몰입해서 봤다.. 그래 이런...</td>\n",
              "      <td>1</td>\n",
              "    </tr>\n",
              "    <tr>\n",
              "      <th>4</th>\n",
              "      <td>10067386</td>\n",
              "      <td>안개 자욱한 밤하늘에 떠 있는 초승달 같은 영화.</td>\n",
              "      <td>1</td>\n",
              "    </tr>\n",
              "  </tbody>\n",
              "</table>\n",
              "</div>\n",
              "      <button class=\"colab-df-convert\" onclick=\"convertToInteractive('df-8143c98e-8370-423f-8d04-64c141b89fa1')\"\n",
              "              title=\"Convert this dataframe to an interactive table.\"\n",
              "              style=\"display:none;\">\n",
              "        \n",
              "  <svg xmlns=\"http://www.w3.org/2000/svg\" height=\"24px\"viewBox=\"0 0 24 24\"\n",
              "       width=\"24px\">\n",
              "    <path d=\"M0 0h24v24H0V0z\" fill=\"none\"/>\n",
              "    <path d=\"M18.56 5.44l.94 2.06.94-2.06 2.06-.94-2.06-.94-.94-2.06-.94 2.06-2.06.94zm-11 1L8.5 8.5l.94-2.06 2.06-.94-2.06-.94L8.5 2.5l-.94 2.06-2.06.94zm10 10l.94 2.06.94-2.06 2.06-.94-2.06-.94-.94-2.06-.94 2.06-2.06.94z\"/><path d=\"M17.41 7.96l-1.37-1.37c-.4-.4-.92-.59-1.43-.59-.52 0-1.04.2-1.43.59L10.3 9.45l-7.72 7.72c-.78.78-.78 2.05 0 2.83L4 21.41c.39.39.9.59 1.41.59.51 0 1.02-.2 1.41-.59l7.78-7.78 2.81-2.81c.8-.78.8-2.07 0-2.86zM5.41 20L4 18.59l7.72-7.72 1.47 1.35L5.41 20z\"/>\n",
              "  </svg>\n",
              "      </button>\n",
              "      \n",
              "  <style>\n",
              "    .colab-df-container {\n",
              "      display:flex;\n",
              "      flex-wrap:wrap;\n",
              "      gap: 12px;\n",
              "    }\n",
              "\n",
              "    .colab-df-convert {\n",
              "      background-color: #E8F0FE;\n",
              "      border: none;\n",
              "      border-radius: 50%;\n",
              "      cursor: pointer;\n",
              "      display: none;\n",
              "      fill: #1967D2;\n",
              "      height: 32px;\n",
              "      padding: 0 0 0 0;\n",
              "      width: 32px;\n",
              "    }\n",
              "\n",
              "    .colab-df-convert:hover {\n",
              "      background-color: #E2EBFA;\n",
              "      box-shadow: 0px 1px 2px rgba(60, 64, 67, 0.3), 0px 1px 3px 1px rgba(60, 64, 67, 0.15);\n",
              "      fill: #174EA6;\n",
              "    }\n",
              "\n",
              "    [theme=dark] .colab-df-convert {\n",
              "      background-color: #3B4455;\n",
              "      fill: #D2E3FC;\n",
              "    }\n",
              "\n",
              "    [theme=dark] .colab-df-convert:hover {\n",
              "      background-color: #434B5C;\n",
              "      box-shadow: 0px 1px 3px 1px rgba(0, 0, 0, 0.15);\n",
              "      filter: drop-shadow(0px 1px 2px rgba(0, 0, 0, 0.3));\n",
              "      fill: #FFFFFF;\n",
              "    }\n",
              "  </style>\n",
              "\n",
              "      <script>\n",
              "        const buttonEl =\n",
              "          document.querySelector('#df-8143c98e-8370-423f-8d04-64c141b89fa1 button.colab-df-convert');\n",
              "        buttonEl.style.display =\n",
              "          google.colab.kernel.accessAllowed ? 'block' : 'none';\n",
              "\n",
              "        async function convertToInteractive(key) {\n",
              "          const element = document.querySelector('#df-8143c98e-8370-423f-8d04-64c141b89fa1');\n",
              "          const dataTable =\n",
              "            await google.colab.kernel.invokeFunction('convertToInteractive',\n",
              "                                                     [key], {});\n",
              "          if (!dataTable) return;\n",
              "\n",
              "          const docLinkHtml = 'Like what you see? Visit the ' +\n",
              "            '<a target=\"_blank\" href=https://colab.research.google.com/notebooks/data_table.ipynb>data table notebook</a>'\n",
              "            + ' to learn more about interactive tables.';\n",
              "          element.innerHTML = '';\n",
              "          dataTable['output_type'] = 'display_data';\n",
              "          await google.colab.output.renderOutput(dataTable, element);\n",
              "          const docLink = document.createElement('div');\n",
              "          docLink.innerHTML = docLinkHtml;\n",
              "          element.appendChild(docLink);\n",
              "        }\n",
              "      </script>\n",
              "    </div>\n",
              "  </div>\n",
              "  "
            ]
          },
          "metadata": {},
          "execution_count": 27
        }
      ]
    },
    {
      "cell_type": "code",
      "source": [
        "train_data.id.count()"
      ],
      "metadata": {
        "colab": {
          "base_uri": "https://localhost:8080/"
        },
        "id": "u3641dB--25R",
        "outputId": "0564a4f7-fa6b-4e82-bd07-c6a84e0a673e"
      },
      "execution_count": null,
      "outputs": [
        {
          "output_type": "execute_result",
          "data": {
            "text/plain": [
              "200000"
            ]
          },
          "metadata": {},
          "execution_count": 29
        }
      ]
    },
    {
      "cell_type": "code",
      "source": [
        "train_data.isna().values.any()"
      ],
      "metadata": {
        "colab": {
          "base_uri": "https://localhost:8080/"
        },
        "id": "QPIfyDuq-28u",
        "outputId": "1bbbc04f-a83f-45f9-a95d-4423e29e3f82"
      },
      "execution_count": null,
      "outputs": [
        {
          "output_type": "execute_result",
          "data": {
            "text/plain": [
              "True"
            ]
          },
          "metadata": {},
          "execution_count": 30
        }
      ]
    },
    {
      "cell_type": "code",
      "source": [
        "train_data = train_data.dropna(how = \"any\")  # delete all rows that have nan"
      ],
      "metadata": {
        "id": "eyYmdqWO-2_6"
      },
      "execution_count": null,
      "outputs": []
    },
    {
      "cell_type": "code",
      "source": [
        "train_data.id.count()"
      ],
      "metadata": {
        "colab": {
          "base_uri": "https://localhost:8080/"
        },
        "id": "3J9Y5ahP-3DD",
        "outputId": "f41de42d-2907-4c5d-b0b8-0fb501a33671"
      },
      "execution_count": null,
      "outputs": [
        {
          "output_type": "execute_result",
          "data": {
            "text/plain": [
              "199992"
            ]
          },
          "metadata": {},
          "execution_count": 33
        }
      ]
    },
    {
      "cell_type": "code",
      "source": [
        "train_data.document = train_data.document.str.replace(\"[^ㄱ-ㅎㅏ-ㅣ가-힣]\", \"\")\n",
        "train_data.head()"
      ],
      "metadata": {
        "colab": {
          "base_uri": "https://localhost:8080/",
          "height": 242
        },
        "id": "opm3AFLJ-3GN",
        "outputId": "4b25255b-de34-4327-d56d-df623704869e"
      },
      "execution_count": null,
      "outputs": [
        {
          "output_type": "stream",
          "name": "stderr",
          "text": [
            "<ipython-input-34-37135b16b4a6>:1: FutureWarning: The default value of regex will change from True to False in a future version.\n",
            "  train_data.document = train_data.document.str.replace(\"[^ㄱ-ㅎㅏ-ㅣ가-힣]\", \"\")\n"
          ]
        },
        {
          "output_type": "execute_result",
          "data": {
            "text/plain": [
              "         id                                           document  label\n",
              "0   8112052                                  어릴때보고지금다시봐도재밌어요ㅋㅋ      1\n",
              "1   8132799  디자인을배우는학생으로외국디자이너와그들이일군전통을통해발전해가는문화산업이부러웠는데사실우...      1\n",
              "2   4655635                          폴리스스토리시리즈는부터뉴까지버릴께하나도없음최고      1\n",
              "3   9251303              와연기가진짜개쩔구나지루할거라고생각했는데몰입해서봤다그래이런게진짜영화지      1\n",
              "4  10067386                                안개자욱한밤하늘에떠있는초승달같은영화      1"
            ],
            "text/html": [
              "\n",
              "  <div id=\"df-679e815b-8df9-4973-85f3-dcd016b8bb05\">\n",
              "    <div class=\"colab-df-container\">\n",
              "      <div>\n",
              "<style scoped>\n",
              "    .dataframe tbody tr th:only-of-type {\n",
              "        vertical-align: middle;\n",
              "    }\n",
              "\n",
              "    .dataframe tbody tr th {\n",
              "        vertical-align: top;\n",
              "    }\n",
              "\n",
              "    .dataframe thead th {\n",
              "        text-align: right;\n",
              "    }\n",
              "</style>\n",
              "<table border=\"1\" class=\"dataframe\">\n",
              "  <thead>\n",
              "    <tr style=\"text-align: right;\">\n",
              "      <th></th>\n",
              "      <th>id</th>\n",
              "      <th>document</th>\n",
              "      <th>label</th>\n",
              "    </tr>\n",
              "  </thead>\n",
              "  <tbody>\n",
              "    <tr>\n",
              "      <th>0</th>\n",
              "      <td>8112052</td>\n",
              "      <td>어릴때보고지금다시봐도재밌어요ㅋㅋ</td>\n",
              "      <td>1</td>\n",
              "    </tr>\n",
              "    <tr>\n",
              "      <th>1</th>\n",
              "      <td>8132799</td>\n",
              "      <td>디자인을배우는학생으로외국디자이너와그들이일군전통을통해발전해가는문화산업이부러웠는데사실우...</td>\n",
              "      <td>1</td>\n",
              "    </tr>\n",
              "    <tr>\n",
              "      <th>2</th>\n",
              "      <td>4655635</td>\n",
              "      <td>폴리스스토리시리즈는부터뉴까지버릴께하나도없음최고</td>\n",
              "      <td>1</td>\n",
              "    </tr>\n",
              "    <tr>\n",
              "      <th>3</th>\n",
              "      <td>9251303</td>\n",
              "      <td>와연기가진짜개쩔구나지루할거라고생각했는데몰입해서봤다그래이런게진짜영화지</td>\n",
              "      <td>1</td>\n",
              "    </tr>\n",
              "    <tr>\n",
              "      <th>4</th>\n",
              "      <td>10067386</td>\n",
              "      <td>안개자욱한밤하늘에떠있는초승달같은영화</td>\n",
              "      <td>1</td>\n",
              "    </tr>\n",
              "  </tbody>\n",
              "</table>\n",
              "</div>\n",
              "      <button class=\"colab-df-convert\" onclick=\"convertToInteractive('df-679e815b-8df9-4973-85f3-dcd016b8bb05')\"\n",
              "              title=\"Convert this dataframe to an interactive table.\"\n",
              "              style=\"display:none;\">\n",
              "        \n",
              "  <svg xmlns=\"http://www.w3.org/2000/svg\" height=\"24px\"viewBox=\"0 0 24 24\"\n",
              "       width=\"24px\">\n",
              "    <path d=\"M0 0h24v24H0V0z\" fill=\"none\"/>\n",
              "    <path d=\"M18.56 5.44l.94 2.06.94-2.06 2.06-.94-2.06-.94-.94-2.06-.94 2.06-2.06.94zm-11 1L8.5 8.5l.94-2.06 2.06-.94-2.06-.94L8.5 2.5l-.94 2.06-2.06.94zm10 10l.94 2.06.94-2.06 2.06-.94-2.06-.94-.94-2.06-.94 2.06-2.06.94z\"/><path d=\"M17.41 7.96l-1.37-1.37c-.4-.4-.92-.59-1.43-.59-.52 0-1.04.2-1.43.59L10.3 9.45l-7.72 7.72c-.78.78-.78 2.05 0 2.83L4 21.41c.39.39.9.59 1.41.59.51 0 1.02-.2 1.41-.59l7.78-7.78 2.81-2.81c.8-.78.8-2.07 0-2.86zM5.41 20L4 18.59l7.72-7.72 1.47 1.35L5.41 20z\"/>\n",
              "  </svg>\n",
              "      </button>\n",
              "      \n",
              "  <style>\n",
              "    .colab-df-container {\n",
              "      display:flex;\n",
              "      flex-wrap:wrap;\n",
              "      gap: 12px;\n",
              "    }\n",
              "\n",
              "    .colab-df-convert {\n",
              "      background-color: #E8F0FE;\n",
              "      border: none;\n",
              "      border-radius: 50%;\n",
              "      cursor: pointer;\n",
              "      display: none;\n",
              "      fill: #1967D2;\n",
              "      height: 32px;\n",
              "      padding: 0 0 0 0;\n",
              "      width: 32px;\n",
              "    }\n",
              "\n",
              "    .colab-df-convert:hover {\n",
              "      background-color: #E2EBFA;\n",
              "      box-shadow: 0px 1px 2px rgba(60, 64, 67, 0.3), 0px 1px 3px 1px rgba(60, 64, 67, 0.15);\n",
              "      fill: #174EA6;\n",
              "    }\n",
              "\n",
              "    [theme=dark] .colab-df-convert {\n",
              "      background-color: #3B4455;\n",
              "      fill: #D2E3FC;\n",
              "    }\n",
              "\n",
              "    [theme=dark] .colab-df-convert:hover {\n",
              "      background-color: #434B5C;\n",
              "      box-shadow: 0px 1px 3px 1px rgba(0, 0, 0, 0.15);\n",
              "      filter: drop-shadow(0px 1px 2px rgba(0, 0, 0, 0.3));\n",
              "      fill: #FFFFFF;\n",
              "    }\n",
              "  </style>\n",
              "\n",
              "      <script>\n",
              "        const buttonEl =\n",
              "          document.querySelector('#df-679e815b-8df9-4973-85f3-dcd016b8bb05 button.colab-df-convert');\n",
              "        buttonEl.style.display =\n",
              "          google.colab.kernel.accessAllowed ? 'block' : 'none';\n",
              "\n",
              "        async function convertToInteractive(key) {\n",
              "          const element = document.querySelector('#df-679e815b-8df9-4973-85f3-dcd016b8bb05');\n",
              "          const dataTable =\n",
              "            await google.colab.kernel.invokeFunction('convertToInteractive',\n",
              "                                                     [key], {});\n",
              "          if (!dataTable) return;\n",
              "\n",
              "          const docLinkHtml = 'Like what you see? Visit the ' +\n",
              "            '<a target=\"_blank\" href=https://colab.research.google.com/notebooks/data_table.ipynb>data table notebook</a>'\n",
              "            + ' to learn more about interactive tables.';\n",
              "          element.innerHTML = '';\n",
              "          dataTable['output_type'] = 'display_data';\n",
              "          await google.colab.output.renderOutput(dataTable, element);\n",
              "          const docLink = document.createElement('div');\n",
              "          docLink.innerHTML = docLinkHtml;\n",
              "          element.appendChild(docLink);\n",
              "        }\n",
              "      </script>\n",
              "    </div>\n",
              "  </div>\n",
              "  "
            ]
          },
          "metadata": {},
          "execution_count": 34
        }
      ]
    },
    {
      "cell_type": "code",
      "source": [
        "from tqdm import tqdm\n",
        "\n",
        "stopwords = ['의', '가', '이', '은', '들', '는', '좀', '잘', '걍', '과', '도', '를', '으로', '자', '에', '와', '한', '하다']\n",
        "\n",
        "okt = Okt()\n",
        "\n",
        "tokenized_data = []\n",
        "for sentence in tqdm(train_data.document):\n",
        "    tokenized_sentence = okt.morphs(sentence, stem=True)\n",
        "    stopwords_removed_sentence = [word for word in tokenized_sentence if not word in stopwords]\n",
        "    tokenized_data.append(stopwords_removed_sentence)"
      ],
      "metadata": {
        "colab": {
          "base_uri": "https://localhost:8080/"
        },
        "id": "60kdghEw-3Jb",
        "outputId": "173af411-fb60-45a1-b7a8-50a384382e5a"
      },
      "execution_count": null,
      "outputs": [
        {
          "output_type": "stream",
          "name": "stderr",
          "text": [
            "100%|██████████| 199992/199992 [2:59:28<00:00, 18.57it/s]\n"
          ]
        }
      ]
    },
    {
      "cell_type": "code",
      "source": [
        "# 리뷰 길이 분포 확인\n",
        "print('리뷰의 최대 길이 :',max(len(review) for review in tokenized_data))\n",
        "print('리뷰의 평균 길이 :',sum(map(len, tokenized_data))/len(tokenized_data))\n",
        "plt.hist([len(review) for review in tokenized_data], bins=50)\n",
        "plt.xlabel('length of samples')\n",
        "plt.ylabel('number of samples')\n",
        "plt.show()"
      ],
      "metadata": {
        "colab": {
          "base_uri": "https://localhost:8080/",
          "height": 485
        },
        "id": "L09dXfDx-3Ml",
        "outputId": "01542dac-1e9d-413d-d42a-8f6738be6c36"
      },
      "execution_count": null,
      "outputs": [
        {
          "output_type": "stream",
          "name": "stdout",
          "text": [
            "리뷰의 최대 길이 : 68\n",
            "리뷰의 평균 길이 : 10.669446777871116\n"
          ]
        },
        {
          "output_type": "display_data",
          "data": {
            "text/plain": [
              "<Figure size 640x480 with 1 Axes>"
            ],
            "image/png": "[encoded data removed]"
          },
          "metadata": {}
        }
      ]
    },
    {
      "cell_type": "code",
      "source": [
        "from gensim.models import Word2Vec\n",
        "\n",
        "model = Word2Vec(sentences = tokenized_data, vector_size = 100, window = 5, min_count = 5, workers = 4, sg = 0)"
      ],
      "metadata": {
        "id": "uO6Tr2f6sbDP"
      },
      "execution_count": null,
      "outputs": []
    },
    {
      "cell_type": "code",
      "source": [
        "# 완성된 임베딩 매트릭스의 크기 확인\n",
        "model.wv.vectors.shape"
      ],
      "metadata": {
        "colab": {
          "base_uri": "https://localhost:8080/"
        },
        "id": "PWf5LIF4sbhP",
        "outputId": "b08911c7-088d-432a-bea8-c7714ab56d53"
      },
      "execution_count": null,
      "outputs": [
        {
          "output_type": "execute_result",
          "data": {
            "text/plain": [
              "(17947, 100)"
            ]
          },
          "metadata": {},
          "execution_count": 82
        }
      ]
    },
    {
      "cell_type": "code",
      "source": [
        "print(model.wv.most_similar(\"최민식\"))"
      ],
      "metadata": {
        "colab": {
          "base_uri": "https://localhost:8080/"
        },
        "id": "2A8OXj1ssbmd",
        "outputId": "f2633b44-d2eb-4a5f-e637-e162c268816a"
      },
      "execution_count": null,
      "outputs": [
        {
          "output_type": "stream",
          "name": "stdout",
          "text": [
            "[('양동근', 0.86664217710495), ('안성기', 0.8583947420120239), ('이정재', 0.8543632626533508), ('신들리다', 0.8510591387748718), ('한석규', 0.8502815961837769), ('채민서', 0.8469075560569763), ('엄태웅', 0.8427112102508545), ('김명민', 0.8418781757354736), ('유오성', 0.8406359553337097), ('송강호', 0.8379599452018738)]\n"
          ]
        }
      ]
    },
    {
      "cell_type": "code",
      "source": [
        "print(model.wv.most_similar(\"히어로\"))"
      ],
      "metadata": {
        "colab": {
          "base_uri": "https://localhost:8080/"
        },
        "id": "_h348eQLsbpW",
        "outputId": "82a1fdd8-4a3d-4967-c6a0-490fd6889699"
      },
      "execution_count": null,
      "outputs": [
        {
          "output_type": "stream",
          "name": "stdout",
          "text": [
            "[('느와르', 0.8420259356498718), ('호러', 0.8366925716400146), ('블록버스터', 0.8299514055252075), ('무비', 0.82478928565979), ('무협', 0.824350893497467), ('슬래셔', 0.8183257579803467), ('홍콩', 0.8139325380325317), ('로코', 0.804017186164856), ('물', 0.8002075552940369), ('멜로', 0.789430558681488)]\n"
          ]
        }
      ]
    },
    {
      "cell_type": "markdown",
      "source": [
        "word embedded matrix 모델을 저장한다."
      ],
      "metadata": {
        "id": "RqzpsGEfumsE"
      }
    },
    {
      "cell_type": "code",
      "source": [
        "model.wv.save_word2vec_format('kor_w2v')"
      ],
      "metadata": {
        "id": "XPr8dXuYs8Xm"
      },
      "execution_count": null,
      "outputs": []
    },
    {
      "cell_type": "code",
      "source": [
        "loaded_model = KeyedVectors.load_word2vec_format('kor_w2v')\n",
        "model_result = loaded_model.most_similar(\"최민식\")\n",
        "print(model_result)"
      ],
      "metadata": {
        "colab": {
          "base_uri": "https://localhost:8080/"
        },
        "id": "8oDZtR5mtGAg",
        "outputId": "fde665a7-0989-49be-e9ba-5d016413e92d"
      },
      "execution_count": null,
      "outputs": [
        {
          "output_type": "stream",
          "name": "stdout",
          "text": [
            "[('양동근', 0.86664217710495), ('안성기', 0.8583947420120239), ('이정재', 0.8543632626533508), ('신들리다', 0.8510591387748718), ('한석규', 0.8502815961837769), ('채민서', 0.8469075560569763), ('엄태웅', 0.8427112102508545), ('김명민', 0.8418781757354736), ('유오성', 0.8406359553337097), ('송강호', 0.8379599452018738)]\n"
          ]
        }
      ]
    },
    {
      "cell_type": "markdown",
      "source": [
        "## Negative Sampling\n",
        "\n",
        "Word2Vec은 단어 집합의 크기가 매우 크다면 학습하기 꽤 무거움. 단어 집합에 있는 모든 단어들에 대해 backward propagation을 통해 학습해야 하기 때문에 매우 오래걸림. 그런데 모든 단어들 중 중심 단어와 별 상관이 없어 보이는 단어들의 embedding 값까지 굳이 학습할 필요는 없을지도?\n",
        "\n",
        "Negative Sampling은 이 점에 착안해서 일부 단어 집합에만 집중하는 방법이다. 하나의 중심 단어를 기준으로 주변 단어들로 이루어진 훨씬 작은 단어 집합을 만들고 주변 단어들을 Positive, 그외 랜덤한 단어들을 Negative로 레이블링하면 binary classification 문제가 된다. 이는 연산량의 측면에서 훨씬 효율적이다."
      ],
      "metadata": {
        "id": "TkTmOoNXV_0F"
      }
    },
    {
      "cell_type": "markdown",
      "source": [
        "## Skip-Gram with Negative Sampling (SGNS)\n",
        "\n",
        "Skip-Gram은 중심 단어로부터 주변 단어들을 예측한다. 하지만 Negative Sampling을 이용할 경우, 조금 다르게 한다. 입력 데이터로 중심 단어와 주변 단어를 전부 입력한다. 그리고 이 입력된 단어들이 실제로 window 내에 모여 있을 확률을 예측한다. \n",
        "\n",
        "학습에 필요한 데이터셋도, 기존의 Skip-Gram이 사용했던 중심값이 데이터이고 주변 데이터 하나가 레이블이 아닌, 중심값과 주변값 한 쌍 씩 입력으로 사용하고 레이블로는 이들이 window 내에 있었다면 1, 그 외는 0으로 해서 데이터셋을 만든다.\n",
        "이 다음에는 window 내에 있지 않았던 단어들을 중심 단어들과 엮어서 추가로 레이블이 0인 데이터들을 만들어낸다.\n",
        "\n",
        "그 후에는 embedding matrix(look up table)을 2개를 준비하는데, 하나는 중심단어들을 위한거고, 다른 하나는 주변 단어들을 위한 거다. 그 후, 중심 단어와 주변 단어 lookup table에서 embedding vector를 하나씩 뽑아서 내적해서 예측값을 계산한다. 그리고 오차를 통해 backward propagation을 해서 lookup table을 업데이트한다.\n",
        "\n",
        "학습 후에 생긴 2개의 embedded matrix 중 중심 단어 lookup table만 embedded matrix로 사용할 수 있고, 아니면 둘을 concatenate해서 사용하는 것도 가능하다."
      ],
      "metadata": {
        "id": "MP_Vo6-_XIHF"
      }
    },
    {
      "cell_type": "markdown",
      "source": [
        "## Negative Sampling 으로 데이터셋 구성하기"
      ],
      "metadata": {
        "id": "7xr_KbbSZN2Q"
      }
    },
    {
      "cell_type": "markdown",
      "source": [
        "1. 데이터 전처리\n"
      ],
      "metadata": {
        "id": "e_7o_6auZUPL"
      }
    },
    {
      "cell_type": "code",
      "source": [
        "import pandas as pd\n",
        "import numpy as np\n",
        "import nltk\n",
        "from nltk.corpus import stopwords\n",
        "from sklearn.datasets import fetch_20newsgroups\n",
        "from tensorflow.keras.preprocessing.text import Tokenizer"
      ],
      "metadata": {
        "id": "manyr2X6-3Pe"
      },
      "execution_count": 1,
      "outputs": []
    },
    {
      "cell_type": "code",
      "source": [
        "dataset = fetch_20newsgroups(shuffle=True, random_state=1, remove=('headers', 'footers', 'quotes'))\n",
        "documents = dataset.data"
      ],
      "metadata": {
        "id": "ATAbHqyL-3Sc"
      },
      "execution_count": 2,
      "outputs": []
    },
    {
      "cell_type": "markdown",
      "source": [
        "documents 에 있는 내용들만 사용한다. 알파벳 이외의 모든 문자는 지우고 길이가 3 미만인 단어들은 없애고 전부 소문자로 만들어준다."
      ],
      "metadata": {
        "id": "MmkE6OGI-RDU"
      }
    },
    {
      "cell_type": "code",
      "source": [
        "news_df = pd.DataFrame({'document':documents})\n",
        "news_df['clean_doc'] = news_df.document.str.replace(\"[^a-zA-Z]\", \" \")\n",
        "news_df['clean_doc'] = news_df['clean_doc'].apply(lambda x: ' '.join([w for w in x.split() if len(w) > 3]))\n",
        "news_df['clean_doc'] = news_df['clean_doc'].apply(lambda x: x.lower())"
      ],
      "metadata": {
        "colab": {
          "base_uri": "https://localhost:8080/"
        },
        "id": "Z0UxQkIY-3Ve",
        "outputId": "ee7d0f9f-6383-44e2-cd5f-96c547383333"
      },
      "execution_count": 3,
      "outputs": [
        {
          "output_type": "stream",
          "name": "stderr",
          "text": [
            "<ipython-input-3-d2143aac9296>:2: FutureWarning: The default value of regex will change from True to False in a future version.\n",
            "  news_df['clean_doc'] = news_df.document.str.replace(\"[^a-zA-Z]\", \" \")\n"
          ]
        }
      ]
    },
    {
      "cell_type": "markdown",
      "source": [
        "결측치를 제거한다."
      ],
      "metadata": {
        "id": "Mau1l6FH-lEt"
      }
    },
    {
      "cell_type": "code",
      "source": [
        "news_df.isna().values.any()"
      ],
      "metadata": {
        "colab": {
          "base_uri": "https://localhost:8080/"
        },
        "id": "MZNphMkI-3Yc",
        "outputId": "fec588c2-fc28-4d1b-e040-d75d7b383794"
      },
      "execution_count": 4,
      "outputs": [
        {
          "output_type": "execute_result",
          "data": {
            "text/plain": [
              "False"
            ]
          },
          "metadata": {},
          "execution_count": 4
        }
      ]
    },
    {
      "cell_type": "code",
      "source": [
        "news_df.replace(\"\", float(\"NaN\"), inplace=True)\n",
        "news_df.isnull().values.any()"
      ],
      "metadata": {
        "colab": {
          "base_uri": "https://localhost:8080/"
        },
        "id": "IE0_V-Uu-3bj",
        "outputId": "f616de86-c965-4da0-f646-873b40c86f0c"
      },
      "execution_count": 5,
      "outputs": [
        {
          "output_type": "execute_result",
          "data": {
            "text/plain": [
              "True"
            ]
          },
          "metadata": {},
          "execution_count": 5
        }
      ]
    },
    {
      "cell_type": "code",
      "source": [
        "news_df.dropna(inplace=True)\n",
        "print('총 샘플 수 :',len(news_df))"
      ],
      "metadata": {
        "colab": {
          "base_uri": "https://localhost:8080/"
        },
        "id": "G8xL7D6U-3em",
        "outputId": "f5fa2086-31f0-4e43-b3f0-ca0442a6f4d0"
      },
      "execution_count": 6,
      "outputs": [
        {
          "output_type": "stream",
          "name": "stdout",
          "text": [
            "총 샘플 수 : 10995\n"
          ]
        }
      ]
    },
    {
      "cell_type": "code",
      "source": [
        "nltk.download('stopwords')"
      ],
      "metadata": {
        "colab": {
          "base_uri": "https://localhost:8080/"
        },
        "id": "80JTMBkYq2Or",
        "outputId": "b2f2168a-97e7-4f36-f4e5-eed9ade587ba"
      },
      "execution_count": 7,
      "outputs": [
        {
          "output_type": "stream",
          "name": "stderr",
          "text": [
            "[nltk_data] Downloading package stopwords to /root/nltk_data...\n",
            "[nltk_data]   Unzipping corpora/stopwords.zip.\n"
          ]
        },
        {
          "output_type": "execute_result",
          "data": {
            "text/plain": [
              "True"
            ]
          },
          "metadata": {},
          "execution_count": 7
        }
      ]
    },
    {
      "cell_type": "markdown",
      "source": [
        "불용어를 제거한다"
      ],
      "metadata": {
        "id": "zJ1Irz2R-oRS"
      }
    },
    {
      "cell_type": "code",
      "source": [
        "# 불용어를 제거\n",
        "stop_words = stopwords.words('english')\n",
        "tokenized_doc = news_df['clean_doc'].apply(lambda x: x.split())\n",
        "tokenized_doc = tokenized_doc.apply(lambda x: [item for item in x if item not in stop_words])\n",
        "tokenized_doc = tokenized_doc.to_list()"
      ],
      "metadata": {
        "id": "P0XgUefHaTZk"
      },
      "execution_count": 8,
      "outputs": []
    },
    {
      "cell_type": "code",
      "source": [
        "# 단어가 1개 이하인 샘플의 인덱스를 찾아서 저장하고, 해당 샘플들은 제거.\n",
        "drop_train = [index for index, sentence in enumerate(tokenized_doc) if len(sentence) <= 1]\n",
        "tokenized_doc = np.delete(tokenized_doc, drop_train, axis=0)\n",
        "print('총 샘플 수 :',len(tokenized_doc))"
      ],
      "metadata": {
        "colab": {
          "base_uri": "https://localhost:8080/"
        },
        "id": "L4-qHd6QaTc9",
        "outputId": "7255ffcc-94de-445c-b2d2-078ee42aa39e"
      },
      "execution_count": 9,
      "outputs": [
        {
          "output_type": "stream",
          "name": "stdout",
          "text": [
            "총 샘플 수 : 10940\n"
          ]
        },
        {
          "output_type": "stream",
          "name": "stderr",
          "text": [
            "/usr/local/lib/python3.10/dist-packages/numpy/lib/function_base.py:5030: VisibleDeprecationWarning: Creating an ndarray from ragged nested sequences (which is a list-or-tuple of lists-or-tuples-or ndarrays with different lengths or shapes) is deprecated. If you meant to do this, you must specify 'dtype=object' when creating the ndarray.\n",
            "  arr = asarray(arr)\n"
          ]
        }
      ]
    },
    {
      "cell_type": "markdown",
      "source": [
        "다 정리한 단어들을 tokenize"
      ],
      "metadata": {
        "id": "cmkhHlvv-1Rg"
      }
    },
    {
      "cell_type": "code",
      "source": [
        "tokenizer = Tokenizer()\n",
        "tokenizer.fit_on_texts(tokenized_doc)\n",
        "\n",
        "word2idx = tokenizer.word_index\n",
        "idx2word = {value : key for key, value in word2idx.items()}\n",
        "encoded = tokenizer.texts_to_sequences(tokenized_doc)"
      ],
      "metadata": {
        "id": "hQH3X6qeaTgJ"
      },
      "execution_count": 10,
      "outputs": []
    },
    {
      "cell_type": "code",
      "source": [
        "vocab_size = len(word2idx) + 1 \n",
        "print('단어 집합의 크기 :', vocab_size)"
      ],
      "metadata": {
        "colab": {
          "base_uri": "https://localhost:8080/"
        },
        "id": "rPbb3uOCaTjY",
        "outputId": "62e3a471-ed74-4ba5-c082-e37453900685"
      },
      "execution_count": 11,
      "outputs": [
        {
          "output_type": "stream",
          "name": "stdout",
          "text": [
            "단어 집합의 크기 : 64277\n"
          ]
        }
      ]
    },
    {
      "cell_type": "markdown",
      "source": [
        "2. Negative Sampling"
      ],
      "metadata": {
        "id": "nffJ0xZJal9V"
      }
    },
    {
      "cell_type": "markdown",
      "source": [
        "Skip-Gram으로 negative sampling 진행"
      ],
      "metadata": {
        "id": "gCxcnfqE-9j5"
      }
    },
    {
      "cell_type": "markdown",
      "source": [
        "상위 10개의 뉴스 그룹만 사용한다."
      ],
      "metadata": {
        "id": "Aj8G6Tob_LH2"
      }
    },
    {
      "cell_type": "code",
      "source": [
        "from tensorflow.keras.preprocessing.sequence import skipgrams\n",
        "skip_grams = [skipgrams(sample, vocabulary_size=vocab_size, window_size=10) for sample in encoded[:10]]"
      ],
      "metadata": {
        "id": "2xvmC1tFaTmj"
      },
      "execution_count": 12,
      "outputs": []
    },
    {
      "cell_type": "code",
      "source": [
        "# 첫번째 샘플인 skip_grams[0] 내 skipgrams로 형성된 데이터셋 확인\n",
        "pairs, labels = skip_grams[0][0], skip_grams[0][1]  # window 내에 있었으면 1, 없었으면 0으로 label이 되어있다.\n",
        "for i in range(5):\n",
        "    print(\"({:s} ({:d}), {:s} ({:d})) -> {:d}\".format(\n",
        "          idx2word[pairs[i][0]], pairs[i][0], \n",
        "          idx2word[pairs[i][1]], pairs[i][1], \n",
        "          labels[i]))"
      ],
      "metadata": {
        "colab": {
          "base_uri": "https://localhost:8080/"
        },
        "id": "COcsGxE3aTpk",
        "outputId": "78cd22b7-c410-4afb-ba9b-ce8b61df8df1"
      },
      "execution_count": 14,
      "outputs": [
        {
          "output_type": "stream",
          "name": "stdout",
          "text": [
            "(europeans (4520), rikkyo (29154)) -> 0\n",
            "(reason (149), least (87)) -> 1\n",
            "(rediculous (15227), cgeuge (47782)) -> 0\n",
            "(story (603), statement (474)) -> 1\n",
            "(reputation (5533), traction (7728)) -> 0\n"
          ]
        }
      ]
    },
    {
      "cell_type": "code",
      "source": [
        "# 첫번째 뉴스그룹 샘플에 대해서 생긴 pairs와 labels의 개수\n",
        "print(len(pairs))\n",
        "print(len(labels))"
      ],
      "metadata": {
        "colab": {
          "base_uri": "https://localhost:8080/"
        },
        "id": "bQcd8iJpaTsv",
        "outputId": "ea855ff1-5f99-4758-dfa0-3a92ba9bce02"
      },
      "execution_count": 18,
      "outputs": [
        {
          "output_type": "stream",
          "name": "stdout",
          "text": [
            "2220\n",
            "2220\n"
          ]
        }
      ]
    },
    {
      "cell_type": "markdown",
      "source": [
        "## Skip-Gram with Negative Sampling"
      ],
      "metadata": {
        "id": "MCpsChpFedQR"
      }
    },
    {
      "cell_type": "code",
      "source": [
        "from tensorflow.keras.models import Sequential, Model\n",
        "from tensorflow.keras.layers import Embedding, Reshape, Activation, Input\n",
        "from tensorflow.keras.layers import Dot\n",
        "from tensorflow.keras.utils import plot_model\n",
        "from IPython.display import SVG"
      ],
      "metadata": {
        "id": "0geZ-wLYaTv3"
      },
      "execution_count": 19,
      "outputs": []
    },
    {
      "cell_type": "markdown",
      "source": [
        "SGNS는 center word와 context word 두 개의 table을 학습해야 한다."
      ],
      "metadata": {
        "id": "W_9loSHdAOTq"
      }
    },
    {
      "cell_type": "code",
      "source": [
        "embedding_dim = 100\n",
        "\n",
        "# embedding table for center words\n",
        "w_inputs = Input(shape=(1,), dtype='int32')\n",
        "word_embedding = Embedding(vocab_size, embedding_dim)(w_inputs)\n",
        "\n",
        "# embedding table for context words\n",
        "c_inputs = Input(shape=(1,), dtype='int32')\n",
        "context_embedding = Embedding(vocab_size, embedding_dim)(c_inputs)"
      ],
      "metadata": {
        "id": "nbQ5op7DaTy_"
      },
      "execution_count": 20,
      "outputs": []
    },
    {
      "cell_type": "markdown",
      "source": [
        "2개의 테이블에서 각 벡터들이 내적을 통해 예측값을 나타낸다. 마지막에는 sigmoid 함수를 써서 binary classification으로 바꿔준다."
      ],
      "metadata": {
        "id": "6fSi24PRAeIr"
      }
    },
    {
      "cell_type": "code",
      "source": [
        "dot_product = Dot(axes=2)([word_embedding, context_embedding])\n",
        "dot_product = Reshape((1,), input_shape=(1, 1))(dot_product)\n",
        "output = Activation('sigmoid')(dot_product)\n",
        "\n",
        "model = Model(inputs=[w_inputs, c_inputs], outputs=output)\n",
        "model.summary()\n",
        "model.compile(loss='binary_crossentropy', optimizer='adam')\n",
        "plot_model(model, to_file='model13.png', show_shapes=True, show_layer_names=True, rankdir='TB')"
      ],
      "metadata": {
        "colab": {
          "base_uri": "https://localhost:8080/",
          "height": 971
        },
        "id": "PX4JGVYaaT2T",
        "outputId": "468b9c55-18f7-4c56-a5f9-1cfdabb8dc7e"
      },
      "execution_count": 21,
      "outputs": [
        {
          "output_type": "stream",
          "name": "stdout",
          "text": [
            "Model: \"model\"\n",
            "__________________________________________________________________________________________________\n",
            " Layer (type)                   Output Shape         Param #     Connected to                     \n",
            "==================================================================================================\n",
            " input_1 (InputLayer)           [(None, 1)]          0           []                               \n",
            "                                                                                                  \n",
            " input_2 (InputLayer)           [(None, 1)]          0           []                               \n",
            "                                                                                                  \n",
            " embedding (Embedding)          (None, 1, 100)       6427700     ['input_1[0][0]']                \n",
            "                                                                                                  \n",
            " embedding_1 (Embedding)        (None, 1, 100)       6427700     ['input_2[0][0]']                \n",
            "                                                                                                  \n",
            " dot (Dot)                      (None, 1, 1)         0           ['embedding[0][0]',              \n",
            "                                                                  'embedding_1[0][0]']            \n",
            "                                                                                                  \n",
            " reshape (Reshape)              (None, 1)            0           ['dot[0][0]']                    \n",
            "                                                                                                  \n",
            " activation (Activation)        (None, 1)            0           ['reshape[0][0]']                \n",
            "                                                                                                  \n",
            "==================================================================================================\n",
            "Total params: 12,855,400\n",
            "Trainable params: 12,855,400\n",
            "Non-trainable params: 0\n",
            "__________________________________________________________________________________________________\n"
          ]
        },
        {
          "output_type": "execute_result",
          "data": {
            "image/png": "[encoded data removed]",
            "text/plain": [
              "<IPython.core.display.Image object>"
            ]
          },
          "metadata": {},
          "execution_count": 21
        }
      ]
    },
    {
      "cell_type": "markdown",
      "source": [
        "Skip gram으로 생성된 샘플들을 학습한다. 학습 데이터는 (중심, 주변) 쌍, 레이블은 그 두 데이터가 같은 window 안에 있는지에 대한 레이블이다."
      ],
      "metadata": {
        "id": "pYa_zxlKA2r9"
      }
    },
    {
      "cell_type": "code",
      "source": [
        "for epoch in range(1, 10):\n",
        "    loss = 0\n",
        "    for _, elem in enumerate(skip_grams):\n",
        "        first_elem = np.array(list(zip(*elem[0]))[0], dtype='int32')\n",
        "        second_elem = np.array(list(zip(*elem[0]))[1], dtype='int32')\n",
        "        labels = np.array(elem[1], dtype='int32')\n",
        "        X = [first_elem, second_elem]\n",
        "        Y = labels\n",
        "        loss += model.train_on_batch(X, Y)\n",
        "    print('Epoch :', epoch, 'Loss :', loss)"
      ],
      "metadata": {
        "colab": {
          "base_uri": "https://localhost:8080/"
        },
        "id": "WDBcUYo-ap89",
        "outputId": "e8ca97a0-4704-41a7-a38a-edc4c2c51ad6"
      },
      "execution_count": 22,
      "outputs": [
        {
          "output_type": "stream",
          "name": "stdout",
          "text": [
            "Epoch : 1 Loss : 6.93171900510788\n",
            "Epoch : 2 Loss : 6.907423257827759\n",
            "Epoch : 3 Loss : 6.882184267044067\n",
            "Epoch : 4 Loss : 6.852226614952087\n",
            "Epoch : 5 Loss : 6.815107643604279\n",
            "Epoch : 6 Loss : 6.768670737743378\n",
            "Epoch : 7 Loss : 6.711033582687378\n",
            "Epoch : 8 Loss : 6.640593707561493\n",
            "Epoch : 9 Loss : 6.556063294410706\n"
          ]
        }
      ]
    },
    {
      "cell_type": "markdown",
      "source": [
        "## 결과 확인"
      ],
      "metadata": {
        "id": "Ch987gAUgade"
      }
    },
    {
      "cell_type": "code",
      "source": [
        "import gensim\n",
        "\n",
        "f = open('vectors.txt' ,'w')\n",
        "f.write('{} {}\\n'.format(vocab_size-1, embedding_dim))\n",
        "vectors = model.get_weights()[0]\n",
        "for word, i in tokenizer.word_index.items():\n",
        "    f.write('{} {}\\n'.format(word, ' '.join(map(str, list(vectors[i, :])))))\n",
        "f.close()\n",
        "\n",
        "# 모델 로드\n",
        "w2v = gensim.models.KeyedVectors.load_word2vec_format('./vectors.txt', binary=False)"
      ],
      "metadata": {
        "id": "8YMQPyNNaqAN"
      },
      "execution_count": 23,
      "outputs": []
    },
    {
      "cell_type": "code",
      "source": [
        "w2v.most_similar(positive=['soldiers'])"
      ],
      "metadata": {
        "colab": {
          "base_uri": "https://localhost:8080/"
        },
        "id": "Pz278vOzaqC6",
        "outputId": "a44c32e7-306f-4b83-9cb6-7d1b5ccee421"
      },
      "execution_count": 24,
      "outputs": [
        {
          "output_type": "execute_result",
          "data": {
            "text/plain": [
              "[('inhuman', 0.4198784828186035),\n",
              " ('kasatonov', 0.37291598320007324),\n",
              " ('sumarize', 0.37092098593711853),\n",
              " ('grav', 0.36673128604888916),\n",
              " ('holocaust', 0.3642317056655884),\n",
              " ('away', 0.36386817693710327),\n",
              " ('sees', 0.35642051696777344),\n",
              " ('friend', 0.3552589416503906),\n",
              " ('criss', 0.3551224172115326),\n",
              " ('triumph', 0.35479605197906494)]"
            ]
          },
          "metadata": {},
          "execution_count": 24
        }
      ]
    },
    {
      "cell_type": "code",
      "source": [
        "w2v.most_similar(positive=['doctor'])"
      ],
      "metadata": {
        "colab": {
          "base_uri": "https://localhost:8080/"
        },
        "id": "KLL3Hr0xaqGC",
        "outputId": "0457258b-2969-4afd-8961-b4ac8cd663ea"
      },
      "execution_count": 25,
      "outputs": [
        {
          "output_type": "execute_result",
          "data": {
            "text/plain": [
              "[('recognised', 0.39004194736480713),\n",
              " ('bbdf', 0.3683587610721588),\n",
              " ('borrows', 0.3616293668746948),\n",
              " ('rushmore', 0.36084944009780884),\n",
              " ('isrealis', 0.35619017481803894),\n",
              " ('presses', 0.3557768166065216),\n",
              " ('nelly', 0.35289713740348816),\n",
              " ('entrepreneurial', 0.3503597378730774),\n",
              " ('mccrae', 0.34952080249786377),\n",
              " ('xdswm', 0.34921795129776)]"
            ]
          },
          "metadata": {},
          "execution_count": 25
        }
      ]
    },
    {
      "cell_type": "code",
      "source": [
        "w2v.most_similar(positive=['police'])"
      ],
      "metadata": {
        "colab": {
          "base_uri": "https://localhost:8080/"
        },
        "id": "9sI5Dg9raqJN",
        "outputId": "5feda53e-0f2e-4a37-f674-8a2b5169f63b"
      },
      "execution_count": 26,
      "outputs": [
        {
          "output_type": "execute_result",
          "data": {
            "text/plain": [
              "[('liquidation', 0.4572572112083435),\n",
              " ('questor', 0.4227037727832794),\n",
              " ('roll', 0.421782910823822),\n",
              " ('encounter', 0.38841694593429565),\n",
              " ('guards', 0.38825374841690063),\n",
              " ('enthusiam', 0.37643590569496155),\n",
              " ('stereotypical', 0.36194926500320435),\n",
              " ('hyperbole', 0.3598844110965729),\n",
              " ('aquainted', 0.35551127791404724),\n",
              " ('twerdokhlebof', 0.3519887924194336)]"
            ]
          },
          "metadata": {},
          "execution_count": 26
        }
      ]
    },
    {
      "cell_type": "code",
      "source": [
        "w2v.most_similar(positive=['knife'])"
      ],
      "metadata": {
        "colab": {
          "base_uri": "https://localhost:8080/"
        },
        "id": "eUjvNlN_aqMm",
        "outputId": "f41c5cd1-c2d2-48f5-ac76-cbe20dbd40d3"
      },
      "execution_count": 27,
      "outputs": [
        {
          "output_type": "execute_result",
          "data": {
            "text/plain": [
              "[('hagen', 0.4200635850429535),\n",
              " ('pressed', 0.39707934856414795),\n",
              " ('hypothesizing', 0.3965153694152832),\n",
              " ('vjccb', 0.3948829472064972),\n",
              " ('jsuttor', 0.37876462936401367),\n",
              " ('kauy', 0.37408462166786194),\n",
              " ('suddnely', 0.36966627836227417),\n",
              " ('handel', 0.36469221115112305),\n",
              " ('adrenalizing', 0.3592391312122345),\n",
              " ('hebrew', 0.35673394799232483)]"
            ]
          },
          "metadata": {},
          "execution_count": 27
        }
      ]
    },
    {
      "cell_type": "code",
      "source": [
        "w2v.most_similar(positive=['engine'])"
      ],
      "metadata": {
        "colab": {
          "base_uri": "https://localhost:8080/"
        },
        "id": "Jl0KxKw1aqPg",
        "outputId": "d9c1d14c-bf48-4fdc-a754-51d0bc6383a3"
      },
      "execution_count": 28,
      "outputs": [
        {
          "output_type": "execute_result",
          "data": {
            "text/plain": [
              "[('secretary', 0.41915497183799744),\n",
              " ('strongly', 0.4135987162590027),\n",
              " ('offertory', 0.3972224295139313),\n",
              " ('wannabes', 0.3967452049255371),\n",
              " ('khflai', 0.3873201906681061),\n",
              " ('microbrewery', 0.37486085295677185),\n",
              " ('lewczyk', 0.3739442825317383),\n",
              " ('techie', 0.3715573847293854),\n",
              " ('albums', 0.3627556264400482),\n",
              " ('sshd', 0.35936757922172546)]"
            ]
          },
          "metadata": {},
          "execution_count": 28
        }
      ]
    },
    {
      "cell_type": "markdown",
      "source": [
        "아쉽지만 아주 좋은 결과가 나오진 않은 것 같다."
      ],
      "metadata": {
        "id": "_d8Xp-AmBf-I"
      }
    },
    {
      "cell_type": "markdown",
      "source": [
        "## GloVe(Global Vectors for Word Representation)\n",
        "\n",
        "Word2Vec은 window 크기 내에서만 학습에 반영되기 때문에 전체 corpus에 대해서는 제대로 반영이 되지 않는다는 지적이 있었다.\n",
        "\n",
        "GloVe는 카운트의 방법과 예측의 방법을 둘 다 사용하는 모델이고, 성능도 Word2Vec에 준한다."
      ],
      "metadata": {
        "id": "foLPcZyIogLQ"
      }
    },
    {
      "cell_type": "markdown",
      "source": [
        "## Window-Based Co-occurrence Matrix\n",
        "\n",
        "하나의 행렬을 만드는데, 각 원소 (i, j)의 의미는 window 크기를 n이라고 했을 때 i번째 단어를 기준으로 앞뒤로 window n개 범위 내어세 j번째 단어가 몇번 나타나는지를 적어놓은 것이다. 이 행렬은 전치를 해도 동일한 대칭행렬이 된다.\n",
        "\n",
        "## Co-occurrence Probability\n",
        "\n",
        "동시 등장 확률 P(k | i)는 i번째 단어가 총 등장한 횟수를 카운트하고, i번째 단어가 출현했을 때 k번째 단어가 출현했을 확률을 나타낸다. (조건부 확률). 동시 등장 행렬을 바탕으로 만들어 낸다. 각 i번째 행의 값을 전부 더해서 나타난 횟수를 전부 더하고 분자로는 i 행, k 열의 수를 사용해서 나타내면 조건부 확률로 표현할 수 있다.\n",
        "\n",
        "## GloVe의 목표\n",
        "\n",
        "임베딩 된 중심 단어와 주변 단어의 내적이 전체 코퍼스에서 동시 등장할 확률이 돠도록 만드는 것. 즉, 주어진 코퍼스 내에서 중심 단어와 주변 단어가 window 범위 안에 서로 나타날 확률이 그 두 임베딩 벡터의 내적값이 되도록 하는 것이다.\n",
        "\n",
        "## Loss function\n",
        "\n",
        "단어들 간의 관계를 잘 설명하기 위해 다음과 같은 표현을 살핀다.\n",
        "$\\frac{P_{ik}}{P_{jk}}$. 이 표현은 i번째 단어가 나타났을 때 k가 주변 단어일 확률을 j번째 단어가 나타났을 때 k번째 단어가 주변 단어일 확률을 나눈 것이다. 이 값을 통해서 알 수 있는 것은 i가 k와 훨씬 유사한 관계일 경우, 이 값이 굉장히 크게 나올 것이고, 만약 j와 k의 관계가 더 유사하다면 이 값은 매우 작은 값으로 나올 것이다.\n",
        "\n",
        "최종 loss function 은 다음과 같다:\n",
        "\n",
        "$$Loss function = \\sum^V_{mn=1}f(X_{mn})(w^T_m \\tilde{w_n}+b_m+\\tilde{b_n}-\\log X_{mn})^2$$"
      ],
      "metadata": {
        "id": "NokG1ckFpGCr"
      }
    },
    {
      "cell_type": "markdown",
      "source": [
        "Glove 실습을 하려고 했으나, Glove 패키지 자체의 문제로 하지 못했다."
      ],
      "metadata": {
        "id": "aAtFBwsuBm3U"
      }
    },
    {
      "cell_type": "markdown",
      "source": [
        "## FastText\n",
        "\n",
        "페이스북에서 만든 단어를 벡터로 만드는 또 하나의 방법이다. FastText는 하나의 단어 안에도 subword를 고려하여 학습한다."
      ],
      "metadata": {
        "id": "d8FJHcBDOe4n"
      }
    },
    {
      "cell_type": "markdown",
      "source": [
        "### Subword 학습\n",
        "\n",
        "각 단어는 글자 단위 n-gram의 구성으로 취급한다. \n",
        "\n",
        "예를 들어 apple이라는 단어에 n = 3인 subword는 <ap, app, ppl, ple, le>, <apple> 이렇게 6개의 subword token을 만든다.\n",
        "\n",
        "실제 사용할 때는 n의 값을 범위로 설정한다. 이렇게 하면 아주 많은 subword들이 나오게 되고, 이들을 전부 합해서 apple이라는 벡터를 표현한다.\n",
        "\n",
        "### OOV 대응\n",
        "\n",
        "Subword 학습을 통해 내부에 있는 단어들이 학습이 되어 있는 경우라면 OOV에 대해서도 유사도를 계산해낼 수 있다.\n",
        "\n",
        "### Rare Words\n",
        "\n",
        "희귀한 단어들도 다른 보편적인 단어들의 n-gram과 비슷하다면 유사도를 계산할 수 있다. 원래는 데이터가 너무 적어서 임베딩이 잘 되지 않는 문제가 있었는데, 이를 보완할 수 있다. 특히 오타가 발생한 corpus의 경우에도 일정 부분 학습을 할 수 있다."
      ],
      "metadata": {
        "id": "HBiKR8JjO4Nh"
      }
    },
    {
      "cell_type": "markdown",
      "source": [
        "## FastText 실습\n",
        "\n",
        "위에서 Word2Vec 을 만들었던 걸로 비교한다."
      ],
      "metadata": {
        "id": "hBuX3qjFQk0b"
      }
    },
    {
      "cell_type": "code",
      "source": [
        "import re\n",
        "import urllib.request\n",
        "import zipfile\n",
        "from lxml import etree\n",
        "from nltk.tokenize import word_tokenize, sent_tokenize"
      ],
      "metadata": {
        "id": "XvDiOTkbg5EL"
      },
      "execution_count": null,
      "outputs": []
    },
    {
      "cell_type": "code",
      "source": [
        "urllib.request.urlretrieve(\"https://raw.githubusercontent.com/ukairia777/tensorflow-nlp-tutorial/main/09.%20Word%20Embedding/dataset/ted_en-20160408.xml\", filename=\"ted_en-20160408.xml\")"
      ],
      "metadata": {
        "id": "reBH41ENg5HL",
        "colab": {
          "base_uri": "https://localhost:8080/"
        },
        "outputId": "3ee2d142-bab9-411c-8e3d-9bd4ce6d8ece"
      },
      "execution_count": null,
      "outputs": [
        {
          "output_type": "execute_result",
          "data": {
            "text/plain": [
              "('ted_en-20160408.xml', <http.client.HTTPMessage at 0x7fb528d9e620>)"
            ]
          },
          "metadata": {},
          "execution_count": 20
        }
      ]
    },
    {
      "cell_type": "code",
      "source": [
        "import nltk\n",
        "\n",
        "nltk.download('punkt')\n",
        "\n",
        "targetXML = open('ted_en-20160408.xml', 'r', encoding='UTF8')\n",
        "target_text = etree.parse(targetXML)\n",
        "\n",
        "# xml 파일로부터 <content>와 </content> 사이의 내용만 가져온다.\n",
        "parse_text = '\\n'.join(target_text.xpath('//content/text()'))\n",
        "\n",
        "# 정규 표현식의 sub 모듈을 통해 content 중간에 등장하는 (Audio), (Laughter) 등의 배경음 부분을 제거.\n",
        "# 해당 코드는 괄호로 구성된 내용을 제거.\n",
        "content_text = re.sub(r'\\([^)]*\\)', '', parse_text)\n",
        "\n",
        "# 입력 코퍼스에 대해서 NLTK를 이용하여 문장 토큰화를 수행.\n",
        "sent_text = sent_tokenize(content_text)\n",
        "\n",
        "# 각 문장에 대해서 구두점을 제거하고, 대문자를 소문자로 변환.\n",
        "normalized_text = []\n",
        "for string in sent_text:\n",
        "     tokens = re.sub(r\"[^a-z0-9]+\", \" \", string.lower())\n",
        "     normalized_text.append(tokens)\n",
        "\n",
        "# 각 문장에 대해서 NLTK를 이용하여 단어 토큰화를 수행.\n",
        "result = [word_tokenize(sentence) for sentence in normalized_text]"
      ],
      "metadata": {
        "id": "W5kYAtJeg5KO",
        "colab": {
          "base_uri": "https://localhost:8080/"
        },
        "outputId": "14f7118b-6f53-4e78-b3f8-52fa19e05bbf"
      },
      "execution_count": null,
      "outputs": [
        {
          "output_type": "stream",
          "name": "stderr",
          "text": [
            "[nltk_data] Downloading package punkt to /root/nltk_data...\n",
            "[nltk_data]   Unzipping tokenizers/punkt.zip.\n"
          ]
        }
      ]
    },
    {
      "cell_type": "code",
      "source": [
        "from gensim.models import Word2Vec\n",
        "from gensim.models import KeyedVectors\n",
        "\n",
        "model = Word2Vec(sentences=result, vector_size=100, window=5, min_count=5, workers=4, sg=0)"
      ],
      "metadata": {
        "id": "-hA3ZV2Bg5Nk"
      },
      "execution_count": null,
      "outputs": []
    },
    {
      "cell_type": "code",
      "source": [
        "model.wv.most_similar(\"electrofishing\")"
      ],
      "metadata": {
        "id": "TNDSzMolg5Ql",
        "colab": {
          "base_uri": "https://localhost:8080/",
          "height": 325
        },
        "outputId": "4aad16e0-c007-4693-8a42-967c44a62ab1"
      },
      "execution_count": null,
      "outputs": [
        {
          "output_type": "error",
          "ename": "KeyError",
          "evalue": "ignored",
          "traceback": [
            "\u001b[0;31m---------------------------------------------------------------------------\u001b[0m",
            "\u001b[0;31mKeyError\u001b[0m                                  Traceback (most recent call last)",
            "\u001b[0;32m<ipython-input-25-f9544fe3d5e9>\u001b[0m in \u001b[0;36m<cell line: 1>\u001b[0;34m()\u001b[0m\n\u001b[0;32m----> 1\u001b[0;31m \u001b[0mmodel\u001b[0m\u001b[0;34m.\u001b[0m\u001b[0mwv\u001b[0m\u001b[0;34m.\u001b[0m\u001b[0mmost_similar\u001b[0m\u001b[0;34m(\u001b[0m\u001b[0;34m\"electrofishing\"\u001b[0m\u001b[0;34m)\u001b[0m\u001b[0;34m\u001b[0m\u001b[0;34m\u001b[0m\u001b[0m\n\u001b[0m",
            "\u001b[0;32m/usr/local/lib/python3.10/dist-packages/gensim/models/keyedvectors.py\u001b[0m in \u001b[0;36mmost_similar\u001b[0;34m(self, positive, negative, topn, clip_start, clip_end, restrict_vocab, indexer)\u001b[0m\n\u001b[1;32m    839\u001b[0m \u001b[0;34m\u001b[0m\u001b[0m\n\u001b[1;32m    840\u001b[0m         \u001b[0;31m# compute the weighted average of all keys\u001b[0m\u001b[0;34m\u001b[0m\u001b[0;34m\u001b[0m\u001b[0m\n\u001b[0;32m--> 841\u001b[0;31m         \u001b[0mmean\u001b[0m \u001b[0;34m=\u001b[0m \u001b[0mself\u001b[0m\u001b[0;34m.\u001b[0m\u001b[0mget_mean_vector\u001b[0m\u001b[0;34m(\u001b[0m\u001b[0mkeys\u001b[0m\u001b[0;34m,\u001b[0m \u001b[0mweight\u001b[0m\u001b[0;34m,\u001b[0m \u001b[0mpre_normalize\u001b[0m\u001b[0;34m=\u001b[0m\u001b[0;32mTrue\u001b[0m\u001b[0;34m,\u001b[0m \u001b[0mpost_normalize\u001b[0m\u001b[0;34m=\u001b[0m\u001b[0;32mTrue\u001b[0m\u001b[0;34m,\u001b[0m \u001b[0mignore_missing\u001b[0m\u001b[0;34m=\u001b[0m\u001b[0;32mFalse\u001b[0m\u001b[0;34m)\u001b[0m\u001b[0;34m\u001b[0m\u001b[0;34m\u001b[0m\u001b[0m\n\u001b[0m\u001b[1;32m    842\u001b[0m         all_keys = [\n\u001b[1;32m    843\u001b[0m             \u001b[0mself\u001b[0m\u001b[0;34m.\u001b[0m\u001b[0mget_index\u001b[0m\u001b[0;34m(\u001b[0m\u001b[0mkey\u001b[0m\u001b[0;34m)\u001b[0m \u001b[0;32mfor\u001b[0m \u001b[0mkey\u001b[0m \u001b[0;32min\u001b[0m \u001b[0mkeys\u001b[0m \u001b[0;32mif\u001b[0m \u001b[0misinstance\u001b[0m\u001b[0;34m(\u001b[0m\u001b[0mkey\u001b[0m\u001b[0;34m,\u001b[0m \u001b[0m_KEY_TYPES\u001b[0m\u001b[0;34m)\u001b[0m \u001b[0;32mand\u001b[0m \u001b[0mself\u001b[0m\u001b[0;34m.\u001b[0m\u001b[0mhas_index_for\u001b[0m\u001b[0;34m(\u001b[0m\u001b[0mkey\u001b[0m\u001b[0;34m)\u001b[0m\u001b[0;34m\u001b[0m\u001b[0;34m\u001b[0m\u001b[0m\n",
            "\u001b[0;32m/usr/local/lib/python3.10/dist-packages/gensim/models/keyedvectors.py\u001b[0m in \u001b[0;36mget_mean_vector\u001b[0;34m(self, keys, weights, pre_normalize, post_normalize, ignore_missing)\u001b[0m\n\u001b[1;32m    516\u001b[0m                 \u001b[0mtotal_weight\u001b[0m \u001b[0;34m+=\u001b[0m \u001b[0mabs\u001b[0m\u001b[0;34m(\u001b[0m\u001b[0mweights\u001b[0m\u001b[0;34m[\u001b[0m\u001b[0midx\u001b[0m\u001b[0;34m]\u001b[0m\u001b[0;34m)\u001b[0m\u001b[0;34m\u001b[0m\u001b[0;34m\u001b[0m\u001b[0m\n\u001b[1;32m    517\u001b[0m             \u001b[0;32melif\u001b[0m \u001b[0;32mnot\u001b[0m \u001b[0mignore_missing\u001b[0m\u001b[0;34m:\u001b[0m\u001b[0;34m\u001b[0m\u001b[0;34m\u001b[0m\u001b[0m\n\u001b[0;32m--> 518\u001b[0;31m                 \u001b[0;32mraise\u001b[0m \u001b[0mKeyError\u001b[0m\u001b[0;34m(\u001b[0m\u001b[0;34mf\"Key '{key}' not present in vocabulary\"\u001b[0m\u001b[0;34m)\u001b[0m\u001b[0;34m\u001b[0m\u001b[0;34m\u001b[0m\u001b[0m\n\u001b[0m\u001b[1;32m    519\u001b[0m \u001b[0;34m\u001b[0m\u001b[0m\n\u001b[1;32m    520\u001b[0m         \u001b[0;32mif\u001b[0m \u001b[0mtotal_weight\u001b[0m \u001b[0;34m>\u001b[0m \u001b[0;36m0\u001b[0m\u001b[0;34m:\u001b[0m\u001b[0;34m\u001b[0m\u001b[0;34m\u001b[0m\u001b[0m\n",
            "\u001b[0;31mKeyError\u001b[0m: \"Key 'electrofishing' not present in vocabulary\""
          ]
        }
      ]
    },
    {
      "cell_type": "markdown",
      "source": [
        "모르는 단어는 아예 처리가 안된다."
      ],
      "metadata": {
        "id": "hLxjcjE7Q7PS"
      }
    },
    {
      "cell_type": "code",
      "source": [
        "from gensim.models import FastText\n",
        "\n",
        "model = FastText(result, vector_size=100, window=5, min_count=5, workers=4, sg=1)"
      ],
      "metadata": {
        "id": "s2EKyF8jg5T_"
      },
      "execution_count": null,
      "outputs": []
    },
    {
      "cell_type": "code",
      "source": [
        "model.wv.most_similar('electrofishing')"
      ],
      "metadata": {
        "id": "uMt9Hu20g5XT",
        "colab": {
          "base_uri": "https://localhost:8080/"
        },
        "outputId": "26d7015d-cb8c-4593-8ae8-84a31cd703cd"
      },
      "execution_count": null,
      "outputs": [
        {
          "output_type": "execute_result",
          "data": {
            "text/plain": [
              "[('electrolux', 0.8722091913223267),\n",
              " ('electrolyte', 0.8671135306358337),\n",
              " ('electroshock', 0.85752934217453),\n",
              " ('electro', 0.8515357375144958),\n",
              " ('electroencephalogram', 0.8409291505813599),\n",
              " ('electrochemical', 0.8255844116210938),\n",
              " ('airbus', 0.8249354958534241),\n",
              " ('electrogram', 0.8213939070701599),\n",
              " ('electric', 0.8213211894035339),\n",
              " ('airbag', 0.8197550773620605)]"
            ]
          },
          "metadata": {},
          "execution_count": 29
        }
      ]
    },
    {
      "cell_type": "markdown",
      "source": [
        "## 한국어 FastText\n",
        "\n",
        "한글에서는 subword로 자모 단위로 쪼개는 시도가 있다."
      ],
      "metadata": {
        "id": "cHIploeoRWl1"
      }
    },
    {
      "cell_type": "markdown",
      "source": [
        "## Pre-trained Word Embedding\n",
        "\n",
        "미리 훈련된 데이터를 임베딩 층으로 사용하는 방법도 있다. 훈련 데이터가 적은 상황에서 이미 학습된 걸 활용해서 성능을 개선하는 방법이다.\n",
        "\n",
        "### Keras Embedding Layer 구현"
      ],
      "metadata": {
        "id": "35sUjfuiRlTv"
      }
    },
    {
      "cell_type": "markdown",
      "source": [
        "Preprocessing: tokenize, integer encoding and padding"
      ],
      "metadata": {
        "id": "VsBE2Xv_TJfo"
      }
    },
    {
      "cell_type": "code",
      "source": [
        "import numpy as np\n",
        "from tensorflow.keras.preprocessing.text import Tokenizer\n",
        "from tensorflow.keras.preprocessing.sequence import pad_sequences\n",
        "\n",
        "sentences = ['nice great best amazing', 'stop lies', 'pitiful nerd', 'excellent work', 'supreme quality', 'bad', 'highly respectable']\n",
        "y_train = [1, 0, 0, 1, 1, 0, 1]  # 긍정적인 문장 1, 부정적인 문장 2"
      ],
      "metadata": {
        "id": "BK1UAlRtg5aS"
      },
      "execution_count": null,
      "outputs": []
    },
    {
      "cell_type": "code",
      "source": [
        "tokenizer = Tokenizer()\n",
        "tokenizer.fit_on_texts(sentences)\n",
        "vocab_size = len(tokenizer.word_index) + 1 # padding +1"
      ],
      "metadata": {
        "id": "uMXiYH53g5d5"
      },
      "execution_count": null,
      "outputs": []
    },
    {
      "cell_type": "code",
      "source": [
        "X_encoded = tokenizer.texts_to_sequences(sentences)"
      ],
      "metadata": {
        "id": "WoL77Vasg5hC"
      },
      "execution_count": null,
      "outputs": []
    },
    {
      "cell_type": "code",
      "source": [
        "max_len = max(len(l) for l in X_encoded)\n",
        "print('최대 길이 :',max_len)"
      ],
      "metadata": {
        "id": "D-8SuhU-g5kT",
        "colab": {
          "base_uri": "https://localhost:8080/"
        },
        "outputId": "ad190116-b34d-49a3-de22-020a5e7b7c7a"
      },
      "execution_count": null,
      "outputs": [
        {
          "output_type": "stream",
          "name": "stdout",
          "text": [
            "최대 길이 : 4\n"
          ]
        }
      ]
    },
    {
      "cell_type": "code",
      "source": [
        "X_train = pad_sequences(X_encoded, maxlen=max_len, padding='post')\n",
        "y_train = np.array(y_train)"
      ],
      "metadata": {
        "id": "nPyhGkrwg5na"
      },
      "execution_count": null,
      "outputs": []
    },
    {
      "cell_type": "markdown",
      "source": [
        "모델 만들기, 개념 때는 one-hot vector를 input으로 넣는다고 배웠으나, Keras에서는 integer encodingg과 padding이 끝나면 바로 embedding layer에 넣으면 된다."
      ],
      "metadata": {
        "id": "fJhYMyCcTP1G"
      }
    },
    {
      "cell_type": "code",
      "source": [
        "from tensorflow.keras.models import Sequential\n",
        "from tensorflow.keras.layers import Dense, Embedding, Flatten\n",
        "\n",
        "embedding_dim = 4\n",
        "\n",
        "model = Sequential()\n",
        "model.add(Embedding(vocab_size, embedding_dim, input_length=max_len))\n",
        "model.add(Flatten())\n",
        "model.add(Dense(1, activation='sigmoid'))\n",
        "\n",
        "model.compile(optimizer='adam', loss='binary_crossentropy', metrics=['acc'])\n",
        "model.fit(X_train, y_train, epochs=100, verbose=2)"
      ],
      "metadata": {
        "id": "p76uGT2Lg5qk",
        "colab": {
          "base_uri": "https://localhost:8080/"
        },
        "outputId": "dc58782b-8d45-4024-91c8-fe098b3012e1"
      },
      "execution_count": null,
      "outputs": [
        {
          "output_type": "stream",
          "name": "stdout",
          "text": [
            "Epoch 1/100\n",
            "1/1 - 4s - loss: 0.6900 - acc: 0.4286 - 4s/epoch - 4s/step\n",
            "Epoch 2/100\n",
            "1/1 - 0s - loss: 0.6888 - acc: 0.4286 - 8ms/epoch - 8ms/step\n",
            "Epoch 3/100\n",
            "1/1 - 0s - loss: 0.6877 - acc: 0.5714 - 16ms/epoch - 16ms/step\n",
            "Epoch 4/100\n",
            "1/1 - 0s - loss: 0.6865 - acc: 0.5714 - 9ms/epoch - 9ms/step\n",
            "Epoch 5/100\n",
            "1/1 - 0s - loss: 0.6853 - acc: 0.5714 - 8ms/epoch - 8ms/step\n",
            "Epoch 6/100\n",
            "1/1 - 0s - loss: 0.6842 - acc: 0.5714 - 9ms/epoch - 9ms/step\n",
            "Epoch 7/100\n",
            "1/1 - 0s - loss: 0.6830 - acc: 0.7143 - 8ms/epoch - 8ms/step\n",
            "Epoch 8/100\n",
            "1/1 - 0s - loss: 0.6818 - acc: 0.7143 - 10ms/epoch - 10ms/step\n",
            "Epoch 9/100\n",
            "1/1 - 0s - loss: 0.6807 - acc: 0.7143 - 8ms/epoch - 8ms/step\n",
            "Epoch 10/100\n",
            "1/1 - 0s - loss: 0.6795 - acc: 0.7143 - 8ms/epoch - 8ms/step\n",
            "Epoch 11/100\n",
            "1/1 - 0s - loss: 0.6783 - acc: 0.8571 - 12ms/epoch - 12ms/step\n",
            "Epoch 12/100\n",
            "1/1 - 0s - loss: 0.6771 - acc: 0.8571 - 8ms/epoch - 8ms/step\n",
            "Epoch 13/100\n",
            "1/1 - 0s - loss: 0.6759 - acc: 0.8571 - 8ms/epoch - 8ms/step\n",
            "Epoch 14/100\n",
            "1/1 - 0s - loss: 0.6747 - acc: 1.0000 - 8ms/epoch - 8ms/step\n",
            "Epoch 15/100\n",
            "1/1 - 0s - loss: 0.6735 - acc: 1.0000 - 8ms/epoch - 8ms/step\n",
            "Epoch 16/100\n",
            "1/1 - 0s - loss: 0.6723 - acc: 1.0000 - 8ms/epoch - 8ms/step\n",
            "Epoch 17/100\n",
            "1/1 - 0s - loss: 0.6710 - acc: 1.0000 - 8ms/epoch - 8ms/step\n",
            "Epoch 18/100\n",
            "1/1 - 0s - loss: 0.6698 - acc: 1.0000 - 8ms/epoch - 8ms/step\n",
            "Epoch 19/100\n",
            "1/1 - 0s - loss: 0.6686 - acc: 1.0000 - 8ms/epoch - 8ms/step\n",
            "Epoch 20/100\n",
            "1/1 - 0s - loss: 0.6673 - acc: 1.0000 - 8ms/epoch - 8ms/step\n",
            "Epoch 21/100\n",
            "1/1 - 0s - loss: 0.6661 - acc: 1.0000 - 7ms/epoch - 7ms/step\n",
            "Epoch 22/100\n",
            "1/1 - 0s - loss: 0.6648 - acc: 1.0000 - 8ms/epoch - 8ms/step\n",
            "Epoch 23/100\n",
            "1/1 - 0s - loss: 0.6636 - acc: 1.0000 - 9ms/epoch - 9ms/step\n",
            "Epoch 24/100\n",
            "1/1 - 0s - loss: 0.6623 - acc: 1.0000 - 8ms/epoch - 8ms/step\n",
            "Epoch 25/100\n",
            "1/1 - 0s - loss: 0.6610 - acc: 1.0000 - 10ms/epoch - 10ms/step\n",
            "Epoch 26/100\n",
            "1/1 - 0s - loss: 0.6597 - acc: 1.0000 - 8ms/epoch - 8ms/step\n",
            "Epoch 27/100\n",
            "1/1 - 0s - loss: 0.6584 - acc: 1.0000 - 8ms/epoch - 8ms/step\n",
            "Epoch 28/100\n",
            "1/1 - 0s - loss: 0.6571 - acc: 1.0000 - 8ms/epoch - 8ms/step\n",
            "Epoch 29/100\n",
            "1/1 - 0s - loss: 0.6558 - acc: 1.0000 - 7ms/epoch - 7ms/step\n",
            "Epoch 30/100\n",
            "1/1 - 0s - loss: 0.6545 - acc: 1.0000 - 8ms/epoch - 8ms/step\n",
            "Epoch 31/100\n",
            "1/1 - 0s - loss: 0.6531 - acc: 1.0000 - 8ms/epoch - 8ms/step\n",
            "Epoch 32/100\n",
            "1/1 - 0s - loss: 0.6518 - acc: 1.0000 - 8ms/epoch - 8ms/step\n",
            "Epoch 33/100\n",
            "1/1 - 0s - loss: 0.6504 - acc: 1.0000 - 7ms/epoch - 7ms/step\n",
            "Epoch 34/100\n",
            "1/1 - 0s - loss: 0.6491 - acc: 1.0000 - 8ms/epoch - 8ms/step\n",
            "Epoch 35/100\n",
            "1/1 - 0s - loss: 0.6477 - acc: 1.0000 - 8ms/epoch - 8ms/step\n",
            "Epoch 36/100\n",
            "1/1 - 0s - loss: 0.6463 - acc: 1.0000 - 14ms/epoch - 14ms/step\n",
            "Epoch 37/100\n",
            "1/1 - 0s - loss: 0.6449 - acc: 1.0000 - 9ms/epoch - 9ms/step\n",
            "Epoch 38/100\n",
            "1/1 - 0s - loss: 0.6435 - acc: 1.0000 - 8ms/epoch - 8ms/step\n",
            "Epoch 39/100\n",
            "1/1 - 0s - loss: 0.6421 - acc: 1.0000 - 8ms/epoch - 8ms/step\n",
            "Epoch 40/100\n",
            "1/1 - 0s - loss: 0.6407 - acc: 1.0000 - 8ms/epoch - 8ms/step\n",
            "Epoch 41/100\n",
            "1/1 - 0s - loss: 0.6393 - acc: 1.0000 - 7ms/epoch - 7ms/step\n",
            "Epoch 42/100\n",
            "1/1 - 0s - loss: 0.6378 - acc: 1.0000 - 8ms/epoch - 8ms/step\n",
            "Epoch 43/100\n",
            "1/1 - 0s - loss: 0.6364 - acc: 1.0000 - 8ms/epoch - 8ms/step\n",
            "Epoch 44/100\n",
            "1/1 - 0s - loss: 0.6349 - acc: 1.0000 - 8ms/epoch - 8ms/step\n",
            "Epoch 45/100\n",
            "1/1 - 0s - loss: 0.6335 - acc: 1.0000 - 8ms/epoch - 8ms/step\n",
            "Epoch 46/100\n",
            "1/1 - 0s - loss: 0.6320 - acc: 1.0000 - 8ms/epoch - 8ms/step\n",
            "Epoch 47/100\n",
            "1/1 - 0s - loss: 0.6305 - acc: 1.0000 - 9ms/epoch - 9ms/step\n",
            "Epoch 48/100\n",
            "1/1 - 0s - loss: 0.6290 - acc: 1.0000 - 8ms/epoch - 8ms/step\n",
            "Epoch 49/100\n",
            "1/1 - 0s - loss: 0.6275 - acc: 1.0000 - 8ms/epoch - 8ms/step\n",
            "Epoch 50/100\n",
            "1/1 - 0s - loss: 0.6260 - acc: 1.0000 - 8ms/epoch - 8ms/step\n",
            "Epoch 51/100\n",
            "1/1 - 0s - loss: 0.6244 - acc: 1.0000 - 8ms/epoch - 8ms/step\n",
            "Epoch 52/100\n",
            "1/1 - 0s - loss: 0.6229 - acc: 1.0000 - 8ms/epoch - 8ms/step\n",
            "Epoch 53/100\n",
            "1/1 - 0s - loss: 0.6213 - acc: 1.0000 - 8ms/epoch - 8ms/step\n",
            "Epoch 54/100\n",
            "1/1 - 0s - loss: 0.6198 - acc: 1.0000 - 8ms/epoch - 8ms/step\n",
            "Epoch 55/100\n",
            "1/1 - 0s - loss: 0.6182 - acc: 1.0000 - 8ms/epoch - 8ms/step\n",
            "Epoch 56/100\n",
            "1/1 - 0s - loss: 0.6166 - acc: 1.0000 - 9ms/epoch - 9ms/step\n",
            "Epoch 57/100\n",
            "1/1 - 0s - loss: 0.6150 - acc: 1.0000 - 8ms/epoch - 8ms/step\n",
            "Epoch 58/100\n",
            "1/1 - 0s - loss: 0.6134 - acc: 1.0000 - 8ms/epoch - 8ms/step\n",
            "Epoch 59/100\n",
            "1/1 - 0s - loss: 0.6118 - acc: 1.0000 - 8ms/epoch - 8ms/step\n",
            "Epoch 60/100\n",
            "1/1 - 0s - loss: 0.6101 - acc: 1.0000 - 8ms/epoch - 8ms/step\n",
            "Epoch 61/100\n",
            "1/1 - 0s - loss: 0.6085 - acc: 1.0000 - 8ms/epoch - 8ms/step\n",
            "Epoch 62/100\n",
            "1/1 - 0s - loss: 0.6068 - acc: 1.0000 - 9ms/epoch - 9ms/step\n",
            "Epoch 63/100\n",
            "1/1 - 0s - loss: 0.6052 - acc: 1.0000 - 8ms/epoch - 8ms/step\n",
            "Epoch 64/100\n",
            "1/1 - 0s - loss: 0.6035 - acc: 1.0000 - 8ms/epoch - 8ms/step\n",
            "Epoch 65/100\n",
            "1/1 - 0s - loss: 0.6018 - acc: 1.0000 - 8ms/epoch - 8ms/step\n",
            "Epoch 66/100\n",
            "1/1 - 0s - loss: 0.6001 - acc: 1.0000 - 9ms/epoch - 9ms/step\n",
            "Epoch 67/100\n",
            "1/1 - 0s - loss: 0.5984 - acc: 1.0000 - 9ms/epoch - 9ms/step\n",
            "Epoch 68/100\n",
            "1/1 - 0s - loss: 0.5966 - acc: 1.0000 - 8ms/epoch - 8ms/step\n",
            "Epoch 69/100\n",
            "1/1 - 0s - loss: 0.5949 - acc: 1.0000 - 8ms/epoch - 8ms/step\n",
            "Epoch 70/100\n",
            "1/1 - 0s - loss: 0.5932 - acc: 1.0000 - 8ms/epoch - 8ms/step\n",
            "Epoch 71/100\n",
            "1/1 - 0s - loss: 0.5914 - acc: 1.0000 - 8ms/epoch - 8ms/step\n",
            "Epoch 72/100\n",
            "1/1 - 0s - loss: 0.5896 - acc: 1.0000 - 8ms/epoch - 8ms/step\n",
            "Epoch 73/100\n",
            "1/1 - 0s - loss: 0.5878 - acc: 1.0000 - 8ms/epoch - 8ms/step\n",
            "Epoch 74/100\n",
            "1/1 - 0s - loss: 0.5860 - acc: 1.0000 - 9ms/epoch - 9ms/step\n",
            "Epoch 75/100\n",
            "1/1 - 0s - loss: 0.5842 - acc: 1.0000 - 10ms/epoch - 10ms/step\n",
            "Epoch 76/100\n",
            "1/1 - 0s - loss: 0.5824 - acc: 1.0000 - 9ms/epoch - 9ms/step\n",
            "Epoch 77/100\n",
            "1/1 - 0s - loss: 0.5806 - acc: 1.0000 - 10ms/epoch - 10ms/step\n",
            "Epoch 78/100\n",
            "1/1 - 0s - loss: 0.5788 - acc: 1.0000 - 14ms/epoch - 14ms/step\n",
            "Epoch 79/100\n",
            "1/1 - 0s - loss: 0.5769 - acc: 1.0000 - 10ms/epoch - 10ms/step\n",
            "Epoch 80/100\n",
            "1/1 - 0s - loss: 0.5751 - acc: 1.0000 - 8ms/epoch - 8ms/step\n",
            "Epoch 81/100\n",
            "1/1 - 0s - loss: 0.5732 - acc: 1.0000 - 9ms/epoch - 9ms/step\n",
            "Epoch 82/100\n",
            "1/1 - 0s - loss: 0.5713 - acc: 1.0000 - 8ms/epoch - 8ms/step\n",
            "Epoch 83/100\n",
            "1/1 - 0s - loss: 0.5694 - acc: 1.0000 - 8ms/epoch - 8ms/step\n",
            "Epoch 84/100\n",
            "1/1 - 0s - loss: 0.5675 - acc: 1.0000 - 8ms/epoch - 8ms/step\n",
            "Epoch 85/100\n",
            "1/1 - 0s - loss: 0.5656 - acc: 1.0000 - 8ms/epoch - 8ms/step\n",
            "Epoch 86/100\n",
            "1/1 - 0s - loss: 0.5637 - acc: 1.0000 - 8ms/epoch - 8ms/step\n",
            "Epoch 87/100\n",
            "1/1 - 0s - loss: 0.5618 - acc: 1.0000 - 8ms/epoch - 8ms/step\n",
            "Epoch 88/100\n",
            "1/1 - 0s - loss: 0.5598 - acc: 1.0000 - 8ms/epoch - 8ms/step\n",
            "Epoch 89/100\n",
            "1/1 - 0s - loss: 0.5579 - acc: 1.0000 - 7ms/epoch - 7ms/step\n",
            "Epoch 90/100\n",
            "1/1 - 0s - loss: 0.5559 - acc: 1.0000 - 8ms/epoch - 8ms/step\n",
            "Epoch 91/100\n",
            "1/1 - 0s - loss: 0.5540 - acc: 1.0000 - 8ms/epoch - 8ms/step\n",
            "Epoch 92/100\n",
            "1/1 - 0s - loss: 0.5520 - acc: 1.0000 - 8ms/epoch - 8ms/step\n",
            "Epoch 93/100\n",
            "1/1 - 0s - loss: 0.5500 - acc: 1.0000 - 8ms/epoch - 8ms/step\n",
            "Epoch 94/100\n",
            "1/1 - 0s - loss: 0.5480 - acc: 1.0000 - 8ms/epoch - 8ms/step\n",
            "Epoch 95/100\n",
            "1/1 - 0s - loss: 0.5460 - acc: 1.0000 - 9ms/epoch - 9ms/step\n",
            "Epoch 96/100\n",
            "1/1 - 0s - loss: 0.5440 - acc: 1.0000 - 9ms/epoch - 9ms/step\n",
            "Epoch 97/100\n",
            "1/1 - 0s - loss: 0.5420 - acc: 1.0000 - 8ms/epoch - 8ms/step\n",
            "Epoch 98/100\n",
            "1/1 - 0s - loss: 0.5400 - acc: 1.0000 - 9ms/epoch - 9ms/step\n",
            "Epoch 99/100\n",
            "1/1 - 0s - loss: 0.5380 - acc: 1.0000 - 18ms/epoch - 18ms/step\n",
            "Epoch 100/100\n",
            "1/1 - 0s - loss: 0.5359 - acc: 1.0000 - 8ms/epoch - 8ms/step\n"
          ]
        },
        {
          "output_type": "execute_result",
          "data": {
            "text/plain": [
              "<keras.callbacks.History at 0x7fb44177b8e0>"
            ]
          },
          "metadata": {},
          "execution_count": 36
        }
      ]
    },
    {
      "cell_type": "markdown",
      "source": [
        "## 사전 훈련된 GloVe 사용\n",
        "\n",
        "위에서는 Keras로 처음부터 다 만들었지만, 이번에는 있는걸 활용해본다."
      ],
      "metadata": {
        "id": "CSYmOiPJUEh7"
      }
    },
    {
      "cell_type": "code",
      "source": [
        "from urllib.request import urlretrieve, urlopen\n",
        "import gzip\n",
        "import zipfile\n",
        "\n",
        "urlretrieve(\"http://nlp.stanford.edu/data/glove.6B.zip\", filename=\"glove.6B.zip\")\n",
        "zf = zipfile.ZipFile('glove.6B.zip')\n",
        "zf.extractall()\n",
        "zf.close()"
      ],
      "metadata": {
        "id": "r0EFS2Khg5vV"
      },
      "execution_count": null,
      "outputs": []
    },
    {
      "cell_type": "code",
      "source": [
        "embedding_dict = dict()\n",
        "\n",
        "f = open('glove.6B.100d.txt', encoding='utf-8')\n",
        "\n",
        "for line in f:\n",
        "    word_vector = line.split()\n",
        "    word = word_vector[0]\n",
        "\n",
        "    word_vector_arr = np.asarray(word_vector[1:], dtype='float32')\n",
        "    embedding_dict[word] = word_vector_arr\n",
        "f.close()\n",
        "\n",
        "print('%s개의 Embedding vector가 있습니다.' % len(embedding_dict))"
      ],
      "metadata": {
        "colab": {
          "base_uri": "https://localhost:8080/"
        },
        "id": "J9rRYtCVTHxq",
        "outputId": "9378c243-ff09-41e4-9045-cebf9498ff1f"
      },
      "execution_count": null,
      "outputs": [
        {
          "output_type": "stream",
          "name": "stdout",
          "text": [
            "400000개의 Embedding vector가 있습니다.\n"
          ]
        }
      ]
    },
    {
      "cell_type": "code",
      "source": [
        "print(embedding_dict['respectable'])\n",
        "print('벡터의 차원 수 :',len(embedding_dict['respectable']))"
      ],
      "metadata": {
        "colab": {
          "base_uri": "https://localhost:8080/"
        },
        "id": "9pXRU0ivTH0t",
        "outputId": "4d35dd23-101e-4148-9229-f7a148decdeb"
      },
      "execution_count": null,
      "outputs": [
        {
          "output_type": "stream",
          "name": "stdout",
          "text": [
            "[-0.049773   0.19903    0.10585    0.1391    -0.32395    0.44053\n",
            "  0.3947    -0.22805   -0.25793    0.49768    0.15384   -0.08831\n",
            "  0.0782    -0.8299    -0.037788   0.16772   -0.45197   -0.17085\n",
            "  0.74756    0.98256    0.81872    0.28507    0.16178   -0.48626\n",
            " -0.006265  -0.92469   -0.30625   -0.067318  -0.046762  -0.76291\n",
            " -0.0025264 -0.018795   0.12882   -0.52457    0.3586     0.43119\n",
            " -0.89477   -0.057421  -0.53724    0.25587    0.55195    0.44698\n",
            " -0.24252    0.29946    0.25776   -0.8717     0.68426   -0.05688\n",
            " -0.1848    -0.59352   -0.11227   -0.57692   -0.013593   0.18488\n",
            " -0.32507   -0.90171    0.17672    0.075601   0.54896   -0.21488\n",
            " -0.54018   -0.45882   -0.79536    0.26331    0.18879   -0.16363\n",
            "  0.3975     0.1099     0.1164    -0.083499   0.50159    0.35802\n",
            "  0.25677    0.088546   0.42108    0.28674   -0.71285   -0.82915\n",
            "  0.15297   -0.82712    0.022112   1.067     -0.31776    0.1211\n",
            " -0.069755  -0.61327    0.27308   -0.42638   -0.085084  -0.17694\n",
            " -0.0090944  0.1109     0.62543   -0.23682   -0.44928   -0.3667\n",
            " -0.21616   -0.19187   -0.032502   0.38025  ]\n",
            "벡터의 차원 수 : 100\n"
          ]
        }
      ]
    },
    {
      "cell_type": "markdown",
      "source": [
        "내가 풀고자 하는 문제의 단어 집합 크기의 행과 100개의 열(사전 학습 모델의 embedding vector 크기)을 가지는 행렬을 생성한다."
      ],
      "metadata": {
        "id": "tYoKzakRVFs9"
      }
    },
    {
      "cell_type": "code",
      "source": [
        "embedding_matrix = np.zeros((vocab_size, 100))\n",
        "print('임베딩 행렬의 크기(shape) :',np.shape(embedding_matrix))"
      ],
      "metadata": {
        "colab": {
          "base_uri": "https://localhost:8080/"
        },
        "id": "PYEqKxQaTH3Z",
        "outputId": "0282f510-5c2a-445b-af60-0e5c4c3a3ee3"
      },
      "execution_count": null,
      "outputs": [
        {
          "output_type": "stream",
          "name": "stdout",
          "text": [
            "임베딩 행렬의 크기(shape) : (16, 100)\n"
          ]
        }
      ]
    },
    {
      "cell_type": "code",
      "source": [
        "print(tokenizer.word_index.items())"
      ],
      "metadata": {
        "colab": {
          "base_uri": "https://localhost:8080/"
        },
        "id": "AcRr_uZ4TH5y",
        "outputId": "fb065423-1caa-4a09-80d9-bdadc1dc9b9c"
      },
      "execution_count": null,
      "outputs": [
        {
          "output_type": "stream",
          "name": "stdout",
          "text": [
            "dict_items([('nice', 1), ('great', 2), ('best', 3), ('amazing', 4), ('stop', 5), ('lies', 6), ('pitiful', 7), ('nerd', 8), ('excellent', 9), ('work', 10), ('supreme', 11), ('quality', 12), ('bad', 13), ('highly', 14), ('respectable', 15)])\n"
          ]
        }
      ]
    },
    {
      "cell_type": "code",
      "source": [
        "tokenizer.word_index[\"great\"]"
      ],
      "metadata": {
        "colab": {
          "base_uri": "https://localhost:8080/"
        },
        "id": "NlCcnAnXTH8V",
        "outputId": "d75c5058-f94f-48ea-bd62-58fe1f474c35"
      },
      "execution_count": null,
      "outputs": [
        {
          "output_type": "execute_result",
          "data": {
            "text/plain": [
              "2"
            ]
          },
          "metadata": {},
          "execution_count": 43
        }
      ]
    },
    {
      "cell_type": "markdown",
      "source": [
        "사전 학습된 모델의 \"great\"단어의 embedding vector"
      ],
      "metadata": {
        "id": "ELUhn01NWDSC"
      }
    },
    {
      "cell_type": "code",
      "source": [
        "embedding_dict[\"great\"]"
      ],
      "metadata": {
        "colab": {
          "base_uri": "https://localhost:8080/"
        },
        "id": "dRh3gD-OTH_G",
        "outputId": "fbe3d94f-efec-423f-e58f-8fdc6d5d7d2e"
      },
      "execution_count": null,
      "outputs": [
        {
          "output_type": "execute_result",
          "data": {
            "text/plain": [
              "array([-0.013786 ,  0.38216  ,  0.53236  ,  0.15261  , -0.29694  ,\n",
              "       -0.20558  , -0.41846  , -0.58437  , -0.77355  , -0.87866  ,\n",
              "       -0.37858  , -0.18516  , -0.128    , -0.20584  , -0.22925  ,\n",
              "       -0.42599  ,  0.3725   ,  0.26077  , -1.0702   ,  0.62916  ,\n",
              "       -0.091469 ,  0.70348  , -0.4973   , -0.77691  ,  0.66045  ,\n",
              "        0.09465  , -0.44893  ,  0.018917 ,  0.33146  , -0.35022  ,\n",
              "       -0.35789  ,  0.030313 ,  0.22253  , -0.23236  , -0.19719  ,\n",
              "       -0.0053125, -0.25848  ,  0.58081  , -0.10705  , -0.17845  ,\n",
              "       -0.16206  ,  0.087086 ,  0.63029  , -0.76649  ,  0.51619  ,\n",
              "        0.14073  ,  1.019    , -0.43136  ,  0.46138  , -0.43585  ,\n",
              "       -0.47568  ,  0.19226  ,  0.36065  ,  0.78987  ,  0.088945 ,\n",
              "       -2.7814   , -0.15366  ,  0.01015  ,  1.1798   ,  0.15168  ,\n",
              "       -0.050112 ,  1.2626   , -0.77527  ,  0.36031  ,  0.95761  ,\n",
              "       -0.11385  ,  0.28035  , -0.02591  ,  0.31246  , -0.15424  ,\n",
              "        0.3778   , -0.13599  ,  0.2946   , -0.31579  ,  0.42943  ,\n",
              "        0.086969 ,  0.019169 , -0.27242  , -0.31696  ,  0.37327  ,\n",
              "        0.61997  ,  0.13889  ,  0.17188  ,  0.30363  , -1.2776   ,\n",
              "        0.044423 , -0.52736  , -0.88536  , -0.19428  , -0.61947  ,\n",
              "       -0.10146  , -0.26301  , -0.061707 ,  0.36627  , -0.95223  ,\n",
              "       -0.39346  , -0.69183  , -1.0426   ,  0.28855  ,  0.63056  ],\n",
              "      dtype=float32)"
            ]
          },
          "metadata": {},
          "execution_count": 44
        }
      ]
    },
    {
      "cell_type": "markdown",
      "source": [
        "아까 만든 16 개의 단어들에 대한 embedding vector의 값들을 사전 학습된 lookup table에서 찾아서 채워 넣는다"
      ],
      "metadata": {
        "id": "fjh5Fu5FWWlM"
      }
    },
    {
      "cell_type": "code",
      "source": [
        "for word, index in tokenizer.word_index.items():\n",
        "    vector_value = embedding_dict.get(word)\n",
        "    if vector_value is not None:\n",
        "        embedding_matrix[index] = vector_value"
      ],
      "metadata": {
        "id": "0FIj8BWdTIBy"
      },
      "execution_count": null,
      "outputs": []
    },
    {
      "cell_type": "code",
      "source": [
        "embedding_matrix[2]"
      ],
      "metadata": {
        "colab": {
          "base_uri": "https://localhost:8080/"
        },
        "id": "fP7mg7YlTIEY",
        "outputId": "2cd03ca9-0b45-418e-c205-34c016b33da0"
      },
      "execution_count": null,
      "outputs": [
        {
          "output_type": "execute_result",
          "data": {
            "text/plain": [
              "array([-0.013786  ,  0.38216001,  0.53236002,  0.15261   , -0.29694   ,\n",
              "       -0.20558   , -0.41846001, -0.58437002, -0.77354997, -0.87866002,\n",
              "       -0.37858   , -0.18516   , -0.12800001, -0.20584001, -0.22925   ,\n",
              "       -0.42598999,  0.3725    ,  0.26076999, -1.07019997,  0.62915999,\n",
              "       -0.091469  ,  0.70348001, -0.4973    , -0.77691001,  0.66044998,\n",
              "        0.09465   , -0.44893   ,  0.018917  ,  0.33146   , -0.35021999,\n",
              "       -0.35789001,  0.030313  ,  0.22253001, -0.23236001, -0.19719   ,\n",
              "       -0.0053125 , -0.25848001,  0.58081001, -0.10705   , -0.17845   ,\n",
              "       -0.16205999,  0.087086  ,  0.63028997, -0.76648998,  0.51618999,\n",
              "        0.14072999,  1.01900005, -0.43136001,  0.46138   , -0.43584999,\n",
              "       -0.47567999,  0.19226   ,  0.36065   ,  0.78987002,  0.088945  ,\n",
              "       -2.78139997, -0.15366   ,  0.01015   ,  1.17980003,  0.15167999,\n",
              "       -0.050112  ,  1.26259995, -0.77526999,  0.36030999,  0.95761001,\n",
              "       -0.11385   ,  0.28035   , -0.02591   ,  0.31246001, -0.15424   ,\n",
              "        0.37779999, -0.13598999,  0.29460001, -0.31579   ,  0.42943001,\n",
              "        0.086969  ,  0.019169  , -0.27241999, -0.31696001,  0.37327   ,\n",
              "        0.61997002,  0.13889   ,  0.17188001,  0.30362999, -1.27760005,\n",
              "        0.044423  , -0.52736002, -0.88536   , -0.19428   , -0.61947   ,\n",
              "       -0.10146   , -0.26301   , -0.061707  ,  0.36627001, -0.95222998,\n",
              "       -0.39346001, -0.69182998, -1.04260004,  0.28854999,  0.63055998])"
            ]
          },
          "metadata": {},
          "execution_count": 46
        }
      ]
    },
    {
      "cell_type": "code",
      "source": [
        "from tensorflow.keras.models import Sequential\n",
        "from tensorflow.keras.layers import Dense, Embedding, Flatten\n",
        "\n",
        "output_dim = 100\n",
        "\n",
        "model = Sequential()\n",
        "# weight 초기값을 사전 학습된 lookup table을 사용하고 해당 사전 학습 모델은 가만히 놔둔다는 의미에서 trainable=False\n",
        "e = Embedding(vocab_size, output_dim, weights=[embedding_matrix], input_length=max_len, trainable=False)\n",
        "model.add(e)\n",
        "model.add(Flatten())\n",
        "model.add(Dense(1, activation='sigmoid'))\n",
        "\n",
        "model.compile(optimizer='adam', loss='binary_crossentropy', metrics=['acc'])\n",
        "model.fit(X_train, y_train, epochs=100, verbose=2)"
      ],
      "metadata": {
        "colab": {
          "base_uri": "https://localhost:8080/"
        },
        "id": "OliCcP8pTIHU",
        "outputId": "b98bfcbc-c6e5-4da4-dd88-97859c67bb16"
      },
      "execution_count": null,
      "outputs": [
        {
          "output_type": "stream",
          "name": "stdout",
          "text": [
            "Epoch 1/100\n",
            "1/1 - 1s - loss: 0.6832 - acc: 0.4286 - 646ms/epoch - 646ms/step\n",
            "Epoch 2/100\n",
            "1/1 - 0s - loss: 0.6658 - acc: 0.4286 - 8ms/epoch - 8ms/step\n",
            "Epoch 3/100\n",
            "1/1 - 0s - loss: 0.6489 - acc: 0.4286 - 8ms/epoch - 8ms/step\n",
            "Epoch 4/100\n",
            "1/1 - 0s - loss: 0.6326 - acc: 0.4286 - 9ms/epoch - 9ms/step\n",
            "Epoch 5/100\n",
            "1/1 - 0s - loss: 0.6167 - acc: 0.7143 - 8ms/epoch - 8ms/step\n",
            "Epoch 6/100\n",
            "1/1 - 0s - loss: 0.6012 - acc: 0.7143 - 7ms/epoch - 7ms/step\n",
            "Epoch 7/100\n",
            "1/1 - 0s - loss: 0.5863 - acc: 0.7143 - 7ms/epoch - 7ms/step\n",
            "Epoch 8/100\n",
            "1/1 - 0s - loss: 0.5718 - acc: 0.7143 - 8ms/epoch - 8ms/step\n",
            "Epoch 9/100\n",
            "1/1 - 0s - loss: 0.5577 - acc: 0.7143 - 9ms/epoch - 9ms/step\n",
            "Epoch 10/100\n",
            "1/1 - 0s - loss: 0.5440 - acc: 0.7143 - 7ms/epoch - 7ms/step\n",
            "Epoch 11/100\n",
            "1/1 - 0s - loss: 0.5307 - acc: 0.7143 - 8ms/epoch - 8ms/step\n",
            "Epoch 12/100\n",
            "1/1 - 0s - loss: 0.5178 - acc: 0.8571 - 7ms/epoch - 7ms/step\n",
            "Epoch 13/100\n",
            "1/1 - 0s - loss: 0.5053 - acc: 1.0000 - 7ms/epoch - 7ms/step\n",
            "Epoch 14/100\n",
            "1/1 - 0s - loss: 0.4932 - acc: 1.0000 - 7ms/epoch - 7ms/step\n",
            "Epoch 15/100\n",
            "1/1 - 0s - loss: 0.4814 - acc: 1.0000 - 8ms/epoch - 8ms/step\n",
            "Epoch 16/100\n",
            "1/1 - 0s - loss: 0.4699 - acc: 1.0000 - 8ms/epoch - 8ms/step\n",
            "Epoch 17/100\n",
            "1/1 - 0s - loss: 0.4588 - acc: 1.0000 - 8ms/epoch - 8ms/step\n",
            "Epoch 18/100\n",
            "1/1 - 0s - loss: 0.4480 - acc: 1.0000 - 8ms/epoch - 8ms/step\n",
            "Epoch 19/100\n",
            "1/1 - 0s - loss: 0.4375 - acc: 1.0000 - 7ms/epoch - 7ms/step\n",
            "Epoch 20/100\n",
            "1/1 - 0s - loss: 0.4273 - acc: 1.0000 - 7ms/epoch - 7ms/step\n",
            "Epoch 21/100\n",
            "1/1 - 0s - loss: 0.4174 - acc: 1.0000 - 10ms/epoch - 10ms/step\n",
            "Epoch 22/100\n",
            "1/1 - 0s - loss: 0.4078 - acc: 1.0000 - 8ms/epoch - 8ms/step\n",
            "Epoch 23/100\n",
            "1/1 - 0s - loss: 0.3985 - acc: 1.0000 - 7ms/epoch - 7ms/step\n",
            "Epoch 24/100\n",
            "1/1 - 0s - loss: 0.3894 - acc: 1.0000 - 8ms/epoch - 8ms/step\n",
            "Epoch 25/100\n",
            "1/1 - 0s - loss: 0.3806 - acc: 1.0000 - 8ms/epoch - 8ms/step\n",
            "Epoch 26/100\n",
            "1/1 - 0s - loss: 0.3720 - acc: 1.0000 - 7ms/epoch - 7ms/step\n",
            "Epoch 27/100\n",
            "1/1 - 0s - loss: 0.3637 - acc: 1.0000 - 7ms/epoch - 7ms/step\n",
            "Epoch 28/100\n",
            "1/1 - 0s - loss: 0.3555 - acc: 1.0000 - 7ms/epoch - 7ms/step\n",
            "Epoch 29/100\n",
            "1/1 - 0s - loss: 0.3477 - acc: 1.0000 - 8ms/epoch - 8ms/step\n",
            "Epoch 30/100\n",
            "1/1 - 0s - loss: 0.3400 - acc: 1.0000 - 7ms/epoch - 7ms/step\n",
            "Epoch 31/100\n",
            "1/1 - 0s - loss: 0.3326 - acc: 1.0000 - 7ms/epoch - 7ms/step\n",
            "Epoch 32/100\n",
            "1/1 - 0s - loss: 0.3253 - acc: 1.0000 - 7ms/epoch - 7ms/step\n",
            "Epoch 33/100\n",
            "1/1 - 0s - loss: 0.3183 - acc: 1.0000 - 9ms/epoch - 9ms/step\n",
            "Epoch 34/100\n",
            "1/1 - 0s - loss: 0.3114 - acc: 1.0000 - 8ms/epoch - 8ms/step\n",
            "Epoch 35/100\n",
            "1/1 - 0s - loss: 0.3047 - acc: 1.0000 - 8ms/epoch - 8ms/step\n",
            "Epoch 36/100\n",
            "1/1 - 0s - loss: 0.2983 - acc: 1.0000 - 8ms/epoch - 8ms/step\n",
            "Epoch 37/100\n",
            "1/1 - 0s - loss: 0.2920 - acc: 1.0000 - 8ms/epoch - 8ms/step\n",
            "Epoch 38/100\n",
            "1/1 - 0s - loss: 0.2858 - acc: 1.0000 - 8ms/epoch - 8ms/step\n",
            "Epoch 39/100\n",
            "1/1 - 0s - loss: 0.2799 - acc: 1.0000 - 8ms/epoch - 8ms/step\n",
            "Epoch 40/100\n",
            "1/1 - 0s - loss: 0.2741 - acc: 1.0000 - 8ms/epoch - 8ms/step\n",
            "Epoch 41/100\n",
            "1/1 - 0s - loss: 0.2684 - acc: 1.0000 - 8ms/epoch - 8ms/step\n",
            "Epoch 42/100\n",
            "1/1 - 0s - loss: 0.2630 - acc: 1.0000 - 9ms/epoch - 9ms/step\n",
            "Epoch 43/100\n",
            "1/1 - 0s - loss: 0.2576 - acc: 1.0000 - 8ms/epoch - 8ms/step\n",
            "Epoch 44/100\n",
            "1/1 - 0s - loss: 0.2524 - acc: 1.0000 - 14ms/epoch - 14ms/step\n",
            "Epoch 45/100\n",
            "1/1 - 0s - loss: 0.2474 - acc: 1.0000 - 8ms/epoch - 8ms/step\n",
            "Epoch 46/100\n",
            "1/1 - 0s - loss: 0.2425 - acc: 1.0000 - 9ms/epoch - 9ms/step\n",
            "Epoch 47/100\n",
            "1/1 - 0s - loss: 0.2377 - acc: 1.0000 - 8ms/epoch - 8ms/step\n",
            "Epoch 48/100\n",
            "1/1 - 0s - loss: 0.2331 - acc: 1.0000 - 8ms/epoch - 8ms/step\n",
            "Epoch 49/100\n",
            "1/1 - 0s - loss: 0.2286 - acc: 1.0000 - 8ms/epoch - 8ms/step\n",
            "Epoch 50/100\n",
            "1/1 - 0s - loss: 0.2242 - acc: 1.0000 - 7ms/epoch - 7ms/step\n",
            "Epoch 51/100\n",
            "1/1 - 0s - loss: 0.2199 - acc: 1.0000 - 8ms/epoch - 8ms/step\n",
            "Epoch 52/100\n",
            "1/1 - 0s - loss: 0.2158 - acc: 1.0000 - 8ms/epoch - 8ms/step\n",
            "Epoch 53/100\n",
            "1/1 - 0s - loss: 0.2117 - acc: 1.0000 - 8ms/epoch - 8ms/step\n",
            "Epoch 54/100\n",
            "1/1 - 0s - loss: 0.2078 - acc: 1.0000 - 7ms/epoch - 7ms/step\n",
            "Epoch 55/100\n",
            "1/1 - 0s - loss: 0.2040 - acc: 1.0000 - 8ms/epoch - 8ms/step\n",
            "Epoch 56/100\n",
            "1/1 - 0s - loss: 0.2002 - acc: 1.0000 - 8ms/epoch - 8ms/step\n",
            "Epoch 57/100\n",
            "1/1 - 0s - loss: 0.1966 - acc: 1.0000 - 8ms/epoch - 8ms/step\n",
            "Epoch 58/100\n",
            "1/1 - 0s - loss: 0.1931 - acc: 1.0000 - 8ms/epoch - 8ms/step\n",
            "Epoch 59/100\n",
            "1/1 - 0s - loss: 0.1896 - acc: 1.0000 - 7ms/epoch - 7ms/step\n",
            "Epoch 60/100\n",
            "1/1 - 0s - loss: 0.1863 - acc: 1.0000 - 8ms/epoch - 8ms/step\n",
            "Epoch 61/100\n",
            "1/1 - 0s - loss: 0.1830 - acc: 1.0000 - 8ms/epoch - 8ms/step\n",
            "Epoch 62/100\n",
            "1/1 - 0s - loss: 0.1799 - acc: 1.0000 - 7ms/epoch - 7ms/step\n",
            "Epoch 63/100\n",
            "1/1 - 0s - loss: 0.1768 - acc: 1.0000 - 8ms/epoch - 8ms/step\n",
            "Epoch 64/100\n",
            "1/1 - 0s - loss: 0.1738 - acc: 1.0000 - 7ms/epoch - 7ms/step\n",
            "Epoch 65/100\n",
            "1/1 - 0s - loss: 0.1708 - acc: 1.0000 - 8ms/epoch - 8ms/step\n",
            "Epoch 66/100\n",
            "1/1 - 0s - loss: 0.1680 - acc: 1.0000 - 8ms/epoch - 8ms/step\n",
            "Epoch 67/100\n",
            "1/1 - 0s - loss: 0.1652 - acc: 1.0000 - 7ms/epoch - 7ms/step\n",
            "Epoch 68/100\n",
            "1/1 - 0s - loss: 0.1624 - acc: 1.0000 - 8ms/epoch - 8ms/step\n",
            "Epoch 69/100\n",
            "1/1 - 0s - loss: 0.1598 - acc: 1.0000 - 8ms/epoch - 8ms/step\n",
            "Epoch 70/100\n",
            "1/1 - 0s - loss: 0.1572 - acc: 1.0000 - 8ms/epoch - 8ms/step\n",
            "Epoch 71/100\n",
            "1/1 - 0s - loss: 0.1547 - acc: 1.0000 - 10ms/epoch - 10ms/step\n",
            "Epoch 72/100\n",
            "1/1 - 0s - loss: 0.1522 - acc: 1.0000 - 8ms/epoch - 8ms/step\n",
            "Epoch 73/100\n",
            "1/1 - 0s - loss: 0.1498 - acc: 1.0000 - 8ms/epoch - 8ms/step\n",
            "Epoch 74/100\n",
            "1/1 - 0s - loss: 0.1475 - acc: 1.0000 - 8ms/epoch - 8ms/step\n",
            "Epoch 75/100\n",
            "1/1 - 0s - loss: 0.1452 - acc: 1.0000 - 7ms/epoch - 7ms/step\n",
            "Epoch 76/100\n",
            "1/1 - 0s - loss: 0.1430 - acc: 1.0000 - 8ms/epoch - 8ms/step\n",
            "Epoch 77/100\n",
            "1/1 - 0s - loss: 0.1408 - acc: 1.0000 - 8ms/epoch - 8ms/step\n",
            "Epoch 78/100\n",
            "1/1 - 0s - loss: 0.1387 - acc: 1.0000 - 8ms/epoch - 8ms/step\n",
            "Epoch 79/100\n",
            "1/1 - 0s - loss: 0.1366 - acc: 1.0000 - 8ms/epoch - 8ms/step\n",
            "Epoch 80/100\n",
            "1/1 - 0s - loss: 0.1346 - acc: 1.0000 - 7ms/epoch - 7ms/step\n",
            "Epoch 81/100\n",
            "1/1 - 0s - loss: 0.1326 - acc: 1.0000 - 8ms/epoch - 8ms/step\n",
            "Epoch 82/100\n",
            "1/1 - 0s - loss: 0.1307 - acc: 1.0000 - 7ms/epoch - 7ms/step\n",
            "Epoch 83/100\n",
            "1/1 - 0s - loss: 0.1288 - acc: 1.0000 - 8ms/epoch - 8ms/step\n",
            "Epoch 84/100\n",
            "1/1 - 0s - loss: 0.1269 - acc: 1.0000 - 8ms/epoch - 8ms/step\n",
            "Epoch 85/100\n",
            "1/1 - 0s - loss: 0.1251 - acc: 1.0000 - 8ms/epoch - 8ms/step\n",
            "Epoch 86/100\n",
            "1/1 - 0s - loss: 0.1234 - acc: 1.0000 - 8ms/epoch - 8ms/step\n",
            "Epoch 87/100\n",
            "1/1 - 0s - loss: 0.1216 - acc: 1.0000 - 8ms/epoch - 8ms/step\n",
            "Epoch 88/100\n",
            "1/1 - 0s - loss: 0.1199 - acc: 1.0000 - 8ms/epoch - 8ms/step\n",
            "Epoch 89/100\n",
            "1/1 - 0s - loss: 0.1183 - acc: 1.0000 - 9ms/epoch - 9ms/step\n",
            "Epoch 90/100\n",
            "1/1 - 0s - loss: 0.1167 - acc: 1.0000 - 7ms/epoch - 7ms/step\n",
            "Epoch 91/100\n",
            "1/1 - 0s - loss: 0.1151 - acc: 1.0000 - 7ms/epoch - 7ms/step\n",
            "Epoch 92/100\n",
            "1/1 - 0s - loss: 0.1135 - acc: 1.0000 - 7ms/epoch - 7ms/step\n",
            "Epoch 93/100\n",
            "1/1 - 0s - loss: 0.1120 - acc: 1.0000 - 7ms/epoch - 7ms/step\n",
            "Epoch 94/100\n",
            "1/1 - 0s - loss: 0.1105 - acc: 1.0000 - 9ms/epoch - 9ms/step\n",
            "Epoch 95/100\n",
            "1/1 - 0s - loss: 0.1091 - acc: 1.0000 - 8ms/epoch - 8ms/step\n",
            "Epoch 96/100\n",
            "1/1 - 0s - loss: 0.1077 - acc: 1.0000 - 8ms/epoch - 8ms/step\n",
            "Epoch 97/100\n",
            "1/1 - 0s - loss: 0.1063 - acc: 1.0000 - 7ms/epoch - 7ms/step\n",
            "Epoch 98/100\n",
            "1/1 - 0s - loss: 0.1049 - acc: 1.0000 - 8ms/epoch - 8ms/step\n",
            "Epoch 99/100\n",
            "1/1 - 0s - loss: 0.1036 - acc: 1.0000 - 7ms/epoch - 7ms/step\n",
            "Epoch 100/100\n",
            "1/1 - 0s - loss: 0.1023 - acc: 1.0000 - 7ms/epoch - 7ms/step\n"
          ]
        },
        {
          "output_type": "execute_result",
          "data": {
            "text/plain": [
              "<keras.callbacks.History at 0x7fb4311ce8c0>"
            ]
          },
          "metadata": {},
          "execution_count": 48
        }
      ]
    },
    {
      "cell_type": "markdown",
      "source": [
        "## ELMo (Embeddings from Language Model)\n",
        "\n",
        "위에서 소개한 모델들은 같은 단어면 항상 같은 임베딩 벡터를 지닌다. 하지만 동음이의어를 처러할 수 없다. 그렇기에 문맥에 따라 같은 단어도 다르게 임베딩이 된다면 어쩔지에 대해서 착안한 방법이다.\n",
        "\n",
        "ELMo는 순방향 언어모델과 역방향 언어 모델을 둘 다 학습한다. 이 때 이 두 모델은 별개의 모델이다.그리고 입력으로 들어가는 벡터는 위에서 서술한 방식으로 만든 embedded vector가 아닌 합성곱을 이용해 embedding한 벡터이다. \n",
        "\n",
        "기본적으로 해당 모델은 2개 이상의 hidden layer가 있어야 한다. "
      ],
      "metadata": {
        "id": "AptTfYrjYDin"
      }
    },
    {
      "cell_type": "markdown",
      "source": [
        "## 워드 임베딩의 평균\n",
        "\n",
        "문장 내의 단어들의 임베딩 벡터들의 평균이 그 문장의 벡터가 될 수 있는 예시이다."
      ],
      "metadata": {
        "id": "DcACp5u_o0gv"
      }
    },
    {
      "cell_type": "code",
      "source": [
        "import numpy as np\n",
        "from tensorflow.keras.datasets import imdb\n",
        "from tensorflow.keras.preprocessing.sequence import pad_sequences"
      ],
      "metadata": {
        "id": "5cXE2f5NdATQ"
      },
      "execution_count": null,
      "outputs": []
    },
    {
      "cell_type": "code",
      "source": [
        "vocab_size = 20000\n",
        "\n",
        "(X_train, y_train), (X_test, y_test) = imdb.load_data(num_words=vocab_size)\n",
        "print('훈련용 리뷰 개수 :',len(X_train))\n",
        "print('테스트용 리뷰 개수 :',len(X_test))"
      ],
      "metadata": {
        "colab": {
          "base_uri": "https://localhost:8080/"
        },
        "id": "MVrdMsWgdAWe",
        "outputId": "4001e852-bf71-42a3-857f-9cd50971d212"
      },
      "execution_count": null,
      "outputs": [
        {
          "output_type": "stream",
          "name": "stdout",
          "text": [
            "Downloading data from https://storage.googleapis.com/tensorflow/tf-keras-datasets/imdb.npz\n",
            "17464789/17464789 [==============================] - 2s 0us/step\n",
            "훈련용 리뷰 개수 : 25000\n",
            "테스트용 리뷰 개수 : 25000\n"
          ]
        }
      ]
    },
    {
      "cell_type": "markdown",
      "source": [
        "정수 인코딩까지 완료가 된 데이터이다"
      ],
      "metadata": {
        "id": "tiGsLBMhpd_B"
      }
    },
    {
      "cell_type": "code",
      "source": [
        "print('훈련 데이터의 첫번째 샘플 :',X_train[0])\n",
        "print('훈련 데이터의 첫번째 샘플의 레이블 :',y_train[0])"
      ],
      "metadata": {
        "colab": {
          "base_uri": "https://localhost:8080/"
        },
        "id": "clnX9HBAdAYz",
        "outputId": "62c16500-8f1c-4528-ed1e-15f782255488"
      },
      "execution_count": null,
      "outputs": [
        {
          "output_type": "stream",
          "name": "stdout",
          "text": [
            "훈련 데이터의 첫번째 샘플 : [1, 14, 22, 16, 43, 530, 973, 1622, 1385, 65, 458, 4468, 66, 3941, 4, 173, 36, 256, 5, 25, 100, 43, 838, 112, 50, 670, 2, 9, 35, 480, 284, 5, 150, 4, 172, 112, 167, 2, 336, 385, 39, 4, 172, 4536, 1111, 17, 546, 38, 13, 447, 4, 192, 50, 16, 6, 147, 2025, 19, 14, 22, 4, 1920, 4613, 469, 4, 22, 71, 87, 12, 16, 43, 530, 38, 76, 15, 13, 1247, 4, 22, 17, 515, 17, 12, 16, 626, 18, 19193, 5, 62, 386, 12, 8, 316, 8, 106, 5, 4, 2223, 5244, 16, 480, 66, 3785, 33, 4, 130, 12, 16, 38, 619, 5, 25, 124, 51, 36, 135, 48, 25, 1415, 33, 6, 22, 12, 215, 28, 77, 52, 5, 14, 407, 16, 82, 10311, 8, 4, 107, 117, 5952, 15, 256, 4, 2, 7, 3766, 5, 723, 36, 71, 43, 530, 476, 26, 400, 317, 46, 7, 4, 12118, 1029, 13, 104, 88, 4, 381, 15, 297, 98, 32, 2071, 56, 26, 141, 6, 194, 7486, 18, 4, 226, 22, 21, 134, 476, 26, 480, 5, 144, 30, 5535, 18, 51, 36, 28, 224, 92, 25, 104, 4, 226, 65, 16, 38, 1334, 88, 12, 16, 283, 5, 16, 4472, 113, 103, 32, 15, 16, 5345, 19, 178, 32]\n",
            "훈련 데이터의 첫번째 샘플의 레이블 : 1\n"
          ]
        }
      ]
    },
    {
      "cell_type": "code",
      "source": [
        "print('훈련용 리뷰의 평규 길이: {}'.format(np.mean(list(map(len, X_train)), dtype=int)))\n",
        "print('테스트용 리뷰의 평균 길이: {}'.format(np.mean(list(map(len, X_test)), dtype=int)))"
      ],
      "metadata": {
        "colab": {
          "base_uri": "https://localhost:8080/"
        },
        "id": "MxhE3FE8dAbg",
        "outputId": "5dec1006-e4b1-4b3d-f8a9-7c360f886755"
      },
      "execution_count": null,
      "outputs": [
        {
          "output_type": "stream",
          "name": "stdout",
          "text": [
            "훈련용 리뷰의 평규 길이: 238\n",
            "테스트용 리뷰의 평균 길이: 230\n"
          ]
        }
      ]
    },
    {
      "cell_type": "code",
      "source": [
        "max_len = 400\n",
        "\n",
        "X_train = pad_sequences(X_train, maxlen=max_len)\n",
        "X_test = pad_sequences(X_test, maxlen=max_len)\n",
        "print('X_train의 크기(shape) :', X_train.shape)\n",
        "print('X_test의 크기(shape) :', X_test.shape)"
      ],
      "metadata": {
        "colab": {
          "base_uri": "https://localhost:8080/"
        },
        "id": "Sg-0NoRldAeW",
        "outputId": "718e9a1c-ff9d-4358-fd91-eea865812126"
      },
      "execution_count": null,
      "outputs": [
        {
          "output_type": "stream",
          "name": "stdout",
          "text": [
            "X_train의 크기(shape) : (25000, 400)\n",
            "X_test의 크기(shape) : (25000, 400)\n"
          ]
        }
      ]
    },
    {
      "cell_type": "markdown",
      "source": [
        "Model Design\n",
        "\n",
        "GlobalAveragePooling1D는 입력으로 들어오는 모든 벡터들의 평균을 구하는 역할"
      ],
      "metadata": {
        "id": "Uk6jcrKIpnU2"
      }
    },
    {
      "cell_type": "code",
      "source": [
        "from tensorflow.keras.models import Sequential, load_model\n",
        "from tensorflow.keras.layers import Dense, Embedding, GlobalAveragePooling1D\n",
        "from tensorflow.keras.callbacks import EarlyStopping, ModelCheckpoint"
      ],
      "metadata": {
        "id": "g3P7awmfdAhK"
      },
      "execution_count": null,
      "outputs": []
    },
    {
      "cell_type": "code",
      "source": [
        "embedding_dim = 64\n",
        "\n",
        "model = Sequential()\n",
        "model.add(Embedding(vocab_size, embedding_dim))\n",
        "\n",
        "model.add(GlobalAveragePooling1D())\n",
        "model.add(Dense(1, activation='sigmoid'))\n",
        "\n",
        "es = EarlyStopping(monitor='val_loss', mode='min', verbose=1, patience=4)\n",
        "mc = ModelCheckpoint('embedding_average_model.h5', monitor='val_acc', mode='max', verbose=1, save_best_only=True)\n",
        "\n",
        "model.compile(loss='binary_crossentropy', optimizer='adam', metrics=['acc'])\n",
        "model.fit(X_train, y_train, batch_size=32, epochs=10, callbacks=[es, mc], validation_split=0.2)"
      ],
      "metadata": {
        "colab": {
          "base_uri": "https://localhost:8080/"
        },
        "id": "w8hUxBqcdAko",
        "outputId": "0a37f419-88e0-467d-ab32-d9e71d49589f"
      },
      "execution_count": null,
      "outputs": [
        {
          "output_type": "stream",
          "name": "stdout",
          "text": [
            "Epoch 1/10\n",
            "622/625 [============================>.] - ETA: 0s - loss: 0.6305 - acc: 0.7110\n",
            "Epoch 1: val_acc improved from -inf to 0.80680, saving model to embedding_average_model.h5\n",
            "625/625 [==============================] - 82s 130ms/step - loss: 0.6301 - acc: 0.7114 - val_loss: 0.5250 - val_acc: 0.8068\n",
            "Epoch 2/10\n",
            "611/625 [============================>.] - ETA: 0s - loss: 0.4334 - acc: 0.8524\n",
            "Epoch 2: val_acc improved from 0.80680 to 0.86760, saving model to embedding_average_model.h5\n",
            "625/625 [==============================] - 33s 52ms/step - loss: 0.4320 - acc: 0.8530 - val_loss: 0.3796 - val_acc: 0.8676\n",
            "Epoch 3/10\n",
            "621/625 [============================>.] - ETA: 0s - loss: 0.3192 - acc: 0.8922\n",
            "Epoch 3: val_acc improved from 0.86760 to 0.88000, saving model to embedding_average_model.h5\n",
            "625/625 [==============================] - 15s 25ms/step - loss: 0.3191 - acc: 0.8922 - val_loss: 0.3235 - val_acc: 0.8800\n",
            "Epoch 4/10\n",
            "624/625 [============================>.] - ETA: 0s - loss: 0.2619 - acc: 0.9105\n",
            "Epoch 4: val_acc improved from 0.88000 to 0.88760, saving model to embedding_average_model.h5\n",
            "625/625 [==============================] - 9s 15ms/step - loss: 0.2619 - acc: 0.9104 - val_loss: 0.2969 - val_acc: 0.8876\n",
            "Epoch 5/10\n",
            "619/625 [============================>.] - ETA: 0s - loss: 0.2241 - acc: 0.9224\n",
            "Epoch 5: val_acc improved from 0.88760 to 0.89080, saving model to embedding_average_model.h5\n",
            "625/625 [==============================] - 9s 15ms/step - loss: 0.2243 - acc: 0.9225 - val_loss: 0.2828 - val_acc: 0.8908\n",
            "Epoch 6/10\n",
            "623/625 [============================>.] - ETA: 0s - loss: 0.1955 - acc: 0.9341\n",
            "Epoch 6: val_acc improved from 0.89080 to 0.89300, saving model to embedding_average_model.h5\n",
            "625/625 [==============================] - 7s 11ms/step - loss: 0.1955 - acc: 0.9340 - val_loss: 0.2747 - val_acc: 0.8930\n",
            "Epoch 7/10\n",
            "619/625 [============================>.] - ETA: 0s - loss: 0.1726 - acc: 0.9431\n",
            "Epoch 7: val_acc improved from 0.89300 to 0.89400, saving model to embedding_average_model.h5\n",
            "625/625 [==============================] - 6s 9ms/step - loss: 0.1722 - acc: 0.9434 - val_loss: 0.2713 - val_acc: 0.8940\n",
            "Epoch 8/10\n",
            "615/625 [============================>.] - ETA: 0s - loss: 0.1526 - acc: 0.9498\n",
            "Epoch 8: val_acc improved from 0.89400 to 0.89420, saving model to embedding_average_model.h5\n",
            "625/625 [==============================] - 6s 9ms/step - loss: 0.1523 - acc: 0.9499 - val_loss: 0.2719 - val_acc: 0.8942\n",
            "Epoch 9/10\n",
            "622/625 [============================>.] - ETA: 0s - loss: 0.1353 - acc: 0.9569\n",
            "Epoch 9: val_acc improved from 0.89420 to 0.89520, saving model to embedding_average_model.h5\n",
            "625/625 [==============================] - 7s 11ms/step - loss: 0.1354 - acc: 0.9568 - val_loss: 0.2734 - val_acc: 0.8952\n",
            "Epoch 10/10\n",
            "614/625 [============================>.] - ETA: 0s - loss: 0.1205 - acc: 0.9616\n",
            "Epoch 10: val_acc did not improve from 0.89520\n",
            "625/625 [==============================] - 3s 5ms/step - loss: 0.1205 - acc: 0.9617 - val_loss: 0.2809 - val_acc: 0.8926\n"
          ]
        },
        {
          "output_type": "execute_result",
          "data": {
            "text/plain": [
              "<keras.callbacks.History at 0x7fb4d5bf5510>"
            ]
          },
          "metadata": {},
          "execution_count": 80
        }
      ]
    },
    {
      "cell_type": "code",
      "source": [
        "loaded_model = load_model(\"embedding_average_model.h5\")\n",
        "print(\"\\n 테스트 정확도: %.4f\" % (loaded_model.evaluate(X_test, y_test)[1]))"
      ],
      "metadata": {
        "colab": {
          "base_uri": "https://localhost:8080/"
        },
        "id": "dRdwZGyXdAnj",
        "outputId": "f5ad5def-e959-48f3-dd12-8fc50427c87a"
      },
      "execution_count": null,
      "outputs": [
        {
          "output_type": "stream",
          "name": "stdout",
          "text": [
            "782/782 [==============================] - 2s 2ms/step - loss: 0.2867 - acc: 0.8886\n",
            "\n",
            " 테스트 정확도: 0.8886\n"
          ]
        }
      ]
    },
    {
      "cell_type": "markdown",
      "source": [
        "단어 벡터들의 평균만 구해도 충분히 문장을 대표할 수 있다는 대표적인 사례이다."
      ],
      "metadata": {
        "id": "oKpBmefhqzRQ"
      }
    },
    {
      "cell_type": "code",
      "source": [
        "!wget --load-cookies /tmp/cookies.txt \"https://docs.google.com/uc?export=download&confirm=$(wget --quiet --save-cookies /tmp/cookies.txt --keep-session-cookies --no-check-certificate 'https://docs.google.com/uc?export=download&id=1XS0UlE8gNNTRjnL6e64sMacOhtVERIqL' -O- | sed -rn 's/.*confirm=([0-9A-Za-z_]+).*/\\1\\n/p')&id=1XS0UlE8gNNTRjnL6e64sMacOhtVERIqL\" -O dart.csv && rm -rf /tmp/cookies.txt"
      ],
      "metadata": {
        "id": "_N9MBMkIrHu4",
        "outputId": "374a67cb-bba3-4831-ca7d-2329ad9e7bdd",
        "colab": {
          "base_uri": "https://localhost:8080/"
        }
      },
      "execution_count": null,
      "outputs": [
        {
          "output_type": "stream",
          "name": "stdout",
          "text": [
            "--2023-05-03 11:14:18--  https://docs.google.com/uc?export=download&confirm=t&id=1XS0UlE8gNNTRjnL6e64sMacOhtVERIqL\n",
            "Resolving docs.google.com (docs.google.com)... 142.251.163.113, 142.251.163.102, 142.251.163.100, ...\n",
            "Connecting to docs.google.com (docs.google.com)|142.251.163.113|:443... connected.\n",
            "HTTP request sent, awaiting response... 303 See Other\n",
            "Location: https://doc-04-7k-docs.googleusercontent.com/docs/securesc/ha0ro937gcuc7l7deffksulhg5h7mbp1/hvm7m2nndmn3u17q8kcogkcaniuif2bc/1683112425000/17609157229046208934/*/1XS0UlE8gNNTRjnL6e64sMacOhtVERIqL?e=download&uuid=de75afe3-22f4-4f45-ac3e-e3bb66272583 [following]\n",
            "Warning: wildcards not supported in HTTP.\n",
            "--2023-05-03 11:14:18--  https://doc-04-7k-docs.googleusercontent.com/docs/securesc/ha0ro937gcuc7l7deffksulhg5h7mbp1/hvm7m2nndmn3u17q8kcogkcaniuif2bc/1683112425000/17609157229046208934/*/1XS0UlE8gNNTRjnL6e64sMacOhtVERIqL?e=download&uuid=de75afe3-22f4-4f45-ac3e-e3bb66272583\n",
            "Resolving doc-04-7k-docs.googleusercontent.com (doc-04-7k-docs.googleusercontent.com)... 142.251.111.132, 2607:f8b0:4004:c19::84\n",
            "Connecting to doc-04-7k-docs.googleusercontent.com (doc-04-7k-docs.googleusercontent.com)|142.251.111.132|:443... connected.\n",
            "HTTP request sent, awaiting response... 200 OK\n",
            "Length: 125061598 (119M) [text/csv]\n",
            "Saving to: ‘dart.csv’\n",
            "\n",
            "dart.csv            100%[===================>] 119.27M  86.7MB/s    in 1.4s    \n",
            "\n",
            "2023-05-03 11:14:20 (86.7 MB/s) - ‘dart.csv’ saved [125061598/125061598]\n",
            "\n"
          ]
        }
      ]
    },
    {
      "cell_type": "code",
      "source": [
        "!wget https://dumps.wikimedia.org/kowiki/latest/kowiki-latest-pages-articles.xml.bz2"
      ],
      "metadata": {
        "id": "Z_5ktp-8rHxh",
        "colab": {
          "base_uri": "https://localhost:8080/"
        },
        "outputId": "ee5d4921-3365-4d37-8778-6738524e89f3"
      },
      "execution_count": null,
      "outputs": [
        {
          "output_type": "stream",
          "name": "stdout",
          "text": [
            "--2023-05-03 13:04:24--  https://dumps.wikimedia.org/kowiki/latest/kowiki-latest-pages-articles.xml.bz2\n",
            "Resolving dumps.wikimedia.org (dumps.wikimedia.org)... 208.80.154.142, 2620:0:861:2:208:80:154:142\n",
            "Connecting to dumps.wikimedia.org (dumps.wikimedia.org)|208.80.154.142|:443... connected.\n",
            "HTTP request sent, awaiting response... 200 OK\n",
            "Length: 900873558 (859M) [application/octet-stream]\n",
            "Saving to: ‘kowiki-latest-pages-articles.xml.bz2’\n",
            "\n",
            "kowiki-latest-pages 100%[===================>] 859.14M  3.92MB/s    in 3m 45s  \n",
            "\n",
            "2023-05-03 13:08:09 (3.82 MB/s) - ‘kowiki-latest-pages-articles.xml.bz2’ saved [900873558/900873558]\n",
            "\n"
          ]
        }
      ]
    },
    {
      "cell_type": "code",
      "source": [
        "!python -m wikiextractor.WikiExtractor kowiki-latest-pages-articles.xml.bz2"
      ],
      "metadata": {
        "id": "Gn8LFCVwrH1t",
        "colab": {
          "base_uri": "https://localhost:8080/"
        },
        "outputId": "178b55ca-3cb7-4eba-b5e4-e65a289683e0"
      },
      "execution_count": null,
      "outputs": [
        {
          "output_type": "stream",
          "name": "stdout",
          "text": [
            "/usr/bin/python3: Error while finding module specification for 'wikiextractor.WikiExtractor' (ModuleNotFoundError: No module named 'wikiextractor')\n"
          ]
        }
      ]
    },
    {
      "cell_type": "code",
      "source": [],
      "metadata": {
        "id": "WKvYNCk4rH34"
      },
      "execution_count": null,
      "outputs": []
    },
    {
      "cell_type": "code",
      "source": [],
      "metadata": {
        "id": "vgbgeZWxrH6n"
      },
      "execution_count": null,
      "outputs": []
    },
    {
      "cell_type": "code",
      "source": [],
      "metadata": {
        "id": "QwqQtjNQrH9F"
      },
      "execution_count": null,
      "outputs": []
    },
    {
      "cell_type": "code",
      "source": [],
      "metadata": {
        "id": "8c00lfhSdAtc"
      },
      "execution_count": null,
      "outputs": []
    }
  ]
}