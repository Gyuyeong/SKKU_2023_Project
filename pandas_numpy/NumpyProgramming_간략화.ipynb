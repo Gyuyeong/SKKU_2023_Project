{
 "cells": [
  {
   "cell_type": "markdown",
   "metadata": {
    "id": "MlbnNKR0Cimq"
   },
   "source": [
    "# 넘파이 배열 프로그래밍¶\n",
    "\n",
    "Python의 데이터 조작은 NumPy array 조작과 거의 동의어이며, Pandas와 같은 최신 도구도 NumPy array를 중심으로 구성된다.\n",
    "\n",
    "이 시간에는 넘파이(NumPy) 패키지를 사용한 배열(array) 프로그래밍에 대해 공부한다. \n",
    "\n",
    "배열 프로그래밍은 대량의 동일형 데이터를 빠르게 조작하는데 유형한 도구로 데이터 분석과 딥러닝 등에서 자주 사용된다. 데이터 분석 관련 파이썬의 명령은 거의 대부분 넘파이 기능을 사용하므로 데이터 분석을 위해서는 Numpy를 잘 알고 있어야 한다.\n",
    "\n",
    "## 학습 목표¶\n",
    "* 배열과 리스트의 차이점을 알고 배열을 사용하는 이유를 이해한다.\n",
    "* 배열을 생성하고 다루는 방법을 익힌다.\n",
    "* 넘파이를 사용하여 기술 통계를 낼 수 있다.\n",
    "* 난수를 발생시키고 그 결과를 분석하는 방법을 공부한다."
   ]
  },
  {
   "cell_type": "markdown",
   "metadata": {
    "id": "DSL305UeGI0K"
   },
   "source": [
    "## 1 넘파이 배열¶\n",
    "\n",
    "### 넘파이(NumPy)\n",
    "\n",
    "많은 숫자 데이터를 하나의 변수에 넣고 관리 할 때 리스트는 속도가 느리고 메모리를 많이 차지하는 단점이 있다. 배열(array)을 사용하면 적은 메모리로 많은 데이터를 빠르게 처리할 수 있다. 배열은 리스트와 비슷하지만 다음과 같은 점에서 다르다.\n",
    "\n",
    "* 모든 원소가 같은 자료형이어야 한다.\n",
    "* 원소의 갯수를 바꿀 수 없다.\n",
    "\n",
    "파이썬은 자체적으로 배열 자료형을 제공하지 않는다. 따라서 배열을 구현한 다른 패키지를 임포트해야 한다. 파이썬에서 배열을 사용하기 위한 표준 패키지는 넘파이(NumPy)이며, 다차원의 배열 자료구조 클래스인 **ndarray** 클래스를 지원하며 벡터와 행렬을 사용하는 선형대수 계산에 주로 사용된다. \n",
    "\n",
    "넘파이의 배열 연산은 C로 구현된 내부 반복문을 사용하기 때문에 파이썬 반복문에 비해 속도가 빠르며 벡터화 연산(vectorized operation)을 이용하여 간단한 코드로도 복잡한 선형 대수 연산을 수행할 수 있다. 또한 배열 인덱싱(array indexing)을 사용한 질의(Query) 기능을 이용하여 간단한 코드로도 복잡한 수식을 계산할 수 있다."
   ]
  },
  {
   "cell_type": "markdown",
   "metadata": {
    "id": "nEbwg1ODHbWx"
   },
   "source": [
    "###  넘파이 패키지 임포트¶\n",
    "\n",
    "배열을 사용하기 위해서는 우선 다음과 같이 넘파이 패키지를 임포트한다. 넘파이는 np라는 이름으로 임포트하는 것이 관례이다.\n",
    "\n",
    "```\n",
    "import numpy as np\n",
    "```"
   ]
  },
  {
   "cell_type": "code",
   "execution_count": 1,
   "metadata": {
    "executionInfo": {
     "elapsed": 8,
     "status": "ok",
     "timestamp": 1649992455881,
     "user": {
      "displayName": "YSook Hwang",
      "userId": "12143454092848001070"
     },
     "user_tz": -540
    },
    "id": "3ywzqSty-XzI"
   },
   "outputs": [],
   "source": [
    "import numpy as np"
   ]
  },
  {
   "cell_type": "markdown",
   "metadata": {
    "id": "P2UJnXgaI7u5"
   },
   "source": [
    "### 1차원 배열 만들기¶\n",
    "\n",
    "#### array\n",
    "\n",
    "넘파이의 array 함수에 리스트를 넣으면 ndarray 클래스 객체 즉, 배열로 변환해 준다. 따라서 1 차원 배열을 만드는 방법은 다음과 같다.\n",
    "\n",
    "```\n",
    "ar = np.array([0, 1, 2, 3, 4, 5, 6, 7, 8, 9])\n",
    "ar\n",
    "#출력 결과 : array([0, 1, 2, 3, 4, 5, 6, 7, 8, 9])\n",
    "```\n",
    "\n",
    "리스트와 비슷해 보이지만 type 명령으로 자료형을 살펴보면 ndarray임을 알 수 있다.\n",
    "\n",
    "```\n",
    "type(ar)\n",
    "#출력 결과: numpy.ndarray\n",
    "```\n",
    "\n",
    "만들어진 ndarray 객체의 표현식(representation)을 보면 바깥쪽에 array()란 것이 붙어 있을 뿐 리스트와 동일한 구조처럼 보인다. 그러나 배열 객체와 리스트 객체는 많은 차이가 있다.\n",
    "\n",
    "우선 리스트 클래스 객체는 각각의 원소가 다른 자료형이 될 수 있다. 그러나 배열 객체 객체는 C언어의 배열처럼 연속적인 메모리 배치를 가지기 때문에 모든 원소가 같은 자료형이어야 한다. 이러한 제약사항이 있는 대신 원소에 대한 접근과 반복문 실행이 빨라진다."
   ]
  },
  {
   "cell_type": "code",
   "execution_count": 2,
   "metadata": {
    "colab": {
     "base_uri": "https://localhost:8080/"
    },
    "executionInfo": {
     "elapsed": 277,
     "status": "ok",
     "timestamp": 1649992460296,
     "user": {
      "displayName": "YSook Hwang",
      "userId": "12143454092848001070"
     },
     "user_tz": -540
    },
    "id": "4OjbKmi0-Sk_",
    "outputId": "6b6143dd-0839-4578-aa5d-2564a52055d9"
   },
   "outputs": [
    {
     "data": {
      "text/plain": [
       "array([0, 1, 2, 3, 4, 5, 6, 7, 8, 9])"
      ]
     },
     "execution_count": 2,
     "metadata": {},
     "output_type": "execute_result"
    }
   ],
   "source": [
    "ar = np.array([0, 1, 2, 3, 4, 5, 6, 7, 8, 9])\n",
    "ar"
   ]
  },
  {
   "cell_type": "code",
   "execution_count": 3,
   "metadata": {
    "colab": {
     "base_uri": "https://localhost:8080/"
    },
    "executionInfo": {
     "elapsed": 284,
     "status": "ok",
     "timestamp": 1649992463848,
     "user": {
      "displayName": "YSook Hwang",
      "userId": "12143454092848001070"
     },
     "user_tz": -540
    },
    "id": "LdB1RGoH-n5I",
    "outputId": "f9a4c8c5-f0fa-40e2-c9a7-6901762180c5"
   },
   "outputs": [
    {
     "data": {
      "text/plain": [
       "numpy.ndarray"
      ]
     },
     "execution_count": 3,
     "metadata": {},
     "output_type": "execute_result"
    }
   ],
   "source": [
    "type(ar)"
   ]
  },
  {
   "cell_type": "markdown",
   "metadata": {
    "id": "E3YLmHdVGoki"
   },
   "source": [
    "### 벡터화 연산¶\n",
    "\n",
    "#### 벡터화 연산(vectorized operation)\n",
    "\n",
    "배열 객체는 배열의 각 원소에 대한 반복 연산을 하나의 명령어로 처리하는 벡터화 연산(vectorized operation)을 지원한다. 예를 들어 다음처럼 여러개의 데이터를 모두 2배 해야 하는 경우를 생각하자.\n",
    "\n",
    "```\n",
    "data = [0, 1, 2, 3, 4, 5, 6, 7, 8, 9]\n",
    "```\n",
    "\n",
    "for 반복문을 사용하면 다음과 같이 구현할 수 있다.\n",
    "\n",
    "```\n",
    "answer = []\n",
    "for di in data:\n",
    "    answer.append(2 * di)\n",
    "answer\n",
    "#출력결과: [0, 2, 4, 6, 8, 10, 12, 14, 16, 18]\n",
    "```\n",
    "\n",
    "하지만 벡터화 연산을 사용하면 다음과 같이 for 반복문이 없이 한번의 연산으로 할 수 있다. 계산 속도도 반복문을 사용할 때 보다 훨씬 빠르다.\n",
    "\n",
    "```\n",
    "x = np.array(data)\n",
    "x\n",
    "#출력결과 : array([0, 1, 2, 3, 4, 5, 6, 7, 8, 9])\n",
    "2 * x\n",
    "#출력결과 : array([ 0,  2,  4,  6,  8, 10, 12, 14, 16, 18])\n",
    "```\n",
    "\n",
    "참고로 일반적인 리스트 객체에 정수를 곱하면 객체의 크기가 정수배 만큼으로 증가한다.\n",
    "\n",
    "```\n",
    "L = [0, 1, 2, 3, 4, 5, 6, 7, 8, 9]\n",
    "print(2 * L)\n",
    "#출력결과: [0, 1, 2, 3, 4, 5, 6, 7, 8, 9, 0, 1, 2, 3, 4, 5, 6, 7, 8, 9]\n",
    "```\n",
    "\n",
    "벡터화 연산은 비교 연산과 논리 연산을 포함한 모든 종류의 수학 연산에 대해 적용된다. \n",
    "\n",
    "```\n",
    "a = np.array([1, 2, 3])\n",
    "b = np.array([10, 20, 30])\n",
    "2 * a + b\n",
    "#출력결과: array([12, 24, 36])\n",
    "a == 2\n",
    "#출력결과: array([False,  True, False])\n",
    "b > 10\n",
    "#출력결과: array([False,  True,  True])\n",
    "(a == 2) & (b > 10)\n",
    "#출력결과: array([False,  True, False])\n",
    "```"
   ]
  },
  {
   "cell_type": "code",
   "execution_count": 4,
   "metadata": {
    "colab": {
     "base_uri": "https://localhost:8080/"
    },
    "executionInfo": {
     "elapsed": 6,
     "status": "ok",
     "timestamp": 1645509144836,
     "user": {
      "displayName": "YSook Hwang",
      "photoUrl": "https://lh3.googleusercontent.com/a/default-user=s64",
      "userId": "12143454092848001070"
     },
     "user_tz": -540
    },
    "id": "ramW5u53-Poy",
    "outputId": "1a8e262d-7a9d-4ab0-8c9b-75a716aaf93d"
   },
   "outputs": [
    {
     "data": {
      "text/plain": [
       "list"
      ]
     },
     "execution_count": 4,
     "metadata": {},
     "output_type": "execute_result"
    }
   ],
   "source": [
    "data = [0, 1, 2, 3, 4, 5, 6, 7, 8, 9]\n",
    "type(data)"
   ]
  },
  {
   "cell_type": "code",
   "execution_count": 5,
   "metadata": {
    "colab": {
     "base_uri": "https://localhost:8080/"
    },
    "executionInfo": {
     "elapsed": 5,
     "status": "ok",
     "timestamp": 1645509131466,
     "user": {
      "displayName": "YSook Hwang",
      "photoUrl": "https://lh3.googleusercontent.com/a/default-user=s64",
      "userId": "12143454092848001070"
     },
     "user_tz": -540
    },
    "id": "85-9eJrj_GZn",
    "outputId": "31fa4d0f-dd80-4b6d-f5bd-203023c0f21f"
   },
   "outputs": [
    {
     "data": {
      "text/plain": [
       "[0, 2, 4, 6, 8, 10, 12, 14, 16, 18]"
      ]
     },
     "execution_count": 5,
     "metadata": {},
     "output_type": "execute_result"
    }
   ],
   "source": [
    "answer = []\n",
    "for di in data:\n",
    "    answer.append(2 * di)\n",
    "answer"
   ]
  },
  {
   "cell_type": "code",
   "execution_count": 6,
   "metadata": {
    "colab": {
     "base_uri": "https://localhost:8080/"
    },
    "executionInfo": {
     "elapsed": 353,
     "status": "ok",
     "timestamp": 1645509165794,
     "user": {
      "displayName": "YSook Hwang",
      "photoUrl": "https://lh3.googleusercontent.com/a/default-user=s64",
      "userId": "12143454092848001070"
     },
     "user_tz": -540
    },
    "id": "5RI9AbaB_QRI",
    "outputId": "fbcba66e-e285-4295-db8e-16da6be3418f"
   },
   "outputs": [
    {
     "data": {
      "text/plain": [
       "array([ 0,  2,  4,  6,  8, 10, 12, 14, 16, 18])"
      ]
     },
     "execution_count": 6,
     "metadata": {},
     "output_type": "execute_result"
    }
   ],
   "source": [
    "x = np.array(data)\n",
    "x\n",
    "# 출력결과 : array([0, 1, 2, 3, 4, 5, 6, 7, 8, 9])\n",
    "2 * x\n",
    "# 출력결과 : array([ 0,  2,  4,  6,  8, 10, 12, 14, 16, 18])"
   ]
  },
  {
   "cell_type": "code",
   "execution_count": 7,
   "metadata": {
    "colab": {
     "base_uri": "https://localhost:8080/"
    },
    "executionInfo": {
     "elapsed": 370,
     "status": "ok",
     "timestamp": 1645512688966,
     "user": {
      "displayName": "YSook Hwang",
      "photoUrl": "https://lh3.googleusercontent.com/a/default-user=s64",
      "userId": "12143454092848001070"
     },
     "user_tz": -540
    },
    "id": "PdNFLgJYAZ1O",
    "outputId": "ee4084e3-acb3-4dd5-f776-e05f0982822d"
   },
   "outputs": [
    {
     "name": "stdout",
     "output_type": "stream",
     "text": [
      "[0, 1, 2, 3, 4, 5, 6, 7, 8, 9, 0, 1, 2, 3, 4, 5, 6, 7, 8, 9]\n"
     ]
    }
   ],
   "source": [
    "L = [0, 1, 2, 3, 4, 5, 6, 7, 8, 9]\n",
    "print(2 * L)"
   ]
  },
  {
   "cell_type": "code",
   "execution_count": 8,
   "metadata": {
    "colab": {
     "base_uri": "https://localhost:8080/"
    },
    "executionInfo": {
     "elapsed": 348,
     "status": "ok",
     "timestamp": 1645512799253,
     "user": {
      "displayName": "YSook Hwang",
      "photoUrl": "https://lh3.googleusercontent.com/a/default-user=s64",
      "userId": "12143454092848001070"
     },
     "user_tz": -540
    },
    "id": "SDRKQUk5Als2",
    "outputId": "0dd9959b-0c6a-4a32-ffaf-9f1e9e4e6b5b"
   },
   "outputs": [
    {
     "data": {
      "text/plain": [
       "array([12, 24, 36])"
      ]
     },
     "execution_count": 8,
     "metadata": {},
     "output_type": "execute_result"
    }
   ],
   "source": [
    "a = np.array([1, 2, 3])\n",
    "b = np.array([10, 20, 30])\n",
    "2 * a + b"
   ]
  },
  {
   "cell_type": "code",
   "execution_count": 9,
   "metadata": {
    "colab": {
     "base_uri": "https://localhost:8080/"
    },
    "executionInfo": {
     "elapsed": 498,
     "status": "ok",
     "timestamp": 1645509606712,
     "user": {
      "displayName": "YSook Hwang",
      "photoUrl": "https://lh3.googleusercontent.com/a/default-user=s64",
      "userId": "12143454092848001070"
     },
     "user_tz": -540
    },
    "id": "daFYdk_HAt1P",
    "outputId": "7a4ccd07-5867-4609-ca05-c1c4efbed711"
   },
   "outputs": [
    {
     "data": {
      "text/plain": [
       "array([False,  True, False])"
      ]
     },
     "execution_count": 9,
     "metadata": {},
     "output_type": "execute_result"
    }
   ],
   "source": [
    "a == 2"
   ]
  },
  {
   "cell_type": "code",
   "execution_count": 10,
   "metadata": {
    "colab": {
     "base_uri": "https://localhost:8080/"
    },
    "executionInfo": {
     "elapsed": 333,
     "status": "ok",
     "timestamp": 1645509638493,
     "user": {
      "displayName": "YSook Hwang",
      "photoUrl": "https://lh3.googleusercontent.com/a/default-user=s64",
      "userId": "12143454092848001070"
     },
     "user_tz": -540
    },
    "id": "l0VnFHODA9SA",
    "outputId": "5fa4d906-a508-4d97-8cd4-3ade76f47ccd"
   },
   "outputs": [
    {
     "data": {
      "text/plain": [
       "array([False,  True,  True])"
      ]
     },
     "execution_count": 10,
     "metadata": {},
     "output_type": "execute_result"
    }
   ],
   "source": [
    "b > 10"
   ]
  },
  {
   "cell_type": "code",
   "execution_count": 11,
   "metadata": {
    "colab": {
     "base_uri": "https://localhost:8080/"
    },
    "executionInfo": {
     "elapsed": 323,
     "status": "ok",
     "timestamp": 1645509647870,
     "user": {
      "displayName": "YSook Hwang",
      "photoUrl": "https://lh3.googleusercontent.com/a/default-user=s64",
      "userId": "12143454092848001070"
     },
     "user_tz": -540
    },
    "id": "4TjWrz5NBIEl",
    "outputId": "8dcc07c8-8724-4860-ebbb-3c4f5edbfe60"
   },
   "outputs": [
    {
     "data": {
      "text/plain": [
       "array([False,  True, False])"
      ]
     },
     "execution_count": 11,
     "metadata": {},
     "output_type": "execute_result"
    }
   ],
   "source": [
    "(a == 2) & (b > 10)"
   ]
  },
  {
   "cell_type": "markdown",
   "metadata": {
    "id": "jln0SNppOFMW"
   },
   "source": [
    "### 2차원 배열 만들기¶\n",
    "\n",
    "ndarray 는 N-dimensional Array의 약자이다. 이름 그대로 1차원 배열 이외에도 2차원 배열, 3차원 배열 등의 다차원 배열 자료 구조를 지원한다. 2차원 배열은 행렬(matrix)이라고 하는데 행렬에서는 가로줄을 행(row)이라고 하고 세로줄을 열(column)이라고 부른다.\n",
    "\n",
    "다음과 같이 리스트의 리스트(list of list)를 이용하면 2차원 배열을 생성할 수 있다. 안쪽 리스트의 길이는 행렬의 열의 수 즉, 가로 크기가 되고 바깥쪽 리스트의 길이는 행렬의 행의 수, 즉 세로 크기가 된다. 예를 들어 2개의 행과 3개의 열을 가지는 2 x 3 배열은 다음과 같이 만든다.\n",
    "\n",
    "```\n",
    "c = np.array([[0, 1, 2], [3, 4, 5]])  # 2 x 3 array\n",
    "c\n",
    "array([[0, 1, 2],\n",
    "       [3, 4, 5]])\n",
    "```       \n",
    "2차원 배열의 행과 열의 갯수는 다음처럼 구한다.\n",
    "\n",
    "```\n",
    "# 행의 갯수\n",
    "len(c)\n",
    "2\n",
    "# 열의 갯수\n",
    "len(c[0])\n",
    "3\n",
    "```\n",
    "\n",
    "### 3차원 배열 만들기¶\n",
    "\n",
    "리스트의 리스트의 리스트를 이용하면 3차원 배열도 생성할 수 있다. 크기를 나타낼 때는 가장 바깥쪽 리스트의 길이부터 가장 안쪽 리스트 길이의 순서로 표시한다. 예를 들어 2 x 3 x 4 배열은 다음과 같이 만든다.\n",
    "\n",
    "```\n",
    "d = np.array([[[1, 2, 3, 4],\n",
    "               [5, 6, 7, 8],\n",
    "               [9, 10, 11, 12]],\n",
    "              [[11, 12, 13, 14],\n",
    "               [15, 16, 17, 18],\n",
    "               [19, 20, 21, 22]]])   # 2 x 3 x 4 array\n",
    "```               \n",
    "\n",
    "3차원 배열의 깊이, 행, 열은 다음과 같이 구할 수 있다.\n",
    "\n",
    "```\n",
    "len(d), len(d[0]), len(d[0][0])\n",
    "(2, 3, 4)\n",
    "```"
   ]
  },
  {
   "cell_type": "code",
   "execution_count": 12,
   "metadata": {
    "colab": {
     "base_uri": "https://localhost:8080/"
    },
    "executionInfo": {
     "elapsed": 333,
     "status": "ok",
     "timestamp": 1645514040059,
     "user": {
      "displayName": "YSook Hwang",
      "photoUrl": "https://lh3.googleusercontent.com/a/default-user=s64",
      "userId": "12143454092848001070"
     },
     "user_tz": -540
    },
    "id": "p7G9LQINRk0M",
    "outputId": "f1aa6bfa-a434-4c2c-ce00-da7a5b73e924"
   },
   "outputs": [
    {
     "data": {
      "text/plain": [
       "array([[0, 1, 2],\n",
       "       [3, 4, 5]])"
      ]
     },
     "execution_count": 12,
     "metadata": {},
     "output_type": "execute_result"
    }
   ],
   "source": [
    "c = np.array([[0, 1, 2], [3, 4, 5]])  # 2 x 3 array\n",
    "c"
   ]
  },
  {
   "cell_type": "code",
   "execution_count": 13,
   "metadata": {
    "colab": {
     "base_uri": "https://localhost:8080/"
    },
    "executionInfo": {
     "elapsed": 344,
     "status": "ok",
     "timestamp": 1645514042047,
     "user": {
      "displayName": "YSook Hwang",
      "photoUrl": "https://lh3.googleusercontent.com/a/default-user=s64",
      "userId": "12143454092848001070"
     },
     "user_tz": -540
    },
    "id": "adLn55gMRpPb",
    "outputId": "ae0b7c41-a259-42d1-bed5-94de18acfc65"
   },
   "outputs": [
    {
     "data": {
      "text/plain": [
       "(2, 3)"
      ]
     },
     "execution_count": 13,
     "metadata": {},
     "output_type": "execute_result"
    }
   ],
   "source": [
    "len(c), len(c[0])"
   ]
  },
  {
   "cell_type": "code",
   "execution_count": 14,
   "metadata": {
    "colab": {
     "base_uri": "https://localhost:8080/"
    },
    "executionInfo": {
     "elapsed": 337,
     "status": "ok",
     "timestamp": 1645514088007,
     "user": {
      "displayName": "YSook Hwang",
      "photoUrl": "https://lh3.googleusercontent.com/a/default-user=s64",
      "userId": "12143454092848001070"
     },
     "user_tz": -540
    },
    "id": "tDX5cmMNSBGL",
    "outputId": "e446cf0f-32e4-4029-c3f9-226add8f79f9"
   },
   "outputs": [
    {
     "data": {
      "text/plain": [
       "(2, 3, 4)"
      ]
     },
     "execution_count": 14,
     "metadata": {},
     "output_type": "execute_result"
    }
   ],
   "source": [
    "d = np.array([[[1, 2, 3, 4],\n",
    "               [5, 6, 7, 8],\n",
    "               [9, 10, 11, 12]],\n",
    "              [[11, 12, 13, 14],\n",
    "               [15, 16, 17, 18],\n",
    "               [19, 20, 21, 22]]]) \n",
    "len(d), len(d[0]), len(d[0][0])"
   ]
  },
  {
   "cell_type": "markdown",
   "metadata": {
    "id": "yTATzZqHO_EG"
   },
   "source": [
    "### 배열의 차원과 크기 알아내기¶\n",
    "* ndim\n",
    "* shape\n",
    "\n",
    "배열의 차원 및 크기를 구하는 더 간단한 방법은 배열의 ndim 속성과 shape 속성을 이용하는 것이다. ndim 속성은 배열의 차원, shape 속성은 배열의 크기를 반환한다.\n",
    "\n",
    "```\n",
    "a = np.array([1, 2, 3])\n",
    "print(a.ndim)\n",
    "print(a.shape)\n",
    "1\n",
    "(3,)\n",
    "```\n",
    "```\n",
    "c = np.array([[0, 1, 2], [3, 4, 5]])\n",
    "print(c.ndim)\n",
    "print(c.shape)\n",
    "2\n",
    "(2, 3)\n",
    "```\n",
    "```\n",
    "print(d.ndim)\n",
    "print(d.shape)\n",
    "```"
   ]
  },
  {
   "cell_type": "code",
   "execution_count": 15,
   "metadata": {
    "colab": {
     "base_uri": "https://localhost:8080/"
    },
    "executionInfo": {
     "elapsed": 318,
     "status": "ok",
     "timestamp": 1645514253240,
     "user": {
      "displayName": "YSook Hwang",
      "photoUrl": "https://lh3.googleusercontent.com/a/default-user=s64",
      "userId": "12143454092848001070"
     },
     "user_tz": -540
    },
    "id": "HOi3UKlYR950",
    "outputId": "5cc70307-dcb8-418d-b15d-889c3eca4b11"
   },
   "outputs": [
    {
     "name": "stdout",
     "output_type": "stream",
     "text": [
      "3\n",
      "(2, 3, 4)\n"
     ]
    }
   ],
   "source": [
    "print(d.ndim)\n",
    "print(d.shape)"
   ]
  },
  {
   "cell_type": "markdown",
   "metadata": {
    "id": "qV7BVHlEPf_c"
   },
   "source": [
    "### 배열의 인덱싱¶\n",
    "일차원 배열의 인덱싱은 리스트의 인덱싱과 같다.\n",
    "\n",
    "```\n",
    "a = np.array([0, 1, 2, 3, 4])\n",
    "a[2]  # 세번째 요소\n",
    "a[-1] # 뒤에서 첫번째 요소\n",
    "```\n",
    "\n",
    "다차원 배열일 때는 다음과 같이 콤마(comma ,)를 사용하여 접근할 수 있다. 콤마로 구분된 차원을 축(axis)이라고도 한다. 그래프의 x축과 y축을 떠올리면 될 것이다.\n",
    "\n",
    "```\n",
    "a = np.array([[0, 1, 2], [3, 4, 5]])\n",
    "a[0, 0]  # 첫번째 행의 첫번째 열\n",
    "a[0, 1]  # 첫번째 행의 두번째 열\n",
    "a[-1, -1]  # 마지막 행의 마지막 열\n",
    "```\n",
    "\n",
    "### 배열 슬라이싱¶\n",
    "배열 객체로 구현한 다차원 배열의 원소 중 복수 개를 접근하려면 일반적인 파이썬 슬라이싱(slicing)과 comma(,)를 함께 사용하면 된다.\n",
    "\n",
    "```\n",
    "a = np.array([[0, 1, 2, 3], [4, 5, 6, 7]])\n",
    "a[0, :]  # 첫번째 행 전체 array([0, 1, 2, 3])\n",
    "a[:, 1]  # 두번째 열 전체 array([1, 5])\n",
    "a[1, 1:]  # 두번째 행의 두번째 열부터 끝열까지 array([5, 6, 7]) \n",
    "a[:2, :2] # array([[0, 1],[4, 5]])\n",
    "```"
   ]
  },
  {
   "cell_type": "markdown",
   "metadata": {
    "id": "aVRSpMnG7hNr"
   },
   "source": [
    "### 배열 인덱싱(Fancy Indexing)¶\n",
    "\n",
    "#### 배열의 팬시 인덱싱(array indexing)\n",
    "\n",
    "> 넘파이 배열 객체의 또다른 강력한 기능은 **팬시 인덱싱(fancy indexing)**이라고도 부르는 배열 인덱싱(array indexing) 방법이다. \n",
    "\n",
    "> 인덱싱이라는 이름이 붙었지만 사실은 **데이터베이스의 질의(Query) 기능**을 수행한다. 배열 인덱싱에서는 대괄호(Bracket, [])안의 인덱스 정보로 숫자나 슬라이스가 아니라 **위치 정보를 나타내는 또 다른 ndarray 배열**을 받을 수 있다. 여기에서는 이 배열을 편의상 **인덱스 배열**이라고 부르겠다. \n",
    "\n",
    "배열 인덱싱의 방식에은 **불리언(Boolean) 배열** 방식과 **정수 배열** 방식 두가지가 있다.\n",
    "\n",
    "* 불리안 배열 인덱싱: 인덱스 배열의 원소가 True, False 두 값으로만 구성되며 인덱스 배열의 크기가 원래 ndarray 객체의 크기와 같아야 한다.\n",
    "\n",
    "> 예를 들어 다음과 같은 1차원 ndarray에서 짝수인 원소만 골라내려면 짝수인 원소에 대응하는 인덱스 값이 True이고 홀수인 원소에 대응하는 인덱스 값이 False인 인덱스 배열을 넣으면 된다.\n",
    "\n",
    "> ```\n",
    "a = np.array([0, 1, 2, 3, 4, 5, 6, 7, 8, 9])\n",
    "idx = np.array([True, False, True, False, True,\n",
    "               False, True, False, True, False])\n",
    "a[idx]\n",
    "\"출력결과: array([0, 2, 4, 6, 8])\n",
    "```\n",
    "\n",
    "> 조건문 연산을 사용하면 다음과 같이 간단히 쓸 수 있다.\n",
    "\n",
    "> ```\n",
    "a % 2 # 나머지 연산\n",
    "\"출력결과: array([0, 1, 0, 1, 0, 1, 0, 1, 0, 1], dtype=int32)\n",
    "a % 2 == 0\n",
    "\"#출력결과ㅣ array([ True, False,  True, False,  True, False,  True, False,  True, False])\n",
    "a[a % 2 == 0]\n",
    "\"출력결과: array([0, 2, 4, 6, 8])\n",
    "```\n",
    "\n",
    "* 정수 배열 인덱싱\n",
    " > 인덱스 배열의 원소 각각이 원래 ndarray 객체 원소 하나를 가리키는 인덱스 정수이여야 한다. 예를 들어 1차원 배열에서 홀수번째 원소만 골라내는 것은 다음과 같다\n",
    "\n",
    "> ```\n",
    "a = np.array([11, 22, 33, 44, 55, 66, 77, 88, 99])\n",
    "idx = np.array([0, 2, 4, 6, 8])\n",
    "a[idx]\n",
    "\"출력결과: array([11, 33, 55, 77, 99])\n",
    "```\n",
    "\n",
    "> 이 때는 배열 인덱스의 크기가 원래의 배열 크기와 달라도 상관없다. 같은 원소를 반복해서 가리키는 경우에는 배열 인덱스가 원래의 배열보다 더 커지기도 한다.\n",
    "\n",
    "> ```\n",
    "a = np.array([11, 22, 33, 44, 55, 66, 77, 88, 99])\n",
    "idx = np.array([0, 0, 0, 0, 0, 0, 1, 1, 1, 1, 1, 2, 2, 2, 2, 2])\n",
    "a[idx]\n",
    "array([11, 11, 11, 11, 11, 11, 22, 22, 22, 22, 22, 33, 33, 33, 33, 33])\n",
    "```\n",
    "\n",
    "> 배열 인덱싱은 다차원 배열의 각 차원에 대해서도 할 수 있다.\n",
    "\n",
    "> ```\n",
    "a = np.array([[1, 2, 3, 4], [5, 6, 7, 8], [9, 10, 11, 12]])\n",
    "a\n",
    "\"출력결과: array([[ 1,  2,  3,  4],\n",
    "       [ 5,  6,  7,  8],\n",
    "       [ 9, 10, 11, 12]])\n",
    "a[:, [True, False, False, True]]\n",
    "\"#출력결과: array([[ 1,  4],\n",
    "                   [ 5,  8],\n",
    "                  [ 9, 12]])\n",
    "a[[2, 0, 1], :]\n",
    "\"#array([[ 9, 10, 11, 12],\n",
    "        [ 1,  2,  3,  4],\n",
    "        [ 5,  6,  7,  8]])\n",
    "```"
   ]
  },
  {
   "cell_type": "code",
   "execution_count": 16,
   "metadata": {
    "colab": {
     "base_uri": "https://localhost:8080/"
    },
    "executionInfo": {
     "elapsed": 317,
     "status": "ok",
     "timestamp": 1645515725465,
     "user": {
      "displayName": "YSook Hwang",
      "photoUrl": "https://lh3.googleusercontent.com/a/default-user=s64",
      "userId": "12143454092848001070"
     },
     "user_tz": -540
    },
    "id": "zM4Iq7q2XSHb",
    "outputId": "fa4d8bc2-d6b2-4e8d-8afa-a05f13d4d1b8"
   },
   "outputs": [
    {
     "data": {
      "text/plain": [
       "array([0, 2, 4, 6, 8])"
      ]
     },
     "execution_count": 16,
     "metadata": {},
     "output_type": "execute_result"
    }
   ],
   "source": [
    "a = np.array([0, 1, 2, 3, 4, 5, 6, 7, 8, 9])\n",
    "idx = np.array([True, False, True, False, True,\n",
    "               False, True, False, True, False])\n",
    "a[idx]"
   ]
  },
  {
   "cell_type": "code",
   "execution_count": 17,
   "metadata": {
    "colab": {
     "base_uri": "https://localhost:8080/"
    },
    "executionInfo": {
     "elapsed": 324,
     "status": "ok",
     "timestamp": 1645516834506,
     "user": {
      "displayName": "YSook Hwang",
      "photoUrl": "https://lh3.googleusercontent.com/a/default-user=s64",
      "userId": "12143454092848001070"
     },
     "user_tz": -540
    },
    "id": "n5k4wFsJbkke",
    "outputId": "1103e4f6-4f76-423a-c7bc-f86138a1a8a6"
   },
   "outputs": [
    {
     "data": {
      "text/plain": [
       "array([11, 33, 55, 77, 99])"
      ]
     },
     "execution_count": 17,
     "metadata": {},
     "output_type": "execute_result"
    }
   ],
   "source": [
    "a = np.array([11, 22, 33, 44, 55, 66, 77, 88, 99])\n",
    "idx = np.array([0, 2, 4, 6, 8])\n",
    "a[idx]"
   ]
  },
  {
   "cell_type": "code",
   "execution_count": 18,
   "metadata": {
    "colab": {
     "base_uri": "https://localhost:8080/"
    },
    "executionInfo": {
     "elapsed": 318,
     "status": "ok",
     "timestamp": 1645516059231,
     "user": {
      "displayName": "YSook Hwang",
      "photoUrl": "https://lh3.googleusercontent.com/a/default-user=s64",
      "userId": "12143454092848001070"
     },
     "user_tz": -540
    },
    "id": "bnbSMd0oYWjh",
    "outputId": "880105aa-d716-406d-9855-e229c33622d3"
   },
   "outputs": [
    {
     "data": {
      "text/plain": [
       "array([ 3,  6,  9, 12, 15, 18, 21, 24, 27, 30, 33, 36, 39, 42, 45, 48, 51,\n",
       "       54, 57, 60, 63, 66, 69, 72, 75, 78, 81, 84, 87, 90, 93, 96, 99])"
      ]
     },
     "execution_count": 18,
     "metadata": {},
     "output_type": "execute_result"
    }
   ],
   "source": [
    "# 0~100 까지의 수로 이루어진 배열에서 3의 배수로만 이루어진 배열을 만드시오.\n",
    "a = np.array(range(1,100))\n",
    "a3 = a[a%3 == 0]\n",
    "a3"
   ]
  },
  {
   "cell_type": "code",
   "execution_count": 19,
   "metadata": {
    "colab": {
     "base_uri": "https://localhost:8080/"
    },
    "executionInfo": {
     "elapsed": 9,
     "status": "ok",
     "timestamp": 1645516881421,
     "user": {
      "displayName": "YSook Hwang",
      "photoUrl": "https://lh3.googleusercontent.com/a/default-user=s64",
      "userId": "12143454092848001070"
     },
     "user_tz": -540
    },
    "id": "W_PSDtshZvJD",
    "outputId": "62b0f967-791c-4545-d53d-7e5df5ff5fe0"
   },
   "outputs": [
    {
     "data": {
      "text/plain": [
       "array([[ 1,  3],\n",
       "       [ 5,  7],\n",
       "       [ 9, 11]])"
      ]
     },
     "execution_count": 19,
     "metadata": {},
     "output_type": "execute_result"
    }
   ],
   "source": [
    "a = np.array([[1, 2, 3, 4], [5, 6, 7, 8], [9, 10, 11, 12]])\n",
    "idx=np.array([True, False, True, False])\n",
    "a[:, idx]"
   ]
  },
  {
   "cell_type": "code",
   "execution_count": 20,
   "metadata": {
    "colab": {
     "base_uri": "https://localhost:8080/"
    },
    "executionInfo": {
     "elapsed": 319,
     "status": "ok",
     "timestamp": 1645516515997,
     "user": {
      "displayName": "YSook Hwang",
      "photoUrl": "https://lh3.googleusercontent.com/a/default-user=s64",
      "userId": "12143454092848001070"
     },
     "user_tz": -540
    },
    "id": "Ckh1PYhWbSz2",
    "outputId": "20fd2b63-1805-4880-fd5e-68b90a637f20",
    "scrolled": true
   },
   "outputs": [
    {
     "data": {
      "text/plain": [
       "array([[ 9, 10, 11, 12],\n",
       "       [ 1,  2,  3,  4],\n",
       "       [ 5,  6,  7,  8]])"
      ]
     },
     "execution_count": 20,
     "metadata": {},
     "output_type": "execute_result"
    }
   ],
   "source": [
    "a[[2, 0, 1], :]"
   ]
  },
  {
   "cell_type": "code",
   "execution_count": 21,
   "metadata": {
    "colab": {
     "base_uri": "https://localhost:8080/"
    },
    "executionInfo": {
     "elapsed": 330,
     "status": "ok",
     "timestamp": 1645518082981,
     "user": {
      "displayName": "YSook Hwang",
      "photoUrl": "https://lh3.googleusercontent.com/a/default-user=s64",
      "userId": "12143454092848001070"
     },
     "user_tz": -540
    },
    "id": "dc257bCBflvU",
    "outputId": "1d8c68cf-c14f-472c-f06b-a90e8645900e"
   },
   "outputs": [
    {
     "name": "stdout",
     "output_type": "stream",
     "text": [
      "[1 4 5]\n",
      "[1 4 5]\n",
      "[2 2]\n",
      "[2 2]\n"
     ]
    }
   ],
   "source": [
    "a = np.array([[1,2], [3, 4], [5, 6]])\n",
    "print(a[[0, 1, 2], [0, 1, 0]])\n",
    "print(np.array([a[0, 0], a[1, 1], a[2, 0]])) \n",
    "print(a[[0, 0], [1, 1]])\n",
    "print(np.array([a[0, 1], a[0, 1]]))"
   ]
  },
  {
   "cell_type": "markdown",
   "metadata": {
    "id": "aiw7qfOc-Q30"
   },
   "source": [
    "## 2 배열의 생성과 변형¶\n",
    "\n",
    "### 넘파이의 자료형¶\n",
    "\n",
    "#### dtype\n",
    "\n",
    "넘파이의 배열 즉, ndarray클래스는 원소가 모두 같은 자료형이어야 한다. array 명령으로 배열을 만들 때 자료형을 명시적으로 적용하려면 dtype 인수를 사용한다. 만약 dtype 인수가 없으면 주어진 데이터를 저장할 수 있는 자료형을 스스로 유추한다. 만들어진 배열의 자료형을 알아내려면 dtype 속성을 보면 된다.\n",
    "\n",
    "```\n",
    "x = np.array([1, 2, 3])\n",
    "x.dtype # dtype('int64')\n",
    "```\n",
    "```\n",
    "x = np.array([1.0, 2.0, 3.0])\n",
    "x.dtype # dtype('float64')\n",
    "```\n",
    "```\n",
    "x = np.array([1, 2, 3.0])\n",
    "x.dtype # dtype('float64')\n",
    "```\n",
    "dtype 인수로 지정할 자료형은 다음 표에 보인것과 같은 “dtype 접두사”로 시작하는 문자열이고 이 글자 뒤에 오는 숫자는 바이트 수 혹은 글자 수를 의미한다. 예를 들어 f8은 8바이트(64비트) 부동소수점 실수를 뜻하고 U4 는 4글자 유니코드 문자열을 뜻한다. 숫자를 생략하면 운영체제에 따라 알맞은 크기를 지정한다.\n",
    "\n",
    "| Prefix | Data type\t    | Description |\n",
    "|------|---------------|-------------|\n",
    "|b | ``bool_``     | Boolean (True or False) stored as a byte |\n",
    "|i | ``int_``      | Default integer type (same as C ``long``; normally | either ``int64`` or ``int32``)| \n",
    "|i | ``intc``      | Identical to C ``int`` (normally ``int32`` or ``int64``)|i | \n",
    "|i | ``intp``      | Integer used for indexing (same as C ``ssize_t``; normally either ``int32`` or ``int64``)| \n",
    "|  | ``int8``      | Byte (-128 to 127)| \n",
    "|i | ``int16``     | Integer (-32768 to 32767)|\n",
    "|i | ``int32``     | Integer (-2147483648 to 2147483647)|\n",
    "|i | ``int64``     | Integer (-9223372036854775808 to 9223372036854775807)| \n",
    "|u | ``uint8``     | Unsigned integer (0 to 255)| \n",
    "|u | ``uint16``    | Unsigned integer (0 to 65535)| \n",
    "|u | ``uint32``    | Unsigned integer (0 to 4294967295)| \n",
    "|u | ``uint64``    | Unsigned integer (0 to 18446744073709551615)| \n",
    "|f | ``float_``    | Shorthand for ``float64``.| \n",
    "|f | ``float16``   | Half precision float: sign bit, 5 bits exponent, 10 bits mantissa| \n",
    "|f | ``float32``   | Single precision float: sign bit, 8 bits exponent, 23 bits mantissa| \n",
    "|f | ``float64``   | Double precision float: sign bit, 11 bits exponent, 52 bits mantissa| \n",
    "|c | ``complex_``  | Shorthand for ``complex128``.| \n",
    "|c | ``complex64`` | Complex number, represented by two 32-bit floats| \n",
    "|c | ``complex128``| Complex number, represented by two 64-bit floats| \n",
    "\n",
    "|dtype 접두사 |  설명      | 사용 예 |\n",
    "|-------------|------------|---------| \n",
    "| b | 불리언 | b (참 혹은 거짓) |\n",
    "| i | 정수 | i8 (64비트) |\n",
    "| u | 부호 없는 정수 | u8 (64비트) |\n",
    "| f | 부동소수점 | f8 (64비트) |\n",
    "| c | 복소 부동소수점 | c16 (128비트) |\n",
    "| O | 객체 | 0 (객체에 대한 포인터) |\n",
    "| S | 바이트 문자열 | S24 (24 글자) |\n",
    "| U | 유니코드 문자열 | U24 (24 유니코드 글자) |\n",
    "\n",
    "```\n",
    "x = np.array([1, 2, 3], dtype='f')\n",
    "x.dtype  #  dtype('float32')\n",
    "```\n",
    "```\n",
    "x[0] + x[1]  # 3.0\n",
    "```\n",
    "```\n",
    "x = np.array([1, 2, 3], dtype='U')\n",
    "x.dtype  # dtype('<U1')\n",
    "```\n",
    "```\n",
    "x[0] + x[1]  #'12'\n",
    "```\n",
    "\n",
    "### Inf와 NaN¶\n",
    "\n",
    "* Inf\n",
    "* NaN\n",
    "\n",
    "넘파이에서는 무한대를 표현하기 위한 np.inf(infinity)와 정의할 수 없는 숫자를 나타내는 np.nan(not a number)을 사용할 수 있다. 다음 예와 같이 1을 0으로 나누려고 하거나 0에 대한 로그 값을 계산하면 무한대인 np.inf이 나온다. 0을 0으로 나누려고 시도하면 np.nan이 나온다.\n",
    "\n",
    "```\n",
    "np.array([0, 1, -1, 0]) / np.array([1, 0, 0, 0])  # array([  0.,  inf, -inf,  nan])\n",
    "```\n",
    "```\n",
    "np.log(0)  # -inf\n",
    "```\n",
    "```\n",
    "np.exp(-np.inf) # 0.0\n",
    "```"
   ]
  },
  {
   "cell_type": "code",
   "execution_count": 22,
   "metadata": {
    "colab": {
     "base_uri": "https://localhost:8080/"
    },
    "executionInfo": {
     "elapsed": 394,
     "status": "ok",
     "timestamp": 1645517280110,
     "user": {
      "displayName": "YSook Hwang",
      "photoUrl": "https://lh3.googleusercontent.com/a/default-user=s64",
      "userId": "12143454092848001070"
     },
     "user_tz": -540
    },
    "id": "2QvMB0ImeOxW",
    "outputId": "92075981-82fb-463d-fee1-6130009fdf70"
   },
   "outputs": [
    {
     "data": {
      "text/plain": [
       "dtype('float32')"
      ]
     },
     "execution_count": 22,
     "metadata": {},
     "output_type": "execute_result"
    }
   ],
   "source": [
    "x = np.array([1, 2, 3], dtype='f')\n",
    "x.dtype  #  dtype('float32')"
   ]
  },
  {
   "cell_type": "code",
   "execution_count": 23,
   "metadata": {
    "colab": {
     "base_uri": "https://localhost:8080/"
    },
    "executionInfo": {
     "elapsed": 11,
     "status": "ok",
     "timestamp": 1645517294710,
     "user": {
      "displayName": "YSook Hwang",
      "photoUrl": "https://lh3.googleusercontent.com/a/default-user=s64",
      "userId": "12143454092848001070"
     },
     "user_tz": -540
    },
    "id": "vxKkXOQzeTbj",
    "outputId": "42504fe8-4cea-4e22-8730-1b2f9b98d053"
   },
   "outputs": [
    {
     "data": {
      "text/plain": [
       "3.0"
      ]
     },
     "execution_count": 23,
     "metadata": {},
     "output_type": "execute_result"
    }
   ],
   "source": [
    "x[0] + x[1]  # 3.0"
   ]
  },
  {
   "cell_type": "code",
   "execution_count": 24,
   "metadata": {
    "colab": {
     "base_uri": "https://localhost:8080/"
    },
    "executionInfo": {
     "elapsed": 331,
     "status": "ok",
     "timestamp": 1645517344838,
     "user": {
      "displayName": "YSook Hwang",
      "photoUrl": "https://lh3.googleusercontent.com/a/default-user=s64",
      "userId": "12143454092848001070"
     },
     "user_tz": -540
    },
    "id": "gbTfKjIPeWob",
    "outputId": "6afbb62f-6a33-414c-e300-4a611cec5bd4"
   },
   "outputs": [
    {
     "data": {
      "text/plain": [
       "dtype('<U1')"
      ]
     },
     "execution_count": 24,
     "metadata": {},
     "output_type": "execute_result"
    }
   ],
   "source": [
    "x = np.array([1, 2, 3], dtype='U')\n",
    "x.dtype"
   ]
  },
  {
   "cell_type": "code",
   "execution_count": 25,
   "metadata": {
    "colab": {
     "base_uri": "https://localhost:8080/",
     "height": 36
    },
    "executionInfo": {
     "elapsed": 338,
     "status": "ok",
     "timestamp": 1645517357302,
     "user": {
      "displayName": "YSook Hwang",
      "photoUrl": "https://lh3.googleusercontent.com/a/default-user=s64",
      "userId": "12143454092848001070"
     },
     "user_tz": -540
    },
    "id": "sXFoTwgzeiGE",
    "outputId": "7d8455a8-f91c-47c4-fca2-7ba04fe28f4f"
   },
   "outputs": [
    {
     "data": {
      "text/plain": [
       "'12'"
      ]
     },
     "execution_count": 25,
     "metadata": {},
     "output_type": "execute_result"
    }
   ],
   "source": [
    "x[0] + x[1]"
   ]
  },
  {
   "cell_type": "markdown",
   "metadata": {
    "id": "Z4Z8TCVZCZBq"
   },
   "source": [
    "### 배열 생성¶\n",
    "\n",
    "NumPy는 몇가지 단순한 배열을 생성하는 명령을 제공한다.\n",
    "\n",
    "* zeros, ones\n",
    "* zeros_like, ones_like\n",
    "* empty\n",
    "* arange\n",
    "* linspace, logspace\n",
    "\n",
    "#### zeros\n",
    "\n",
    "크기가 정해져 있고 모든 값이 0인 배열을 생성하려면 zeros 명령을 사용한다. 인수로는 배열을 크기를 뜻하는 정수를 넣는다.\n",
    "\n",
    "```\n",
    "a = np.zeros(5)\n",
    "a\n",
    "array([0., 0., 0., 0., 0.])\n",
    "```\n",
    "\n",
    "크기를 뜻하는 튜플을 입력하면 다차원 배열도 만들 수 있다.\n",
    "\n",
    "```\n",
    "b = np.zeros((2, 3))\n",
    "b\n",
    "array([[0., 0., 0.],\n",
    "       [0., 0., 0.]])\n",
    "```\n",
    "\n",
    "array 명령과 마찬가지로 dtype 인수를 명시하면 해당 자료형 원소를 가진 배열을 만든다.\n",
    "```\n",
    "c = np.zeros((5, 2), dtype=\"i\")\n",
    "c\n",
    "array([[0, 0],\n",
    "       [0, 0],\n",
    "       [0, 0],\n",
    "       [0, 0],\n",
    "       [0, 0]], dtype=int32)\n",
    "```\n",
    "\n",
    "문자열 배열도 가능하지면 모든 원소의 문자열 크기가 같아야 한다. 만약 더 큰 크기의 문자열을 할당하면 잘릴 수 있다.\n",
    "\n",
    "```\n",
    "d = np.zeros(5, dtype=\"U4\")\n",
    "d  # array(['', '', '', '', ''], dtype='<U4')\n",
    "d[0] = \"abc\"\n",
    "d[1] = \"abcd\"\n",
    "d[2] = \"ABCDE\"\n",
    "d  # array(['abc', 'abcd', 'ABCD', '', ''], dtype='<U4')\n",
    "```\n",
    "\n",
    "#### ones\n",
    "\n",
    "0이 아닌 1로 초기화된 배열을 생성하려면 ones 명령을 사용한다.\n",
    "\n",
    "```\n",
    "e = np.ones((2, 3, 4), dtype=\"i8\")\n",
    "e\n",
    "\"#출력결과: array([[[1, 1, 1, 1],\n",
    "                  [1, 1, 1, 1],\n",
    "                   [1, 1, 1, 1]],\n",
    "\n",
    "                  [[1, 1, 1, 1],\n",
    "                   [1, 1, 1, 1],\n",
    "                   [1, 1, 1, 1]]])\n",
    "```\n",
    "\n",
    "#### zeros_like , ones_like\n",
    "\n",
    "만약 크기를 튜플로 명시하지 않고 다른 배열과 같은 크기의 배열을 생성하고 싶다면 ones_like, zeros_like 명령을 사용한다.\n",
    "\n",
    "```\n",
    "f = np.ones_like(b, dtype=\"f\")\n",
    "f  # 출력결과: array([[1., 1., 1.],  [1., 1., 1.]], dtype=float32)\n",
    "```\n",
    "\n",
    "#### empty\n",
    "\n",
    "배열의 크기가 커지면 배열을 초기화하는데도 시간이 걸린다. 이 시간을 단축하려면 배열을 생성만 하고 특정한 값으로 초기화를 하지 않는 empty 명령을 사용할 수 있다. empty 명령으로 생성된 배열에는 기존에 메모리에 저장되어 있던 값이 있으므로 배열의 원소의 값을 미리 알 수 없다.\n",
    "\n",
    "```\n",
    "g = np.empty((4, 3))\n",
    "g\n",
    "array([[6.94820328e-310, 4.67533915e-310, 5.28964691e+180],\n",
    "       [6.01346953e-154, 4.81809028e+233, 7.86517465e+276],\n",
    "       [6.01346953e-154, 2.58408173e+161, 2.46600381e-154],\n",
    "       [2.47379808e-091, 4.47593816e-091, 6.01347002e-154]])\n",
    "```\n",
    "\n",
    "#### arange\n",
    "\n",
    "arange 명령은 NumPy 버전의 range 명령이라고 볼 수 있다. 특정한 규칙에 따라 증가하는 수열을 만든다.\n",
    "\n",
    "```\n",
    "np.arange(10)  # 0 .. n-1\n",
    "array([0, 1, 2, 3, 4, 5, 6, 7, 8, 9])\n",
    "np.arange(3, 21, 2)  # 시작, 끝(포함하지 않음), 단계\n",
    "array([ 3,  5,  7,  9, 11, 13, 15, 17, 19])\n",
    "```\n",
    "\n",
    "#### linspace, logspace\n",
    "\n",
    "linspace 명령이나 logspace 명령은 선형 구간 혹은 로그 구간을 지정한 구간의 수만큼 분할한다.\n",
    "\n",
    "```\n",
    "np.linspace(0, 100, 5)  # 시작, 끝(포함), 갯수 : array([  0.,  25.,  50.,  75., 100.])\n",
    "np.logspace(0.1, 1, 10) # array([ 1.25892541,  1.58489319,  1.99526231,  2.51188643,  3.16227766,\n",
    "        3.98107171,  5.01187234,  6.30957344,  7.94328235, 10.        ])\n",
    "```\n",
    "\n",
    "### 전치 연산 : T\n",
    "\n",
    "2차원 배열의 전치(transpose) 연산은 행과 열을 바꾸는 작업이다. 이는 배열의 T 속성으로 구할 수 있다. 메서드가 아닌 속성이라는 점에 유의 한다.\n",
    "\n",
    "```\n",
    "A = np.array([[1, 2, 3], [4, 5, 6]])\n",
    "A\n",
    "array([[1, 2, 3],\n",
    "       [4, 5, 6]])\n",
    "A.T\n",
    "array([[1, 4],\n",
    "       [2, 5],\n",
    "       [3, 6]])\n",
    "```\n"
   ]
  },
  {
   "cell_type": "code",
   "execution_count": 26,
   "metadata": {
    "colab": {
     "base_uri": "https://localhost:8080/"
    },
    "executionInfo": {
     "elapsed": 327,
     "status": "ok",
     "timestamp": 1645518563693,
     "user": {
      "displayName": "YSook Hwang",
      "photoUrl": "https://lh3.googleusercontent.com/a/default-user=s64",
      "userId": "12143454092848001070"
     },
     "user_tz": -540
    },
    "id": "8FRB-Z-OjF-a",
    "outputId": "d49e568e-1519-4460-fb1c-f7e7189b87cc"
   },
   "outputs": [
    {
     "data": {
      "text/plain": [
       "array([1., 1., 1.], dtype=float32)"
      ]
     },
     "execution_count": 26,
     "metadata": {},
     "output_type": "execute_result"
    }
   ],
   "source": [
    "f = np.ones_like(b, dtype=\"f\")\n",
    "f"
   ]
  },
  {
   "cell_type": "code",
   "execution_count": 27,
   "metadata": {
    "colab": {
     "base_uri": "https://localhost:8080/"
    },
    "executionInfo": {
     "elapsed": 352,
     "status": "ok",
     "timestamp": 1645518368724,
     "user": {
      "displayName": "YSook Hwang",
      "photoUrl": "https://lh3.googleusercontent.com/a/default-user=s64",
      "userId": "12143454092848001070"
     },
     "user_tz": -540
    },
    "id": "1XJDc6NeiT-V",
    "outputId": "e20c7249-93bf-4c21-8096-18a17398daaf"
   },
   "outputs": [
    {
     "data": {
      "text/plain": [
       "array(['abc', 'abcd', 'ABCD', '', ''], dtype='<U4')"
      ]
     },
     "execution_count": 27,
     "metadata": {},
     "output_type": "execute_result"
    }
   ],
   "source": [
    "d = np.zeros(5, dtype=\"U4\")\n",
    "d\n",
    "np.array(['', '', '', '', ''], dtype='<U4')\n",
    "d[0] = \"abc\"\n",
    "d[1] = \"abcd\"\n",
    "d[2] = \"ABCDE\"\n",
    "d"
   ]
  },
  {
   "cell_type": "code",
   "execution_count": 28,
   "metadata": {
    "colab": {
     "base_uri": "https://localhost:8080/"
    },
    "executionInfo": {
     "elapsed": 332,
     "status": "ok",
     "timestamp": 1645518810116,
     "user": {
      "displayName": "YSook Hwang",
      "photoUrl": "https://lh3.googleusercontent.com/a/default-user=s64",
      "userId": "12143454092848001070"
     },
     "user_tz": -540
    },
    "id": "Wr6KCZUnkE5Z",
    "outputId": "fab889a9-d8ab-4f26-c89e-605e18e86556"
   },
   "outputs": [
    {
     "data": {
      "text/plain": [
       "array([  0.,  25.,  50.,  75., 100.])"
      ]
     },
     "execution_count": 28,
     "metadata": {},
     "output_type": "execute_result"
    }
   ],
   "source": [
    "np.linspace(0, 100, 5) "
   ]
  },
  {
   "cell_type": "code",
   "execution_count": 29,
   "metadata": {
    "colab": {
     "base_uri": "https://localhost:8080/"
    },
    "executionInfo": {
     "elapsed": 315,
     "status": "ok",
     "timestamp": 1645518841124,
     "user": {
      "displayName": "YSook Hwang",
      "photoUrl": "https://lh3.googleusercontent.com/a/default-user=s64",
      "userId": "12143454092848001070"
     },
     "user_tz": -540
    },
    "id": "y8iXzlrCkJQ5",
    "outputId": "cb790b1c-4608-4636-90e2-bc82934f44e8"
   },
   "outputs": [
    {
     "data": {
      "text/plain": [
       "array([  1.25892541,   2.04696827,   3.32829814,   5.41169527,\n",
       "         8.79922544,  14.30722989,  23.26305067,  37.82489906,\n",
       "        61.50195043, 100.        ])"
      ]
     },
     "execution_count": 29,
     "metadata": {},
     "output_type": "execute_result"
    }
   ],
   "source": [
    "np.logspace(0.1, 2, 10)"
   ]
  },
  {
   "cell_type": "markdown",
   "metadata": {
    "id": "_bt0ZG3fkjwj"
   },
   "source": [
    "### 배열의 크기 변형 :  reshape, flaten\n",
    "\n",
    "#### reshape\n",
    "\n",
    "일단 만들어진 배열의 내부 데이터는 보존한 채로 형태만 바꾸려면 reshape 명령이나 메서드를 사용한다. 예를 들어 12개의 원소를 가진 1차원 행렬은 3x4 형태의 2차원 행렬로 만들 수 있다.\n",
    "\n",
    "```\n",
    "a = np.arange(12)\n",
    "a\n",
    "array([ 0,  1,  2,  3,  4,  5,  6,  7,  8,  9, 10, 11])\n",
    "b = a.reshape(3, 4)\n",
    "b\n",
    "array([[ 0,  1,  2,  3],\n",
    "       [ 4,  5,  6,  7],\n",
    "       [ 8,  9, 10, 11]])\n",
    "```\n",
    "\n",
    "사용하는 원소의 갯수가 정해저 있기 때문에 reshape 명령의 형태 튜플의 원소 중 하나는 -1이라는 숫자로 대체할 수 있다. \n",
    "\n",
    "```\n",
    "a.reshape(3, -1)\n",
    "array([[ 0,  1,  2,  3],\n",
    "       [ 4,  5,  6,  7],\n",
    "       [ 8,  9, 10, 11]])\n",
    "a.reshape(2, 2, -1)\n",
    "array([[[ 0,  1,  2],\n",
    "        [ 3,  4,  5]],\n",
    "\n",
    "       [[ 6,  7,  8],\n",
    "        [ 9, 10, 11]]])\n",
    "a.reshape(2, -1, 2)\n",
    "array([[[ 0,  1],\n",
    "        [ 2,  3],\n",
    "        [ 4,  5]],\n",
    "\n",
    "       [[ 6,  7],\n",
    "        [ 8,  9],\n",
    "        [10, 11]]])\n",
    "```\n",
    "\n",
    "#### flatten , ravel\n",
    "\n",
    "다차원 배열을 무조건 1차원으로 만들기 위해서는 flatten  메서드를 사용한다.\n",
    "\n",
    "```\n",
    "a.flatten()\n",
    "array([ 0,  1,  2,  3,  4,  5,  6,  7,  8,  9, 10, 11])\n",
    "```\n",
    "\n",
    "배열 사용에서 주의할 점은 길이가 5인 1차원 배열과 행, 열의 갯수가 (5,1)인 2차원 배열 또는 행, 열의 갯수가 (1, 5)인 2차원 배열은 데이터가 같아도 엄연히 다른 객체라는 점이다.\n",
    "\n",
    "```\n",
    "x = np.arange(5)\n",
    "x\n",
    "array([0, 1, 2, 3, 4])\n",
    "x.reshape(1, 5)\n",
    "array([[0, 1, 2, 3, 4]])\n",
    "x.reshape(5, 1)\n",
    "array([[0],\n",
    "       [1],\n",
    "       [2],\n",
    "       [3],\n",
    "       [4]])\n",
    "```\n",
    "\n",
    "### 배열 연결¶\n",
    "\n",
    "행의 수나 열의 수가 같은 두 개 이상의 배열을 연결하여(concatenate) 더 큰 배열을 만들 때는 다음과 같은 명령을 사용한다.\n",
    "\n",
    "* hstack\n",
    "* vstack\n",
    "* dstack\n",
    "* stack\n",
    "* r_\n",
    "* c_\n",
    "* tile\n",
    "\n",
    "#### hstack\n",
    "\n",
    "hstack 명령은 **행의 수가 같은 두 개 이상의 배열을 옆으로 연결하여 열의 수가 더 많은 배열을 만든다.** 연결할 배열은 하나의 리스트에 담아야 한다.\n",
    "\n",
    "```\n",
    "a1 = np.ones((2, 3))\n",
    "a1\n",
    "array([[1., 1., 1.],\n",
    "       [1., 1., 1.]])\n",
    "a2 = np.zeros((2, 2))\n",
    "a2\n",
    "array([[0., 0.],\n",
    "       [0., 0.]])\n",
    "np.hstack([a1, a2])\n",
    "array([[1., 1., 1., 0., 0.],\n",
    "       [1., 1., 1., 0., 0.]])\n",
    "```\n",
    "\n",
    "#### vstack\n",
    "\n",
    "vstack **명령은 열의 수가 같은 두 개 이상의 배열을 위아래로 연결**하여 행의 수가 더 많은 배열을 만든다. 연결할 배열은 마찬가지로 하나의 리스트에 담아야 한다.\n",
    "\n",
    "```\n",
    "b1 = np.ones((2, 3))\n",
    "b1\n",
    "array([[1., 1., 1.],\n",
    "       [1., 1., 1.]])\n",
    "b2 = np.zeros((3, 3))\n",
    "b2\n",
    "array([[0., 0., 0.],\n",
    "       [0., 0., 0.],\n",
    "       [0., 0., 0.]])\n",
    "np.vstack([b1, b2])\n",
    "array([[1., 1., 1.],\n",
    "       [1., 1., 1.],\n",
    "       [0., 0., 0.],\n",
    "       [0., 0., 0.],\n",
    "       [0., 0., 0.]])\n",
    "```\n",
    "\n",
    "#### stack\n",
    "\n",
    "stack 명령은 사용자가 지정한 차원(축으로) 배열을 연결한다. axis 인수(디폴트 0)를 사용하여 연결후의 회전 방향을 정한다. 디폴트 인수값은 0이고 가장 앞쪽에 차원이 생성된다. 즉, 배열 두 개가 겹치게 되므로 연결하고자 하는 배열들의 크기가 모두 같아야 한다.\n",
    "\n",
    "다음 예에서는 axis=0 이므로 가장 바깥에 값이 2인 차원이 추가된다. 즉, shape 변화는 2개의 (3 x 4) -> 1개의 (2 x 3 x 4) 이다..\n",
    "\n",
    "```\n",
    "c1 = np.ones((3, 4))\n",
    "c1\n",
    "array([[1., 1., 1., 1.],\n",
    "       [1., 1., 1., 1.],\n",
    "       [1., 1., 1., 1.]])\n",
    "c2 = np.zeros((3, 4))\n",
    "c2\n",
    "array([[0., 0., 0., 0.],\n",
    "       [0., 0., 0., 0.],\n",
    "       [0., 0., 0., 0.]])\n",
    "```\n",
    "\n",
    "axis 인수가 1이면 두번째 차원으로 새로운 차원이 삽입된다. 다음 예에서 즉, shape 변화는 2개의 (3 x 4) -> 1개의 (3 x 2 x 4) 이다\n",
    "\n",
    "```\n",
    "c = np.stack([c1, c2], axis=1)\n",
    "c\n",
    "array([[[1., 1., 1., 1.],\n",
    "        [0., 0., 0., 0.]],\n",
    "\n",
    "       [[1., 1., 1., 1.],\n",
    "        [0., 0., 0., 0.]],\n",
    "\n",
    "       [[1., 1., 1., 1.],\n",
    "        [0., 0., 0., 0.]]])\n",
    "c.shape\n",
    "(3, 2, 4)\n",
    "```\n",
    "\n",
    "#### r_\n",
    "\n",
    "r_ 메서드는 hstack 명령과 비슷하게 배열을 좌우로 연결한다. 다만 메서드임에도 불구하고 소괄호(parenthesis, ())를 사용하지 않고 인덱싱과 같이 대괄호(bracket, [])를 사용한다. 이런 특수 메서드를 인덱서(indexer)라고 한다.\n",
    "\n",
    "```\n",
    "np.r_[np.array([1, 2, 3]), np.array([4, 5, 6])]\n",
    "array([1, 2, 3, 4, 5, 6])\n",
    "```\n",
    "\n",
    "#### c_\n",
    "\n",
    "c_ 메서드는 배열의 차원을 증가시킨 후 좌우로 연결한다. 만약 1차원 배열을 연결하면 2차원 배열이 된다.\n",
    "\n",
    "```\n",
    "np.c_[np.array([1, 2, 3]), np.array([4, 5, 6])]\n",
    "array([[1, 4],\n",
    "       [2, 5],\n",
    "       [3, 6]])\n",
    "```\n",
    "\n",
    "#### tile\n",
    "\n",
    "tile 명령은 동일한 배열을 반복하여 연결한다.\n",
    "\n",
    "```\n",
    "a = np.array([[0, 1, 2], [3, 4, 5]])\n",
    "np.tile(a, 2)\n",
    "array([[0, 1, 2, 0, 1, 2],\n",
    "       [3, 4, 5, 3, 4, 5]])\n",
    "np.tile(a, (3, 2))\n",
    "array([[0, 1, 2, 0, 1, 2],\n",
    "       [3, 4, 5, 3, 4, 5],\n",
    "       [0, 1, 2, 0, 1, 2],\n",
    "       [3, 4, 5, 3, 4, 5],\n",
    "       [0, 1, 2, 0, 1, 2],\n",
    "       [3, 4, 5, 3, 4, 5]])\n",
    "```"
   ]
  },
  {
   "cell_type": "code",
   "execution_count": 30,
   "metadata": {
    "colab": {
     "base_uri": "https://localhost:8080/"
    },
    "executionInfo": {
     "elapsed": 311,
     "status": "ok",
     "timestamp": 1645520518890,
     "user": {
      "displayName": "YSook Hwang",
      "photoUrl": "https://lh3.googleusercontent.com/a/default-user=s64",
      "userId": "12143454092848001070"
     },
     "user_tz": -540
    },
    "id": "40agBcDfqjcM",
    "outputId": "b2b53c9d-1b83-4ee9-d910-9810d6aecb07"
   },
   "outputs": [
    {
     "data": {
      "text/plain": [
       "array([[ 0,  1,  2,  3],\n",
       "       [ 4,  5,  6,  7],\n",
       "       [ 8,  9, 10, 11]])"
      ]
     },
     "execution_count": 30,
     "metadata": {},
     "output_type": "execute_result"
    }
   ],
   "source": [
    "a = np.arange(12)\n",
    "a\n",
    "b = a.reshape(3, 4)\n",
    "b"
   ]
  },
  {
   "cell_type": "code",
   "execution_count": 31,
   "metadata": {
    "colab": {
     "base_uri": "https://localhost:8080/"
    },
    "executionInfo": {
     "elapsed": 412,
     "status": "ok",
     "timestamp": 1645520937242,
     "user": {
      "displayName": "YSook Hwang",
      "photoUrl": "https://lh3.googleusercontent.com/a/default-user=s64",
      "userId": "12143454092848001070"
     },
     "user_tz": -540
    },
    "id": "7tvnrVeIqtPl",
    "outputId": "6a6a68de-79da-40c6-ffc2-13cabb66935b"
   },
   "outputs": [
    {
     "name": "stdout",
     "output_type": "stream",
     "text": [
      "(3, 4) (2, 2, 3) (2, 3, 2)\n"
     ]
    }
   ],
   "source": [
    "a1 = a.reshape(3, -1)\n",
    "a2 = a.reshape(2, 2, -1)\n",
    "a3 = a.reshape(2, -1, 2)\n",
    "print(a1.shape, a2.shape, a3.shape)"
   ]
  },
  {
   "cell_type": "markdown",
   "metadata": {
    "id": "mDiIPvF5cqn_"
   },
   "source": [
    "## 3 배열의 연산¶\n",
    "\n",
    "### 벡터화 연산¶\n",
    "\n",
    "넘파이는 벡터화 연산(vectorized operation)을 지원한다. 벡터화 연산을 쓰면 명시적으로 반복문을 사용하지 않고도 배열의 모든 원소에 대해 반복연산을 할 수 있다. 벡터화 연산의 또다른 장점은 선형 대수 공식과 동일한 아주 간단한 파이썬 코드를 작성할 수 있다는 점이다.\n",
    "\n",
    "만약 벡터화 연산을 사용하지 않는다면 이 연산은 반복문을 사용하여 다음과 같이 만들어야 한다. 이 코드에서 %time은 셀 코드의 실행시간을 측정하는 아이파이썬(IPython) 매직(magic) 명령이다.\n",
    "\n",
    "```\n",
    "x = np.arange(1, 10001)\n",
    "y = np.arange(10001, 20001)\n",
    "%time\n",
    "z = np.zeros_like(x)\n",
    "for i in range(10000):\n",
    "    z[i] = x[i] + y[i]\n",
    "z[:10]\n",
    "```\n",
    "\n",
    "그러나 벡터화 연산을 사용하면 덧셈 연산 하나로 끝난다. 위에서 보인 선형 대수의 벡터 기호를 사용한 연산과 결과가 완전히 동일하다. 연산 속도도 벡터화 연산이 훨씬 빠르다.\n",
    "\n",
    "```\n",
    "%time\n",
    "z = x + y\n",
    "z[:10]\n",
    "```\n",
    "\n",
    "사칙 연산뿐 아니라 비교 연산과 같은 논리 연산도 벡터화 연산이 가능하다.\n",
    "\n",
    "\n",
    "```\n",
    "a = np.array([1, 2, 3, 4])\n",
    "b = np.array([4, 2, 2, 4])\n",
    "a == b  # array([False,  True, False,  True])\n",
    "a >= b  # array([False,  True,  True,  True])\n",
    "```\n",
    "\n",
    "만약 배열의 각 원소들을 일일히 비교하는 것이 아니라 배열의 모든 원소가 다 같은지 알고 싶다면 all 명령을 사용하면 된다.\n",
    "\n",
    "```\n",
    "a = np.array([1, 2, 3, 4])\n",
    "b = np.array([4, 2, 2, 4])\n",
    "c = np.array([1, 2, 3, 4])\n",
    "np.all(a == b)  # False\n",
    "np.all(a == c)  # True\n",
    "```\n",
    "\n",
    "지수 함수, 로그 함수 등의 수학 함수도 벡터화 연산을 지원한다.\n",
    "\n",
    "```\n",
    "a = np.arange(5)\n",
    "a  # array([0, 1, 2, 3, 4])\n",
    "np.exp(a)  #  array([ 1.        ,  2.71828183,  7.3890561 , 20.08553692, 54.59815003])\n",
    "10 ** a  # array([    1,    10,   100,  1000, 10000])\n",
    "np.log(a + 1) # array([0.        , 0.69314718, 1.09861229, 1.38629436, 1.60943791])\n",
    "```\n",
    "\n",
    "### 스칼라와 벡터/행렬의 곱셈¶\n",
    "\n",
    "스칼라와 벡터/행렬의 곱도 선형 대수에서 사용하는 식과 넘파이 코드가 일치한다.\n",
    "\n",
    "```\n",
    "x = np.arange(10)\n",
    "x # array([0, 1, 2, 3, 4, 5, 6, 7, 8, 9])\n",
    "100 * x  # array([  0, 100, 200, 300, 400, 500, 600, 700, 800, 900])\n",
    "x = np.arange(12).reshape(3, 4)\n",
    "x  # array([[ 0,  1,  2,  3],\n",
    "       [ 4,  5,  6,  7],\n",
    "       [ 8,  9, 10, 11]])\n",
    "100 * x  # array([[   0,  100,  200,  300],\n",
    "       [ 400,  500,  600,  700],\n",
    "       [ 800,  900, 1000, 1100]])\n",
    "```"
   ]
  },
  {
   "cell_type": "code",
   "execution_count": 32,
   "metadata": {
    "colab": {
     "base_uri": "https://localhost:8080/"
    },
    "executionInfo": {
     "elapsed": 331,
     "status": "ok",
     "timestamp": 1645521050736,
     "user": {
      "displayName": "YSook Hwang",
      "photoUrl": "https://lh3.googleusercontent.com/a/default-user=s64",
      "userId": "12143454092848001070"
     },
     "user_tz": -540
    },
    "id": "im5cjorNsf6l",
    "outputId": "c5aa0c43-fb6a-4322-b3d2-8b30b5263522"
   },
   "outputs": [
    {
     "name": "stdout",
     "output_type": "stream",
     "text": [
      "CPU times: total: 0 ns\n",
      "Wall time: 0 ns\n"
     ]
    },
    {
     "data": {
      "text/plain": [
       "array([10002, 10004, 10006, 10008, 10010, 10012, 10014, 10016, 10018,\n",
       "       10020])"
      ]
     },
     "execution_count": 32,
     "metadata": {},
     "output_type": "execute_result"
    }
   ],
   "source": [
    "x = np.arange(1, 10001)\n",
    "y = np.arange(10001, 20001)\n",
    "%time\n",
    "z = np.zeros_like(x)\n",
    "for i in range(10000):\n",
    "    z[i] = x[i] + y[i]\n",
    "z[:10]"
   ]
  },
  {
   "cell_type": "code",
   "execution_count": 33,
   "metadata": {
    "colab": {
     "base_uri": "https://localhost:8080/"
    },
    "executionInfo": {
     "elapsed": 327,
     "status": "ok",
     "timestamp": 1645521148996,
     "user": {
      "displayName": "YSook Hwang",
      "photoUrl": "https://lh3.googleusercontent.com/a/default-user=s64",
      "userId": "12143454092848001070"
     },
     "user_tz": -540
    },
    "id": "eqAOlUx2s_yr",
    "outputId": "8a22302c-e005-4e7d-adca-56ae31380c53"
   },
   "outputs": [
    {
     "name": "stdout",
     "output_type": "stream",
     "text": [
      "CPU times: total: 0 ns\n",
      "Wall time: 0 ns\n"
     ]
    },
    {
     "data": {
      "text/plain": [
       "array([10002, 10004, 10006, 10008, 10010, 10012, 10014, 10016, 10018,\n",
       "       10020])"
      ]
     },
     "execution_count": 33,
     "metadata": {},
     "output_type": "execute_result"
    }
   ],
   "source": [
    "%time\n",
    "z = x + y\n",
    "z[:10]"
   ]
  },
  {
   "cell_type": "markdown",
   "metadata": {
    "id": "gbldBBGJeYlB"
   },
   "source": [
    "### 브로드캐스팅¶\n",
    "\n",
    "#### 브로드캐스팅\n",
    "\n",
    "벡터(또는 행렬)끼리 덧셈 혹은 뺄셈을 하려면 두 벡터(또는 행렬)의 크기가 같아야 한다. 넘파이에서는 서로 다른 크기를 가진 두 배열의 사칙 연산도 지원한다. 이 기능을 브로드캐스팅(broadcasting)이라고 하는데 크기가 작은 배열을 자동으로 반복 확장하여 크기가 큰 배열에 맞추는 방벙이다.\n",
    "\n",
    "![np_broadcasting.png](data:image/png;base64,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)\n",
    "\n",
    "\n",
    "```\n",
    "x = np.arange(5)\n",
    "x  # array([0, 1, 2, 3, 4])\n",
    "y = np.ones_like(x)\n",
    "y  # array([1, 1, 1, 1, 1])\n",
    "x + y # array([1, 2, 3, 4, 5])\n",
    "x + 1 # array([1, 2, 3, 4, 5])\n",
    "```\n",
    "\n",
    "```\n",
    "x = np.vstack([range(7)[i:i + 3] for i in range(5)])\n",
    "x  \n",
    "array([[0, 1, 2],\n",
    "    [1, 2, 3],\n",
    "    [2, 3, 4],\n",
    "    [3, 4, 5],\n",
    "    [4, 5, 6]])\n",
    "y = np.arange(5)[:, np.newaxis]\n",
    "y\n",
    "array([[0],\n",
    "       [1],\n",
    "       [2],\n",
    "       [3],\n",
    "       [4]])\n",
    "x + y\n",
    "array([[ 0,  1,  2],\n",
    "       [ 2,  3,  4],\n",
    "       [ 4,  5,  6],\n",
    "       [ 6,  7,  8],\n",
    "       [ 8,  9, 10]])\n",
    "y = np.arange(3)\n",
    "y\n",
    "array([0, 1, 2])\n",
    "x + y\n",
    "array([[0, 2, 4],\n",
    "       [1, 3, 5],\n",
    "       [2, 4, 6],\n",
    "       [3, 5, 7],\n",
    "       [4, 6, 8]])\n",
    "```"
   ]
  },
  {
   "cell_type": "code",
   "execution_count": 34,
   "metadata": {
    "colab": {
     "base_uri": "https://localhost:8080/"
    },
    "executionInfo": {
     "elapsed": 461,
     "status": "ok",
     "timestamp": 1645521551155,
     "user": {
      "displayName": "YSook Hwang",
      "photoUrl": "https://lh3.googleusercontent.com/a/default-user=s64",
      "userId": "12143454092848001070"
     },
     "user_tz": -540
    },
    "id": "SnwI2DlEujEb",
    "outputId": "e380c74a-4b5e-4f6a-9ddc-c123de3697eb"
   },
   "outputs": [
    {
     "data": {
      "text/plain": [
       "array([[0, 1, 2],\n",
       "       [1, 2, 3],\n",
       "       [2, 3, 4],\n",
       "       [3, 4, 5],\n",
       "       [4, 5, 6]])"
      ]
     },
     "execution_count": 34,
     "metadata": {},
     "output_type": "execute_result"
    }
   ],
   "source": [
    "x = np.vstack([range(7)[i:i + 3] for i in range(5)])\n",
    "x  "
   ]
  },
  {
   "cell_type": "code",
   "execution_count": 35,
   "metadata": {
    "colab": {
     "base_uri": "https://localhost:8080/"
    },
    "executionInfo": {
     "elapsed": 312,
     "status": "ok",
     "timestamp": 1645521570767,
     "user": {
      "displayName": "YSook Hwang",
      "photoUrl": "https://lh3.googleusercontent.com/a/default-user=s64",
      "userId": "12143454092848001070"
     },
     "user_tz": -540
    },
    "id": "xKol5ab5ukOc",
    "outputId": "43f293fe-d9fc-4eeb-aff1-50c7de7edb4e"
   },
   "outputs": [
    {
     "data": {
      "text/plain": [
       "array([[0],\n",
       "       [1],\n",
       "       [2],\n",
       "       [3],\n",
       "       [4]])"
      ]
     },
     "execution_count": 35,
     "metadata": {},
     "output_type": "execute_result"
    }
   ],
   "source": [
    "y = np.arange(5)[:, np.newaxis]\n",
    "y"
   ]
  },
  {
   "cell_type": "code",
   "execution_count": 36,
   "metadata": {
    "colab": {
     "base_uri": "https://localhost:8080/"
    },
    "executionInfo": {
     "elapsed": 484,
     "status": "ok",
     "timestamp": 1645521587309,
     "user": {
      "displayName": "YSook Hwang",
      "photoUrl": "https://lh3.googleusercontent.com/a/default-user=s64",
      "userId": "12143454092848001070"
     },
     "user_tz": -540
    },
    "id": "68fH_EOlurPZ",
    "outputId": "6f83a091-6277-4372-827a-289bbb1af018"
   },
   "outputs": [
    {
     "data": {
      "text/plain": [
       "array([[ 0,  1,  2],\n",
       "       [ 2,  3,  4],\n",
       "       [ 4,  5,  6],\n",
       "       [ 6,  7,  8],\n",
       "       [ 8,  9, 10]])"
      ]
     },
     "execution_count": 36,
     "metadata": {},
     "output_type": "execute_result"
    }
   ],
   "source": [
    "x + y"
   ]
  },
  {
   "cell_type": "code",
   "execution_count": 37,
   "metadata": {
    "colab": {
     "base_uri": "https://localhost:8080/"
    },
    "executionInfo": {
     "elapsed": 335,
     "status": "ok",
     "timestamp": 1645521627918,
     "user": {
      "displayName": "YSook Hwang",
      "photoUrl": "https://lh3.googleusercontent.com/a/default-user=s64",
      "userId": "12143454092848001070"
     },
     "user_tz": -540
    },
    "id": "WZ8nkL72uzDq",
    "outputId": "4dfe3783-3e36-4ce8-f002-f641b32a972e"
   },
   "outputs": [
    {
     "data": {
      "text/plain": [
       "array([0, 1, 2])"
      ]
     },
     "execution_count": 37,
     "metadata": {},
     "output_type": "execute_result"
    }
   ],
   "source": [
    "y = np.arange(3)\n",
    "y"
   ]
  },
  {
   "cell_type": "code",
   "execution_count": 38,
   "metadata": {
    "colab": {
     "base_uri": "https://localhost:8080/"
    },
    "executionInfo": {
     "elapsed": 329,
     "status": "ok",
     "timestamp": 1645521637193,
     "user": {
      "displayName": "YSook Hwang",
      "photoUrl": "https://lh3.googleusercontent.com/a/default-user=s64",
      "userId": "12143454092848001070"
     },
     "user_tz": -540
    },
    "id": "GHvoLTi0u3Sz",
    "outputId": "da739ae9-a746-4af2-918f-e53822791e51"
   },
   "outputs": [
    {
     "data": {
      "text/plain": [
       "array([[0, 2, 4],\n",
       "       [1, 3, 5],\n",
       "       [2, 4, 6],\n",
       "       [3, 5, 7],\n",
       "       [4, 6, 8]])"
      ]
     },
     "execution_count": 38,
     "metadata": {},
     "output_type": "execute_result"
    }
   ],
   "source": [
    "x+y"
   ]
  },
  {
   "cell_type": "markdown",
   "metadata": {
    "id": "6_VB7wMyjkoA"
   },
   "source": [
    "## 4 통계 함수\n",
    "\n",
    "넘파이는 다음과 같은 데이터 집합에 대해 간단한 통계를 계산하는 함수를 제공한다. \n",
    "\n",
    "* 데이터의 개수(count)\n",
    "* 평균(mean, average)\n",
    "* 분산(variance)\n",
    "* 표준 편차(standard deviation)\n",
    "* 최댓값(maximum)\n",
    "* 최솟값(minimum)\n",
    "* 중앙값(median)\n",
    "* 사분위수(quartile)\n",
    "\n",
    "예를 들어 다음과 같은 데이터 x가 있다고 하자.\n",
    "\n",
    "x={18,5,10,23,19,−8,10,0,0,5,2,15,8,2,5,4,15,−1,4,−7,−24,7,9,−6,23,−13}\n",
    "x를 이루는 숫자 하나 하나를 수학 기호로는 x1,x2,⋯,xN처럼 표시한다. 위 예에서 x1=18, x2=5이다.\n",
    "\n",
    "넘파이에서는 이러한 데이터를 1차원 배열로 구현한다.\n",
    "\n",
    "```\n",
    "x = np.array([18,   5,  10,  23,  19,  -8,  10,   0,   0,   5,   2,  15,   8,\n",
    "              2,   5,   4,  15,  -1,   4,  -7, -24,   7,   9,  -6,  23, -13])\n",
    "```              \n",
    "\n",
    "* 데이터의 개수\n",
    "> 데이터의 개수는 len 명령으로 구할 수 있다.\n",
    "\n",
    " > ```\n",
    "len(x)  # 갯수  \n",
    "```\n",
    "\n",
    "* 표본 평균\n",
    "> 평균을 통계용어로는 표본 평균(sample average, sample mean)이라고 한다. x 데이터에 대한 표본 평균은 x¯라고 표시하며 다음과 같이 계산한다. 이 식에서 N은 데이터의 개수이다.\n",
    "\n",
    " >```\n",
    "  np.mean(x)  # 평균 4.8076923076923075\n",
    "```\n",
    "\n",
    " $$ \\bar{x} = \\dfrac{1}{N}\\sum_{i=1}^N x_i $$\n",
    "\n",
    "\n",
    "\n",
    "* 표본 분산\n",
    "> 표본 분산(sample variance)은 데이터와 표본 평균간의 거리의 제곱의 평균이다. 표본 분산이 작으면 데이터가 모여있는 것이고 크면 흩어져 있는 것이다. 수학 기호로는 s2이라고 표시하며 다음과 같이 계산한다.\n",
    "\n",
    " > ```\n",
    " np.var(x)  # 분산 115.23224852071006\n",
    " np.var(x, ddof=1)  # 비편향 분산. 추후 공부하게 된다. 119.84153846153846\n",
    "```\n",
    "\n",
    "$$ s^2 = \\dfrac{1}{N}\\sum_{i=1}^N (x_i - \\bar{x})^2 $$\n",
    "\n",
    "\n",
    "* 표본 표준편차\n",
    "> 표본 표준편차(sample standard variance)는 표본 분산의 양의 제곱근 값이다. s이라고 표시한다.\n",
    "\n",
    " > ```\n",
    " np.std(x)  # 표준 편차 10.734628476137871\n",
    " ```\n",
    "\n",
    "* 최댓값과 최솟값\n",
    "> 최댓값(maximum)은 데이터 중에서 가장 큰 값을, 최솟값(minimum)은 가장 작은 값을 의미한다.\n",
    "\n",
    " > ``` \n",
    " np.max(x)  # 최댓값 23\n",
    " np.min(x)  # 최솟값 -24\n",
    " ```\n",
    "* 중앙값\n",
    "> 중앙값(median)은 데이터를 크기대로 정렬하였을 때 가장 가운데에 있는 수를 말한다. 만약 데이터의 수가 짝수이면 가장 가운데에 있는 두 수의 평균을 사용한다.\n",
    "\n",
    " > ```\n",
    " np.median(x)  # 중앙값 5.0\n",
    " ```\n",
    "\n",
    "* 사분위수\n",
    "> 사분위수(quartile)는 데이터를 가장 작은 수부터 가장 큰 수까지 크기가 커지는 순서대로 정렬하였을 때 1/4, 2/4, 3/4 위치에 있는 수를 말한다. 각각 1사분위수, 2사분위수, 3사분위수라고 한다. 1/4의 위치란 전체 데이터의 수가 만약 100개이면 25번째 순서, 즉 하위 25%를 말한다. 따라서 2사분위수는 중앙값과 같다.\n",
    "\n",
    " > 때로는 위치를 1/100 단위로 나눈 백분위수(percentile)을 사용하기도 한다. 1사분위수는 25% 백분위수와 같다.\n",
    "\n",
    " >```\n",
    " np.percentile(x, 0)  # 최소값 -24.0\n",
    " np.percentile(x, 25)  # 1사분위 수 0.0\n",
    " np.percentile(x, 50)  # 2사분위 수 5.0\n",
    " np.percentile(x, 75)  # 3사분위 수 10.0\n",
    " np.percentile(x, 100)  # 최댓값 23.0\n",
    " ```"
   ]
  },
  {
   "cell_type": "markdown",
   "metadata": {
    "id": "PxZ5-2aGruAu"
   },
   "source": [
    "## 5 난수 발생과 카운팅 \n",
    "\n",
    "파이썬을 이용하여 데이터를 무작위로 섞거나 임의의 수 즉, 난수(random number)를 발생시키는 방법에 대해 알아본다. 이 기능은 주로 NumPy의 random 서브패키지에서 제공한다.\n",
    "\n",
    "\n"
   ]
  },
  {
   "cell_type": "markdown",
   "metadata": {
    "id": "SG_CMR2Dxz_q"
   },
   "source": [
    "### 시드 설정하기\n",
    "\n",
    "#### 시드\n",
    "\n",
    "컴퓨터 프로그램에서는 어떤 특정한 시작 숫자를 정해 주면 컴퓨터가 정해진 알고리즘에 의해 마치 난수처럼 보이는 수열을 생성한다. 이런 시작 숫자를 시드(seed)라고 한다. 일단 생성된 난수는 다음번 난수 생성을 위한 시드값이 된다. 따라서 시드값은 한 번만 정해주면 된다. 시드는 보통 현재 시각등을 이용하여 자동으로 정해지지만 사람이 수동으로 설정할 수도 있다. 특정한 시드값이 사용되면 그 다음에 만들어지는 난수들은 모두 예측할 수 있다. 코드에서 무작위 데이터 생성 결과를 예측가능하게 만들고자 한다면 시드를 설정한다.\n",
    "\n",
    "* seed\n",
    "> 파이썬에서 시드를 설정하는 함수는 seed이다. 인수로는 0과 같거나 큰 정수를 넣어준다.\n",
    "\n",
    "> ```\n",
    "np.random.seed(0)\n",
    "```\n",
    "\n",
    "* rand\n",
    "> 시드를 설정한 후 넘파이 random 서브패키지에 있는 rand 함수로 5개의 난수를 생성해 보자. rand 함수는 0과 1사이의 난수를 발생시키는 함수로 인수로 받은 숫자 횟수만큼 난수를 발생시킨다.\n",
    "\n",
    ">```\n",
    "np.random.rand(5) \n",
    "```\n",
    "\n",
    "> 몇번 더 난수를 생성해보자. 사람이 예측할 수 없는 무작위 숫자가 나오는 것을 볼 수 있다.\n",
    "\n",
    "> ```\n",
    "np.random.rand(10)\n",
    "np.random.rand(10)\n",
    "```\n",
    "\n",
    "이제 시드를 0으로 재설정하고 다시 난수를 발생시켜 본다.\n",
    "\n",
    ">```\n",
    "np.random.seed(0)\n",
    "np.random.rand(5) \n",
    "np.random.rand(10)\n",
    "np.random.rand(10)\n",
    "```\n",
    "아까와 같은 숫자가 나오는 것을 확인할 수 있다.\n",
    "\n",
    "### 데이터의 순서 바꾸기\n",
    "* shuffle\n",
    "> 데이터의 순서를 바꾸려면 shuffle 함수를 사용한다. shuffle 함수도 자체 변환(in-place) 함수로 한 번 사용하면 변수의 값이 바뀌므로 사용에 주의해야 한다.\n",
    "\n",
    ">```\n",
    "x = np.arange(10)\n",
    "x # array([0, 1, 2, 3, 4, 5, 6, 7, 8, 9])\n",
    "np.random.shuffle(x)\n",
    "x # array([3, 6, 4, 5, 2, 9, 7, 8, 1, 0])\n",
    "```\n",
    "\n",
    "### 데이터 샘플링\n",
    "* choice\n",
    "> 이미 있는 데이터 집합에서 일부를 무작위로 선택하는 것을 표본선택 혹은 샘플링(sampling)이라고 한다. 샘플링에는 choice 함수를 사용한다. choice 함수는 다음과 같은 인수를 가질 수 있다.\n",
    "\n",
    "\n",
    "\n",
    "\n",
    "> **numpy.random.choice(a, size=None, replace=True, p=None)**\n",
    "> * a : 배열이면 원래의 데이터, 정수이면 arange(a) 명령으로 데이터 생성\n",
    "> * size : 정수. 샘플 숫자\n",
    "> * replace : 불리언. True이면 한번 선택한 데이터를 다시 선택 가능\n",
    "> * p : 배열. 각 데이터가 선택될 수 있는 확률\n",
    "\n",
    "> ```\n",
    "np.random.choice(5, 5, replace=False)  # shuffle 명령과 같다. array([1, 4, 0, 3, 2])\n",
    "np.random.choice(5, 3, replace=False)  # 3개만 선택 array([2, 1, 3])\n",
    "np.random.choice(5, 10)  # 반복해서 10개 선택 array([0, 4, 1, 4, 1, 2, 2, 0, 1, 1])\n",
    "np.random.choice(5, 10, p=[0.1, 0, 0.3, 0.6, 0])  # 선택 확률을 다르게 해서 10개 선택 array([0, 3, 3, 2, 2, 3, 3, 2, 0, 3])\n",
    "```\n",
    "\n",
    "### 난수 생성\n",
    "> 넘파이의 random 서브패키지는 이외에도 난수를 생성하는 다양한 함수를 제공한다. 그 중 가장 간단하고 많이 사용되는 것은 다음 3가지 함수다.\n",
    "\n",
    "* rand: 0부터 1사이의 균일 분포\n",
    "* randn: 표준 정규 분포\n",
    "* randint: 균일 분포의 정수 난수\n",
    "\n",
    "#### rand\n",
    "> rand 함수는 0부터 1사이에서 균일한 확률 분포로 실수 난수를 생성한다. 숫자 인수는 생성할 난수의 크기이다. 여러개의 인수를 넣으면 해당 크기를 가진 행렬을 생성한다.\n",
    "\n",
    ">```\n",
    "np.random.rand(10)\n",
    "array([0.95894927, 0.65279032, 0.63505887, 0.99529957, 0.58185033,\n",
    "       0.41436859, 0.4746975 , 0.6235101 , 0.33800761, 0.67475232])\n",
    "np.random.rand(3, 5)\n",
    "array([[0.31720174, 0.77834548, 0.94957105, 0.66252687, 0.01357164],\n",
    "       [0.6228461 , 0.67365963, 0.971945  , 0.87819347, 0.50962438],\n",
    "       [0.05571469, 0.45115921, 0.01998767, 0.44171092, 0.97958673]])\n",
    "```\n",
    "\n",
    "#### randn\n",
    "> randn 함수는 기댓값이 0이고 표준편차가 1인 표준 정규 분포(standard normal distribution)를 따르는 난수를 생성한다. 인수 사용법은 rand 명령과 같다.\n",
    "\n",
    ">```\n",
    "np.random.randn(10)\n",
    "array([-0.30237513, -2.2244036 ,  0.72400636,  0.35900276,  1.07612104,\n",
    "        0.19214083,  0.85292596,  0.01835718,  0.42830357,  0.99627783])\n",
    "np.random.randn(3, 5)\n",
    "array([[-0.49114966,  0.71267817,  1.11334035, -2.15367459, -0.41611148],\n",
    "       [-1.07089699,  0.22113881, -1.12305712, -1.05075796,  1.01207905],\n",
    "       [ 1.54371643, -0.40211489,  0.8647491 , -0.22686923,  0.81116027]])\n",
    "```\n",
    "\n",
    "#### randint\n",
    "> randint 함수는 다음과 같은 인수를 가진다.\n",
    "\n",
    "> * numpy.random.randint(low, high=None, size=None)\n",
    "\n",
    "> 만약 high를 입력하지 않으면 0과 low사이의 숫자를, high를 입력하면 low와 high는 사이의 숫자를 출력한다. size는 난수의 숫자이다.\n",
    "\n",
    ">```\n",
    "np.random.randint(10, size=10)\n",
    "array([0, 4, 3, 6, 9, 8, 0, 8, 5, 9])\n",
    "np.random.randint(10, 20, size=10)\n",
    "array([10, 19, 16, 15, 13, 11, 18, 10, 14, 19])\n",
    "np.random.randint(10, 20, size=(3, 5))\n",
    "array([[16, 15, 17, 18, 18],\n",
    "       [19, 12, 18, 16, 16],\n",
    "       [19, 11, 16, 18, 18]])\n",
    "```\n",
    "\n"
   ]
  },
  {
   "cell_type": "markdown",
   "metadata": {
    "id": "foJCYYxUxptD"
   },
   "source": [
    "### 정수 데이터 카운팅\n",
    "\n",
    "발생시킨 난수가 실수값이면 히스토그램 등을 사용하여 분석하면 되고, 만약 난수가 정수값이면 unique 명령이나 bincount 명령으로 데이터 값을 분석할 수 있다.\n",
    "\n",
    "#### unique\n",
    "> unique 함수는 데이터에서 중복된 값을 제거하고 중복되지 않는 값의 리스트를 출력한다. return_counts 인수를 True 로 설정하면 각 값을 가진 데이터 갯수도 출력한다.\n",
    "\n",
    ">```\n",
    "np.unique([11, 11, 2, 2, 34, 34]) #array([ 2, 11, 34])\n",
    "a = np.array(['a', 'b', 'b', 'c', 'a'])\n",
    "index, count = np.unique(a, return_counts=True)\n",
    "index # array(['a', 'b', 'c'], dtype='<U1')\n",
    "count # array([2, 2, 1])\n",
    "```\n",
    "\n",
    "> unique 함수는 데이터에 존재하는 값에 대해서만 갯수를 세므로 데이터 값이 나올 수 있음에도 불구하고 데이터가 하나도 없는 경우에는 정보를 주지 않는다. 예를 들어 주사위를 10번 던졌는데 6이 한 번도 나오지 않으면 이 값을 0으로 세어주지 않는다.\n",
    "\n",
    "#### bincount\n",
    "> 특정 범위안의 수인 경우에는 bincount 함수에 minlength 인수를 설정하여 쓰는 것이 더 편리하다. bincount 함수는 0 부터 minlength - 1 까지의 숫자에 대해 각각 카운트를 한다. 데이터가 없을 경우에는 카운트 값이 0이 된다.\n",
    "\n",
    "```\n",
    "np.bincount([1, 1, 2, 2, 2, 3], minlength=6) \n",
    "```"
   ]
  },
  {
   "cell_type": "code",
   "execution_count": 39,
   "metadata": {
    "colab": {
     "base_uri": "https://localhost:8080/"
    },
    "executionInfo": {
     "elapsed": 330,
     "status": "ok",
     "timestamp": 1645521980633,
     "user": {
      "displayName": "YSook Hwang",
      "photoUrl": "https://lh3.googleusercontent.com/a/default-user=s64",
      "userId": "12143454092848001070"
     },
     "user_tz": -540
    },
    "id": "GQY10Hi1wJeK",
    "outputId": "4512a201-da4e-46f6-aa55-7007423cc891"
   },
   "outputs": [
    {
     "data": {
      "text/plain": [
       "array([2, 2, 1], dtype=int64)"
      ]
     },
     "execution_count": 39,
     "metadata": {},
     "output_type": "execute_result"
    }
   ],
   "source": [
    "np.unique([11, 11, 2, 2, 34, 34]) #array([ 2, 11, 34])\n",
    "a = np.array(['a', 'b', 'b', 'c', 'a'])\n",
    "index, count = np.unique(a, return_counts=True)\n",
    "index # array(['a', 'b', 'c'], dtype='<U1')\n",
    "count # array([2, 2, 1])"
   ]
  }
 ],
 "metadata": {
  "colab": {
   "authorship_tag": "ABX9TyM+qvBesmfKrf7HX3+LVMcI",
   "collapsed_sections": [],
   "name": "NumpyProgramming_간략화.ipynb",
   "provenance": [
    {
     "file_id": "1rLq_bn-_OV94kw94gEtHwSe6vN4Ds-5e",
     "timestamp": 1645503243869
    }
   ],
   "toc_visible": true
  },
  "kernelspec": {
   "display_name": "Python 3 (ipykernel)",
   "language": "python",
   "name": "python3"
  },
  "language_info": {
   "codemirror_mode": {
    "name": "ipython",
    "version": 3
   },
   "file_extension": ".py",
   "mimetype": "text/x-python",
   "name": "python",
   "nbconvert_exporter": "python",
   "pygments_lexer": "ipython3",
   "version": "3.9.16"
  }
 },
 "nbformat": 4,
 "nbformat_minor": 1
}
