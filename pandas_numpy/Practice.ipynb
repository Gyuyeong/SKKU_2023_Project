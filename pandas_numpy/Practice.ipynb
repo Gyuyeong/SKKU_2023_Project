{
 "cells": [
  {
   "cell_type": "code",
   "execution_count": 1,
   "id": "01142b65",
   "metadata": {},
   "outputs": [],
   "source": [
    "import pandas as pd"
   ]
  },
  {
   "cell_type": "code",
   "execution_count": 2,
   "id": "cb03e658",
   "metadata": {},
   "outputs": [
    {
     "data": {
      "text/plain": [
       "one      1\n",
       "two      2\n",
       "three    3\n",
       "four     4\n",
       "dtype: int64"
      ]
     },
     "execution_count": 2,
     "metadata": {},
     "output_type": "execute_result"
    }
   ],
   "source": [
    "s = pd.Series([1, 2, 3, 4], index=[\"one\", \"two\", \"three\", \"four\"])\n",
    "s"
   ]
  },
  {
   "cell_type": "code",
   "execution_count": 3,
   "id": "42472d5a",
   "metadata": {},
   "outputs": [
    {
     "data": {
      "text/plain": [
       "one      1\n",
       "two      2\n",
       "three    3\n",
       "dtype: int64"
      ]
     },
     "execution_count": 3,
     "metadata": {},
     "output_type": "execute_result"
    }
   ],
   "source": [
    "s[0:3]"
   ]
  },
  {
   "cell_type": "code",
   "execution_count": 4,
   "id": "9711398e",
   "metadata": {},
   "outputs": [
    {
     "data": {
      "text/plain": [
       "one      1\n",
       "two      2\n",
       "three    3\n",
       "dtype: int64"
      ]
     },
     "execution_count": 4,
     "metadata": {},
     "output_type": "execute_result"
    }
   ],
   "source": [
    "s['one':'three']"
   ]
  },
  {
   "cell_type": "code",
   "execution_count": 5,
   "id": "9924fdca",
   "metadata": {},
   "outputs": [
    {
     "data": {
      "text/plain": [
       "one    1\n",
       "two    2\n",
       "dtype: int64"
      ]
     },
     "execution_count": 5,
     "metadata": {},
     "output_type": "execute_result"
    }
   ],
   "source": [
    "s[0:2]"
   ]
  },
  {
   "cell_type": "code",
   "execution_count": 6,
   "id": "7cb6cdb7",
   "metadata": {},
   "outputs": [
    {
     "data": {
      "text/plain": [
       "one      7\n",
       "two      7\n",
       "three    3\n",
       "four     4\n",
       "dtype: int64"
      ]
     },
     "execution_count": 6,
     "metadata": {},
     "output_type": "execute_result"
    }
   ],
   "source": [
    "s[0:2] = 7\n",
    "s"
   ]
  },
  {
   "cell_type": "code",
   "execution_count": 7,
   "id": "869a64dd",
   "metadata": {},
   "outputs": [
    {
     "data": {
      "text/plain": [
       "one      7\n",
       "two      7\n",
       "three    3\n",
       "four     4\n",
       "dtype: int64"
      ]
     },
     "execution_count": 7,
     "metadata": {},
     "output_type": "execute_result"
    }
   ],
   "source": [
    "s"
   ]
  },
  {
   "cell_type": "code",
   "execution_count": 8,
   "id": "b5a3ec89",
   "metadata": {},
   "outputs": [
    {
     "data": {
      "text/plain": [
       "one     7\n",
       "two     7\n",
       "four    4\n",
       "dtype: int64"
      ]
     },
     "execution_count": 8,
     "metadata": {},
     "output_type": "execute_result"
    }
   ],
   "source": [
    "del s['three']\n",
    "s"
   ]
  },
  {
   "cell_type": "code",
   "execution_count": 9,
   "id": "c13e232c",
   "metadata": {},
   "outputs": [
    {
     "data": {
      "text/html": [
       "<div>\n",
       "<style scoped>\n",
       "    .dataframe tbody tr th:only-of-type {\n",
       "        vertical-align: middle;\n",
       "    }\n",
       "\n",
       "    .dataframe tbody tr th {\n",
       "        vertical-align: top;\n",
       "    }\n",
       "\n",
       "    .dataframe thead th {\n",
       "        text-align: right;\n",
       "    }\n",
       "</style>\n",
       "<table border=\"1\" class=\"dataframe\">\n",
       "  <thead>\n",
       "    <tr style=\"text-align: right;\">\n",
       "      <th></th>\n",
       "      <th>name</th>\n",
       "      <th>category</th>\n",
       "      <th>level/rank/link</th>\n",
       "      <th>attribute</th>\n",
       "      <th>type</th>\n",
       "      <th>attack</th>\n",
       "      <th>defense</th>\n",
       "    </tr>\n",
       "  </thead>\n",
       "  <tbody>\n",
       "    <tr>\n",
       "      <th>0</th>\n",
       "      <td>Tri-brigade Fractall</td>\n",
       "      <td>effect</td>\n",
       "      <td>4</td>\n",
       "      <td>fire</td>\n",
       "      <td>beast-warrior</td>\n",
       "      <td>1900</td>\n",
       "      <td>1200.0</td>\n",
       "    </tr>\n",
       "    <tr>\n",
       "      <th>1</th>\n",
       "      <td>Altergeist Hextia</td>\n",
       "      <td>link</td>\n",
       "      <td>2</td>\n",
       "      <td>fire</td>\n",
       "      <td>spellcaster</td>\n",
       "      <td>1500</td>\n",
       "      <td>NaN</td>\n",
       "    </tr>\n",
       "    <tr>\n",
       "      <th>2</th>\n",
       "      <td>Maxx C</td>\n",
       "      <td>effect</td>\n",
       "      <td>2</td>\n",
       "      <td>ground</td>\n",
       "      <td>insect</td>\n",
       "      <td>500</td>\n",
       "      <td>200.0</td>\n",
       "    </tr>\n",
       "    <tr>\n",
       "      <th>3</th>\n",
       "      <td>Accesscode Talker</td>\n",
       "      <td>link</td>\n",
       "      <td>4</td>\n",
       "      <td>dark</td>\n",
       "      <td>cyberse</td>\n",
       "      <td>2300</td>\n",
       "      <td>NaN</td>\n",
       "    </tr>\n",
       "    <tr>\n",
       "      <th>4</th>\n",
       "      <td>Bagooska</td>\n",
       "      <td>xyz</td>\n",
       "      <td>4</td>\n",
       "      <td>ground</td>\n",
       "      <td>fiend</td>\n",
       "      <td>2100</td>\n",
       "      <td>2000.0</td>\n",
       "    </tr>\n",
       "    <tr>\n",
       "      <th>5</th>\n",
       "      <td>Baronnes</td>\n",
       "      <td>synchro</td>\n",
       "      <td>10</td>\n",
       "      <td>wind</td>\n",
       "      <td>warrior</td>\n",
       "      <td>3000</td>\n",
       "      <td>2500.0</td>\n",
       "    </tr>\n",
       "  </tbody>\n",
       "</table>\n",
       "</div>"
      ],
      "text/plain": [
       "                   name category  level/rank/link attribute           type   \n",
       "0  Tri-brigade Fractall   effect                4      fire  beast-warrior  \\\n",
       "1     Altergeist Hextia     link                2      fire    spellcaster   \n",
       "2                Maxx C   effect                2    ground         insect   \n",
       "3     Accesscode Talker     link                4      dark        cyberse   \n",
       "4              Bagooska      xyz                4    ground          fiend   \n",
       "5              Baronnes  synchro               10      wind        warrior   \n",
       "\n",
       "   attack  defense  \n",
       "0    1900   1200.0  \n",
       "1    1500      NaN  \n",
       "2     500    200.0  \n",
       "3    2300      NaN  \n",
       "4    2100   2000.0  \n",
       "5    3000   2500.0  "
      ]
     },
     "execution_count": 9,
     "metadata": {},
     "output_type": "execute_result"
    }
   ],
   "source": [
    "import numpy as np\n",
    "\n",
    "data = {\"name\":[\"Tri-brigade Fractall\", \"Altergeist Hextia\", \"Maxx C\", \"Accesscode Talker\", \"Bagooska\", \"Baronnes\"],\n",
    "        \"category\":[\"effect\", \"link\", \"effect\", \"link\", \"xyz\", \"synchro\"],\n",
    "        \"level/rank/link\":[4, 2, 2, 4, 4, 10],\n",
    "        \"attribute\":[\"fire\", \"fire\", \"ground\", \"dark\", \"ground\", \"wind\"],\n",
    "        \"type\":[\"beast-warrior\", \"spellcaster\", \"insect\", \"cyberse\", \"fiend\", \"warrior\"],\n",
    "        \"attack\":[1900, 1500, 500, 2300, 2100, 3000],\n",
    "        \"defense\":[1200, np.nan, 200, np.nan, 2000, 2500]}\n",
    "columns = [\"name\", \"category\", \"level/rank/link\", \"attribute\", \"type\", \"attack\", \"defense\"]\n",
    "df = pd.DataFrame(data, columns=columns)\n",
    "df"
   ]
  },
  {
   "cell_type": "code",
   "execution_count": 10,
   "id": "4d99588f",
   "metadata": {},
   "outputs": [
    {
     "data": {
      "text/plain": [
       "attribute\n",
       "fire      2\n",
       "ground    2\n",
       "dark      1\n",
       "wind      1\n",
       "Name: count, dtype: int64"
      ]
     },
     "execution_count": 10,
     "metadata": {},
     "output_type": "execute_result"
    }
   ],
   "source": [
    "df.attribute.value_counts(dropna=False)"
   ]
  },
  {
   "cell_type": "code",
   "execution_count": 11,
   "id": "a19d59c7",
   "metadata": {
    "scrolled": true
   },
   "outputs": [
    {
     "data": {
      "text/html": [
       "<div>\n",
       "<style scoped>\n",
       "    .dataframe tbody tr th:only-of-type {\n",
       "        vertical-align: middle;\n",
       "    }\n",
       "\n",
       "    .dataframe tbody tr th {\n",
       "        vertical-align: top;\n",
       "    }\n",
       "\n",
       "    .dataframe thead th {\n",
       "        text-align: right;\n",
       "    }\n",
       "</style>\n",
       "<table border=\"1\" class=\"dataframe\">\n",
       "  <thead>\n",
       "    <tr style=\"text-align: right;\">\n",
       "      <th></th>\n",
       "      <th>name</th>\n",
       "      <th>category</th>\n",
       "      <th>level/rank/link</th>\n",
       "      <th>attribute</th>\n",
       "      <th>type</th>\n",
       "      <th>attack</th>\n",
       "      <th>defense</th>\n",
       "    </tr>\n",
       "  </thead>\n",
       "  <tbody>\n",
       "    <tr>\n",
       "      <th>0</th>\n",
       "      <td>Tri-brigade Fractall</td>\n",
       "      <td>effect</td>\n",
       "      <td>4</td>\n",
       "      <td>fire</td>\n",
       "      <td>beast-warrior</td>\n",
       "      <td>1900</td>\n",
       "      <td>1200.0</td>\n",
       "    </tr>\n",
       "    <tr>\n",
       "      <th>1</th>\n",
       "      <td>Altergeist Hextia</td>\n",
       "      <td>link</td>\n",
       "      <td>2</td>\n",
       "      <td>fire</td>\n",
       "      <td>spellcaster</td>\n",
       "      <td>1500</td>\n",
       "      <td>NaN</td>\n",
       "    </tr>\n",
       "  </tbody>\n",
       "</table>\n",
       "</div>"
      ],
      "text/plain": [
       "                   name category  level/rank/link attribute           type   \n",
       "0  Tri-brigade Fractall   effect                4      fire  beast-warrior  \\\n",
       "1     Altergeist Hextia     link                2      fire    spellcaster   \n",
       "\n",
       "   attack  defense  \n",
       "0    1900   1200.0  \n",
       "1    1500      NaN  "
      ]
     },
     "execution_count": 11,
     "metadata": {},
     "output_type": "execute_result"
    }
   ],
   "source": [
    "df.loc[df.attribute == \"fire\", :]"
   ]
  },
  {
   "cell_type": "code",
   "execution_count": 12,
   "id": "63f9e732",
   "metadata": {},
   "outputs": [
    {
     "data": {
      "text/html": [
       "<div>\n",
       "<style scoped>\n",
       "    .dataframe tbody tr th:only-of-type {\n",
       "        vertical-align: middle;\n",
       "    }\n",
       "\n",
       "    .dataframe tbody tr th {\n",
       "        vertical-align: top;\n",
       "    }\n",
       "\n",
       "    .dataframe thead th {\n",
       "        text-align: right;\n",
       "    }\n",
       "</style>\n",
       "<table border=\"1\" class=\"dataframe\">\n",
       "  <thead>\n",
       "    <tr style=\"text-align: right;\">\n",
       "      <th></th>\n",
       "      <th>name</th>\n",
       "      <th>category</th>\n",
       "      <th>level/rank/link</th>\n",
       "      <th>attribute</th>\n",
       "      <th>type</th>\n",
       "      <th>attack</th>\n",
       "      <th>defense</th>\n",
       "    </tr>\n",
       "  </thead>\n",
       "  <tbody>\n",
       "    <tr>\n",
       "      <th>0</th>\n",
       "      <td>Tri-brigade Fractall</td>\n",
       "      <td>effect</td>\n",
       "      <td>4</td>\n",
       "      <td>fire</td>\n",
       "      <td>beast-warrior</td>\n",
       "      <td>1900</td>\n",
       "      <td>1200.0</td>\n",
       "    </tr>\n",
       "    <tr>\n",
       "      <th>1</th>\n",
       "      <td>Altergeist Hextia</td>\n",
       "      <td>link</td>\n",
       "      <td>2</td>\n",
       "      <td>fire</td>\n",
       "      <td>spellcaster</td>\n",
       "      <td>1500</td>\n",
       "      <td>NaN</td>\n",
       "    </tr>\n",
       "  </tbody>\n",
       "</table>\n",
       "</div>"
      ],
      "text/plain": [
       "                   name category  level/rank/link attribute           type   \n",
       "0  Tri-brigade Fractall   effect                4      fire  beast-warrior  \\\n",
       "1     Altergeist Hextia     link                2      fire    spellcaster   \n",
       "\n",
       "   attack  defense  \n",
       "0    1900   1200.0  \n",
       "1    1500      NaN  "
      ]
     },
     "execution_count": 12,
     "metadata": {},
     "output_type": "execute_result"
    }
   ],
   "source": [
    "df[df.attribute == \"fire\"]"
   ]
  },
  {
   "cell_type": "code",
   "execution_count": 13,
   "id": "72845152",
   "metadata": {},
   "outputs": [
    {
     "name": "stderr",
     "output_type": "stream",
     "text": [
      "C:\\Users\\nanal\\AppData\\Local\\Temp\\ipykernel_9768\\3332614318.py:1: SettingWithCopyWarning: \n",
      "A value is trying to be set on a copy of a slice from a DataFrame.\n",
      "Try using .loc[row_indexer,col_indexer] = value instead\n",
      "\n",
      "See the caveats in the documentation: https://pandas.pydata.org/pandas-docs/stable/user_guide/indexing.html#returning-a-view-versus-a-copy\n",
      "  df[df.attribute == \"fire\"].type = \"warrior\"\n"
     ]
    },
    {
     "data": {
      "text/html": [
       "<div>\n",
       "<style scoped>\n",
       "    .dataframe tbody tr th:only-of-type {\n",
       "        vertical-align: middle;\n",
       "    }\n",
       "\n",
       "    .dataframe tbody tr th {\n",
       "        vertical-align: top;\n",
       "    }\n",
       "\n",
       "    .dataframe thead th {\n",
       "        text-align: right;\n",
       "    }\n",
       "</style>\n",
       "<table border=\"1\" class=\"dataframe\">\n",
       "  <thead>\n",
       "    <tr style=\"text-align: right;\">\n",
       "      <th></th>\n",
       "      <th>name</th>\n",
       "      <th>category</th>\n",
       "      <th>level/rank/link</th>\n",
       "      <th>attribute</th>\n",
       "      <th>type</th>\n",
       "      <th>attack</th>\n",
       "      <th>defense</th>\n",
       "    </tr>\n",
       "  </thead>\n",
       "  <tbody>\n",
       "    <tr>\n",
       "      <th>0</th>\n",
       "      <td>Tri-brigade Fractall</td>\n",
       "      <td>effect</td>\n",
       "      <td>4</td>\n",
       "      <td>fire</td>\n",
       "      <td>beast-warrior</td>\n",
       "      <td>1900</td>\n",
       "      <td>1200.0</td>\n",
       "    </tr>\n",
       "    <tr>\n",
       "      <th>1</th>\n",
       "      <td>Altergeist Hextia</td>\n",
       "      <td>link</td>\n",
       "      <td>2</td>\n",
       "      <td>fire</td>\n",
       "      <td>spellcaster</td>\n",
       "      <td>1500</td>\n",
       "      <td>NaN</td>\n",
       "    </tr>\n",
       "    <tr>\n",
       "      <th>2</th>\n",
       "      <td>Maxx C</td>\n",
       "      <td>effect</td>\n",
       "      <td>2</td>\n",
       "      <td>ground</td>\n",
       "      <td>insect</td>\n",
       "      <td>500</td>\n",
       "      <td>200.0</td>\n",
       "    </tr>\n",
       "    <tr>\n",
       "      <th>3</th>\n",
       "      <td>Accesscode Talker</td>\n",
       "      <td>link</td>\n",
       "      <td>4</td>\n",
       "      <td>dark</td>\n",
       "      <td>cyberse</td>\n",
       "      <td>2300</td>\n",
       "      <td>NaN</td>\n",
       "    </tr>\n",
       "    <tr>\n",
       "      <th>4</th>\n",
       "      <td>Bagooska</td>\n",
       "      <td>xyz</td>\n",
       "      <td>4</td>\n",
       "      <td>ground</td>\n",
       "      <td>fiend</td>\n",
       "      <td>2100</td>\n",
       "      <td>2000.0</td>\n",
       "    </tr>\n",
       "    <tr>\n",
       "      <th>5</th>\n",
       "      <td>Baronnes</td>\n",
       "      <td>synchro</td>\n",
       "      <td>10</td>\n",
       "      <td>wind</td>\n",
       "      <td>warrior</td>\n",
       "      <td>3000</td>\n",
       "      <td>2500.0</td>\n",
       "    </tr>\n",
       "  </tbody>\n",
       "</table>\n",
       "</div>"
      ],
      "text/plain": [
       "                   name category  level/rank/link attribute           type   \n",
       "0  Tri-brigade Fractall   effect                4      fire  beast-warrior  \\\n",
       "1     Altergeist Hextia     link                2      fire    spellcaster   \n",
       "2                Maxx C   effect                2    ground         insect   \n",
       "3     Accesscode Talker     link                4      dark        cyberse   \n",
       "4              Bagooska      xyz                4    ground          fiend   \n",
       "5              Baronnes  synchro               10      wind        warrior   \n",
       "\n",
       "   attack  defense  \n",
       "0    1900   1200.0  \n",
       "1    1500      NaN  \n",
       "2     500    200.0  \n",
       "3    2300      NaN  \n",
       "4    2100   2000.0  \n",
       "5    3000   2500.0  "
      ]
     },
     "execution_count": 13,
     "metadata": {},
     "output_type": "execute_result"
    }
   ],
   "source": [
    "df[df.attribute == \"fire\"].type = \"warrior\"\n",
    "df"
   ]
  },
  {
   "cell_type": "code",
   "execution_count": 14,
   "id": "ce66430a",
   "metadata": {},
   "outputs": [
    {
     "data": {
      "text/html": [
       "<div>\n",
       "<style scoped>\n",
       "    .dataframe tbody tr th:only-of-type {\n",
       "        vertical-align: middle;\n",
       "    }\n",
       "\n",
       "    .dataframe tbody tr th {\n",
       "        vertical-align: top;\n",
       "    }\n",
       "\n",
       "    .dataframe thead th {\n",
       "        text-align: right;\n",
       "    }\n",
       "</style>\n",
       "<table border=\"1\" class=\"dataframe\">\n",
       "  <thead>\n",
       "    <tr style=\"text-align: right;\">\n",
       "      <th></th>\n",
       "      <th>name</th>\n",
       "      <th>category</th>\n",
       "      <th>level/rank/link</th>\n",
       "      <th>attribute</th>\n",
       "      <th>type</th>\n",
       "      <th>attack</th>\n",
       "      <th>defense</th>\n",
       "    </tr>\n",
       "  </thead>\n",
       "  <tbody>\n",
       "    <tr>\n",
       "      <th>0</th>\n",
       "      <td>Tri-brigade Fractall</td>\n",
       "      <td>effect</td>\n",
       "      <td>4</td>\n",
       "      <td>fire</td>\n",
       "      <td>warrior</td>\n",
       "      <td>1900</td>\n",
       "      <td>1200.0</td>\n",
       "    </tr>\n",
       "    <tr>\n",
       "      <th>1</th>\n",
       "      <td>Altergeist Hextia</td>\n",
       "      <td>link</td>\n",
       "      <td>2</td>\n",
       "      <td>fire</td>\n",
       "      <td>warrior</td>\n",
       "      <td>1500</td>\n",
       "      <td>NaN</td>\n",
       "    </tr>\n",
       "    <tr>\n",
       "      <th>2</th>\n",
       "      <td>Maxx C</td>\n",
       "      <td>effect</td>\n",
       "      <td>2</td>\n",
       "      <td>ground</td>\n",
       "      <td>insect</td>\n",
       "      <td>500</td>\n",
       "      <td>200.0</td>\n",
       "    </tr>\n",
       "    <tr>\n",
       "      <th>3</th>\n",
       "      <td>Accesscode Talker</td>\n",
       "      <td>link</td>\n",
       "      <td>4</td>\n",
       "      <td>dark</td>\n",
       "      <td>cyberse</td>\n",
       "      <td>2300</td>\n",
       "      <td>NaN</td>\n",
       "    </tr>\n",
       "    <tr>\n",
       "      <th>4</th>\n",
       "      <td>Bagooska</td>\n",
       "      <td>xyz</td>\n",
       "      <td>4</td>\n",
       "      <td>ground</td>\n",
       "      <td>fiend</td>\n",
       "      <td>2100</td>\n",
       "      <td>2000.0</td>\n",
       "    </tr>\n",
       "    <tr>\n",
       "      <th>5</th>\n",
       "      <td>Baronnes</td>\n",
       "      <td>synchro</td>\n",
       "      <td>10</td>\n",
       "      <td>wind</td>\n",
       "      <td>warrior</td>\n",
       "      <td>3000</td>\n",
       "      <td>2500.0</td>\n",
       "    </tr>\n",
       "  </tbody>\n",
       "</table>\n",
       "</div>"
      ],
      "text/plain": [
       "                   name category  level/rank/link attribute     type  attack   \n",
       "0  Tri-brigade Fractall   effect                4      fire  warrior    1900  \\\n",
       "1     Altergeist Hextia     link                2      fire  warrior    1500   \n",
       "2                Maxx C   effect                2    ground   insect     500   \n",
       "3     Accesscode Talker     link                4      dark  cyberse    2300   \n",
       "4              Bagooska      xyz                4    ground    fiend    2100   \n",
       "5              Baronnes  synchro               10      wind  warrior    3000   \n",
       "\n",
       "   defense  \n",
       "0   1200.0  \n",
       "1      NaN  \n",
       "2    200.0  \n",
       "3      NaN  \n",
       "4   2000.0  \n",
       "5   2500.0  "
      ]
     },
     "execution_count": 14,
     "metadata": {},
     "output_type": "execute_result"
    }
   ],
   "source": [
    "df.loc[df.attribute == \"fire\", \"type\"] = \"warrior\"\n",
    "df"
   ]
  },
  {
   "cell_type": "code",
   "execution_count": 15,
   "id": "e2e67502",
   "metadata": {},
   "outputs": [
    {
     "data": {
      "text/plain": [
       "0    Tri-brigade Fractall\n",
       "1       Altergeist Hextia\n",
       "2                  Maxx C\n",
       "3       Accesscode Talker\n",
       "4                Bagooska\n",
       "5                Baronnes\n",
       "Name: name, dtype: object"
      ]
     },
     "execution_count": 15,
     "metadata": {},
     "output_type": "execute_result"
    }
   ],
   "source": [
    "df.loc[:, \"name\"]"
   ]
  },
  {
   "cell_type": "code",
   "execution_count": 16,
   "id": "b611aa93",
   "metadata": {},
   "outputs": [
    {
     "data": {
      "text/html": [
       "<div>\n",
       "<style scoped>\n",
       "    .dataframe tbody tr th:only-of-type {\n",
       "        vertical-align: middle;\n",
       "    }\n",
       "\n",
       "    .dataframe tbody tr th {\n",
       "        vertical-align: top;\n",
       "    }\n",
       "\n",
       "    .dataframe thead th {\n",
       "        text-align: right;\n",
       "    }\n",
       "</style>\n",
       "<table border=\"1\" class=\"dataframe\">\n",
       "  <thead>\n",
       "    <tr style=\"text-align: right;\">\n",
       "      <th></th>\n",
       "      <th>category</th>\n",
       "      <th>level/rank/link</th>\n",
       "      <th>attribute</th>\n",
       "    </tr>\n",
       "  </thead>\n",
       "  <tbody>\n",
       "    <tr>\n",
       "      <th>0</th>\n",
       "      <td>effect</td>\n",
       "      <td>4</td>\n",
       "      <td>fire</td>\n",
       "    </tr>\n",
       "    <tr>\n",
       "      <th>1</th>\n",
       "      <td>link</td>\n",
       "      <td>2</td>\n",
       "      <td>fire</td>\n",
       "    </tr>\n",
       "    <tr>\n",
       "      <th>2</th>\n",
       "      <td>effect</td>\n",
       "      <td>2</td>\n",
       "      <td>ground</td>\n",
       "    </tr>\n",
       "  </tbody>\n",
       "</table>\n",
       "</div>"
      ],
      "text/plain": [
       "  category  level/rank/link attribute\n",
       "0   effect                4      fire\n",
       "1     link                2      fire\n",
       "2   effect                2    ground"
      ]
     },
     "execution_count": 16,
     "metadata": {},
     "output_type": "execute_result"
    }
   ],
   "source": [
    "df.iloc[0:3, 1:4]"
   ]
  },
  {
   "cell_type": "code",
   "execution_count": 17,
   "id": "7368f44b",
   "metadata": {},
   "outputs": [
    {
     "data": {
      "text/plain": [
       "11300"
      ]
     },
     "execution_count": 17,
     "metadata": {},
     "output_type": "execute_result"
    }
   ],
   "source": [
    "df.attack.sum()"
   ]
  },
  {
   "cell_type": "code",
   "execution_count": 18,
   "id": "3a683b5f",
   "metadata": {},
   "outputs": [
    {
     "data": {
      "text/plain": [
       "1883.3333333333333"
      ]
     },
     "execution_count": 18,
     "metadata": {},
     "output_type": "execute_result"
    }
   ],
   "source": [
    "df.attack.mean()"
   ]
  },
  {
   "cell_type": "code",
   "execution_count": 19,
   "id": "c0946eb0",
   "metadata": {},
   "outputs": [
    {
     "data": {
      "text/plain": [
       "6"
      ]
     },
     "execution_count": 19,
     "metadata": {},
     "output_type": "execute_result"
    }
   ],
   "source": [
    "df.attack.count()"
   ]
  },
  {
   "cell_type": "code",
   "execution_count": 20,
   "id": "f01d434d",
   "metadata": {},
   "outputs": [
    {
     "data": {
      "text/plain": [
       "3000"
      ]
     },
     "execution_count": 20,
     "metadata": {},
     "output_type": "execute_result"
    }
   ],
   "source": [
    "df.attack.max()"
   ]
  },
  {
   "cell_type": "code",
   "execution_count": 21,
   "id": "a8f5f08b",
   "metadata": {},
   "outputs": [
    {
     "data": {
      "text/plain": [
       "500"
      ]
     },
     "execution_count": 21,
     "metadata": {},
     "output_type": "execute_result"
    }
   ],
   "source": [
    "df.attack.min()"
   ]
  },
  {
   "cell_type": "code",
   "execution_count": 22,
   "id": "bc0773b7",
   "metadata": {},
   "outputs": [],
   "source": [
    "def categorize_attack(attack):\n",
    "    if attack < 1000:\n",
    "        return \"very_low\"\n",
    "    elif (attack >= 1000) and (attack < 2000):\n",
    "        return \"low\"\n",
    "    elif (attack >= 2000) and (attack < 3000):\n",
    "        return \"middle\"\n",
    "    else:\n",
    "        return \"high\""
   ]
  },
  {
   "cell_type": "code",
   "execution_count": 23,
   "id": "97b7e2c7",
   "metadata": {},
   "outputs": [
    {
     "data": {
      "text/html": [
       "<div>\n",
       "<style scoped>\n",
       "    .dataframe tbody tr th:only-of-type {\n",
       "        vertical-align: middle;\n",
       "    }\n",
       "\n",
       "    .dataframe tbody tr th {\n",
       "        vertical-align: top;\n",
       "    }\n",
       "\n",
       "    .dataframe thead th {\n",
       "        text-align: right;\n",
       "    }\n",
       "</style>\n",
       "<table border=\"1\" class=\"dataframe\">\n",
       "  <thead>\n",
       "    <tr style=\"text-align: right;\">\n",
       "      <th></th>\n",
       "      <th>name</th>\n",
       "      <th>category</th>\n",
       "      <th>level/rank/link</th>\n",
       "      <th>attribute</th>\n",
       "      <th>type</th>\n",
       "      <th>attack</th>\n",
       "      <th>defense</th>\n",
       "      <th>attack_category</th>\n",
       "    </tr>\n",
       "  </thead>\n",
       "  <tbody>\n",
       "    <tr>\n",
       "      <th>0</th>\n",
       "      <td>Tri-brigade Fractall</td>\n",
       "      <td>effect</td>\n",
       "      <td>4</td>\n",
       "      <td>fire</td>\n",
       "      <td>warrior</td>\n",
       "      <td>1900</td>\n",
       "      <td>1200.0</td>\n",
       "      <td>low</td>\n",
       "    </tr>\n",
       "    <tr>\n",
       "      <th>1</th>\n",
       "      <td>Altergeist Hextia</td>\n",
       "      <td>link</td>\n",
       "      <td>2</td>\n",
       "      <td>fire</td>\n",
       "      <td>warrior</td>\n",
       "      <td>1500</td>\n",
       "      <td>NaN</td>\n",
       "      <td>low</td>\n",
       "    </tr>\n",
       "    <tr>\n",
       "      <th>2</th>\n",
       "      <td>Maxx C</td>\n",
       "      <td>effect</td>\n",
       "      <td>2</td>\n",
       "      <td>ground</td>\n",
       "      <td>insect</td>\n",
       "      <td>500</td>\n",
       "      <td>200.0</td>\n",
       "      <td>very_low</td>\n",
       "    </tr>\n",
       "    <tr>\n",
       "      <th>3</th>\n",
       "      <td>Accesscode Talker</td>\n",
       "      <td>link</td>\n",
       "      <td>4</td>\n",
       "      <td>dark</td>\n",
       "      <td>cyberse</td>\n",
       "      <td>2300</td>\n",
       "      <td>NaN</td>\n",
       "      <td>middle</td>\n",
       "    </tr>\n",
       "    <tr>\n",
       "      <th>4</th>\n",
       "      <td>Bagooska</td>\n",
       "      <td>xyz</td>\n",
       "      <td>4</td>\n",
       "      <td>ground</td>\n",
       "      <td>fiend</td>\n",
       "      <td>2100</td>\n",
       "      <td>2000.0</td>\n",
       "      <td>middle</td>\n",
       "    </tr>\n",
       "    <tr>\n",
       "      <th>5</th>\n",
       "      <td>Baronnes</td>\n",
       "      <td>synchro</td>\n",
       "      <td>10</td>\n",
       "      <td>wind</td>\n",
       "      <td>warrior</td>\n",
       "      <td>3000</td>\n",
       "      <td>2500.0</td>\n",
       "      <td>high</td>\n",
       "    </tr>\n",
       "  </tbody>\n",
       "</table>\n",
       "</div>"
      ],
      "text/plain": [
       "                   name category  level/rank/link attribute     type  attack   \n",
       "0  Tri-brigade Fractall   effect                4      fire  warrior    1900  \\\n",
       "1     Altergeist Hextia     link                2      fire  warrior    1500   \n",
       "2                Maxx C   effect                2    ground   insect     500   \n",
       "3     Accesscode Talker     link                4      dark  cyberse    2300   \n",
       "4              Bagooska      xyz                4    ground    fiend    2100   \n",
       "5              Baronnes  synchro               10      wind  warrior    3000   \n",
       "\n",
       "   defense attack_category  \n",
       "0   1200.0             low  \n",
       "1      NaN             low  \n",
       "2    200.0        very_low  \n",
       "3      NaN          middle  \n",
       "4   2000.0          middle  \n",
       "5   2500.0            high  "
      ]
     },
     "execution_count": 23,
     "metadata": {},
     "output_type": "execute_result"
    }
   ],
   "source": [
    "df[\"attack_category\"] = df.attack.apply(categorize_attack)\n",
    "df"
   ]
  },
  {
   "cell_type": "code",
   "execution_count": 24,
   "id": "fa4bad0b",
   "metadata": {},
   "outputs": [
    {
     "data": {
      "text/html": [
       "<div>\n",
       "<style scoped>\n",
       "    .dataframe tbody tr th:only-of-type {\n",
       "        vertical-align: middle;\n",
       "    }\n",
       "\n",
       "    .dataframe tbody tr th {\n",
       "        vertical-align: top;\n",
       "    }\n",
       "\n",
       "    .dataframe thead th {\n",
       "        text-align: right;\n",
       "    }\n",
       "</style>\n",
       "<table border=\"1\" class=\"dataframe\">\n",
       "  <thead>\n",
       "    <tr style=\"text-align: right;\">\n",
       "      <th></th>\n",
       "      <th>name</th>\n",
       "      <th>category</th>\n",
       "      <th>level/rank/link</th>\n",
       "      <th>attribute</th>\n",
       "      <th>type</th>\n",
       "      <th>attack</th>\n",
       "      <th>defense</th>\n",
       "      <th>attack_category</th>\n",
       "      <th>defense_category</th>\n",
       "    </tr>\n",
       "  </thead>\n",
       "  <tbody>\n",
       "    <tr>\n",
       "      <th>0</th>\n",
       "      <td>Tri-brigade Fractall</td>\n",
       "      <td>effect</td>\n",
       "      <td>4</td>\n",
       "      <td>fire</td>\n",
       "      <td>warrior</td>\n",
       "      <td>1900</td>\n",
       "      <td>1200.0</td>\n",
       "      <td>low</td>\n",
       "      <td>low</td>\n",
       "    </tr>\n",
       "    <tr>\n",
       "      <th>1</th>\n",
       "      <td>Altergeist Hextia</td>\n",
       "      <td>link</td>\n",
       "      <td>2</td>\n",
       "      <td>fire</td>\n",
       "      <td>warrior</td>\n",
       "      <td>1500</td>\n",
       "      <td>NaN</td>\n",
       "      <td>low</td>\n",
       "      <td>NaN</td>\n",
       "    </tr>\n",
       "    <tr>\n",
       "      <th>2</th>\n",
       "      <td>Maxx C</td>\n",
       "      <td>effect</td>\n",
       "      <td>2</td>\n",
       "      <td>ground</td>\n",
       "      <td>insect</td>\n",
       "      <td>500</td>\n",
       "      <td>200.0</td>\n",
       "      <td>very_low</td>\n",
       "      <td>very_low</td>\n",
       "    </tr>\n",
       "    <tr>\n",
       "      <th>3</th>\n",
       "      <td>Accesscode Talker</td>\n",
       "      <td>link</td>\n",
       "      <td>4</td>\n",
       "      <td>dark</td>\n",
       "      <td>cyberse</td>\n",
       "      <td>2300</td>\n",
       "      <td>NaN</td>\n",
       "      <td>middle</td>\n",
       "      <td>NaN</td>\n",
       "    </tr>\n",
       "    <tr>\n",
       "      <th>4</th>\n",
       "      <td>Bagooska</td>\n",
       "      <td>xyz</td>\n",
       "      <td>4</td>\n",
       "      <td>ground</td>\n",
       "      <td>fiend</td>\n",
       "      <td>2100</td>\n",
       "      <td>2000.0</td>\n",
       "      <td>middle</td>\n",
       "      <td>low</td>\n",
       "    </tr>\n",
       "    <tr>\n",
       "      <th>5</th>\n",
       "      <td>Baronnes</td>\n",
       "      <td>synchro</td>\n",
       "      <td>10</td>\n",
       "      <td>wind</td>\n",
       "      <td>warrior</td>\n",
       "      <td>3000</td>\n",
       "      <td>2500.0</td>\n",
       "      <td>high</td>\n",
       "      <td>middle</td>\n",
       "    </tr>\n",
       "  </tbody>\n",
       "</table>\n",
       "</div>"
      ],
      "text/plain": [
       "                   name category  level/rank/link attribute     type  attack   \n",
       "0  Tri-brigade Fractall   effect                4      fire  warrior    1900  \\\n",
       "1     Altergeist Hextia     link                2      fire  warrior    1500   \n",
       "2                Maxx C   effect                2    ground   insect     500   \n",
       "3     Accesscode Talker     link                4      dark  cyberse    2300   \n",
       "4              Bagooska      xyz                4    ground    fiend    2100   \n",
       "5              Baronnes  synchro               10      wind  warrior    3000   \n",
       "\n",
       "   defense attack_category defense_category  \n",
       "0   1200.0             low              low  \n",
       "1      NaN             low              NaN  \n",
       "2    200.0        very_low         very_low  \n",
       "3      NaN          middle              NaN  \n",
       "4   2000.0          middle              low  \n",
       "5   2500.0            high           middle  "
      ]
     },
     "execution_count": 24,
     "metadata": {},
     "output_type": "execute_result"
    }
   ],
   "source": [
    "df[\"defense_category\"] = pd.cut(df.defense, bins=[0, 1000, 2000, 3000, np.inf],\n",
    "                      labels=[\"very_low\", \"low\", \"middle\", \"high\"])\n",
    "df"
   ]
  },
  {
   "cell_type": "code",
   "execution_count": 25,
   "id": "b86a18f8",
   "metadata": {},
   "outputs": [
    {
     "data": {
      "text/html": [
       "<div>\n",
       "<style scoped>\n",
       "    .dataframe tbody tr th:only-of-type {\n",
       "        vertical-align: middle;\n",
       "    }\n",
       "\n",
       "    .dataframe tbody tr th {\n",
       "        vertical-align: top;\n",
       "    }\n",
       "\n",
       "    .dataframe thead th {\n",
       "        text-align: right;\n",
       "    }\n",
       "</style>\n",
       "<table border=\"1\" class=\"dataframe\">\n",
       "  <thead>\n",
       "    <tr style=\"text-align: right;\">\n",
       "      <th></th>\n",
       "      <th>name</th>\n",
       "      <th>category</th>\n",
       "      <th>level/rank/link</th>\n",
       "      <th>attribute</th>\n",
       "      <th>type</th>\n",
       "      <th>attack</th>\n",
       "      <th>defense</th>\n",
       "      <th>attack_category</th>\n",
       "      <th>defense_category</th>\n",
       "    </tr>\n",
       "  </thead>\n",
       "  <tbody>\n",
       "    <tr>\n",
       "      <th>1</th>\n",
       "      <td>Altergeist Hextia</td>\n",
       "      <td>link</td>\n",
       "      <td>2</td>\n",
       "      <td>fire</td>\n",
       "      <td>warrior</td>\n",
       "      <td>1500</td>\n",
       "      <td>NaN</td>\n",
       "      <td>low</td>\n",
       "      <td>NaN</td>\n",
       "    </tr>\n",
       "    <tr>\n",
       "      <th>3</th>\n",
       "      <td>Accesscode Talker</td>\n",
       "      <td>link</td>\n",
       "      <td>4</td>\n",
       "      <td>dark</td>\n",
       "      <td>cyberse</td>\n",
       "      <td>2300</td>\n",
       "      <td>NaN</td>\n",
       "      <td>middle</td>\n",
       "      <td>NaN</td>\n",
       "    </tr>\n",
       "  </tbody>\n",
       "</table>\n",
       "</div>"
      ],
      "text/plain": [
       "                name category  level/rank/link attribute     type  attack   \n",
       "1  Altergeist Hextia     link                2      fire  warrior    1500  \\\n",
       "3  Accesscode Talker     link                4      dark  cyberse    2300   \n",
       "\n",
       "   defense attack_category defense_category  \n",
       "1      NaN             low              NaN  \n",
       "3      NaN          middle              NaN  "
      ]
     },
     "execution_count": 25,
     "metadata": {},
     "output_type": "execute_result"
    }
   ],
   "source": [
    "df.loc[df.defense.isna(), :]"
   ]
  },
  {
   "cell_type": "code",
   "execution_count": 26,
   "id": "9f2b5b6a",
   "metadata": {},
   "outputs": [
    {
     "data": {
      "text/html": [
       "<div>\n",
       "<style scoped>\n",
       "    .dataframe tbody tr th:only-of-type {\n",
       "        vertical-align: middle;\n",
       "    }\n",
       "\n",
       "    .dataframe tbody tr th {\n",
       "        vertical-align: top;\n",
       "    }\n",
       "\n",
       "    .dataframe thead th {\n",
       "        text-align: right;\n",
       "    }\n",
       "</style>\n",
       "<table border=\"1\" class=\"dataframe\">\n",
       "  <thead>\n",
       "    <tr style=\"text-align: right;\">\n",
       "      <th></th>\n",
       "      <th>name</th>\n",
       "      <th>category</th>\n",
       "      <th>level/rank/link</th>\n",
       "      <th>attribute</th>\n",
       "      <th>type</th>\n",
       "      <th>attack</th>\n",
       "      <th>defense</th>\n",
       "      <th>attack_category</th>\n",
       "      <th>defense_category</th>\n",
       "    </tr>\n",
       "  </thead>\n",
       "  <tbody>\n",
       "    <tr>\n",
       "      <th>0</th>\n",
       "      <td>Tri-brigade Fractall</td>\n",
       "      <td>effect</td>\n",
       "      <td>4</td>\n",
       "      <td>fire</td>\n",
       "      <td>warrior</td>\n",
       "      <td>1900</td>\n",
       "      <td>1200.0</td>\n",
       "      <td>low</td>\n",
       "      <td>low</td>\n",
       "    </tr>\n",
       "    <tr>\n",
       "      <th>1</th>\n",
       "      <td>Altergeist Hextia</td>\n",
       "      <td>link</td>\n",
       "      <td>2</td>\n",
       "      <td>fire</td>\n",
       "      <td>warrior</td>\n",
       "      <td>1500</td>\n",
       "      <td>0.0</td>\n",
       "      <td>low</td>\n",
       "      <td>NaN</td>\n",
       "    </tr>\n",
       "    <tr>\n",
       "      <th>2</th>\n",
       "      <td>Maxx C</td>\n",
       "      <td>effect</td>\n",
       "      <td>2</td>\n",
       "      <td>ground</td>\n",
       "      <td>insect</td>\n",
       "      <td>500</td>\n",
       "      <td>200.0</td>\n",
       "      <td>very_low</td>\n",
       "      <td>very_low</td>\n",
       "    </tr>\n",
       "    <tr>\n",
       "      <th>3</th>\n",
       "      <td>Accesscode Talker</td>\n",
       "      <td>link</td>\n",
       "      <td>4</td>\n",
       "      <td>dark</td>\n",
       "      <td>cyberse</td>\n",
       "      <td>2300</td>\n",
       "      <td>0.0</td>\n",
       "      <td>middle</td>\n",
       "      <td>NaN</td>\n",
       "    </tr>\n",
       "    <tr>\n",
       "      <th>4</th>\n",
       "      <td>Bagooska</td>\n",
       "      <td>xyz</td>\n",
       "      <td>4</td>\n",
       "      <td>ground</td>\n",
       "      <td>fiend</td>\n",
       "      <td>2100</td>\n",
       "      <td>2000.0</td>\n",
       "      <td>middle</td>\n",
       "      <td>low</td>\n",
       "    </tr>\n",
       "    <tr>\n",
       "      <th>5</th>\n",
       "      <td>Baronnes</td>\n",
       "      <td>synchro</td>\n",
       "      <td>10</td>\n",
       "      <td>wind</td>\n",
       "      <td>warrior</td>\n",
       "      <td>3000</td>\n",
       "      <td>2500.0</td>\n",
       "      <td>high</td>\n",
       "      <td>middle</td>\n",
       "    </tr>\n",
       "  </tbody>\n",
       "</table>\n",
       "</div>"
      ],
      "text/plain": [
       "                   name category  level/rank/link attribute     type  attack   \n",
       "0  Tri-brigade Fractall   effect                4      fire  warrior    1900  \\\n",
       "1     Altergeist Hextia     link                2      fire  warrior    1500   \n",
       "2                Maxx C   effect                2    ground   insect     500   \n",
       "3     Accesscode Talker     link                4      dark  cyberse    2300   \n",
       "4              Bagooska      xyz                4    ground    fiend    2100   \n",
       "5              Baronnes  synchro               10      wind  warrior    3000   \n",
       "\n",
       "   defense attack_category defense_category  \n",
       "0   1200.0             low              low  \n",
       "1      0.0             low              NaN  \n",
       "2    200.0        very_low         very_low  \n",
       "3      0.0          middle              NaN  \n",
       "4   2000.0          middle              low  \n",
       "5   2500.0            high           middle  "
      ]
     },
     "execution_count": 26,
     "metadata": {},
     "output_type": "execute_result"
    }
   ],
   "source": [
    "df.defense.fillna(0, inplace=True)\n",
    "df"
   ]
  },
  {
   "cell_type": "code",
   "execution_count": 27,
   "id": "538535e8",
   "metadata": {},
   "outputs": [],
   "source": [
    "import numpy as np"
   ]
  },
  {
   "cell_type": "code",
   "execution_count": 28,
   "id": "dc210b36",
   "metadata": {},
   "outputs": [
    {
     "data": {
      "text/plain": [
       "array([1, 2, 3, 2, 4, 3, 2, 2])"
      ]
     },
     "execution_count": 28,
     "metadata": {},
     "output_type": "execute_result"
    }
   ],
   "source": [
    "arr = np.array([1, 2, 3, 2, 4, 3, 2, 2])\n",
    "arr"
   ]
  },
  {
   "cell_type": "code",
   "execution_count": 29,
   "id": "cdade97d",
   "metadata": {},
   "outputs": [
    {
     "data": {
      "text/plain": [
       "array([[1, 2, 3],\n",
       "       [4, 5, 6]])"
      ]
     },
     "execution_count": 29,
     "metadata": {},
     "output_type": "execute_result"
    }
   ],
   "source": [
    "arr2d = np.array([[1, 2, 3], [4, 5, 6]])\n",
    "arr2d"
   ]
  },
  {
   "cell_type": "code",
   "execution_count": 30,
   "id": "c050fb2b",
   "metadata": {},
   "outputs": [
    {
     "data": {
      "text/plain": [
       "array([[[ 1,  2,  3],\n",
       "        [ 4,  5,  6]],\n",
       "\n",
       "       [[ 7,  8,  9],\n",
       "        [10, 11, 12]]])"
      ]
     },
     "execution_count": 30,
     "metadata": {},
     "output_type": "execute_result"
    }
   ],
   "source": [
    "arr3d = np.array([[[1, 2, 3], [4, 5, 6]], [[7, 8, 9], [10, 11, 12]]])\n",
    "arr3d"
   ]
  },
  {
   "cell_type": "code",
   "execution_count": 31,
   "id": "5d256e47",
   "metadata": {},
   "outputs": [
    {
     "data": {
      "text/plain": [
       "(8,)"
      ]
     },
     "execution_count": 31,
     "metadata": {},
     "output_type": "execute_result"
    }
   ],
   "source": [
    "arr.shape"
   ]
  },
  {
   "cell_type": "code",
   "execution_count": 32,
   "id": "2c00e986",
   "metadata": {},
   "outputs": [
    {
     "data": {
      "text/plain": [
       "(2, 3)"
      ]
     },
     "execution_count": 32,
     "metadata": {},
     "output_type": "execute_result"
    }
   ],
   "source": [
    "arr2d.shape"
   ]
  },
  {
   "cell_type": "code",
   "execution_count": 33,
   "id": "6b7cb846",
   "metadata": {},
   "outputs": [
    {
     "data": {
      "text/plain": [
       "(2, 2, 3)"
      ]
     },
     "execution_count": 33,
     "metadata": {},
     "output_type": "execute_result"
    }
   ],
   "source": [
    "arr3d.shape"
   ]
  },
  {
   "cell_type": "code",
   "execution_count": 34,
   "id": "d52acdb4",
   "metadata": {},
   "outputs": [
    {
     "data": {
      "text/plain": [
       "array([1, 2, 3, 2, 4, 3, 2, 2])"
      ]
     },
     "execution_count": 34,
     "metadata": {},
     "output_type": "execute_result"
    }
   ],
   "source": [
    "arr"
   ]
  },
  {
   "cell_type": "code",
   "execution_count": 35,
   "id": "0da357b4",
   "metadata": {},
   "outputs": [
    {
     "data": {
      "text/plain": [
       "array([4, 5, 6, 5, 7, 6, 5, 5])"
      ]
     },
     "execution_count": 35,
     "metadata": {},
     "output_type": "execute_result"
    }
   ],
   "source": [
    "arr + 3"
   ]
  },
  {
   "cell_type": "code",
   "execution_count": 36,
   "id": "27b1cca1",
   "metadata": {},
   "outputs": [
    {
     "data": {
      "text/plain": [
       "array([[1, 2, 3],\n",
       "       [4, 5, 6]])"
      ]
     },
     "execution_count": 36,
     "metadata": {},
     "output_type": "execute_result"
    }
   ],
   "source": [
    "arr2d"
   ]
  },
  {
   "cell_type": "code",
   "execution_count": 37,
   "id": "f99544b1",
   "metadata": {},
   "outputs": [
    {
     "data": {
      "text/plain": [
       "array([[2., 3., 4.],\n",
       "       [5., 6., 7.]])"
      ]
     },
     "execution_count": 37,
     "metadata": {},
     "output_type": "execute_result"
    }
   ],
   "source": [
    "arr2d + np.ones((2, 3))"
   ]
  },
  {
   "cell_type": "code",
   "execution_count": 38,
   "id": "efb09f34",
   "metadata": {},
   "outputs": [
    {
     "data": {
      "text/plain": [
       "array([[1, 2, 3],\n",
       "       [4, 5, 6]])"
      ]
     },
     "execution_count": 38,
     "metadata": {},
     "output_type": "execute_result"
    }
   ],
   "source": [
    "arr2d"
   ]
  },
  {
   "cell_type": "code",
   "execution_count": 39,
   "id": "e13378f8",
   "metadata": {},
   "outputs": [
    {
     "data": {
      "text/plain": [
       "(2, 3)"
      ]
     },
     "execution_count": 39,
     "metadata": {},
     "output_type": "execute_result"
    }
   ],
   "source": [
    "arr2d.shape"
   ]
  },
  {
   "cell_type": "code",
   "execution_count": 40,
   "id": "026d16b7",
   "metadata": {},
   "outputs": [
    {
     "data": {
      "text/plain": [
       "(2, 1)"
      ]
     },
     "execution_count": 40,
     "metadata": {},
     "output_type": "execute_result"
    }
   ],
   "source": [
    "np.array([[1], [2]]).shape"
   ]
  },
  {
   "cell_type": "code",
   "execution_count": 41,
   "id": "e0b839b5",
   "metadata": {},
   "outputs": [
    {
     "data": {
      "text/plain": [
       "array([[2, 3, 4],\n",
       "       [6, 7, 8]])"
      ]
     },
     "execution_count": 41,
     "metadata": {},
     "output_type": "execute_result"
    }
   ],
   "source": [
    "arr2d + np.array([[1], [2]])"
   ]
  },
  {
   "cell_type": "code",
   "execution_count": 42,
   "id": "ed49324a",
   "metadata": {},
   "outputs": [
    {
     "data": {
      "text/plain": [
       "(2, 3)"
      ]
     },
     "execution_count": 42,
     "metadata": {},
     "output_type": "execute_result"
    }
   ],
   "source": [
    "arr2d.shape"
   ]
  },
  {
   "cell_type": "code",
   "execution_count": 43,
   "id": "5034b7c4",
   "metadata": {},
   "outputs": [
    {
     "data": {
      "text/plain": [
       "(2, 2)"
      ]
     },
     "execution_count": 43,
     "metadata": {},
     "output_type": "execute_result"
    }
   ],
   "source": [
    "np.array([[1, 2], [3, 4]]).shape"
   ]
  },
  {
   "cell_type": "code",
   "execution_count": 44,
   "id": "e6a57e5b",
   "metadata": {},
   "outputs": [
    {
     "data": {
      "text/plain": [
       "array([1, 2, 3, 2, 4, 3, 2, 2])"
      ]
     },
     "execution_count": 44,
     "metadata": {},
     "output_type": "execute_result"
    }
   ],
   "source": [
    "arr"
   ]
  },
  {
   "cell_type": "code",
   "execution_count": 45,
   "id": "561cc08d",
   "metadata": {},
   "outputs": [
    {
     "data": {
      "text/plain": [
       "array([3, 2, 4])"
      ]
     },
     "execution_count": 45,
     "metadata": {},
     "output_type": "execute_result"
    }
   ],
   "source": [
    "arr[2:5]"
   ]
  },
  {
   "cell_type": "code",
   "execution_count": 46,
   "id": "892ca343",
   "metadata": {},
   "outputs": [
    {
     "data": {
      "text/plain": [
       "array([2, 2, 4, 2, 2])"
      ]
     },
     "execution_count": 46,
     "metadata": {},
     "output_type": "execute_result"
    }
   ],
   "source": [
    "arr[arr%2==0]"
   ]
  },
  {
   "cell_type": "code",
   "execution_count": 47,
   "id": "bc68d577",
   "metadata": {},
   "outputs": [
    {
     "data": {
      "text/plain": [
       "array([[0.67258078, 0.52199817, 0.92454897],\n",
       "       [0.56760466, 0.4347662 , 0.10329081],\n",
       "       [0.76393279, 0.1576001 , 0.24014566],\n",
       "       [0.719835  , 0.56590829, 0.41867062]])"
      ]
     },
     "execution_count": 47,
     "metadata": {},
     "output_type": "execute_result"
    }
   ],
   "source": [
    "np.random.rand(4, 3)"
   ]
  },
  {
   "cell_type": "code",
   "execution_count": 48,
   "id": "a94f764f",
   "metadata": {},
   "outputs": [
    {
     "data": {
      "text/plain": [
       "array([[ 0.02605998, -0.23889619, -0.74253302],\n",
       "       [ 0.1774576 ,  0.33245614, -1.47593646],\n",
       "       [-0.47311177, -1.36266477,  0.0978131 ]])"
      ]
     },
     "execution_count": 48,
     "metadata": {},
     "output_type": "execute_result"
    }
   ],
   "source": [
    "np.random.randn(3, 3)"
   ]
  },
  {
   "cell_type": "code",
   "execution_count": 49,
   "id": "af4540c6",
   "metadata": {},
   "outputs": [
    {
     "data": {
      "text/plain": [
       "array([[17, 14, 12, 15],\n",
       "       [19, 10, 11, 17],\n",
       "       [19, 17, 12, 15]])"
      ]
     },
     "execution_count": 49,
     "metadata": {},
     "output_type": "execute_result"
    }
   ],
   "source": [
    "np.random.randint(10, 20, size=(3, 4))"
   ]
  },
  {
   "cell_type": "code",
   "execution_count": 50,
   "id": "37185806",
   "metadata": {},
   "outputs": [],
   "source": [
    "np.random.seed(42)"
   ]
  },
  {
   "cell_type": "code",
   "execution_count": 51,
   "id": "b677e8e5",
   "metadata": {},
   "outputs": [
    {
     "data": {
      "text/plain": [
       "32"
      ]
     },
     "execution_count": 51,
     "metadata": {},
     "output_type": "execute_result"
    }
   ],
   "source": [
    "arr1 = np.array([1, 2, 3])\n",
    "arr2 = np.array([4, 5, 6])\n",
    "\n",
    "np.dot(arr1, arr2)"
   ]
  },
  {
   "cell_type": "code",
   "execution_count": 52,
   "id": "345a8fab",
   "metadata": {},
   "outputs": [
    {
     "data": {
      "text/plain": [
       "array([[0, 1, 2],\n",
       "       [3, 4, 5],\n",
       "       [6, 7, 8]])"
      ]
     },
     "execution_count": 52,
     "metadata": {},
     "output_type": "execute_result"
    }
   ],
   "source": [
    "mat = np.arange(9).reshape(3, 3)\n",
    "mat"
   ]
  },
  {
   "cell_type": "code",
   "execution_count": 53,
   "id": "aa21e6e9",
   "metadata": {},
   "outputs": [
    {
     "data": {
      "text/plain": [
       "array([1, 2, 3])"
      ]
     },
     "execution_count": 53,
     "metadata": {},
     "output_type": "execute_result"
    }
   ],
   "source": [
    "arr1"
   ]
  },
  {
   "cell_type": "code",
   "execution_count": 54,
   "id": "5443bb00",
   "metadata": {},
   "outputs": [
    {
     "data": {
      "text/plain": [
       "array([ 8, 26, 44])"
      ]
     },
     "execution_count": 54,
     "metadata": {},
     "output_type": "execute_result"
    }
   ],
   "source": [
    "np.dot(mat, arr1)"
   ]
  },
  {
   "cell_type": "code",
   "execution_count": 55,
   "id": "38d01d31",
   "metadata": {},
   "outputs": [
    {
     "data": {
      "text/plain": [
       "array([[ 0,  1,  2],\n",
       "       [ 3,  4,  5],\n",
       "       [ 6,  7,  8],\n",
       "       [ 9, 10, 11]])"
      ]
     },
     "execution_count": 55,
     "metadata": {},
     "output_type": "execute_result"
    }
   ],
   "source": [
    "mat2 = np.arange(12).reshape(4, 3)\n",
    "mat2"
   ]
  },
  {
   "cell_type": "code",
   "execution_count": 56,
   "id": "9e4f4d65",
   "metadata": {},
   "outputs": [
    {
     "data": {
      "text/plain": [
       "array([ 8, 26, 44, 62])"
      ]
     },
     "execution_count": 56,
     "metadata": {},
     "output_type": "execute_result"
    }
   ],
   "source": [
    "np.dot(mat2, arr1)"
   ]
  },
  {
   "cell_type": "code",
   "execution_count": 57,
   "id": "c4f7b41a",
   "metadata": {},
   "outputs": [],
   "source": [
    "import matplotlib.pyplot as plt\n",
    "%matplotlib inline"
   ]
  },
  {
   "cell_type": "code",
   "execution_count": 58,
   "id": "777b034d",
   "metadata": {},
   "outputs": [
    {
     "data": {
      "image/png": "[encoded data removed]",
      "text/plain": [
       "<Figure size 400x400 with 1 Axes>"
      ]
     },
     "metadata": {},
     "output_type": "display_data"
    }
   ],
   "source": [
    "plt.figure(figsize=(4, 4))\n",
    "plt.bar(df.name, df.attack, color = [\"red\", \"orange\", \"yellow\", \"green\", \"blue\", \"purple\"])\n",
    "plt.xticks(df.name, rotation=90)\n",
    "plt.xlabel(\"Monster\")\n",
    "plt.ylabel(\"Attack\")\n",
    "plt.title(\"Monster-Attack Chart\")\n",
    "plt.show()"
   ]
  },
  {
   "cell_type": "code",
   "execution_count": null,
   "id": "625f4a70",
   "metadata": {},
   "outputs": [],
   "source": []
  },
  {
   "cell_type": "code",
   "execution_count": null,
   "id": "f4788df1",
   "metadata": {},
   "outputs": [],
   "source": []
  },
  {
   "cell_type": "code",
   "execution_count": null,
   "id": "158328ac",
   "metadata": {},
   "outputs": [],
   "source": []
  },
  {
   "cell_type": "code",
   "execution_count": null,
   "id": "32995214",
   "metadata": {},
   "outputs": [],
   "source": []
  },
  {
   "cell_type": "code",
   "execution_count": null,
   "id": "26e9f549",
   "metadata": {},
   "outputs": [],
   "source": []
  }
 ],
 "metadata": {
  "kernelspec": {
   "display_name": "Python 3 (ipykernel)",
   "language": "python",
   "name": "python3"
  },
  "language_info": {
   "codemirror_mode": {
    "name": "ipython",
    "version": 3
   },
   "file_extension": ".py",
   "mimetype": "text/x-python",
   "name": "python",
   "nbconvert_exporter": "python",
   "pygments_lexer": "ipython3",
   "version": "3.9.16"
  }
 },
 "nbformat": 4,
 "nbformat_minor": 5
}
